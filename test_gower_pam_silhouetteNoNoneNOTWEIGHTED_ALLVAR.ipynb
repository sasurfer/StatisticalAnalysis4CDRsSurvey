{
 "cells": [
  {
   "cell_type": "code",
   "execution_count": 1,
   "metadata": {},
   "outputs": [],
   "source": [
    "import numpy as np\n",
    "import pandas as pd"
   ]
  },
  {
   "cell_type": "code",
   "execution_count": 2,
   "metadata": {},
   "outputs": [
    {
     "data": {
      "text/html": [
       "<div>\n",
       "<style scoped>\n",
       "    .dataframe tbody tr th:only-of-type {\n",
       "        vertical-align: middle;\n",
       "    }\n",
       "\n",
       "    .dataframe tbody tr th {\n",
       "        vertical-align: top;\n",
       "    }\n",
       "\n",
       "    .dataframe thead th {\n",
       "        text-align: right;\n",
       "    }\n",
       "</style>\n",
       "<table border=\"1\" class=\"dataframe\">\n",
       "  <thead>\n",
       "    <tr style=\"text-align: right;\">\n",
       "      <th></th>\n",
       "      <th>CDR_name</th>\n",
       "      <th>commercial</th>\n",
       "      <th>opensource</th>\n",
       "      <th>rest_api</th>\n",
       "      <th>another_api</th>\n",
       "      <th>gui</th>\n",
       "      <th>api_n</th>\n",
       "      <th>gui_n</th>\n",
       "      <th>aql</th>\n",
       "      <th>sql</th>\n",
       "      <th>json_xml</th>\n",
       "      <th>flat_struct</th>\n",
       "      <th>opt_wt</th>\n",
       "      <th>openehrextr_fhir</th>\n",
       "      <th>add_openehr</th>\n",
       "      <th>add_others</th>\n",
       "    </tr>\n",
       "  </thead>\n",
       "  <tbody>\n",
       "    <tr>\n",
       "      <th>0</th>\n",
       "      <td>ehrbase</td>\n",
       "      <td>n</td>\n",
       "      <td>y</td>\n",
       "      <td>y</td>\n",
       "      <td>y</td>\n",
       "      <td>y</td>\n",
       "      <td>4.00</td>\n",
       "      <td>0</td>\n",
       "      <td>y</td>\n",
       "      <td>n</td>\n",
       "      <td>2</td>\n",
       "      <td>2</td>\n",
       "      <td>2</td>\n",
       "      <td>1</td>\n",
       "      <td>1</td>\n",
       "      <td>1</td>\n",
       "    </tr>\n",
       "    <tr>\n",
       "      <th>1</th>\n",
       "      <td>better</td>\n",
       "      <td>y</td>\n",
       "      <td>n</td>\n",
       "      <td>y</td>\n",
       "      <td>y</td>\n",
       "      <td>y</td>\n",
       "      <td>4.00</td>\n",
       "      <td>3</td>\n",
       "      <td>y</td>\n",
       "      <td>n</td>\n",
       "      <td>2</td>\n",
       "      <td>2</td>\n",
       "      <td>2</td>\n",
       "      <td>1</td>\n",
       "      <td>2</td>\n",
       "      <td>4</td>\n",
       "    </tr>\n",
       "    <tr>\n",
       "      <th>2</th>\n",
       "      <td>base24</td>\n",
       "      <td>y</td>\n",
       "      <td>n</td>\n",
       "      <td>y</td>\n",
       "      <td>y</td>\n",
       "      <td>y</td>\n",
       "      <td>4.00</td>\n",
       "      <td>4</td>\n",
       "      <td>n</td>\n",
       "      <td>n</td>\n",
       "      <td>2</td>\n",
       "      <td>0</td>\n",
       "      <td>1</td>\n",
       "      <td>1</td>\n",
       "      <td>1</td>\n",
       "      <td>2</td>\n",
       "    </tr>\n",
       "    <tr>\n",
       "      <th>3</th>\n",
       "      <td>cabo</td>\n",
       "      <td>n</td>\n",
       "      <td>y</td>\n",
       "      <td>y</td>\n",
       "      <td>y</td>\n",
       "      <td>y</td>\n",
       "      <td>2.91</td>\n",
       "      <td>3</td>\n",
       "      <td>n</td>\n",
       "      <td>n</td>\n",
       "      <td>2</td>\n",
       "      <td>0</td>\n",
       "      <td>1</td>\n",
       "      <td>1</td>\n",
       "      <td>0</td>\n",
       "      <td>0</td>\n",
       "    </tr>\n",
       "    <tr>\n",
       "      <th>4</th>\n",
       "      <td>arenaehr</td>\n",
       "      <td>y</td>\n",
       "      <td>n</td>\n",
       "      <td>y</td>\n",
       "      <td>n</td>\n",
       "      <td>y</td>\n",
       "      <td>4.00</td>\n",
       "      <td>0</td>\n",
       "      <td>y</td>\n",
       "      <td>n</td>\n",
       "      <td>2</td>\n",
       "      <td>1</td>\n",
       "      <td>2</td>\n",
       "      <td>1</td>\n",
       "      <td>2</td>\n",
       "      <td>2</td>\n",
       "    </tr>\n",
       "    <tr>\n",
       "      <th>5</th>\n",
       "      <td>eweave</td>\n",
       "      <td>y</td>\n",
       "      <td>n</td>\n",
       "      <td>n</td>\n",
       "      <td>n</td>\n",
       "      <td>y</td>\n",
       "      <td>0.00</td>\n",
       "      <td>3</td>\n",
       "      <td>y</td>\n",
       "      <td>y</td>\n",
       "      <td>0</td>\n",
       "      <td>0</td>\n",
       "      <td>0</td>\n",
       "      <td>0</td>\n",
       "      <td>1</td>\n",
       "      <td>2</td>\n",
       "    </tr>\n",
       "    <tr>\n",
       "      <th>6</th>\n",
       "      <td>ehrcare</td>\n",
       "      <td>y</td>\n",
       "      <td>n</td>\n",
       "      <td>y</td>\n",
       "      <td>y</td>\n",
       "      <td>n</td>\n",
       "      <td>3.33</td>\n",
       "      <td>0</td>\n",
       "      <td>y</td>\n",
       "      <td>n</td>\n",
       "      <td>1</td>\n",
       "      <td>1</td>\n",
       "      <td>1</td>\n",
       "      <td>0</td>\n",
       "      <td>1</td>\n",
       "      <td>1</td>\n",
       "    </tr>\n",
       "    <tr>\n",
       "      <th>7</th>\n",
       "      <td>clever</td>\n",
       "      <td>y</td>\n",
       "      <td>n</td>\n",
       "      <td>y</td>\n",
       "      <td>y</td>\n",
       "      <td>y</td>\n",
       "      <td>4.00</td>\n",
       "      <td>3</td>\n",
       "      <td>n</td>\n",
       "      <td>y</td>\n",
       "      <td>0</td>\n",
       "      <td>1</td>\n",
       "      <td>1</td>\n",
       "      <td>1</td>\n",
       "      <td>2</td>\n",
       "      <td>3</td>\n",
       "    </tr>\n",
       "    <tr>\n",
       "      <th>8</th>\n",
       "      <td>ehrdb</td>\n",
       "      <td>y</td>\n",
       "      <td>n</td>\n",
       "      <td>y</td>\n",
       "      <td>y</td>\n",
       "      <td>y</td>\n",
       "      <td>4.00</td>\n",
       "      <td>3</td>\n",
       "      <td>y</td>\n",
       "      <td>n</td>\n",
       "      <td>2</td>\n",
       "      <td>2</td>\n",
       "      <td>1</td>\n",
       "      <td>1</td>\n",
       "      <td>1</td>\n",
       "      <td>3</td>\n",
       "    </tr>\n",
       "    <tr>\n",
       "      <th>9</th>\n",
       "      <td>rhp</td>\n",
       "      <td>y</td>\n",
       "      <td>n</td>\n",
       "      <td>y</td>\n",
       "      <td>y</td>\n",
       "      <td>y</td>\n",
       "      <td>4.00</td>\n",
       "      <td>3</td>\n",
       "      <td>n</td>\n",
       "      <td>y</td>\n",
       "      <td>0</td>\n",
       "      <td>1</td>\n",
       "      <td>1</td>\n",
       "      <td>0</td>\n",
       "      <td>2</td>\n",
       "      <td>4</td>\n",
       "    </tr>\n",
       "    <tr>\n",
       "      <th>10</th>\n",
       "      <td>ehrn</td>\n",
       "      <td>y</td>\n",
       "      <td>n</td>\n",
       "      <td>y</td>\n",
       "      <td>n</td>\n",
       "      <td>y</td>\n",
       "      <td>3.00</td>\n",
       "      <td>2</td>\n",
       "      <td>y</td>\n",
       "      <td>y</td>\n",
       "      <td>0</td>\n",
       "      <td>1</td>\n",
       "      <td>1</td>\n",
       "      <td>1</td>\n",
       "      <td>0</td>\n",
       "      <td>1</td>\n",
       "    </tr>\n",
       "  </tbody>\n",
       "</table>\n",
       "</div>"
      ],
      "text/plain": [
       "    CDR_name commercial opensource rest_api another_api gui  api_n  gui_n aql  \\\n",
       "0    ehrbase          n          y        y           y   y   4.00      0   y   \n",
       "1     better          y          n        y           y   y   4.00      3   y   \n",
       "2     base24          y          n        y           y   y   4.00      4   n   \n",
       "3       cabo          n          y        y           y   y   2.91      3   n   \n",
       "4   arenaehr          y          n        y           n   y   4.00      0   y   \n",
       "5     eweave          y          n      n             n   y   0.00      3   y   \n",
       "6    ehrcare          y          n        y           y   n   3.33      0   y   \n",
       "7     clever          y          n        y           y   y   4.00      3   n   \n",
       "8      ehrdb          y          n        y           y   y   4.00      3   y   \n",
       "9        rhp          y          n        y           y   y   4.00      3   n   \n",
       "10      ehrn          y          n        y           n   y   3.00      2   y   \n",
       "\n",
       "   sql  json_xml  flat_struct  opt_wt  openehrextr_fhir  add_openehr  \\\n",
       "0    n         2            2       2                 1            1   \n",
       "1    n         2            2       2                 1            2   \n",
       "2    n         2            0       1                 1            1   \n",
       "3    n         2            0       1                 1            0   \n",
       "4    n         2            1       2                 1            2   \n",
       "5    y         0            0       0                 0            1   \n",
       "6    n         1            1       1                 0            1   \n",
       "7    y         0            1       1                 1            2   \n",
       "8    n         2            2       1                 1            1   \n",
       "9    y         0            1       1                 0            2   \n",
       "10   y         0            1       1                 1            0   \n",
       "\n",
       "    add_others  \n",
       "0            1  \n",
       "1            4  \n",
       "2            2  \n",
       "3            0  \n",
       "4            2  \n",
       "5            2  \n",
       "6            1  \n",
       "7            3  \n",
       "8            3  \n",
       "9            4  \n",
       "10           1  "
      ]
     },
     "execution_count": 2,
     "metadata": {},
     "output_type": "execute_result"
    }
   ],
   "source": [
    "Xd=pd.read_csv('./SurveyAnswers.csv')\n",
    "Xd"
   ]
  },
  {
   "cell_type": "code",
   "execution_count": 3,
   "metadata": {},
   "outputs": [
    {
     "name": "stdout",
     "output_type": "stream",
     "text": [
      "(11, 13)\n"
     ]
    }
   ],
   "source": [
    "Xd.shape\n",
    "Xd.drop(['CDR_name'],axis=1,inplace=True)\n",
    "Xd.drop(['commercial','opensource'],axis=1,inplace=True)\n",
    "print(Xd.shape)\n",
    "Xd['gui_n']=Xd['gui_n'].astype(float)\n",
    "Xd['json_xml']=Xd['json_xml'].astype(float)\n",
    "Xd['flat_struct']=Xd['flat_struct'].astype(float)\n",
    "Xd['opt_wt']=Xd['opt_wt'].astype(float)\n",
    "Xd['openehrextr_fhir']=Xd['openehrextr_fhir'].astype(float)\n",
    "Xd['add_openehr']=Xd['add_openehr'].astype(float)\n",
    "Xd['add_others']=Xd['add_others'].astype(float)"
   ]
  },
  {
   "cell_type": "code",
   "execution_count": 4,
   "metadata": {},
   "outputs": [
    {
     "name": "stdout",
     "output_type": "stream",
     "text": [
      "13\n"
     ]
    }
   ],
   "source": [
    "a=[True for a in range(13)]\n",
    "cat_features=np.asarray(a)\n",
    "print (len(cat_features))"
   ]
  },
  {
   "cell_type": "code",
   "execution_count": 5,
   "metadata": {},
   "outputs": [
    {
     "name": "stdout",
     "output_type": "stream",
     "text": [
      "13\n",
      "13\n"
     ]
    }
   ],
   "source": [
    "weightl=[1]*13\n",
    "weight=np.asarray(weightl)\n",
    "print(len(weight))\n",
    "print(len(cat_features))"
   ]
  },
  {
   "cell_type": "code",
   "execution_count": 6,
   "metadata": {},
   "outputs": [
    {
     "data": {
      "text/plain": [
       "array([[0.        , 0.23076923, 0.3846154 , 0.53846157, 0.30769232,\n",
       "        0.7692308 , 0.46153846, 0.61538464, 0.23076923, 0.6923077 ,\n",
       "        0.61538464],\n",
       "       [0.23076923, 0.        , 0.46153846, 0.46153846, 0.30769232,\n",
       "        0.7692308 , 0.6923077 , 0.46153846, 0.23076923, 0.46153846,\n",
       "        0.6923077 ],\n",
       "       [0.3846154 , 0.46153846, 0.        , 0.30769232, 0.46153846,\n",
       "        0.6923077 , 0.61538464, 0.46153846, 0.30769232, 0.53846157,\n",
       "        0.6923077 ],\n",
       "       [0.53846157, 0.46153846, 0.30769232, 0.        , 0.61538464,\n",
       "        0.7692308 , 0.6923077 , 0.46153846, 0.3846154 , 0.53846157,\n",
       "        0.61538464],\n",
       "       [0.30769232, 0.30769232, 0.46153846, 0.61538464, 0.        ,\n",
       "        0.6923077 , 0.61538464, 0.53846157, 0.46153846, 0.61538464,\n",
       "        0.53846157],\n",
       "       [0.7692308 , 0.7692308 , 0.6923077 , 0.7692308 , 0.6923077 ,\n",
       "        0.        , 0.7692308 , 0.6923077 , 0.6923077 , 0.61538464,\n",
       "        0.61538464],\n",
       "       [0.46153846, 0.6923077 , 0.61538464, 0.6923077 , 0.61538464,\n",
       "        0.7692308 , 0.        , 0.6923077 , 0.53846157, 0.61538464,\n",
       "        0.61538464],\n",
       "       [0.61538464, 0.46153846, 0.46153846, 0.46153846, 0.53846157,\n",
       "        0.6923077 , 0.6923077 , 0.        , 0.3846154 , 0.15384616,\n",
       "        0.46153846],\n",
       "       [0.23076923, 0.23076923, 0.30769232, 0.3846154 , 0.46153846,\n",
       "        0.6923077 , 0.53846157, 0.3846154 , 0.        , 0.53846157,\n",
       "        0.61538464],\n",
       "       [0.6923077 , 0.46153846, 0.53846157, 0.53846157, 0.61538464,\n",
       "        0.61538464, 0.61538464, 0.15384616, 0.53846157, 0.        ,\n",
       "        0.53846157],\n",
       "       [0.61538464, 0.6923077 , 0.6923077 , 0.61538464, 0.53846157,\n",
       "        0.61538464, 0.61538464, 0.46153846, 0.61538464, 0.53846157,\n",
       "        0.        ]], dtype=float32)"
      ]
     },
     "execution_count": 6,
     "metadata": {},
     "output_type": "execute_result"
    }
   ],
   "source": [
    "import gower\n",
    "\n",
    "#dm=gower.gower_matrix(Xd)\n",
    "dm=gower.gower_matrix(Xd,weight=weight,cat_features=cat_features)\n",
    "dm\n"
   ]
  },
  {
   "cell_type": "code",
   "execution_count": 7,
   "metadata": {},
   "outputs": [
    {
     "data": {
      "text/plain": [
       "{'index': array([0, 8, 1, 4, 6]),\n",
       " 'values': array([0.        , 0.13461539, 0.15384616, 0.17307693, 0.28211537],\n",
       "       dtype=float32)}"
      ]
     },
     "execution_count": 7,
     "metadata": {},
     "output_type": "execute_result"
    }
   ],
   "source": [
    "gower.gower_topn(Xd.iloc[0:1,:], Xd, n = 5)"
   ]
  },
  {
   "cell_type": "code",
   "execution_count": 8,
   "metadata": {},
   "outputs": [],
   "source": [
    "from scipy.spatial.distance import squareform\n",
    "#sdm=squareform(dm,force='tovector') \n",
    "sdm=squareform(dm) "
   ]
  },
  {
   "cell_type": "code",
   "execution_count": 9,
   "metadata": {},
   "outputs": [],
   "source": [
    "import matplotlib.pyplot as plt\n",
    "from scipy.cluster.hierarchy import linkage, fcluster, dendrogram\n",
    "\n",
    "#dm = gower.gower_matrix(X)\n",
    "#Zd = linkage(sdm,method='single') \n",
    "#Zd = linkage(sdm,method='complete',optimal_ordering=True) \n",
    "Zd = linkage(sdm,method='weighted',optimal_ordering=True) \n",
    "#Zd = linkage(sdm,method='average') "
   ]
  },
  {
   "cell_type": "code",
   "execution_count": 10,
   "metadata": {},
   "outputs": [
    {
     "data": {
      "text/plain": [
       "array([1, 1, 1, 1, 1, 4, 3, 2, 1, 2, 2], dtype=int32)"
      ]
     },
     "execution_count": 10,
     "metadata": {},
     "output_type": "execute_result"
    }
   ],
   "source": [
    "cld = fcluster(Zd, 4, criterion='maxclust')\n",
    "cld"
   ]
  },
  {
   "cell_type": "code",
   "execution_count": 11,
   "metadata": {},
   "outputs": [
    {
     "data": {
      "text/plain": [
       "{'icoord': [[15.0, 15.0, 25.0, 25.0],\n",
       "  [45.0, 45.0, 55.0, 55.0],\n",
       "  [35.0, 35.0, 50.0, 50.0],\n",
       "  [42.5, 42.5, 65.0, 65.0],\n",
       "  [20.0, 20.0, 53.75, 53.75],\n",
       "  [85.0, 85.0, 95.0, 95.0],\n",
       "  [75.0, 75.0, 90.0, 90.0],\n",
       "  [36.875, 36.875, 82.5, 82.5],\n",
       "  [59.6875, 59.6875, 105.0, 105.0],\n",
       "  [5.0, 5.0, 82.34375, 82.34375]],\n",
       " 'dcoord': [[0.0, 0.3076923191547394, 0.3076923191547394, 0.0],\n",
       "  [0.0, 0.23076923191547394, 0.23076923191547394, 0.0],\n",
       "  [0.0, 0.23076923191547394, 0.23076923191547394, 0.23076923191547394],\n",
       "  [0.23076923191547394, 0.38461539149284363, 0.38461539149284363, 0.0],\n",
       "  [0.3076923191547394,\n",
       "   0.47115385718643665,\n",
       "   0.47115385718643665,\n",
       "   0.38461539149284363],\n",
       "  [0.0, 0.1538461595773697, 0.1538461595773697, 0.0],\n",
       "  [0.0, 0.5000000149011612, 0.5000000149011612, 0.1538461595773697],\n",
       "  [0.47115385718643665,\n",
       "   0.5709134815260768,\n",
       "   0.5709134815260768,\n",
       "   0.5000000149011612],\n",
       "  [0.5709134815260768, 0.627403867430985, 0.627403867430985, 0.0],\n",
       "  [0.0, 0.7235577087849379, 0.7235577087849379, 0.627403867430985]],\n",
       " 'ivl': ['5', '3', '2', '8', '1', '0', '4', '10', '7', '9', '6'],\n",
       " 'leaves': [5, 3, 2, 8, 1, 0, 4, 10, 7, 9, 6],\n",
       " 'color_list': ['C1', 'C1', 'C1', 'C1', 'C1', 'C2', 'C2', 'C0', 'C0', 'C0'],\n",
       " 'leaves_color_list': ['C0',\n",
       "  'C1',\n",
       "  'C1',\n",
       "  'C1',\n",
       "  'C1',\n",
       "  'C1',\n",
       "  'C1',\n",
       "  'C2',\n",
       "  'C2',\n",
       "  'C2',\n",
       "  'C0']}"
      ]
     },
     "execution_count": 11,
     "metadata": {},
     "output_type": "execute_result"
    },
    {
     "data": {
      "image/png": "[encoded data removed]",
      "text/plain": [
       "<Figure size 432x288 with 1 Axes>"
      ]
     },
     "metadata": {
      "needs_background": "light"
     },
     "output_type": "display_data"
    }
   ],
   "source": [
    "dendrogram(Zd) "
   ]
  },
  {
   "cell_type": "code",
   "execution_count": 12,
   "metadata": {},
   "outputs": [],
   "source": [
    "#pam or medoids\n",
    "from sklearn_extra.cluster import KMedoids"
   ]
  },
  {
   "cell_type": "code",
   "execution_count": 13,
   "metadata": {},
   "outputs": [
    {
     "data": {
      "text/plain": [
       "KMedoids(max_iter=30000, metric='precomputed', n_clusters=2)"
      ]
     },
     "execution_count": 13,
     "metadata": {},
     "output_type": "execute_result"
    }
   ],
   "source": [
    "km=KMedoids(n_clusters=2, metric='precomputed', max_iter=30000, random_state=None)\n",
    "km.fit(dm)"
   ]
  },
  {
   "cell_type": "code",
   "execution_count": 14,
   "metadata": {},
   "outputs": [
    {
     "data": {
      "text/plain": [
       "array([0, 1, 0, 0, 1, 0, 0, 0, 0, 1, 0])"
      ]
     },
     "execution_count": 14,
     "metadata": {},
     "output_type": "execute_result"
    }
   ],
   "source": [
    "km.labels_\n"
   ]
  },
  {
   "cell_type": "code",
   "execution_count": 15,
   "metadata": {},
   "outputs": [
    {
     "data": {
      "text/plain": [
       "-0.053072356"
      ]
     },
     "execution_count": 15,
     "metadata": {},
     "output_type": "execute_result"
    }
   ],
   "source": [
    "#silhouette score\n",
    "from sklearn.metrics import silhouette_score\n",
    "silhouette_avg = silhouette_score(dm, km.labels_)\n",
    "silhouette_avg\n",
    "#print(\"For n_clusters =\", n_clusters,\n",
    "#          \"The average silhouette_score is :\", silhouette_avg)"
   ]
  },
  {
   "cell_type": "code",
   "execution_count": 16,
   "metadata": {},
   "outputs": [],
   "source": [
    "silh=[]\n",
    "for nclusters in range(2,9):\n",
    "    km=KMedoids(n_clusters=nclusters, metric='precomputed', max_iter=30000, random_state=None)\n",
    "    km.fit(dm)\n",
    "    silhouette_avg = silhouette_score(dm, km.labels_)\n",
    "    silh.append(silhouette_avg)\n"
   ]
  },
  {
   "cell_type": "code",
   "execution_count": 19,
   "metadata": {},
   "outputs": [
    {
     "data": {
      "image/png": "[encoded data removed]",
      "text/plain": [
       "<Figure size 432x288 with 1 Axes>"
      ]
     },
     "metadata": {
      "needs_background": "light"
     },
     "output_type": "display_data"
    }
   ],
   "source": [
    "x=range(2,9)\n",
    "y=silh\n",
    "plt.plot(x,y)\n",
    "plt.ylabel('silhouette_score')\n",
    "plt.xlabel('number of clusters')\n",
    "plt.gcf().subplots_adjust(left=0.15)\n",
    "plt.savefig('test_gower_pam_silhouetteNoNoneNOTWEIGHTED_ALLVAR_silhouette_score_1000dpi.pdf',dpi=1000,format='pdf')\n",
    "plt.show()\n"
   ]
  },
  {
   "cell_type": "code",
   "execution_count": 19,
   "metadata": {},
   "outputs": [
    {
     "data": {
      "text/plain": [
       "array([2, 1, 3, 3, 1, 0, 2, 0, 1, 0, 0])"
      ]
     },
     "execution_count": 19,
     "metadata": {},
     "output_type": "execute_result"
    }
   ],
   "source": [
    "km=KMedoids(n_clusters=4, metric='precomputed', max_iter=30000, random_state=None)\n",
    "km.fit(dm)\n",
    "km.labels_"
   ]
  },
  {
   "cell_type": "code",
   "execution_count": 20,
   "metadata": {},
   "outputs": [
    {
     "name": "stdout",
     "output_type": "stream",
     "text": [
      "nclusters=2 clustering=[0 1 0 0 1 0 0 0 0 1 0]\n",
      "nclusters=3 clustering=[2 1 0 0 1 0 2 0 0 1 0]\n",
      "nclusters=4 clustering=[2 1 3 3 1 0 2 0 1 0 0]\n",
      "nclusters=5 clustering=[3 0 2 2 0 1 3 4 1 4 4]\n",
      "nclusters=6 clustering=[3 0 2 2 5 1 3 4 1 4 4]\n",
      "nclusters=7 clustering=[3 0 2 2 5 6 3 4 1 6 4]\n",
      "nclusters=8 clustering=[3 0 2 7 5 6 3 4 1 6 4]\n"
     ]
    }
   ],
   "source": [
    "for nclusters in range(2,9):\n",
    "    km=KMedoids(n_clusters=nclusters, metric='precomputed', max_iter=30000, random_state=None)\n",
    "    km.fit(dm)\n",
    "    print(f'nclusters={nclusters} clustering={km.labels_}')\n"
   ]
  },
  {
   "cell_type": "code",
   "execution_count": 21,
   "metadata": {},
   "outputs": [
    {
     "name": "stdout",
     "output_type": "stream",
     "text": [
      "nclusters=2 clustering=[0 1 0 0 1 0 0 0 0 1 0]\n",
      "nclusters=3 clustering=[2 1 0 0 1 0 2 0 0 1 0]\n",
      "nclusters=4 clustering=[2 1 3 3 1 0 2 0 1 0 0]\n",
      "nclusters=5 clustering=[3 0 2 2 0 1 3 4 1 4 4]\n",
      "nclusters=6 clustering=[3 0 2 2 5 1 3 4 1 4 4]\n",
      "nclusters=7 clustering=[3 0 2 2 5 6 3 4 1 6 4]\n",
      "nclusters=8 clustering=[3 0 2 7 5 6 3 4 1 6 4]\n"
     ]
    }
   ],
   "source": [
    "for nclusters in range(2,9):\n",
    "    km=KMedoids(n_clusters=nclusters, metric='precomputed', max_iter=30000, random_state=None)\n",
    "    km.fit(dm)\n",
    "    print(f'nclusters={nclusters} clustering={km.labels_}')"
   ]
  },
  {
   "cell_type": "code",
   "execution_count": null,
   "metadata": {},
   "outputs": [],
   "source": []
  }
 ],
 "metadata": {
  "kernelspec": {
   "display_name": "Python 3",
   "language": "python",
   "name": "python3"
  },
  "language_info": {
   "codemirror_mode": {
    "name": "ipython",
    "version": 3
   },
   "file_extension": ".py",
   "mimetype": "text/x-python",
   "name": "python",
   "nbconvert_exporter": "python",
   "pygments_lexer": "ipython3",
   "version": "3.8.10"
  }
 },
 "nbformat": 4,
 "nbformat_minor": 4
}
