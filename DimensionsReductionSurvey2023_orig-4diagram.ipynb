{
 "cells": [
  {
   "cell_type": "code",
   "execution_count": 286,
   "metadata": {},
   "outputs": [],
   "source": [
    "#package prince https://github.com/MaxHalford/prince\n",
    "#MCA multiple correspondance analysis\n",
    "#three or more categorical features"
   ]
  },
  {
   "cell_type": "code",
   "execution_count": 41,
   "metadata": {},
   "outputs": [
    {
     "name": "stdout",
     "output_type": "stream",
     "text": [
      "11\n",
      "10\n"
     ]
    },
    {
     "data": {
      "text/html": [
       "<div>\n",
       "<style scoped>\n",
       "    .dataframe tbody tr th:only-of-type {\n",
       "        vertical-align: middle;\n",
       "    }\n",
       "\n",
       "    .dataframe tbody tr th {\n",
       "        vertical-align: top;\n",
       "    }\n",
       "\n",
       "    .dataframe thead th {\n",
       "        text-align: right;\n",
       "    }\n",
       "</style>\n",
       "<table border=\"1\" class=\"dataframe\">\n",
       "  <thead>\n",
       "    <tr style=\"text-align: right;\">\n",
       "      <th></th>\n",
       "      <th>CDR_name</th>\n",
       "      <th>free_paid</th>\n",
       "      <th>api_gui_both</th>\n",
       "      <th>aql_sql_both_other</th>\n",
       "      <th>JsonXml_FlatStruct_both_none</th>\n",
       "      <th>FHIR_openEHRExtract_both_none</th>\n",
       "      <th>Forms</th>\n",
       "      <th>openEHR GDL</th>\n",
       "      <th>openEHR REST API</th>\n",
       "      <th>openEHR Demographics</th>\n",
       "    </tr>\n",
       "  </thead>\n",
       "  <tbody>\n",
       "    <tr>\n",
       "      <th>0</th>\n",
       "      <td>ehrbase</td>\n",
       "      <td>free</td>\n",
       "      <td>api</td>\n",
       "      <td>aql</td>\n",
       "      <td>both</td>\n",
       "      <td>fhir</td>\n",
       "      <td>n</td>\n",
       "      <td>n</td>\n",
       "      <td>y</td>\n",
       "      <td>n</td>\n",
       "    </tr>\n",
       "    <tr>\n",
       "      <th>1</th>\n",
       "      <td>better</td>\n",
       "      <td>paid</td>\n",
       "      <td>both</td>\n",
       "      <td>aql</td>\n",
       "      <td>both</td>\n",
       "      <td>fhir</td>\n",
       "      <td>y</td>\n",
       "      <td>y</td>\n",
       "      <td>y</td>\n",
       "      <td>n</td>\n",
       "    </tr>\n",
       "    <tr>\n",
       "      <th>2</th>\n",
       "      <td>base24</td>\n",
       "      <td>paid</td>\n",
       "      <td>both</td>\n",
       "      <td>other</td>\n",
       "      <td>jsonxml</td>\n",
       "      <td>fhir</td>\n",
       "      <td>y</td>\n",
       "      <td>n</td>\n",
       "      <td>n</td>\n",
       "      <td>y</td>\n",
       "    </tr>\n",
       "    <tr>\n",
       "      <th>3</th>\n",
       "      <td>cabo</td>\n",
       "      <td>free</td>\n",
       "      <td>gui</td>\n",
       "      <td>other</td>\n",
       "      <td>jsonxml</td>\n",
       "      <td>fhir</td>\n",
       "      <td>n</td>\n",
       "      <td>n</td>\n",
       "      <td>n</td>\n",
       "      <td>n</td>\n",
       "    </tr>\n",
       "    <tr>\n",
       "      <th>4</th>\n",
       "      <td>arenaehr</td>\n",
       "      <td>paid</td>\n",
       "      <td>api</td>\n",
       "      <td>aql</td>\n",
       "      <td>both</td>\n",
       "      <td>fhir</td>\n",
       "      <td>y</td>\n",
       "      <td>y</td>\n",
       "      <td>y</td>\n",
       "      <td>n</td>\n",
       "    </tr>\n",
       "    <tr>\n",
       "      <th>5</th>\n",
       "      <td>eweave</td>\n",
       "      <td>paid</td>\n",
       "      <td>gui</td>\n",
       "      <td>both</td>\n",
       "      <td>none</td>\n",
       "      <td>none</td>\n",
       "      <td>y</td>\n",
       "      <td>n</td>\n",
       "      <td>n</td>\n",
       "      <td>y</td>\n",
       "    </tr>\n",
       "    <tr>\n",
       "      <th>6</th>\n",
       "      <td>ehrcare</td>\n",
       "      <td>paid</td>\n",
       "      <td>api</td>\n",
       "      <td>aql</td>\n",
       "      <td>both</td>\n",
       "      <td>none</td>\n",
       "      <td>y</td>\n",
       "      <td>n</td>\n",
       "      <td>n</td>\n",
       "      <td>y</td>\n",
       "    </tr>\n",
       "    <tr>\n",
       "      <th>7</th>\n",
       "      <td>clever</td>\n",
       "      <td>paid</td>\n",
       "      <td>both</td>\n",
       "      <td>sql</td>\n",
       "      <td>flatstruct</td>\n",
       "      <td>extract</td>\n",
       "      <td>y</td>\n",
       "      <td>y</td>\n",
       "      <td>n</td>\n",
       "      <td>n</td>\n",
       "    </tr>\n",
       "    <tr>\n",
       "      <th>8</th>\n",
       "      <td>ehrdb</td>\n",
       "      <td>paid</td>\n",
       "      <td>both</td>\n",
       "      <td>aql</td>\n",
       "      <td>both</td>\n",
       "      <td>extract</td>\n",
       "      <td>y</td>\n",
       "      <td>n</td>\n",
       "      <td>y</td>\n",
       "      <td>n</td>\n",
       "    </tr>\n",
       "    <tr>\n",
       "      <th>9</th>\n",
       "      <td>rhp</td>\n",
       "      <td>paid</td>\n",
       "      <td>both</td>\n",
       "      <td>sql</td>\n",
       "      <td>flatstruct</td>\n",
       "      <td>none</td>\n",
       "      <td>y</td>\n",
       "      <td>y</td>\n",
       "      <td>n</td>\n",
       "      <td>y</td>\n",
       "    </tr>\n",
       "    <tr>\n",
       "      <th>10</th>\n",
       "      <td>ehrn</td>\n",
       "      <td>paid</td>\n",
       "      <td>api</td>\n",
       "      <td>both</td>\n",
       "      <td>flatstruct</td>\n",
       "      <td>fhir</td>\n",
       "      <td>n</td>\n",
       "      <td>n</td>\n",
       "      <td>n</td>\n",
       "      <td>n</td>\n",
       "    </tr>\n",
       "  </tbody>\n",
       "</table>\n",
       "</div>"
      ],
      "text/plain": [
       "    CDR_name free_paid api_gui_both aql_sql_both_other  \\\n",
       "0    ehrbase      free          api                aql   \n",
       "1     better      paid         both                aql   \n",
       "2     base24      paid         both              other   \n",
       "3       cabo      free          gui              other   \n",
       "4   arenaehr      paid          api                aql   \n",
       "5     eweave      paid          gui               both   \n",
       "6    ehrcare      paid          api                aql   \n",
       "7     clever      paid         both                sql   \n",
       "8      ehrdb      paid         both                aql   \n",
       "9        rhp      paid         both                sql   \n",
       "10      ehrn      paid          api               both   \n",
       "\n",
       "   JsonXml_FlatStruct_both_none FHIR_openEHRExtract_both_none Forms  \\\n",
       "0                          both                          fhir     n   \n",
       "1                          both                          fhir     y   \n",
       "2                       jsonxml                          fhir     y   \n",
       "3                       jsonxml                          fhir     n   \n",
       "4                          both                          fhir     y   \n",
       "5                          none                          none     y   \n",
       "6                          both                          none     y   \n",
       "7                    flatstruct                       extract     y   \n",
       "8                          both                       extract     y   \n",
       "9                    flatstruct                          none     y   \n",
       "10                   flatstruct                          fhir     n   \n",
       "\n",
       "   openEHR GDL openEHR REST API openEHR Demographics  \n",
       "0            n                y                    n  \n",
       "1            y                y                    n  \n",
       "2            n                n                    y  \n",
       "3            n                n                    n  \n",
       "4            y                y                    n  \n",
       "5            n                n                    y  \n",
       "6            n                n                    y  \n",
       "7            y                n                    n  \n",
       "8            n                y                    n  \n",
       "9            y                n                    y  \n",
       "10           n                n                    n  "
      ]
     },
     "execution_count": 41,
     "metadata": {},
     "output_type": "execute_result"
    }
   ],
   "source": [
    "#Importing the necessary package\n",
    "import math\n",
    "import pandas as pd\n",
    "import numpy as np\n",
    "from prince import MCA#Dataset preparation with only numerical features\n",
    "df = pd.read_csv('SurveyAnswers4ClusteringUpdated2023_apiguinumbers_flat5_mixedcategnumeric_diagramvariables.csv')\n",
    "print(len(df))\n",
    "print(len(df.columns))\n",
    "df"
   ]
  },
  {
   "cell_type": "code",
   "execution_count": 42,
   "metadata": {},
   "outputs": [
    {
     "data": {
      "text/html": [
       "<div>\n",
       "<style scoped>\n",
       "    .dataframe tbody tr th:only-of-type {\n",
       "        vertical-align: middle;\n",
       "    }\n",
       "\n",
       "    .dataframe tbody tr th {\n",
       "        vertical-align: top;\n",
       "    }\n",
       "\n",
       "    .dataframe thead th {\n",
       "        text-align: right;\n",
       "    }\n",
       "</style>\n",
       "<table border=\"1\" class=\"dataframe\">\n",
       "  <thead>\n",
       "    <tr style=\"text-align: right;\">\n",
       "      <th></th>\n",
       "      <th>free_paid</th>\n",
       "      <th>api_gui_both</th>\n",
       "      <th>aql_sql_both_other</th>\n",
       "      <th>JsonXml_FlatStruct_both_none</th>\n",
       "      <th>FHIR_openEHRExtract_both_none</th>\n",
       "      <th>Forms</th>\n",
       "      <th>openEHR GDL</th>\n",
       "      <th>openEHR REST API</th>\n",
       "      <th>openEHR Demographics</th>\n",
       "    </tr>\n",
       "    <tr>\n",
       "      <th>CDR_name</th>\n",
       "      <th></th>\n",
       "      <th></th>\n",
       "      <th></th>\n",
       "      <th></th>\n",
       "      <th></th>\n",
       "      <th></th>\n",
       "      <th></th>\n",
       "      <th></th>\n",
       "      <th></th>\n",
       "    </tr>\n",
       "  </thead>\n",
       "  <tbody>\n",
       "    <tr>\n",
       "      <th>ehrbase</th>\n",
       "      <td>free</td>\n",
       "      <td>api</td>\n",
       "      <td>aql</td>\n",
       "      <td>both</td>\n",
       "      <td>fhir</td>\n",
       "      <td>n</td>\n",
       "      <td>n</td>\n",
       "      <td>y</td>\n",
       "      <td>n</td>\n",
       "    </tr>\n",
       "    <tr>\n",
       "      <th>better</th>\n",
       "      <td>paid</td>\n",
       "      <td>both</td>\n",
       "      <td>aql</td>\n",
       "      <td>both</td>\n",
       "      <td>fhir</td>\n",
       "      <td>y</td>\n",
       "      <td>y</td>\n",
       "      <td>y</td>\n",
       "      <td>n</td>\n",
       "    </tr>\n",
       "    <tr>\n",
       "      <th>base24</th>\n",
       "      <td>paid</td>\n",
       "      <td>both</td>\n",
       "      <td>other</td>\n",
       "      <td>jsonxml</td>\n",
       "      <td>fhir</td>\n",
       "      <td>y</td>\n",
       "      <td>n</td>\n",
       "      <td>n</td>\n",
       "      <td>y</td>\n",
       "    </tr>\n",
       "    <tr>\n",
       "      <th>cabo</th>\n",
       "      <td>free</td>\n",
       "      <td>gui</td>\n",
       "      <td>other</td>\n",
       "      <td>jsonxml</td>\n",
       "      <td>fhir</td>\n",
       "      <td>n</td>\n",
       "      <td>n</td>\n",
       "      <td>n</td>\n",
       "      <td>n</td>\n",
       "    </tr>\n",
       "    <tr>\n",
       "      <th>arenaehr</th>\n",
       "      <td>paid</td>\n",
       "      <td>api</td>\n",
       "      <td>aql</td>\n",
       "      <td>both</td>\n",
       "      <td>fhir</td>\n",
       "      <td>y</td>\n",
       "      <td>y</td>\n",
       "      <td>y</td>\n",
       "      <td>n</td>\n",
       "    </tr>\n",
       "    <tr>\n",
       "      <th>eweave</th>\n",
       "      <td>paid</td>\n",
       "      <td>gui</td>\n",
       "      <td>both</td>\n",
       "      <td>none</td>\n",
       "      <td>none</td>\n",
       "      <td>y</td>\n",
       "      <td>n</td>\n",
       "      <td>n</td>\n",
       "      <td>y</td>\n",
       "    </tr>\n",
       "    <tr>\n",
       "      <th>ehrcare</th>\n",
       "      <td>paid</td>\n",
       "      <td>api</td>\n",
       "      <td>aql</td>\n",
       "      <td>both</td>\n",
       "      <td>none</td>\n",
       "      <td>y</td>\n",
       "      <td>n</td>\n",
       "      <td>n</td>\n",
       "      <td>y</td>\n",
       "    </tr>\n",
       "    <tr>\n",
       "      <th>clever</th>\n",
       "      <td>paid</td>\n",
       "      <td>both</td>\n",
       "      <td>sql</td>\n",
       "      <td>flatstruct</td>\n",
       "      <td>extract</td>\n",
       "      <td>y</td>\n",
       "      <td>y</td>\n",
       "      <td>n</td>\n",
       "      <td>n</td>\n",
       "    </tr>\n",
       "    <tr>\n",
       "      <th>ehrdb</th>\n",
       "      <td>paid</td>\n",
       "      <td>both</td>\n",
       "      <td>aql</td>\n",
       "      <td>both</td>\n",
       "      <td>extract</td>\n",
       "      <td>y</td>\n",
       "      <td>n</td>\n",
       "      <td>y</td>\n",
       "      <td>n</td>\n",
       "    </tr>\n",
       "    <tr>\n",
       "      <th>rhp</th>\n",
       "      <td>paid</td>\n",
       "      <td>both</td>\n",
       "      <td>sql</td>\n",
       "      <td>flatstruct</td>\n",
       "      <td>none</td>\n",
       "      <td>y</td>\n",
       "      <td>y</td>\n",
       "      <td>n</td>\n",
       "      <td>y</td>\n",
       "    </tr>\n",
       "    <tr>\n",
       "      <th>ehrn</th>\n",
       "      <td>paid</td>\n",
       "      <td>api</td>\n",
       "      <td>both</td>\n",
       "      <td>flatstruct</td>\n",
       "      <td>fhir</td>\n",
       "      <td>n</td>\n",
       "      <td>n</td>\n",
       "      <td>n</td>\n",
       "      <td>n</td>\n",
       "    </tr>\n",
       "  </tbody>\n",
       "</table>\n",
       "</div>"
      ],
      "text/plain": [
       "         free_paid api_gui_both aql_sql_both_other  \\\n",
       "CDR_name                                             \n",
       "ehrbase       free          api                aql   \n",
       "better        paid         both                aql   \n",
       "base24        paid         both              other   \n",
       "cabo          free          gui              other   \n",
       "arenaehr      paid          api                aql   \n",
       "eweave        paid          gui               both   \n",
       "ehrcare       paid          api                aql   \n",
       "clever        paid         both                sql   \n",
       "ehrdb         paid         both                aql   \n",
       "rhp           paid         both                sql   \n",
       "ehrn          paid          api               both   \n",
       "\n",
       "         JsonXml_FlatStruct_both_none FHIR_openEHRExtract_both_none Forms  \\\n",
       "CDR_name                                                                    \n",
       "ehrbase                          both                          fhir     n   \n",
       "better                           both                          fhir     y   \n",
       "base24                        jsonxml                          fhir     y   \n",
       "cabo                          jsonxml                          fhir     n   \n",
       "arenaehr                         both                          fhir     y   \n",
       "eweave                           none                          none     y   \n",
       "ehrcare                          both                          none     y   \n",
       "clever                     flatstruct                       extract     y   \n",
       "ehrdb                            both                       extract     y   \n",
       "rhp                        flatstruct                          none     y   \n",
       "ehrn                       flatstruct                          fhir     n   \n",
       "\n",
       "         openEHR GDL openEHR REST API openEHR Demographics  \n",
       "CDR_name                                                    \n",
       "ehrbase            n                y                    n  \n",
       "better             y                y                    n  \n",
       "base24             n                n                    y  \n",
       "cabo               n                n                    n  \n",
       "arenaehr           y                y                    n  \n",
       "eweave             n                n                    y  \n",
       "ehrcare            n                n                    y  \n",
       "clever             y                n                    n  \n",
       "ehrdb              n                y                    n  \n",
       "rhp                y                n                    y  \n",
       "ehrn               n                n                    n  "
      ]
     },
     "execution_count": 42,
     "metadata": {},
     "output_type": "execute_result"
    }
   ],
   "source": [
    "df=df.set_index('CDR_name')\n",
    "df"
   ]
  },
  {
   "cell_type": "code",
   "execution_count": 43,
   "metadata": {},
   "outputs": [
    {
     "data": {
      "text/html": [
       "<div>\n",
       "<style scoped>\n",
       "    .dataframe tbody tr th:only-of-type {\n",
       "        vertical-align: middle;\n",
       "    }\n",
       "\n",
       "    .dataframe tbody tr th {\n",
       "        vertical-align: top;\n",
       "    }\n",
       "\n",
       "    .dataframe thead th {\n",
       "        text-align: right;\n",
       "    }\n",
       "</style>\n",
       "<table border=\"1\" class=\"dataframe\">\n",
       "  <thead>\n",
       "    <tr style=\"text-align: right;\">\n",
       "      <th></th>\n",
       "      <th>0</th>\n",
       "      <th>1</th>\n",
       "    </tr>\n",
       "  </thead>\n",
       "  <tbody>\n",
       "    <tr>\n",
       "      <th>ehrbase</th>\n",
       "      <td>0.628957</td>\n",
       "      <td>-0.917486</td>\n",
       "    </tr>\n",
       "    <tr>\n",
       "      <th>better</th>\n",
       "      <td>-0.392563</td>\n",
       "      <td>-0.661731</td>\n",
       "    </tr>\n",
       "    <tr>\n",
       "      <th>base24</th>\n",
       "      <td>0.388522</td>\n",
       "      <td>0.435298</td>\n",
       "    </tr>\n",
       "    <tr>\n",
       "      <th>cabo</th>\n",
       "      <td>1.370367</td>\n",
       "      <td>0.138403</td>\n",
       "    </tr>\n",
       "    <tr>\n",
       "      <th>arenaehr</th>\n",
       "      <td>-0.235177</td>\n",
       "      <td>-0.762888</td>\n",
       "    </tr>\n",
       "    <tr>\n",
       "      <th>eweave</th>\n",
       "      <td>0.223511</td>\n",
       "      <td>1.250406</td>\n",
       "    </tr>\n",
       "    <tr>\n",
       "      <th>ehrcare</th>\n",
       "      <td>-0.143729</td>\n",
       "      <td>0.140027</td>\n",
       "    </tr>\n",
       "    <tr>\n",
       "      <th>clever</th>\n",
       "      <td>-0.926200</td>\n",
       "      <td>0.176870</td>\n",
       "    </tr>\n",
       "    <tr>\n",
       "      <th>ehrdb</th>\n",
       "      <td>-0.412399</td>\n",
       "      <td>-0.581180</td>\n",
       "    </tr>\n",
       "    <tr>\n",
       "      <th>rhp</th>\n",
       "      <td>-0.857878</td>\n",
       "      <td>0.687608</td>\n",
       "    </tr>\n",
       "    <tr>\n",
       "      <th>ehrn</th>\n",
       "      <td>0.356589</td>\n",
       "      <td>0.094672</td>\n",
       "    </tr>\n",
       "  </tbody>\n",
       "</table>\n",
       "</div>"
      ],
      "text/plain": [
       "                 0         1\n",
       "ehrbase   0.628957 -0.917486\n",
       "better   -0.392563 -0.661731\n",
       "base24    0.388522  0.435298\n",
       "cabo      1.370367  0.138403\n",
       "arenaehr -0.235177 -0.762888\n",
       "eweave    0.223511  1.250406\n",
       "ehrcare  -0.143729  0.140027\n",
       "clever   -0.926200  0.176870\n",
       "ehrdb    -0.412399 -0.581180\n",
       "rhp      -0.857878  0.687608\n",
       "ehrn      0.356589  0.094672"
      ]
     },
     "execution_count": 43,
     "metadata": {},
     "output_type": "execute_result"
    }
   ],
   "source": [
    "mca = MCA(n_components = 2, n_iter = 3, random_state = 101)\n",
    "mca.fit(df)\n",
    "df_mca = mca.transform(df)\n",
    "df_mca"
   ]
  },
  {
   "cell_type": "code",
   "execution_count": 44,
   "metadata": {},
   "outputs": [
    {
     "data": {
      "text/plain": [
       "[0.2506635443805253, 0.24568624097646857]"
      ]
     },
     "execution_count": 44,
     "metadata": {},
     "output_type": "execute_result"
    }
   ],
   "source": [
    "mca.explained_inertia_ #variance explained"
   ]
  },
  {
   "cell_type": "code",
   "execution_count": 45,
   "metadata": {},
   "outputs": [
    {
     "data": {
      "text/plain": [
       "49.6"
      ]
     },
     "execution_count": 45,
     "metadata": {},
     "output_type": "execute_result"
    }
   ],
   "source": [
    "round(sum(mca.explained_inertia_)*100,1)"
   ]
  },
  {
   "cell_type": "code",
   "execution_count": 46,
   "metadata": {},
   "outputs": [
    {
     "data": {
      "text/plain": [
       "[0.4177725739675422, 0.4094770682941143]"
      ]
     },
     "execution_count": 46,
     "metadata": {},
     "output_type": "execute_result"
    }
   ],
   "source": [
    " mca.eigenvalues_"
   ]
  },
  {
   "cell_type": "code",
   "execution_count": 47,
   "metadata": {},
   "outputs": [
    {
     "data": {
      "text/html": [
       "<div>\n",
       "<style scoped>\n",
       "    .dataframe tbody tr th:only-of-type {\n",
       "        vertical-align: middle;\n",
       "    }\n",
       "\n",
       "    .dataframe tbody tr th {\n",
       "        vertical-align: top;\n",
       "    }\n",
       "\n",
       "    .dataframe thead th {\n",
       "        text-align: right;\n",
       "    }\n",
       "</style>\n",
       "<table border=\"1\" class=\"dataframe\">\n",
       "  <thead>\n",
       "    <tr style=\"text-align: right;\">\n",
       "      <th></th>\n",
       "      <th>0</th>\n",
       "      <th>1</th>\n",
       "    </tr>\n",
       "  </thead>\n",
       "  <tbody>\n",
       "    <tr>\n",
       "      <th>free_paid_free</th>\n",
       "      <td>1.546618</td>\n",
       "      <td>-0.608750</td>\n",
       "    </tr>\n",
       "    <tr>\n",
       "      <th>free_paid_paid</th>\n",
       "      <td>-0.343693</td>\n",
       "      <td>0.135278</td>\n",
       "    </tr>\n",
       "    <tr>\n",
       "      <th>api_gui_both_api</th>\n",
       "      <td>0.234640</td>\n",
       "      <td>-0.564801</td>\n",
       "    </tr>\n",
       "    <tr>\n",
       "      <th>api_gui_both_both</th>\n",
       "      <td>-0.680902</td>\n",
       "      <td>0.017773</td>\n",
       "    </tr>\n",
       "    <tr>\n",
       "      <th>api_gui_both_gui</th>\n",
       "      <td>1.232977</td>\n",
       "      <td>1.085169</td>\n",
       "    </tr>\n",
       "    <tr>\n",
       "      <th>aql_sql_both_other_aql</th>\n",
       "      <td>-0.171705</td>\n",
       "      <td>-0.869898</td>\n",
       "    </tr>\n",
       "    <tr>\n",
       "      <th>aql_sql_both_other_both</th>\n",
       "      <td>0.448749</td>\n",
       "      <td>1.050999</td>\n",
       "    </tr>\n",
       "    <tr>\n",
       "      <th>aql_sql_both_other_other</th>\n",
       "      <td>1.360624</td>\n",
       "      <td>0.448271</td>\n",
       "    </tr>\n",
       "    <tr>\n",
       "      <th>aql_sql_both_other_sql</th>\n",
       "      <td>-1.380110</td>\n",
       "      <td>0.675475</td>\n",
       "    </tr>\n",
       "    <tr>\n",
       "      <th>JsonXml_FlatStruct_both_none_both</th>\n",
       "      <td>-0.171705</td>\n",
       "      <td>-0.869898</td>\n",
       "    </tr>\n",
       "    <tr>\n",
       "      <th>JsonXml_FlatStruct_both_none_flatstruct</th>\n",
       "      <td>-0.736175</td>\n",
       "      <td>0.499632</td>\n",
       "    </tr>\n",
       "    <tr>\n",
       "      <th>JsonXml_FlatStruct_both_none_jsonxml</th>\n",
       "      <td>1.360624</td>\n",
       "      <td>0.448271</td>\n",
       "    </tr>\n",
       "    <tr>\n",
       "      <th>JsonXml_FlatStruct_both_none_none</th>\n",
       "      <td>0.345803</td>\n",
       "      <td>1.954052</td>\n",
       "    </tr>\n",
       "    <tr>\n",
       "      <th>FHIR_openEHRExtract_both_none_extract</th>\n",
       "      <td>-1.035501</td>\n",
       "      <td>-0.315914</td>\n",
       "    </tr>\n",
       "    <tr>\n",
       "      <th>FHIR_openEHRExtract_both_none_fhir</th>\n",
       "      <td>0.545804</td>\n",
       "      <td>-0.435933</td>\n",
       "    </tr>\n",
       "    <tr>\n",
       "      <th>FHIR_openEHRExtract_both_none_none</th>\n",
       "      <td>-0.401275</td>\n",
       "      <td>1.082476</td>\n",
       "    </tr>\n",
       "    <tr>\n",
       "      <th>Forms_n</th>\n",
       "      <td>1.214977</td>\n",
       "      <td>-0.356518</td>\n",
       "    </tr>\n",
       "    <tr>\n",
       "      <th>Forms_y</th>\n",
       "      <td>-0.455616</td>\n",
       "      <td>0.133694</td>\n",
       "    </tr>\n",
       "    <tr>\n",
       "      <th>openEHR GDL_n</th>\n",
       "      <td>0.533060</td>\n",
       "      <td>0.125050</td>\n",
       "    </tr>\n",
       "    <tr>\n",
       "      <th>openEHR GDL_y</th>\n",
       "      <td>-0.932856</td>\n",
       "      <td>-0.218838</td>\n",
       "    </tr>\n",
       "    <tr>\n",
       "      <th>openEHR REST API_n</th>\n",
       "      <td>0.090880</td>\n",
       "      <td>0.652617</td>\n",
       "    </tr>\n",
       "    <tr>\n",
       "      <th>openEHR REST API_y</th>\n",
       "      <td>-0.159039</td>\n",
       "      <td>-1.142079</td>\n",
       "    </tr>\n",
       "    <tr>\n",
       "      <th>openEHR Demographics_n</th>\n",
       "      <td>0.086104</td>\n",
       "      <td>-0.561097</td>\n",
       "    </tr>\n",
       "    <tr>\n",
       "      <th>openEHR Demographics_y</th>\n",
       "      <td>-0.150682</td>\n",
       "      <td>0.981921</td>\n",
       "    </tr>\n",
       "  </tbody>\n",
       "</table>\n",
       "</div>"
      ],
      "text/plain": [
       "                                                0         1\n",
       "free_paid_free                           1.546618 -0.608750\n",
       "free_paid_paid                          -0.343693  0.135278\n",
       "api_gui_both_api                         0.234640 -0.564801\n",
       "api_gui_both_both                       -0.680902  0.017773\n",
       "api_gui_both_gui                         1.232977  1.085169\n",
       "aql_sql_both_other_aql                  -0.171705 -0.869898\n",
       "aql_sql_both_other_both                  0.448749  1.050999\n",
       "aql_sql_both_other_other                 1.360624  0.448271\n",
       "aql_sql_both_other_sql                  -1.380110  0.675475\n",
       "JsonXml_FlatStruct_both_none_both       -0.171705 -0.869898\n",
       "JsonXml_FlatStruct_both_none_flatstruct -0.736175  0.499632\n",
       "JsonXml_FlatStruct_both_none_jsonxml     1.360624  0.448271\n",
       "JsonXml_FlatStruct_both_none_none        0.345803  1.954052\n",
       "FHIR_openEHRExtract_both_none_extract   -1.035501 -0.315914\n",
       "FHIR_openEHRExtract_both_none_fhir       0.545804 -0.435933\n",
       "FHIR_openEHRExtract_both_none_none      -0.401275  1.082476\n",
       "Forms_n                                  1.214977 -0.356518\n",
       "Forms_y                                 -0.455616  0.133694\n",
       "openEHR GDL_n                            0.533060  0.125050\n",
       "openEHR GDL_y                           -0.932856 -0.218838\n",
       "openEHR REST API_n                       0.090880  0.652617\n",
       "openEHR REST API_y                      -0.159039 -1.142079\n",
       "openEHR Demographics_n                   0.086104 -0.561097\n",
       "openEHR Demographics_y                  -0.150682  0.981921"
      ]
     },
     "execution_count": 47,
     "metadata": {},
     "output_type": "execute_result"
    }
   ],
   "source": [
    "mca.column_coordinates(df)"
   ]
  },
  {
   "cell_type": "code",
   "execution_count": 48,
   "metadata": {},
   "outputs": [
    {
     "data": {
      "application/javascript": [
       "/* Put everything inside the global mpl namespace */\n",
       "/* global mpl */\n",
       "window.mpl = {};\n",
       "\n",
       "mpl.get_websocket_type = function () {\n",
       "    if (typeof WebSocket !== 'undefined') {\n",
       "        return WebSocket;\n",
       "    } else if (typeof MozWebSocket !== 'undefined') {\n",
       "        return MozWebSocket;\n",
       "    } else {\n",
       "        alert(\n",
       "            'Your browser does not have WebSocket support. ' +\n",
       "                'Please try Chrome, Safari or Firefox ≥ 6. ' +\n",
       "                'Firefox 4 and 5 are also supported but you ' +\n",
       "                'have to enable WebSockets in about:config.'\n",
       "        );\n",
       "    }\n",
       "};\n",
       "\n",
       "mpl.figure = function (figure_id, websocket, ondownload, parent_element) {\n",
       "    this.id = figure_id;\n",
       "\n",
       "    this.ws = websocket;\n",
       "\n",
       "    this.supports_binary = this.ws.binaryType !== undefined;\n",
       "\n",
       "    if (!this.supports_binary) {\n",
       "        var warnings = document.getElementById('mpl-warnings');\n",
       "        if (warnings) {\n",
       "            warnings.style.display = 'block';\n",
       "            warnings.textContent =\n",
       "                'This browser does not support binary websocket messages. ' +\n",
       "                'Performance may be slow.';\n",
       "        }\n",
       "    }\n",
       "\n",
       "    this.imageObj = new Image();\n",
       "\n",
       "    this.context = undefined;\n",
       "    this.message = undefined;\n",
       "    this.canvas = undefined;\n",
       "    this.rubberband_canvas = undefined;\n",
       "    this.rubberband_context = undefined;\n",
       "    this.format_dropdown = undefined;\n",
       "\n",
       "    this.image_mode = 'full';\n",
       "\n",
       "    this.root = document.createElement('div');\n",
       "    this.root.setAttribute('style', 'display: inline-block');\n",
       "    this._root_extra_style(this.root);\n",
       "\n",
       "    parent_element.appendChild(this.root);\n",
       "\n",
       "    this._init_header(this);\n",
       "    this._init_canvas(this);\n",
       "    this._init_toolbar(this);\n",
       "\n",
       "    var fig = this;\n",
       "\n",
       "    this.waiting = false;\n",
       "\n",
       "    this.ws.onopen = function () {\n",
       "        fig.send_message('supports_binary', { value: fig.supports_binary });\n",
       "        fig.send_message('send_image_mode', {});\n",
       "        if (fig.ratio !== 1) {\n",
       "            fig.send_message('set_dpi_ratio', { dpi_ratio: fig.ratio });\n",
       "        }\n",
       "        fig.send_message('refresh', {});\n",
       "    };\n",
       "\n",
       "    this.imageObj.onload = function () {\n",
       "        if (fig.image_mode === 'full') {\n",
       "            // Full images could contain transparency (where diff images\n",
       "            // almost always do), so we need to clear the canvas so that\n",
       "            // there is no ghosting.\n",
       "            fig.context.clearRect(0, 0, fig.canvas.width, fig.canvas.height);\n",
       "        }\n",
       "        fig.context.drawImage(fig.imageObj, 0, 0);\n",
       "    };\n",
       "\n",
       "    this.imageObj.onunload = function () {\n",
       "        fig.ws.close();\n",
       "    };\n",
       "\n",
       "    this.ws.onmessage = this._make_on_message_function(this);\n",
       "\n",
       "    this.ondownload = ondownload;\n",
       "};\n",
       "\n",
       "mpl.figure.prototype._init_header = function () {\n",
       "    var titlebar = document.createElement('div');\n",
       "    titlebar.classList =\n",
       "        'ui-dialog-titlebar ui-widget-header ui-corner-all ui-helper-clearfix';\n",
       "    var titletext = document.createElement('div');\n",
       "    titletext.classList = 'ui-dialog-title';\n",
       "    titletext.setAttribute(\n",
       "        'style',\n",
       "        'width: 100%; text-align: center; padding: 3px;'\n",
       "    );\n",
       "    titlebar.appendChild(titletext);\n",
       "    this.root.appendChild(titlebar);\n",
       "    this.header = titletext;\n",
       "};\n",
       "\n",
       "mpl.figure.prototype._canvas_extra_style = function (_canvas_div) {};\n",
       "\n",
       "mpl.figure.prototype._root_extra_style = function (_canvas_div) {};\n",
       "\n",
       "mpl.figure.prototype._init_canvas = function () {\n",
       "    var fig = this;\n",
       "\n",
       "    var canvas_div = (this.canvas_div = document.createElement('div'));\n",
       "    canvas_div.setAttribute(\n",
       "        'style',\n",
       "        'border: 1px solid #ddd;' +\n",
       "            'box-sizing: content-box;' +\n",
       "            'clear: both;' +\n",
       "            'min-height: 1px;' +\n",
       "            'min-width: 1px;' +\n",
       "            'outline: 0;' +\n",
       "            'overflow: hidden;' +\n",
       "            'position: relative;' +\n",
       "            'resize: both;'\n",
       "    );\n",
       "\n",
       "    function on_keyboard_event_closure(name) {\n",
       "        return function (event) {\n",
       "            return fig.key_event(event, name);\n",
       "        };\n",
       "    }\n",
       "\n",
       "    canvas_div.addEventListener(\n",
       "        'keydown',\n",
       "        on_keyboard_event_closure('key_press')\n",
       "    );\n",
       "    canvas_div.addEventListener(\n",
       "        'keyup',\n",
       "        on_keyboard_event_closure('key_release')\n",
       "    );\n",
       "\n",
       "    this._canvas_extra_style(canvas_div);\n",
       "    this.root.appendChild(canvas_div);\n",
       "\n",
       "    var canvas = (this.canvas = document.createElement('canvas'));\n",
       "    canvas.classList.add('mpl-canvas');\n",
       "    canvas.setAttribute('style', 'box-sizing: content-box;');\n",
       "\n",
       "    this.context = canvas.getContext('2d');\n",
       "\n",
       "    var backingStore =\n",
       "        this.context.backingStorePixelRatio ||\n",
       "        this.context.webkitBackingStorePixelRatio ||\n",
       "        this.context.mozBackingStorePixelRatio ||\n",
       "        this.context.msBackingStorePixelRatio ||\n",
       "        this.context.oBackingStorePixelRatio ||\n",
       "        this.context.backingStorePixelRatio ||\n",
       "        1;\n",
       "\n",
       "    this.ratio = (window.devicePixelRatio || 1) / backingStore;\n",
       "\n",
       "    var rubberband_canvas = (this.rubberband_canvas = document.createElement(\n",
       "        'canvas'\n",
       "    ));\n",
       "    rubberband_canvas.setAttribute(\n",
       "        'style',\n",
       "        'box-sizing: content-box; position: absolute; left: 0; top: 0; z-index: 1;'\n",
       "    );\n",
       "\n",
       "    // Apply a ponyfill if ResizeObserver is not implemented by browser.\n",
       "    if (this.ResizeObserver === undefined) {\n",
       "        if (window.ResizeObserver !== undefined) {\n",
       "            this.ResizeObserver = window.ResizeObserver;\n",
       "        } else {\n",
       "            var obs = _JSXTOOLS_RESIZE_OBSERVER({});\n",
       "            this.ResizeObserver = obs.ResizeObserver;\n",
       "        }\n",
       "    }\n",
       "\n",
       "    this.resizeObserverInstance = new this.ResizeObserver(function (entries) {\n",
       "        var nentries = entries.length;\n",
       "        for (var i = 0; i < nentries; i++) {\n",
       "            var entry = entries[i];\n",
       "            var width, height;\n",
       "            if (entry.contentBoxSize) {\n",
       "                if (entry.contentBoxSize instanceof Array) {\n",
       "                    // Chrome 84 implements new version of spec.\n",
       "                    width = entry.contentBoxSize[0].inlineSize;\n",
       "                    height = entry.contentBoxSize[0].blockSize;\n",
       "                } else {\n",
       "                    // Firefox implements old version of spec.\n",
       "                    width = entry.contentBoxSize.inlineSize;\n",
       "                    height = entry.contentBoxSize.blockSize;\n",
       "                }\n",
       "            } else {\n",
       "                // Chrome <84 implements even older version of spec.\n",
       "                width = entry.contentRect.width;\n",
       "                height = entry.contentRect.height;\n",
       "            }\n",
       "\n",
       "            // Keep the size of the canvas and rubber band canvas in sync with\n",
       "            // the canvas container.\n",
       "            if (entry.devicePixelContentBoxSize) {\n",
       "                // Chrome 84 implements new version of spec.\n",
       "                canvas.setAttribute(\n",
       "                    'width',\n",
       "                    entry.devicePixelContentBoxSize[0].inlineSize\n",
       "                );\n",
       "                canvas.setAttribute(\n",
       "                    'height',\n",
       "                    entry.devicePixelContentBoxSize[0].blockSize\n",
       "                );\n",
       "            } else {\n",
       "                canvas.setAttribute('width', width * fig.ratio);\n",
       "                canvas.setAttribute('height', height * fig.ratio);\n",
       "            }\n",
       "            canvas.setAttribute(\n",
       "                'style',\n",
       "                'width: ' + width + 'px; height: ' + height + 'px;'\n",
       "            );\n",
       "\n",
       "            rubberband_canvas.setAttribute('width', width);\n",
       "            rubberband_canvas.setAttribute('height', height);\n",
       "\n",
       "            // And update the size in Python. We ignore the initial 0/0 size\n",
       "            // that occurs as the element is placed into the DOM, which should\n",
       "            // otherwise not happen due to the minimum size styling.\n",
       "            if (fig.ws.readyState == 1 && width != 0 && height != 0) {\n",
       "                fig.request_resize(width, height);\n",
       "            }\n",
       "        }\n",
       "    });\n",
       "    this.resizeObserverInstance.observe(canvas_div);\n",
       "\n",
       "    function on_mouse_event_closure(name) {\n",
       "        return function (event) {\n",
       "            return fig.mouse_event(event, name);\n",
       "        };\n",
       "    }\n",
       "\n",
       "    rubberband_canvas.addEventListener(\n",
       "        'mousedown',\n",
       "        on_mouse_event_closure('button_press')\n",
       "    );\n",
       "    rubberband_canvas.addEventListener(\n",
       "        'mouseup',\n",
       "        on_mouse_event_closure('button_release')\n",
       "    );\n",
       "    rubberband_canvas.addEventListener(\n",
       "        'dblclick',\n",
       "        on_mouse_event_closure('dblclick')\n",
       "    );\n",
       "    // Throttle sequential mouse events to 1 every 20ms.\n",
       "    rubberband_canvas.addEventListener(\n",
       "        'mousemove',\n",
       "        on_mouse_event_closure('motion_notify')\n",
       "    );\n",
       "\n",
       "    rubberband_canvas.addEventListener(\n",
       "        'mouseenter',\n",
       "        on_mouse_event_closure('figure_enter')\n",
       "    );\n",
       "    rubberband_canvas.addEventListener(\n",
       "        'mouseleave',\n",
       "        on_mouse_event_closure('figure_leave')\n",
       "    );\n",
       "\n",
       "    canvas_div.addEventListener('wheel', function (event) {\n",
       "        if (event.deltaY < 0) {\n",
       "            event.step = 1;\n",
       "        } else {\n",
       "            event.step = -1;\n",
       "        }\n",
       "        on_mouse_event_closure('scroll')(event);\n",
       "    });\n",
       "\n",
       "    canvas_div.appendChild(canvas);\n",
       "    canvas_div.appendChild(rubberband_canvas);\n",
       "\n",
       "    this.rubberband_context = rubberband_canvas.getContext('2d');\n",
       "    this.rubberband_context.strokeStyle = '#000000';\n",
       "\n",
       "    this._resize_canvas = function (width, height, forward) {\n",
       "        if (forward) {\n",
       "            canvas_div.style.width = width + 'px';\n",
       "            canvas_div.style.height = height + 'px';\n",
       "        }\n",
       "    };\n",
       "\n",
       "    // Disable right mouse context menu.\n",
       "    this.rubberband_canvas.addEventListener('contextmenu', function (_e) {\n",
       "        event.preventDefault();\n",
       "        return false;\n",
       "    });\n",
       "\n",
       "    function set_focus() {\n",
       "        canvas.focus();\n",
       "        canvas_div.focus();\n",
       "    }\n",
       "\n",
       "    window.setTimeout(set_focus, 100);\n",
       "};\n",
       "\n",
       "mpl.figure.prototype._init_toolbar = function () {\n",
       "    var fig = this;\n",
       "\n",
       "    var toolbar = document.createElement('div');\n",
       "    toolbar.classList = 'mpl-toolbar';\n",
       "    this.root.appendChild(toolbar);\n",
       "\n",
       "    function on_click_closure(name) {\n",
       "        return function (_event) {\n",
       "            return fig.toolbar_button_onclick(name);\n",
       "        };\n",
       "    }\n",
       "\n",
       "    function on_mouseover_closure(tooltip) {\n",
       "        return function (event) {\n",
       "            if (!event.currentTarget.disabled) {\n",
       "                return fig.toolbar_button_onmouseover(tooltip);\n",
       "            }\n",
       "        };\n",
       "    }\n",
       "\n",
       "    fig.buttons = {};\n",
       "    var buttonGroup = document.createElement('div');\n",
       "    buttonGroup.classList = 'mpl-button-group';\n",
       "    for (var toolbar_ind in mpl.toolbar_items) {\n",
       "        var name = mpl.toolbar_items[toolbar_ind][0];\n",
       "        var tooltip = mpl.toolbar_items[toolbar_ind][1];\n",
       "        var image = mpl.toolbar_items[toolbar_ind][2];\n",
       "        var method_name = mpl.toolbar_items[toolbar_ind][3];\n",
       "\n",
       "        if (!name) {\n",
       "            /* Instead of a spacer, we start a new button group. */\n",
       "            if (buttonGroup.hasChildNodes()) {\n",
       "                toolbar.appendChild(buttonGroup);\n",
       "            }\n",
       "            buttonGroup = document.createElement('div');\n",
       "            buttonGroup.classList = 'mpl-button-group';\n",
       "            continue;\n",
       "        }\n",
       "\n",
       "        var button = (fig.buttons[name] = document.createElement('button'));\n",
       "        button.classList = 'mpl-widget';\n",
       "        button.setAttribute('role', 'button');\n",
       "        button.setAttribute('aria-disabled', 'false');\n",
       "        button.addEventListener('click', on_click_closure(method_name));\n",
       "        button.addEventListener('mouseover', on_mouseover_closure(tooltip));\n",
       "\n",
       "        var icon_img = document.createElement('img');\n",
       "        icon_img.src = '_images/' + image + '.png';\n",
       "        icon_img.srcset = '_images/' + image + '_large.png 2x';\n",
       "        icon_img.alt = tooltip;\n",
       "        button.appendChild(icon_img);\n",
       "\n",
       "        buttonGroup.appendChild(button);\n",
       "    }\n",
       "\n",
       "    if (buttonGroup.hasChildNodes()) {\n",
       "        toolbar.appendChild(buttonGroup);\n",
       "    }\n",
       "\n",
       "    var fmt_picker = document.createElement('select');\n",
       "    fmt_picker.classList = 'mpl-widget';\n",
       "    toolbar.appendChild(fmt_picker);\n",
       "    this.format_dropdown = fmt_picker;\n",
       "\n",
       "    for (var ind in mpl.extensions) {\n",
       "        var fmt = mpl.extensions[ind];\n",
       "        var option = document.createElement('option');\n",
       "        option.selected = fmt === mpl.default_extension;\n",
       "        option.innerHTML = fmt;\n",
       "        fmt_picker.appendChild(option);\n",
       "    }\n",
       "\n",
       "    var status_bar = document.createElement('span');\n",
       "    status_bar.classList = 'mpl-message';\n",
       "    toolbar.appendChild(status_bar);\n",
       "    this.message = status_bar;\n",
       "};\n",
       "\n",
       "mpl.figure.prototype.request_resize = function (x_pixels, y_pixels) {\n",
       "    // Request matplotlib to resize the figure. Matplotlib will then trigger a resize in the client,\n",
       "    // which will in turn request a refresh of the image.\n",
       "    this.send_message('resize', { width: x_pixels, height: y_pixels });\n",
       "};\n",
       "\n",
       "mpl.figure.prototype.send_message = function (type, properties) {\n",
       "    properties['type'] = type;\n",
       "    properties['figure_id'] = this.id;\n",
       "    this.ws.send(JSON.stringify(properties));\n",
       "};\n",
       "\n",
       "mpl.figure.prototype.send_draw_message = function () {\n",
       "    if (!this.waiting) {\n",
       "        this.waiting = true;\n",
       "        this.ws.send(JSON.stringify({ type: 'draw', figure_id: this.id }));\n",
       "    }\n",
       "};\n",
       "\n",
       "mpl.figure.prototype.handle_save = function (fig, _msg) {\n",
       "    var format_dropdown = fig.format_dropdown;\n",
       "    var format = format_dropdown.options[format_dropdown.selectedIndex].value;\n",
       "    fig.ondownload(fig, format);\n",
       "};\n",
       "\n",
       "mpl.figure.prototype.handle_resize = function (fig, msg) {\n",
       "    var size = msg['size'];\n",
       "    if (size[0] !== fig.canvas.width || size[1] !== fig.canvas.height) {\n",
       "        fig._resize_canvas(size[0], size[1], msg['forward']);\n",
       "        fig.send_message('refresh', {});\n",
       "    }\n",
       "};\n",
       "\n",
       "mpl.figure.prototype.handle_rubberband = function (fig, msg) {\n",
       "    var x0 = msg['x0'] / fig.ratio;\n",
       "    var y0 = (fig.canvas.height - msg['y0']) / fig.ratio;\n",
       "    var x1 = msg['x1'] / fig.ratio;\n",
       "    var y1 = (fig.canvas.height - msg['y1']) / fig.ratio;\n",
       "    x0 = Math.floor(x0) + 0.5;\n",
       "    y0 = Math.floor(y0) + 0.5;\n",
       "    x1 = Math.floor(x1) + 0.5;\n",
       "    y1 = Math.floor(y1) + 0.5;\n",
       "    var min_x = Math.min(x0, x1);\n",
       "    var min_y = Math.min(y0, y1);\n",
       "    var width = Math.abs(x1 - x0);\n",
       "    var height = Math.abs(y1 - y0);\n",
       "\n",
       "    fig.rubberband_context.clearRect(\n",
       "        0,\n",
       "        0,\n",
       "        fig.canvas.width / fig.ratio,\n",
       "        fig.canvas.height / fig.ratio\n",
       "    );\n",
       "\n",
       "    fig.rubberband_context.strokeRect(min_x, min_y, width, height);\n",
       "};\n",
       "\n",
       "mpl.figure.prototype.handle_figure_label = function (fig, msg) {\n",
       "    // Updates the figure title.\n",
       "    fig.header.textContent = msg['label'];\n",
       "};\n",
       "\n",
       "mpl.figure.prototype.handle_cursor = function (fig, msg) {\n",
       "    var cursor = msg['cursor'];\n",
       "    switch (cursor) {\n",
       "        case 0:\n",
       "            cursor = 'pointer';\n",
       "            break;\n",
       "        case 1:\n",
       "            cursor = 'default';\n",
       "            break;\n",
       "        case 2:\n",
       "            cursor = 'crosshair';\n",
       "            break;\n",
       "        case 3:\n",
       "            cursor = 'move';\n",
       "            break;\n",
       "    }\n",
       "    fig.rubberband_canvas.style.cursor = cursor;\n",
       "};\n",
       "\n",
       "mpl.figure.prototype.handle_message = function (fig, msg) {\n",
       "    fig.message.textContent = msg['message'];\n",
       "};\n",
       "\n",
       "mpl.figure.prototype.handle_draw = function (fig, _msg) {\n",
       "    // Request the server to send over a new figure.\n",
       "    fig.send_draw_message();\n",
       "};\n",
       "\n",
       "mpl.figure.prototype.handle_image_mode = function (fig, msg) {\n",
       "    fig.image_mode = msg['mode'];\n",
       "};\n",
       "\n",
       "mpl.figure.prototype.handle_history_buttons = function (fig, msg) {\n",
       "    for (var key in msg) {\n",
       "        if (!(key in fig.buttons)) {\n",
       "            continue;\n",
       "        }\n",
       "        fig.buttons[key].disabled = !msg[key];\n",
       "        fig.buttons[key].setAttribute('aria-disabled', !msg[key]);\n",
       "    }\n",
       "};\n",
       "\n",
       "mpl.figure.prototype.handle_navigate_mode = function (fig, msg) {\n",
       "    if (msg['mode'] === 'PAN') {\n",
       "        fig.buttons['Pan'].classList.add('active');\n",
       "        fig.buttons['Zoom'].classList.remove('active');\n",
       "    } else if (msg['mode'] === 'ZOOM') {\n",
       "        fig.buttons['Pan'].classList.remove('active');\n",
       "        fig.buttons['Zoom'].classList.add('active');\n",
       "    } else {\n",
       "        fig.buttons['Pan'].classList.remove('active');\n",
       "        fig.buttons['Zoom'].classList.remove('active');\n",
       "    }\n",
       "};\n",
       "\n",
       "mpl.figure.prototype.updated_canvas_event = function () {\n",
       "    // Called whenever the canvas gets updated.\n",
       "    this.send_message('ack', {});\n",
       "};\n",
       "\n",
       "// A function to construct a web socket function for onmessage handling.\n",
       "// Called in the figure constructor.\n",
       "mpl.figure.prototype._make_on_message_function = function (fig) {\n",
       "    return function socket_on_message(evt) {\n",
       "        if (evt.data instanceof Blob) {\n",
       "            var img = evt.data;\n",
       "            if (img.type !== 'image/png') {\n",
       "                /* FIXME: We get \"Resource interpreted as Image but\n",
       "                 * transferred with MIME type text/plain:\" errors on\n",
       "                 * Chrome.  But how to set the MIME type?  It doesn't seem\n",
       "                 * to be part of the websocket stream */\n",
       "                img.type = 'image/png';\n",
       "            }\n",
       "\n",
       "            /* Free the memory for the previous frames */\n",
       "            if (fig.imageObj.src) {\n",
       "                (window.URL || window.webkitURL).revokeObjectURL(\n",
       "                    fig.imageObj.src\n",
       "                );\n",
       "            }\n",
       "\n",
       "            fig.imageObj.src = (window.URL || window.webkitURL).createObjectURL(\n",
       "                img\n",
       "            );\n",
       "            fig.updated_canvas_event();\n",
       "            fig.waiting = false;\n",
       "            return;\n",
       "        } else if (\n",
       "            typeof evt.data === 'string' &&\n",
       "            evt.data.slice(0, 21) === 'data:image/png;base64'\n",
       "        ) {\n",
       "            fig.imageObj.src = evt.data;\n",
       "            fig.updated_canvas_event();\n",
       "            fig.waiting = false;\n",
       "            return;\n",
       "        }\n",
       "\n",
       "        var msg = JSON.parse(evt.data);\n",
       "        var msg_type = msg['type'];\n",
       "\n",
       "        // Call the  \"handle_{type}\" callback, which takes\n",
       "        // the figure and JSON message as its only arguments.\n",
       "        try {\n",
       "            var callback = fig['handle_' + msg_type];\n",
       "        } catch (e) {\n",
       "            console.log(\n",
       "                \"No handler for the '\" + msg_type + \"' message type: \",\n",
       "                msg\n",
       "            );\n",
       "            return;\n",
       "        }\n",
       "\n",
       "        if (callback) {\n",
       "            try {\n",
       "                // console.log(\"Handling '\" + msg_type + \"' message: \", msg);\n",
       "                callback(fig, msg);\n",
       "            } catch (e) {\n",
       "                console.log(\n",
       "                    \"Exception inside the 'handler_\" + msg_type + \"' callback:\",\n",
       "                    e,\n",
       "                    e.stack,\n",
       "                    msg\n",
       "                );\n",
       "            }\n",
       "        }\n",
       "    };\n",
       "};\n",
       "\n",
       "// from http://stackoverflow.com/questions/1114465/getting-mouse-location-in-canvas\n",
       "mpl.findpos = function (e) {\n",
       "    //this section is from http://www.quirksmode.org/js/events_properties.html\n",
       "    var targ;\n",
       "    if (!e) {\n",
       "        e = window.event;\n",
       "    }\n",
       "    if (e.target) {\n",
       "        targ = e.target;\n",
       "    } else if (e.srcElement) {\n",
       "        targ = e.srcElement;\n",
       "    }\n",
       "    if (targ.nodeType === 3) {\n",
       "        // defeat Safari bug\n",
       "        targ = targ.parentNode;\n",
       "    }\n",
       "\n",
       "    // pageX,Y are the mouse positions relative to the document\n",
       "    var boundingRect = targ.getBoundingClientRect();\n",
       "    var x = e.pageX - (boundingRect.left + document.body.scrollLeft);\n",
       "    var y = e.pageY - (boundingRect.top + document.body.scrollTop);\n",
       "\n",
       "    return { x: x, y: y };\n",
       "};\n",
       "\n",
       "/*\n",
       " * return a copy of an object with only non-object keys\n",
       " * we need this to avoid circular references\n",
       " * http://stackoverflow.com/a/24161582/3208463\n",
       " */\n",
       "function simpleKeys(original) {\n",
       "    return Object.keys(original).reduce(function (obj, key) {\n",
       "        if (typeof original[key] !== 'object') {\n",
       "            obj[key] = original[key];\n",
       "        }\n",
       "        return obj;\n",
       "    }, {});\n",
       "}\n",
       "\n",
       "mpl.figure.prototype.mouse_event = function (event, name) {\n",
       "    var canvas_pos = mpl.findpos(event);\n",
       "\n",
       "    if (name === 'button_press') {\n",
       "        this.canvas.focus();\n",
       "        this.canvas_div.focus();\n",
       "    }\n",
       "\n",
       "    var x = canvas_pos.x * this.ratio;\n",
       "    var y = canvas_pos.y * this.ratio;\n",
       "\n",
       "    this.send_message(name, {\n",
       "        x: x,\n",
       "        y: y,\n",
       "        button: event.button,\n",
       "        step: event.step,\n",
       "        guiEvent: simpleKeys(event),\n",
       "    });\n",
       "\n",
       "    /* This prevents the web browser from automatically changing to\n",
       "     * the text insertion cursor when the button is pressed.  We want\n",
       "     * to control all of the cursor setting manually through the\n",
       "     * 'cursor' event from matplotlib */\n",
       "    event.preventDefault();\n",
       "    return false;\n",
       "};\n",
       "\n",
       "mpl.figure.prototype._key_event_extra = function (_event, _name) {\n",
       "    // Handle any extra behaviour associated with a key event\n",
       "};\n",
       "\n",
       "mpl.figure.prototype.key_event = function (event, name) {\n",
       "    // Prevent repeat events\n",
       "    if (name === 'key_press') {\n",
       "        if (event.key === this._key) {\n",
       "            return;\n",
       "        } else {\n",
       "            this._key = event.key;\n",
       "        }\n",
       "    }\n",
       "    if (name === 'key_release') {\n",
       "        this._key = null;\n",
       "    }\n",
       "\n",
       "    var value = '';\n",
       "    if (event.ctrlKey && event.key !== 'Control') {\n",
       "        value += 'ctrl+';\n",
       "    }\n",
       "    else if (event.altKey && event.key !== 'Alt') {\n",
       "        value += 'alt+';\n",
       "    }\n",
       "    else if (event.shiftKey && event.key !== 'Shift') {\n",
       "        value += 'shift+';\n",
       "    }\n",
       "\n",
       "    value += 'k' + event.key;\n",
       "\n",
       "    this._key_event_extra(event, name);\n",
       "\n",
       "    this.send_message(name, { key: value, guiEvent: simpleKeys(event) });\n",
       "    return false;\n",
       "};\n",
       "\n",
       "mpl.figure.prototype.toolbar_button_onclick = function (name) {\n",
       "    if (name === 'download') {\n",
       "        this.handle_save(this, null);\n",
       "    } else {\n",
       "        this.send_message('toolbar_button', { name: name });\n",
       "    }\n",
       "};\n",
       "\n",
       "mpl.figure.prototype.toolbar_button_onmouseover = function (tooltip) {\n",
       "    this.message.textContent = tooltip;\n",
       "};\n",
       "\n",
       "///////////////// REMAINING CONTENT GENERATED BY embed_js.py /////////////////\n",
       "// prettier-ignore\n",
       "var _JSXTOOLS_RESIZE_OBSERVER=function(A){var t,i=new WeakMap,n=new WeakMap,a=new WeakMap,r=new WeakMap,o=new Set;function s(e){if(!(this instanceof s))throw new TypeError(\"Constructor requires 'new' operator\");i.set(this,e)}function h(){throw new TypeError(\"Function is not a constructor\")}function c(e,t,i,n){e=0 in arguments?Number(arguments[0]):0,t=1 in arguments?Number(arguments[1]):0,i=2 in arguments?Number(arguments[2]):0,n=3 in arguments?Number(arguments[3]):0,this.right=(this.x=this.left=e)+(this.width=i),this.bottom=(this.y=this.top=t)+(this.height=n),Object.freeze(this)}function d(){t=requestAnimationFrame(d);var s=new WeakMap,p=new Set;o.forEach((function(t){r.get(t).forEach((function(i){var r=t instanceof window.SVGElement,o=a.get(t),d=r?0:parseFloat(o.paddingTop),f=r?0:parseFloat(o.paddingRight),l=r?0:parseFloat(o.paddingBottom),u=r?0:parseFloat(o.paddingLeft),g=r?0:parseFloat(o.borderTopWidth),m=r?0:parseFloat(o.borderRightWidth),w=r?0:parseFloat(o.borderBottomWidth),b=u+f,F=d+l,v=(r?0:parseFloat(o.borderLeftWidth))+m,W=g+w,y=r?0:t.offsetHeight-W-t.clientHeight,E=r?0:t.offsetWidth-v-t.clientWidth,R=b+v,z=F+W,M=r?t.width:parseFloat(o.width)-R-E,O=r?t.height:parseFloat(o.height)-z-y;if(n.has(t)){var k=n.get(t);if(k[0]===M&&k[1]===O)return}n.set(t,[M,O]);var S=Object.create(h.prototype);S.target=t,S.contentRect=new c(u,d,M,O),s.has(i)||(s.set(i,[]),p.add(i)),s.get(i).push(S)}))})),p.forEach((function(e){i.get(e).call(e,s.get(e),e)}))}return s.prototype.observe=function(i){if(i instanceof window.Element){r.has(i)||(r.set(i,new Set),o.add(i),a.set(i,window.getComputedStyle(i)));var n=r.get(i);n.has(this)||n.add(this),cancelAnimationFrame(t),t=requestAnimationFrame(d)}},s.prototype.unobserve=function(i){if(i instanceof window.Element&&r.has(i)){var n=r.get(i);n.has(this)&&(n.delete(this),n.size||(r.delete(i),o.delete(i))),n.size||r.delete(i),o.size||cancelAnimationFrame(t)}},A.DOMRectReadOnly=c,A.ResizeObserver=s,A.ResizeObserverEntry=h,A}; // eslint-disable-line\n",
       "mpl.toolbar_items = [[\"Home\", \"Reset original view\", \"fa fa-home icon-home\", \"home\"], [\"Back\", \"Back to previous view\", \"fa fa-arrow-left icon-arrow-left\", \"back\"], [\"Forward\", \"Forward to next view\", \"fa fa-arrow-right icon-arrow-right\", \"forward\"], [\"\", \"\", \"\", \"\"], [\"Pan\", \"Left button pans, Right button zooms\\nx/y fixes axis, CTRL fixes aspect\", \"fa fa-arrows icon-move\", \"pan\"], [\"Zoom\", \"Zoom to rectangle\\nx/y fixes axis, CTRL fixes aspect\", \"fa fa-square-o icon-check-empty\", \"zoom\"], [\"\", \"\", \"\", \"\"], [\"Download\", \"Download plot\", \"fa fa-floppy-o icon-save\", \"download\"]];\n",
       "\n",
       "mpl.extensions = [\"eps\", \"jpeg\", \"pgf\", \"pdf\", \"png\", \"ps\", \"raw\", \"svg\", \"tif\"];\n",
       "\n",
       "mpl.default_extension = \"png\";/* global mpl */\n",
       "\n",
       "var comm_websocket_adapter = function (comm) {\n",
       "    // Create a \"websocket\"-like object which calls the given IPython comm\n",
       "    // object with the appropriate methods. Currently this is a non binary\n",
       "    // socket, so there is still some room for performance tuning.\n",
       "    var ws = {};\n",
       "\n",
       "    ws.binaryType = comm.kernel.ws.binaryType;\n",
       "    ws.readyState = comm.kernel.ws.readyState;\n",
       "    function updateReadyState(_event) {\n",
       "        if (comm.kernel.ws) {\n",
       "            ws.readyState = comm.kernel.ws.readyState;\n",
       "        } else {\n",
       "            ws.readyState = 3; // Closed state.\n",
       "        }\n",
       "    }\n",
       "    comm.kernel.ws.addEventListener('open', updateReadyState);\n",
       "    comm.kernel.ws.addEventListener('close', updateReadyState);\n",
       "    comm.kernel.ws.addEventListener('error', updateReadyState);\n",
       "\n",
       "    ws.close = function () {\n",
       "        comm.close();\n",
       "    };\n",
       "    ws.send = function (m) {\n",
       "        //console.log('sending', m);\n",
       "        comm.send(m);\n",
       "    };\n",
       "    // Register the callback with on_msg.\n",
       "    comm.on_msg(function (msg) {\n",
       "        //console.log('receiving', msg['content']['data'], msg);\n",
       "        var data = msg['content']['data'];\n",
       "        if (data['blob'] !== undefined) {\n",
       "            data = {\n",
       "                data: new Blob(msg['buffers'], { type: data['blob'] }),\n",
       "            };\n",
       "        }\n",
       "        // Pass the mpl event to the overridden (by mpl) onmessage function.\n",
       "        ws.onmessage(data);\n",
       "    });\n",
       "    return ws;\n",
       "};\n",
       "\n",
       "mpl.mpl_figure_comm = function (comm, msg) {\n",
       "    // This is the function which gets called when the mpl process\n",
       "    // starts-up an IPython Comm through the \"matplotlib\" channel.\n",
       "\n",
       "    var id = msg.content.data.id;\n",
       "    // Get hold of the div created by the display call when the Comm\n",
       "    // socket was opened in Python.\n",
       "    var element = document.getElementById(id);\n",
       "    var ws_proxy = comm_websocket_adapter(comm);\n",
       "\n",
       "    function ondownload(figure, _format) {\n",
       "        window.open(figure.canvas.toDataURL());\n",
       "    }\n",
       "\n",
       "    var fig = new mpl.figure(id, ws_proxy, ondownload, element);\n",
       "\n",
       "    // Call onopen now - mpl needs it, as it is assuming we've passed it a real\n",
       "    // web socket which is closed, not our websocket->open comm proxy.\n",
       "    ws_proxy.onopen();\n",
       "\n",
       "    fig.parent_element = element;\n",
       "    fig.cell_info = mpl.find_output_cell(\"<div id='\" + id + \"'></div>\");\n",
       "    if (!fig.cell_info) {\n",
       "        console.error('Failed to find cell for figure', id, fig);\n",
       "        return;\n",
       "    }\n",
       "    fig.cell_info[0].output_area.element.on(\n",
       "        'cleared',\n",
       "        { fig: fig },\n",
       "        fig._remove_fig_handler\n",
       "    );\n",
       "};\n",
       "\n",
       "mpl.figure.prototype.handle_close = function (fig, msg) {\n",
       "    var width = fig.canvas.width / fig.ratio;\n",
       "    fig.cell_info[0].output_area.element.off(\n",
       "        'cleared',\n",
       "        fig._remove_fig_handler\n",
       "    );\n",
       "    fig.resizeObserverInstance.unobserve(fig.canvas_div);\n",
       "\n",
       "    // Update the output cell to use the data from the current canvas.\n",
       "    fig.push_to_output();\n",
       "    var dataURL = fig.canvas.toDataURL();\n",
       "    // Re-enable the keyboard manager in IPython - without this line, in FF,\n",
       "    // the notebook keyboard shortcuts fail.\n",
       "    IPython.keyboard_manager.enable();\n",
       "    fig.parent_element.innerHTML =\n",
       "        '<img src=\"' + dataURL + '\" width=\"' + width + '\">';\n",
       "    fig.close_ws(fig, msg);\n",
       "};\n",
       "\n",
       "mpl.figure.prototype.close_ws = function (fig, msg) {\n",
       "    fig.send_message('closing', msg);\n",
       "    // fig.ws.close()\n",
       "};\n",
       "\n",
       "mpl.figure.prototype.push_to_output = function (_remove_interactive) {\n",
       "    // Turn the data on the canvas into data in the output cell.\n",
       "    var width = this.canvas.width / this.ratio;\n",
       "    var dataURL = this.canvas.toDataURL();\n",
       "    this.cell_info[1]['text/html'] =\n",
       "        '<img src=\"' + dataURL + '\" width=\"' + width + '\">';\n",
       "};\n",
       "\n",
       "mpl.figure.prototype.updated_canvas_event = function () {\n",
       "    // Tell IPython that the notebook contents must change.\n",
       "    IPython.notebook.set_dirty(true);\n",
       "    this.send_message('ack', {});\n",
       "    var fig = this;\n",
       "    // Wait a second, then push the new image to the DOM so\n",
       "    // that it is saved nicely (might be nice to debounce this).\n",
       "    setTimeout(function () {\n",
       "        fig.push_to_output();\n",
       "    }, 1000);\n",
       "};\n",
       "\n",
       "mpl.figure.prototype._init_toolbar = function () {\n",
       "    var fig = this;\n",
       "\n",
       "    var toolbar = document.createElement('div');\n",
       "    toolbar.classList = 'btn-toolbar';\n",
       "    this.root.appendChild(toolbar);\n",
       "\n",
       "    function on_click_closure(name) {\n",
       "        return function (_event) {\n",
       "            return fig.toolbar_button_onclick(name);\n",
       "        };\n",
       "    }\n",
       "\n",
       "    function on_mouseover_closure(tooltip) {\n",
       "        return function (event) {\n",
       "            if (!event.currentTarget.disabled) {\n",
       "                return fig.toolbar_button_onmouseover(tooltip);\n",
       "            }\n",
       "        };\n",
       "    }\n",
       "\n",
       "    fig.buttons = {};\n",
       "    var buttonGroup = document.createElement('div');\n",
       "    buttonGroup.classList = 'btn-group';\n",
       "    var button;\n",
       "    for (var toolbar_ind in mpl.toolbar_items) {\n",
       "        var name = mpl.toolbar_items[toolbar_ind][0];\n",
       "        var tooltip = mpl.toolbar_items[toolbar_ind][1];\n",
       "        var image = mpl.toolbar_items[toolbar_ind][2];\n",
       "        var method_name = mpl.toolbar_items[toolbar_ind][3];\n",
       "\n",
       "        if (!name) {\n",
       "            /* Instead of a spacer, we start a new button group. */\n",
       "            if (buttonGroup.hasChildNodes()) {\n",
       "                toolbar.appendChild(buttonGroup);\n",
       "            }\n",
       "            buttonGroup = document.createElement('div');\n",
       "            buttonGroup.classList = 'btn-group';\n",
       "            continue;\n",
       "        }\n",
       "\n",
       "        button = fig.buttons[name] = document.createElement('button');\n",
       "        button.classList = 'btn btn-default';\n",
       "        button.href = '#';\n",
       "        button.title = name;\n",
       "        button.innerHTML = '<i class=\"fa ' + image + ' fa-lg\"></i>';\n",
       "        button.addEventListener('click', on_click_closure(method_name));\n",
       "        button.addEventListener('mouseover', on_mouseover_closure(tooltip));\n",
       "        buttonGroup.appendChild(button);\n",
       "    }\n",
       "\n",
       "    if (buttonGroup.hasChildNodes()) {\n",
       "        toolbar.appendChild(buttonGroup);\n",
       "    }\n",
       "\n",
       "    // Add the status bar.\n",
       "    var status_bar = document.createElement('span');\n",
       "    status_bar.classList = 'mpl-message pull-right';\n",
       "    toolbar.appendChild(status_bar);\n",
       "    this.message = status_bar;\n",
       "\n",
       "    // Add the close button to the window.\n",
       "    var buttongrp = document.createElement('div');\n",
       "    buttongrp.classList = 'btn-group inline pull-right';\n",
       "    button = document.createElement('button');\n",
       "    button.classList = 'btn btn-mini btn-primary';\n",
       "    button.href = '#';\n",
       "    button.title = 'Stop Interaction';\n",
       "    button.innerHTML = '<i class=\"fa fa-power-off icon-remove icon-large\"></i>';\n",
       "    button.addEventListener('click', function (_evt) {\n",
       "        fig.handle_close(fig, {});\n",
       "    });\n",
       "    button.addEventListener(\n",
       "        'mouseover',\n",
       "        on_mouseover_closure('Stop Interaction')\n",
       "    );\n",
       "    buttongrp.appendChild(button);\n",
       "    var titlebar = this.root.querySelector('.ui-dialog-titlebar');\n",
       "    titlebar.insertBefore(buttongrp, titlebar.firstChild);\n",
       "};\n",
       "\n",
       "mpl.figure.prototype._remove_fig_handler = function (event) {\n",
       "    var fig = event.data.fig;\n",
       "    if (event.target !== this) {\n",
       "        // Ignore bubbled events from children.\n",
       "        return;\n",
       "    }\n",
       "    fig.close_ws(fig, {});\n",
       "};\n",
       "\n",
       "mpl.figure.prototype._root_extra_style = function (el) {\n",
       "    el.style.boxSizing = 'content-box'; // override notebook setting of border-box.\n",
       "};\n",
       "\n",
       "mpl.figure.prototype._canvas_extra_style = function (el) {\n",
       "    // this is important to make the div 'focusable\n",
       "    el.setAttribute('tabindex', 0);\n",
       "    // reach out to IPython and tell the keyboard manager to turn it's self\n",
       "    // off when our div gets focus\n",
       "\n",
       "    // location in version 3\n",
       "    if (IPython.notebook.keyboard_manager) {\n",
       "        IPython.notebook.keyboard_manager.register_events(el);\n",
       "    } else {\n",
       "        // location in version 2\n",
       "        IPython.keyboard_manager.register_events(el);\n",
       "    }\n",
       "};\n",
       "\n",
       "mpl.figure.prototype._key_event_extra = function (event, _name) {\n",
       "    var manager = IPython.notebook.keyboard_manager;\n",
       "    if (!manager) {\n",
       "        manager = IPython.keyboard_manager;\n",
       "    }\n",
       "\n",
       "    // Check for shift+enter\n",
       "    if (event.shiftKey && event.which === 13) {\n",
       "        this.canvas_div.blur();\n",
       "        // select the cell after this one\n",
       "        var index = IPython.notebook.find_cell_index(this.cell_info[0]);\n",
       "        IPython.notebook.select(index + 1);\n",
       "    }\n",
       "};\n",
       "\n",
       "mpl.figure.prototype.handle_save = function (fig, _msg) {\n",
       "    fig.ondownload(fig, null);\n",
       "};\n",
       "\n",
       "mpl.find_output_cell = function (html_output) {\n",
       "    // Return the cell and output element which can be found *uniquely* in the notebook.\n",
       "    // Note - this is a bit hacky, but it is done because the \"notebook_saving.Notebook\"\n",
       "    // IPython event is triggered only after the cells have been serialised, which for\n",
       "    // our purposes (turning an active figure into a static one), is too late.\n",
       "    var cells = IPython.notebook.get_cells();\n",
       "    var ncells = cells.length;\n",
       "    for (var i = 0; i < ncells; i++) {\n",
       "        var cell = cells[i];\n",
       "        if (cell.cell_type === 'code') {\n",
       "            for (var j = 0; j < cell.output_area.outputs.length; j++) {\n",
       "                var data = cell.output_area.outputs[j];\n",
       "                if (data.data) {\n",
       "                    // IPython >= 3 moved mimebundle to data attribute of output\n",
       "                    data = data.data;\n",
       "                }\n",
       "                if (data['text/html'] === html_output) {\n",
       "                    return [cell, data, j];\n",
       "                }\n",
       "            }\n",
       "        }\n",
       "    }\n",
       "};\n",
       "\n",
       "// Register the function which deals with the matplotlib target/channel.\n",
       "// The kernel may be null if the page has been refreshed.\n",
       "if (IPython.notebook.kernel !== null) {\n",
       "    IPython.notebook.kernel.comm_manager.register_target(\n",
       "        'matplotlib',\n",
       "        mpl.mpl_figure_comm\n",
       "    );\n",
       "}\n"
      ],
      "text/plain": [
       "<IPython.core.display.Javascript object>"
      ]
     },
     "metadata": {},
     "output_type": "display_data"
    },
    {
     "data": {
      "text/html": [
       "<img src=\"data:image/png;base64,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\" width=\"800\">"
      ],
      "text/plain": [
       "<IPython.core.display.HTML object>"
      ]
     },
     "metadata": {},
     "output_type": "display_data"
    },
    {
     "data": {
      "text/plain": [
       "<AxesSubplot:title={'center':'Row and column principal coordinates'}, xlabel='Component 0 (25.07% inertia)', ylabel='Component 1 (24.57% inertia)'>"
      ]
     },
     "execution_count": 48,
     "metadata": {},
     "output_type": "execute_result"
    }
   ],
   "source": [
    "#The result is like the PCA or CA result, two principal components with SVD result as the values. Just like previous techniques, we could plot the coordinates into a two-dimension graph.\n",
    "mca.column_coordinates(df)\n",
    "mca.plot_coordinates(X =df,figsize=(8,8),show_row_points=True,show_row_labels=True, \n",
    "                     show_column_points=False, show_column_labels=False,\n",
    "                    row_points_size=30, column_points_size=30)"
   ]
  },
  {
   "cell_type": "code",
   "execution_count": 49,
   "metadata": {},
   "outputs": [
    {
     "data": {
      "text/html": [
       "<div>\n",
       "<style scoped>\n",
       "    .dataframe tbody tr th:only-of-type {\n",
       "        vertical-align: middle;\n",
       "    }\n",
       "\n",
       "    .dataframe tbody tr th {\n",
       "        vertical-align: top;\n",
       "    }\n",
       "\n",
       "    .dataframe thead th {\n",
       "        text-align: right;\n",
       "    }\n",
       "</style>\n",
       "<table border=\"1\" class=\"dataframe\">\n",
       "  <thead>\n",
       "    <tr style=\"text-align: right;\">\n",
       "      <th></th>\n",
       "      <th>0</th>\n",
       "      <th>1</th>\n",
       "      <th>2</th>\n",
       "    </tr>\n",
       "  </thead>\n",
       "  <tbody>\n",
       "    <tr>\n",
       "      <th>ehrbase</th>\n",
       "      <td>0.628957</td>\n",
       "      <td>-0.917486</td>\n",
       "      <td>0.266266</td>\n",
       "    </tr>\n",
       "    <tr>\n",
       "      <th>better</th>\n",
       "      <td>-0.392563</td>\n",
       "      <td>-0.661731</td>\n",
       "      <td>0.041546</td>\n",
       "    </tr>\n",
       "    <tr>\n",
       "      <th>base24</th>\n",
       "      <td>0.388522</td>\n",
       "      <td>0.435298</td>\n",
       "      <td>-0.609247</td>\n",
       "    </tr>\n",
       "    <tr>\n",
       "      <th>cabo</th>\n",
       "      <td>1.370367</td>\n",
       "      <td>0.138403</td>\n",
       "      <td>-0.692881</td>\n",
       "    </tr>\n",
       "    <tr>\n",
       "      <th>arenaehr</th>\n",
       "      <td>-0.235177</td>\n",
       "      <td>-0.762888</td>\n",
       "      <td>0.312903</td>\n",
       "    </tr>\n",
       "    <tr>\n",
       "      <th>eweave</th>\n",
       "      <td>0.223511</td>\n",
       "      <td>1.250406</td>\n",
       "      <td>0.923622</td>\n",
       "    </tr>\n",
       "    <tr>\n",
       "      <th>ehrcare</th>\n",
       "      <td>-0.143729</td>\n",
       "      <td>0.140027</td>\n",
       "      <td>0.626195</td>\n",
       "    </tr>\n",
       "    <tr>\n",
       "      <th>clever</th>\n",
       "      <td>-0.926200</td>\n",
       "      <td>0.176870</td>\n",
       "      <td>-0.738019</td>\n",
       "    </tr>\n",
       "    <tr>\n",
       "      <th>ehrdb</th>\n",
       "      <td>-0.412399</td>\n",
       "      <td>-0.581180</td>\n",
       "      <td>0.052053</td>\n",
       "    </tr>\n",
       "    <tr>\n",
       "      <th>rhp</th>\n",
       "      <td>-0.857878</td>\n",
       "      <td>0.687608</td>\n",
       "      <td>-0.325382</td>\n",
       "    </tr>\n",
       "    <tr>\n",
       "      <th>ehrn</th>\n",
       "      <td>0.356589</td>\n",
       "      <td>0.094672</td>\n",
       "      <td>0.142945</td>\n",
       "    </tr>\n",
       "  </tbody>\n",
       "</table>\n",
       "</div>"
      ],
      "text/plain": [
       "                 0         1         2\n",
       "ehrbase   0.628957 -0.917486  0.266266\n",
       "better   -0.392563 -0.661731  0.041546\n",
       "base24    0.388522  0.435298 -0.609247\n",
       "cabo      1.370367  0.138403 -0.692881\n",
       "arenaehr -0.235177 -0.762888  0.312903\n",
       "eweave    0.223511  1.250406  0.923622\n",
       "ehrcare  -0.143729  0.140027  0.626195\n",
       "clever   -0.926200  0.176870 -0.738019\n",
       "ehrdb    -0.412399 -0.581180  0.052053\n",
       "rhp      -0.857878  0.687608 -0.325382\n",
       "ehrn      0.356589  0.094672  0.142945"
      ]
     },
     "execution_count": 49,
     "metadata": {},
     "output_type": "execute_result"
    }
   ],
   "source": [
    "mca = MCA(n_components = 3, n_iter = 3, random_state = 101)\n",
    "mca.fit(df)\n",
    "df_mca = mca.transform(df)\n",
    "df_mca"
   ]
  },
  {
   "cell_type": "code",
   "execution_count": 50,
   "metadata": {},
   "outputs": [
    {
     "name": "stdout",
     "output_type": "stream",
     "text": [
      "0.26626594721708613\n",
      "ehrbase\n"
     ]
    }
   ],
   "source": [
    "print(df_mca.iloc[0,2])\n",
    "index=df_mca.index\n",
    "print(index[0])"
   ]
  },
  {
   "cell_type": "code",
   "execution_count": 51,
   "metadata": {},
   "outputs": [
    {
     "data": {
      "text/plain": [
       "[0.2506635443805253, 0.24568624097646857, 0.16040091096271009]"
      ]
     },
     "execution_count": 51,
     "metadata": {},
     "output_type": "execute_result"
    }
   ],
   "source": [
    "mca.explained_inertia_ #variance explained"
   ]
  },
  {
   "cell_type": "code",
   "execution_count": 52,
   "metadata": {},
   "outputs": [
    {
     "data": {
      "text/plain": [
       "65.7"
      ]
     },
     "execution_count": 52,
     "metadata": {},
     "output_type": "execute_result"
    }
   ],
   "source": [
    "round(sum(mca.explained_inertia_)*100,1)"
   ]
  },
  {
   "cell_type": "code",
   "execution_count": 53,
   "metadata": {},
   "outputs": [
    {
     "data": {
      "text/plain": [
       "[0.4177725739675422, 0.4094770682941143, 0.2673348516045168]"
      ]
     },
     "execution_count": 53,
     "metadata": {},
     "output_type": "execute_result"
    }
   ],
   "source": [
    " mca.eigenvalues_"
   ]
  },
  {
   "cell_type": "code",
   "execution_count": 54,
   "metadata": {},
   "outputs": [
    {
     "data": {
      "text/html": [
       "<div>\n",
       "<style scoped>\n",
       "    .dataframe tbody tr th:only-of-type {\n",
       "        vertical-align: middle;\n",
       "    }\n",
       "\n",
       "    .dataframe tbody tr th {\n",
       "        vertical-align: top;\n",
       "    }\n",
       "\n",
       "    .dataframe thead th {\n",
       "        text-align: right;\n",
       "    }\n",
       "</style>\n",
       "<table border=\"1\" class=\"dataframe\">\n",
       "  <thead>\n",
       "    <tr style=\"text-align: right;\">\n",
       "      <th></th>\n",
       "      <th>0</th>\n",
       "      <th>1</th>\n",
       "      <th>2</th>\n",
       "    </tr>\n",
       "  </thead>\n",
       "  <tbody>\n",
       "    <tr>\n",
       "      <th>free_paid_free</th>\n",
       "      <td>1.546618</td>\n",
       "      <td>-0.608750</td>\n",
       "      <td>-0.412552</td>\n",
       "    </tr>\n",
       "    <tr>\n",
       "      <th>free_paid_paid</th>\n",
       "      <td>-0.343693</td>\n",
       "      <td>0.135278</td>\n",
       "      <td>0.091678</td>\n",
       "    </tr>\n",
       "    <tr>\n",
       "      <th>api_gui_both_api</th>\n",
       "      <td>0.234640</td>\n",
       "      <td>-0.564801</td>\n",
       "      <td>0.651931</td>\n",
       "    </tr>\n",
       "    <tr>\n",
       "      <th>api_gui_both_both</th>\n",
       "      <td>-0.680902</td>\n",
       "      <td>0.017773</td>\n",
       "      <td>-0.610798</td>\n",
       "    </tr>\n",
       "    <tr>\n",
       "      <th>api_gui_both_gui</th>\n",
       "      <td>1.232977</td>\n",
       "      <td>1.085169</td>\n",
       "      <td>0.223134</td>\n",
       "    </tr>\n",
       "    <tr>\n",
       "      <th>aql_sql_both_other_aql</th>\n",
       "      <td>-0.171705</td>\n",
       "      <td>-0.869898</td>\n",
       "      <td>0.502457</td>\n",
       "    </tr>\n",
       "    <tr>\n",
       "      <th>aql_sql_both_other_both</th>\n",
       "      <td>0.448749</td>\n",
       "      <td>1.050999</td>\n",
       "      <td>1.031407</td>\n",
       "    </tr>\n",
       "    <tr>\n",
       "      <th>aql_sql_both_other_other</th>\n",
       "      <td>1.360624</td>\n",
       "      <td>0.448271</td>\n",
       "      <td>-1.259204</td>\n",
       "    </tr>\n",
       "    <tr>\n",
       "      <th>aql_sql_both_other_sql</th>\n",
       "      <td>-1.380110</td>\n",
       "      <td>0.675475</td>\n",
       "      <td>-1.028346</td>\n",
       "    </tr>\n",
       "    <tr>\n",
       "      <th>JsonXml_FlatStruct_both_none_both</th>\n",
       "      <td>-0.171705</td>\n",
       "      <td>-0.869898</td>\n",
       "      <td>0.502457</td>\n",
       "    </tr>\n",
       "    <tr>\n",
       "      <th>JsonXml_FlatStruct_both_none_flatstruct</th>\n",
       "      <td>-0.736175</td>\n",
       "      <td>0.499632</td>\n",
       "      <td>-0.593409</td>\n",
       "    </tr>\n",
       "    <tr>\n",
       "      <th>JsonXml_FlatStruct_both_none_jsonxml</th>\n",
       "      <td>1.360624</td>\n",
       "      <td>0.448271</td>\n",
       "      <td>-1.259204</td>\n",
       "    </tr>\n",
       "    <tr>\n",
       "      <th>JsonXml_FlatStruct_both_none_none</th>\n",
       "      <td>0.345803</td>\n",
       "      <td>1.954052</td>\n",
       "      <td>1.786349</td>\n",
       "    </tr>\n",
       "    <tr>\n",
       "      <th>FHIR_openEHRExtract_both_none_extract</th>\n",
       "      <td>-1.035501</td>\n",
       "      <td>-0.315914</td>\n",
       "      <td>-0.663353</td>\n",
       "    </tr>\n",
       "    <tr>\n",
       "      <th>FHIR_openEHRExtract_both_none_fhir</th>\n",
       "      <td>0.545804</td>\n",
       "      <td>-0.435933</td>\n",
       "      <td>-0.173573</td>\n",
       "    </tr>\n",
       "    <tr>\n",
       "      <th>FHIR_openEHRExtract_both_none_none</th>\n",
       "      <td>-0.401275</td>\n",
       "      <td>1.082476</td>\n",
       "      <td>0.789381</td>\n",
       "    </tr>\n",
       "    <tr>\n",
       "      <th>Forms_n</th>\n",
       "      <td>1.214977</td>\n",
       "      <td>-0.356518</td>\n",
       "      <td>-0.182880</td>\n",
       "    </tr>\n",
       "    <tr>\n",
       "      <th>Forms_y</th>\n",
       "      <td>-0.455616</td>\n",
       "      <td>0.133694</td>\n",
       "      <td>0.068580</td>\n",
       "    </tr>\n",
       "    <tr>\n",
       "      <th>openEHR GDL_n</th>\n",
       "      <td>0.533060</td>\n",
       "      <td>0.125050</td>\n",
       "      <td>0.195880</td>\n",
       "    </tr>\n",
       "    <tr>\n",
       "      <th>openEHR GDL_y</th>\n",
       "      <td>-0.932856</td>\n",
       "      <td>-0.218838</td>\n",
       "      <td>-0.342791</td>\n",
       "    </tr>\n",
       "    <tr>\n",
       "      <th>openEHR REST API_n</th>\n",
       "      <td>0.090880</td>\n",
       "      <td>0.652617</td>\n",
       "      <td>-0.185883</td>\n",
       "    </tr>\n",
       "    <tr>\n",
       "      <th>openEHR REST API_y</th>\n",
       "      <td>-0.159039</td>\n",
       "      <td>-1.142079</td>\n",
       "      <td>0.325295</td>\n",
       "    </tr>\n",
       "    <tr>\n",
       "      <th>openEHR Demographics_n</th>\n",
       "      <td>0.086104</td>\n",
       "      <td>-0.561097</td>\n",
       "      <td>-0.169974</td>\n",
       "    </tr>\n",
       "    <tr>\n",
       "      <th>openEHR Demographics_y</th>\n",
       "      <td>-0.150682</td>\n",
       "      <td>0.981921</td>\n",
       "      <td>0.297454</td>\n",
       "    </tr>\n",
       "  </tbody>\n",
       "</table>\n",
       "</div>"
      ],
      "text/plain": [
       "                                                0         1         2\n",
       "free_paid_free                           1.546618 -0.608750 -0.412552\n",
       "free_paid_paid                          -0.343693  0.135278  0.091678\n",
       "api_gui_both_api                         0.234640 -0.564801  0.651931\n",
       "api_gui_both_both                       -0.680902  0.017773 -0.610798\n",
       "api_gui_both_gui                         1.232977  1.085169  0.223134\n",
       "aql_sql_both_other_aql                  -0.171705 -0.869898  0.502457\n",
       "aql_sql_both_other_both                  0.448749  1.050999  1.031407\n",
       "aql_sql_both_other_other                 1.360624  0.448271 -1.259204\n",
       "aql_sql_both_other_sql                  -1.380110  0.675475 -1.028346\n",
       "JsonXml_FlatStruct_both_none_both       -0.171705 -0.869898  0.502457\n",
       "JsonXml_FlatStruct_both_none_flatstruct -0.736175  0.499632 -0.593409\n",
       "JsonXml_FlatStruct_both_none_jsonxml     1.360624  0.448271 -1.259204\n",
       "JsonXml_FlatStruct_both_none_none        0.345803  1.954052  1.786349\n",
       "FHIR_openEHRExtract_both_none_extract   -1.035501 -0.315914 -0.663353\n",
       "FHIR_openEHRExtract_both_none_fhir       0.545804 -0.435933 -0.173573\n",
       "FHIR_openEHRExtract_both_none_none      -0.401275  1.082476  0.789381\n",
       "Forms_n                                  1.214977 -0.356518 -0.182880\n",
       "Forms_y                                 -0.455616  0.133694  0.068580\n",
       "openEHR GDL_n                            0.533060  0.125050  0.195880\n",
       "openEHR GDL_y                           -0.932856 -0.218838 -0.342791\n",
       "openEHR REST API_n                       0.090880  0.652617 -0.185883\n",
       "openEHR REST API_y                      -0.159039 -1.142079  0.325295\n",
       "openEHR Demographics_n                   0.086104 -0.561097 -0.169974\n",
       "openEHR Demographics_y                  -0.150682  0.981921  0.297454"
      ]
     },
     "execution_count": 54,
     "metadata": {},
     "output_type": "execute_result"
    }
   ],
   "source": [
    "mca.column_coordinates(df)"
   ]
  },
  {
   "cell_type": "code",
   "execution_count": 62,
   "metadata": {},
   "outputs": [
    {
     "data": {
      "application/javascript": [
       "/* Put everything inside the global mpl namespace */\n",
       "/* global mpl */\n",
       "window.mpl = {};\n",
       "\n",
       "mpl.get_websocket_type = function () {\n",
       "    if (typeof WebSocket !== 'undefined') {\n",
       "        return WebSocket;\n",
       "    } else if (typeof MozWebSocket !== 'undefined') {\n",
       "        return MozWebSocket;\n",
       "    } else {\n",
       "        alert(\n",
       "            'Your browser does not have WebSocket support. ' +\n",
       "                'Please try Chrome, Safari or Firefox ≥ 6. ' +\n",
       "                'Firefox 4 and 5 are also supported but you ' +\n",
       "                'have to enable WebSockets in about:config.'\n",
       "        );\n",
       "    }\n",
       "};\n",
       "\n",
       "mpl.figure = function (figure_id, websocket, ondownload, parent_element) {\n",
       "    this.id = figure_id;\n",
       "\n",
       "    this.ws = websocket;\n",
       "\n",
       "    this.supports_binary = this.ws.binaryType !== undefined;\n",
       "\n",
       "    if (!this.supports_binary) {\n",
       "        var warnings = document.getElementById('mpl-warnings');\n",
       "        if (warnings) {\n",
       "            warnings.style.display = 'block';\n",
       "            warnings.textContent =\n",
       "                'This browser does not support binary websocket messages. ' +\n",
       "                'Performance may be slow.';\n",
       "        }\n",
       "    }\n",
       "\n",
       "    this.imageObj = new Image();\n",
       "\n",
       "    this.context = undefined;\n",
       "    this.message = undefined;\n",
       "    this.canvas = undefined;\n",
       "    this.rubberband_canvas = undefined;\n",
       "    this.rubberband_context = undefined;\n",
       "    this.format_dropdown = undefined;\n",
       "\n",
       "    this.image_mode = 'full';\n",
       "\n",
       "    this.root = document.createElement('div');\n",
       "    this.root.setAttribute('style', 'display: inline-block');\n",
       "    this._root_extra_style(this.root);\n",
       "\n",
       "    parent_element.appendChild(this.root);\n",
       "\n",
       "    this._init_header(this);\n",
       "    this._init_canvas(this);\n",
       "    this._init_toolbar(this);\n",
       "\n",
       "    var fig = this;\n",
       "\n",
       "    this.waiting = false;\n",
       "\n",
       "    this.ws.onopen = function () {\n",
       "        fig.send_message('supports_binary', { value: fig.supports_binary });\n",
       "        fig.send_message('send_image_mode', {});\n",
       "        if (fig.ratio !== 1) {\n",
       "            fig.send_message('set_dpi_ratio', { dpi_ratio: fig.ratio });\n",
       "        }\n",
       "        fig.send_message('refresh', {});\n",
       "    };\n",
       "\n",
       "    this.imageObj.onload = function () {\n",
       "        if (fig.image_mode === 'full') {\n",
       "            // Full images could contain transparency (where diff images\n",
       "            // almost always do), so we need to clear the canvas so that\n",
       "            // there is no ghosting.\n",
       "            fig.context.clearRect(0, 0, fig.canvas.width, fig.canvas.height);\n",
       "        }\n",
       "        fig.context.drawImage(fig.imageObj, 0, 0);\n",
       "    };\n",
       "\n",
       "    this.imageObj.onunload = function () {\n",
       "        fig.ws.close();\n",
       "    };\n",
       "\n",
       "    this.ws.onmessage = this._make_on_message_function(this);\n",
       "\n",
       "    this.ondownload = ondownload;\n",
       "};\n",
       "\n",
       "mpl.figure.prototype._init_header = function () {\n",
       "    var titlebar = document.createElement('div');\n",
       "    titlebar.classList =\n",
       "        'ui-dialog-titlebar ui-widget-header ui-corner-all ui-helper-clearfix';\n",
       "    var titletext = document.createElement('div');\n",
       "    titletext.classList = 'ui-dialog-title';\n",
       "    titletext.setAttribute(\n",
       "        'style',\n",
       "        'width: 100%; text-align: center; padding: 3px;'\n",
       "    );\n",
       "    titlebar.appendChild(titletext);\n",
       "    this.root.appendChild(titlebar);\n",
       "    this.header = titletext;\n",
       "};\n",
       "\n",
       "mpl.figure.prototype._canvas_extra_style = function (_canvas_div) {};\n",
       "\n",
       "mpl.figure.prototype._root_extra_style = function (_canvas_div) {};\n",
       "\n",
       "mpl.figure.prototype._init_canvas = function () {\n",
       "    var fig = this;\n",
       "\n",
       "    var canvas_div = (this.canvas_div = document.createElement('div'));\n",
       "    canvas_div.setAttribute(\n",
       "        'style',\n",
       "        'border: 1px solid #ddd;' +\n",
       "            'box-sizing: content-box;' +\n",
       "            'clear: both;' +\n",
       "            'min-height: 1px;' +\n",
       "            'min-width: 1px;' +\n",
       "            'outline: 0;' +\n",
       "            'overflow: hidden;' +\n",
       "            'position: relative;' +\n",
       "            'resize: both;'\n",
       "    );\n",
       "\n",
       "    function on_keyboard_event_closure(name) {\n",
       "        return function (event) {\n",
       "            return fig.key_event(event, name);\n",
       "        };\n",
       "    }\n",
       "\n",
       "    canvas_div.addEventListener(\n",
       "        'keydown',\n",
       "        on_keyboard_event_closure('key_press')\n",
       "    );\n",
       "    canvas_div.addEventListener(\n",
       "        'keyup',\n",
       "        on_keyboard_event_closure('key_release')\n",
       "    );\n",
       "\n",
       "    this._canvas_extra_style(canvas_div);\n",
       "    this.root.appendChild(canvas_div);\n",
       "\n",
       "    var canvas = (this.canvas = document.createElement('canvas'));\n",
       "    canvas.classList.add('mpl-canvas');\n",
       "    canvas.setAttribute('style', 'box-sizing: content-box;');\n",
       "\n",
       "    this.context = canvas.getContext('2d');\n",
       "\n",
       "    var backingStore =\n",
       "        this.context.backingStorePixelRatio ||\n",
       "        this.context.webkitBackingStorePixelRatio ||\n",
       "        this.context.mozBackingStorePixelRatio ||\n",
       "        this.context.msBackingStorePixelRatio ||\n",
       "        this.context.oBackingStorePixelRatio ||\n",
       "        this.context.backingStorePixelRatio ||\n",
       "        1;\n",
       "\n",
       "    this.ratio = (window.devicePixelRatio || 1) / backingStore;\n",
       "\n",
       "    var rubberband_canvas = (this.rubberband_canvas = document.createElement(\n",
       "        'canvas'\n",
       "    ));\n",
       "    rubberband_canvas.setAttribute(\n",
       "        'style',\n",
       "        'box-sizing: content-box; position: absolute; left: 0; top: 0; z-index: 1;'\n",
       "    );\n",
       "\n",
       "    // Apply a ponyfill if ResizeObserver is not implemented by browser.\n",
       "    if (this.ResizeObserver === undefined) {\n",
       "        if (window.ResizeObserver !== undefined) {\n",
       "            this.ResizeObserver = window.ResizeObserver;\n",
       "        } else {\n",
       "            var obs = _JSXTOOLS_RESIZE_OBSERVER({});\n",
       "            this.ResizeObserver = obs.ResizeObserver;\n",
       "        }\n",
       "    }\n",
       "\n",
       "    this.resizeObserverInstance = new this.ResizeObserver(function (entries) {\n",
       "        var nentries = entries.length;\n",
       "        for (var i = 0; i < nentries; i++) {\n",
       "            var entry = entries[i];\n",
       "            var width, height;\n",
       "            if (entry.contentBoxSize) {\n",
       "                if (entry.contentBoxSize instanceof Array) {\n",
       "                    // Chrome 84 implements new version of spec.\n",
       "                    width = entry.contentBoxSize[0].inlineSize;\n",
       "                    height = entry.contentBoxSize[0].blockSize;\n",
       "                } else {\n",
       "                    // Firefox implements old version of spec.\n",
       "                    width = entry.contentBoxSize.inlineSize;\n",
       "                    height = entry.contentBoxSize.blockSize;\n",
       "                }\n",
       "            } else {\n",
       "                // Chrome <84 implements even older version of spec.\n",
       "                width = entry.contentRect.width;\n",
       "                height = entry.contentRect.height;\n",
       "            }\n",
       "\n",
       "            // Keep the size of the canvas and rubber band canvas in sync with\n",
       "            // the canvas container.\n",
       "            if (entry.devicePixelContentBoxSize) {\n",
       "                // Chrome 84 implements new version of spec.\n",
       "                canvas.setAttribute(\n",
       "                    'width',\n",
       "                    entry.devicePixelContentBoxSize[0].inlineSize\n",
       "                );\n",
       "                canvas.setAttribute(\n",
       "                    'height',\n",
       "                    entry.devicePixelContentBoxSize[0].blockSize\n",
       "                );\n",
       "            } else {\n",
       "                canvas.setAttribute('width', width * fig.ratio);\n",
       "                canvas.setAttribute('height', height * fig.ratio);\n",
       "            }\n",
       "            canvas.setAttribute(\n",
       "                'style',\n",
       "                'width: ' + width + 'px; height: ' + height + 'px;'\n",
       "            );\n",
       "\n",
       "            rubberband_canvas.setAttribute('width', width);\n",
       "            rubberband_canvas.setAttribute('height', height);\n",
       "\n",
       "            // And update the size in Python. We ignore the initial 0/0 size\n",
       "            // that occurs as the element is placed into the DOM, which should\n",
       "            // otherwise not happen due to the minimum size styling.\n",
       "            if (fig.ws.readyState == 1 && width != 0 && height != 0) {\n",
       "                fig.request_resize(width, height);\n",
       "            }\n",
       "        }\n",
       "    });\n",
       "    this.resizeObserverInstance.observe(canvas_div);\n",
       "\n",
       "    function on_mouse_event_closure(name) {\n",
       "        return function (event) {\n",
       "            return fig.mouse_event(event, name);\n",
       "        };\n",
       "    }\n",
       "\n",
       "    rubberband_canvas.addEventListener(\n",
       "        'mousedown',\n",
       "        on_mouse_event_closure('button_press')\n",
       "    );\n",
       "    rubberband_canvas.addEventListener(\n",
       "        'mouseup',\n",
       "        on_mouse_event_closure('button_release')\n",
       "    );\n",
       "    rubberband_canvas.addEventListener(\n",
       "        'dblclick',\n",
       "        on_mouse_event_closure('dblclick')\n",
       "    );\n",
       "    // Throttle sequential mouse events to 1 every 20ms.\n",
       "    rubberband_canvas.addEventListener(\n",
       "        'mousemove',\n",
       "        on_mouse_event_closure('motion_notify')\n",
       "    );\n",
       "\n",
       "    rubberband_canvas.addEventListener(\n",
       "        'mouseenter',\n",
       "        on_mouse_event_closure('figure_enter')\n",
       "    );\n",
       "    rubberband_canvas.addEventListener(\n",
       "        'mouseleave',\n",
       "        on_mouse_event_closure('figure_leave')\n",
       "    );\n",
       "\n",
       "    canvas_div.addEventListener('wheel', function (event) {\n",
       "        if (event.deltaY < 0) {\n",
       "            event.step = 1;\n",
       "        } else {\n",
       "            event.step = -1;\n",
       "        }\n",
       "        on_mouse_event_closure('scroll')(event);\n",
       "    });\n",
       "\n",
       "    canvas_div.appendChild(canvas);\n",
       "    canvas_div.appendChild(rubberband_canvas);\n",
       "\n",
       "    this.rubberband_context = rubberband_canvas.getContext('2d');\n",
       "    this.rubberband_context.strokeStyle = '#000000';\n",
       "\n",
       "    this._resize_canvas = function (width, height, forward) {\n",
       "        if (forward) {\n",
       "            canvas_div.style.width = width + 'px';\n",
       "            canvas_div.style.height = height + 'px';\n",
       "        }\n",
       "    };\n",
       "\n",
       "    // Disable right mouse context menu.\n",
       "    this.rubberband_canvas.addEventListener('contextmenu', function (_e) {\n",
       "        event.preventDefault();\n",
       "        return false;\n",
       "    });\n",
       "\n",
       "    function set_focus() {\n",
       "        canvas.focus();\n",
       "        canvas_div.focus();\n",
       "    }\n",
       "\n",
       "    window.setTimeout(set_focus, 100);\n",
       "};\n",
       "\n",
       "mpl.figure.prototype._init_toolbar = function () {\n",
       "    var fig = this;\n",
       "\n",
       "    var toolbar = document.createElement('div');\n",
       "    toolbar.classList = 'mpl-toolbar';\n",
       "    this.root.appendChild(toolbar);\n",
       "\n",
       "    function on_click_closure(name) {\n",
       "        return function (_event) {\n",
       "            return fig.toolbar_button_onclick(name);\n",
       "        };\n",
       "    }\n",
       "\n",
       "    function on_mouseover_closure(tooltip) {\n",
       "        return function (event) {\n",
       "            if (!event.currentTarget.disabled) {\n",
       "                return fig.toolbar_button_onmouseover(tooltip);\n",
       "            }\n",
       "        };\n",
       "    }\n",
       "\n",
       "    fig.buttons = {};\n",
       "    var buttonGroup = document.createElement('div');\n",
       "    buttonGroup.classList = 'mpl-button-group';\n",
       "    for (var toolbar_ind in mpl.toolbar_items) {\n",
       "        var name = mpl.toolbar_items[toolbar_ind][0];\n",
       "        var tooltip = mpl.toolbar_items[toolbar_ind][1];\n",
       "        var image = mpl.toolbar_items[toolbar_ind][2];\n",
       "        var method_name = mpl.toolbar_items[toolbar_ind][3];\n",
       "\n",
       "        if (!name) {\n",
       "            /* Instead of a spacer, we start a new button group. */\n",
       "            if (buttonGroup.hasChildNodes()) {\n",
       "                toolbar.appendChild(buttonGroup);\n",
       "            }\n",
       "            buttonGroup = document.createElement('div');\n",
       "            buttonGroup.classList = 'mpl-button-group';\n",
       "            continue;\n",
       "        }\n",
       "\n",
       "        var button = (fig.buttons[name] = document.createElement('button'));\n",
       "        button.classList = 'mpl-widget';\n",
       "        button.setAttribute('role', 'button');\n",
       "        button.setAttribute('aria-disabled', 'false');\n",
       "        button.addEventListener('click', on_click_closure(method_name));\n",
       "        button.addEventListener('mouseover', on_mouseover_closure(tooltip));\n",
       "\n",
       "        var icon_img = document.createElement('img');\n",
       "        icon_img.src = '_images/' + image + '.png';\n",
       "        icon_img.srcset = '_images/' + image + '_large.png 2x';\n",
       "        icon_img.alt = tooltip;\n",
       "        button.appendChild(icon_img);\n",
       "\n",
       "        buttonGroup.appendChild(button);\n",
       "    }\n",
       "\n",
       "    if (buttonGroup.hasChildNodes()) {\n",
       "        toolbar.appendChild(buttonGroup);\n",
       "    }\n",
       "\n",
       "    var fmt_picker = document.createElement('select');\n",
       "    fmt_picker.classList = 'mpl-widget';\n",
       "    toolbar.appendChild(fmt_picker);\n",
       "    this.format_dropdown = fmt_picker;\n",
       "\n",
       "    for (var ind in mpl.extensions) {\n",
       "        var fmt = mpl.extensions[ind];\n",
       "        var option = document.createElement('option');\n",
       "        option.selected = fmt === mpl.default_extension;\n",
       "        option.innerHTML = fmt;\n",
       "        fmt_picker.appendChild(option);\n",
       "    }\n",
       "\n",
       "    var status_bar = document.createElement('span');\n",
       "    status_bar.classList = 'mpl-message';\n",
       "    toolbar.appendChild(status_bar);\n",
       "    this.message = status_bar;\n",
       "};\n",
       "\n",
       "mpl.figure.prototype.request_resize = function (x_pixels, y_pixels) {\n",
       "    // Request matplotlib to resize the figure. Matplotlib will then trigger a resize in the client,\n",
       "    // which will in turn request a refresh of the image.\n",
       "    this.send_message('resize', { width: x_pixels, height: y_pixels });\n",
       "};\n",
       "\n",
       "mpl.figure.prototype.send_message = function (type, properties) {\n",
       "    properties['type'] = type;\n",
       "    properties['figure_id'] = this.id;\n",
       "    this.ws.send(JSON.stringify(properties));\n",
       "};\n",
       "\n",
       "mpl.figure.prototype.send_draw_message = function () {\n",
       "    if (!this.waiting) {\n",
       "        this.waiting = true;\n",
       "        this.ws.send(JSON.stringify({ type: 'draw', figure_id: this.id }));\n",
       "    }\n",
       "};\n",
       "\n",
       "mpl.figure.prototype.handle_save = function (fig, _msg) {\n",
       "    var format_dropdown = fig.format_dropdown;\n",
       "    var format = format_dropdown.options[format_dropdown.selectedIndex].value;\n",
       "    fig.ondownload(fig, format);\n",
       "};\n",
       "\n",
       "mpl.figure.prototype.handle_resize = function (fig, msg) {\n",
       "    var size = msg['size'];\n",
       "    if (size[0] !== fig.canvas.width || size[1] !== fig.canvas.height) {\n",
       "        fig._resize_canvas(size[0], size[1], msg['forward']);\n",
       "        fig.send_message('refresh', {});\n",
       "    }\n",
       "};\n",
       "\n",
       "mpl.figure.prototype.handle_rubberband = function (fig, msg) {\n",
       "    var x0 = msg['x0'] / fig.ratio;\n",
       "    var y0 = (fig.canvas.height - msg['y0']) / fig.ratio;\n",
       "    var x1 = msg['x1'] / fig.ratio;\n",
       "    var y1 = (fig.canvas.height - msg['y1']) / fig.ratio;\n",
       "    x0 = Math.floor(x0) + 0.5;\n",
       "    y0 = Math.floor(y0) + 0.5;\n",
       "    x1 = Math.floor(x1) + 0.5;\n",
       "    y1 = Math.floor(y1) + 0.5;\n",
       "    var min_x = Math.min(x0, x1);\n",
       "    var min_y = Math.min(y0, y1);\n",
       "    var width = Math.abs(x1 - x0);\n",
       "    var height = Math.abs(y1 - y0);\n",
       "\n",
       "    fig.rubberband_context.clearRect(\n",
       "        0,\n",
       "        0,\n",
       "        fig.canvas.width / fig.ratio,\n",
       "        fig.canvas.height / fig.ratio\n",
       "    );\n",
       "\n",
       "    fig.rubberband_context.strokeRect(min_x, min_y, width, height);\n",
       "};\n",
       "\n",
       "mpl.figure.prototype.handle_figure_label = function (fig, msg) {\n",
       "    // Updates the figure title.\n",
       "    fig.header.textContent = msg['label'];\n",
       "};\n",
       "\n",
       "mpl.figure.prototype.handle_cursor = function (fig, msg) {\n",
       "    var cursor = msg['cursor'];\n",
       "    switch (cursor) {\n",
       "        case 0:\n",
       "            cursor = 'pointer';\n",
       "            break;\n",
       "        case 1:\n",
       "            cursor = 'default';\n",
       "            break;\n",
       "        case 2:\n",
       "            cursor = 'crosshair';\n",
       "            break;\n",
       "        case 3:\n",
       "            cursor = 'move';\n",
       "            break;\n",
       "    }\n",
       "    fig.rubberband_canvas.style.cursor = cursor;\n",
       "};\n",
       "\n",
       "mpl.figure.prototype.handle_message = function (fig, msg) {\n",
       "    fig.message.textContent = msg['message'];\n",
       "};\n",
       "\n",
       "mpl.figure.prototype.handle_draw = function (fig, _msg) {\n",
       "    // Request the server to send over a new figure.\n",
       "    fig.send_draw_message();\n",
       "};\n",
       "\n",
       "mpl.figure.prototype.handle_image_mode = function (fig, msg) {\n",
       "    fig.image_mode = msg['mode'];\n",
       "};\n",
       "\n",
       "mpl.figure.prototype.handle_history_buttons = function (fig, msg) {\n",
       "    for (var key in msg) {\n",
       "        if (!(key in fig.buttons)) {\n",
       "            continue;\n",
       "        }\n",
       "        fig.buttons[key].disabled = !msg[key];\n",
       "        fig.buttons[key].setAttribute('aria-disabled', !msg[key]);\n",
       "    }\n",
       "};\n",
       "\n",
       "mpl.figure.prototype.handle_navigate_mode = function (fig, msg) {\n",
       "    if (msg['mode'] === 'PAN') {\n",
       "        fig.buttons['Pan'].classList.add('active');\n",
       "        fig.buttons['Zoom'].classList.remove('active');\n",
       "    } else if (msg['mode'] === 'ZOOM') {\n",
       "        fig.buttons['Pan'].classList.remove('active');\n",
       "        fig.buttons['Zoom'].classList.add('active');\n",
       "    } else {\n",
       "        fig.buttons['Pan'].classList.remove('active');\n",
       "        fig.buttons['Zoom'].classList.remove('active');\n",
       "    }\n",
       "};\n",
       "\n",
       "mpl.figure.prototype.updated_canvas_event = function () {\n",
       "    // Called whenever the canvas gets updated.\n",
       "    this.send_message('ack', {});\n",
       "};\n",
       "\n",
       "// A function to construct a web socket function for onmessage handling.\n",
       "// Called in the figure constructor.\n",
       "mpl.figure.prototype._make_on_message_function = function (fig) {\n",
       "    return function socket_on_message(evt) {\n",
       "        if (evt.data instanceof Blob) {\n",
       "            var img = evt.data;\n",
       "            if (img.type !== 'image/png') {\n",
       "                /* FIXME: We get \"Resource interpreted as Image but\n",
       "                 * transferred with MIME type text/plain:\" errors on\n",
       "                 * Chrome.  But how to set the MIME type?  It doesn't seem\n",
       "                 * to be part of the websocket stream */\n",
       "                img.type = 'image/png';\n",
       "            }\n",
       "\n",
       "            /* Free the memory for the previous frames */\n",
       "            if (fig.imageObj.src) {\n",
       "                (window.URL || window.webkitURL).revokeObjectURL(\n",
       "                    fig.imageObj.src\n",
       "                );\n",
       "            }\n",
       "\n",
       "            fig.imageObj.src = (window.URL || window.webkitURL).createObjectURL(\n",
       "                img\n",
       "            );\n",
       "            fig.updated_canvas_event();\n",
       "            fig.waiting = false;\n",
       "            return;\n",
       "        } else if (\n",
       "            typeof evt.data === 'string' &&\n",
       "            evt.data.slice(0, 21) === 'data:image/png;base64'\n",
       "        ) {\n",
       "            fig.imageObj.src = evt.data;\n",
       "            fig.updated_canvas_event();\n",
       "            fig.waiting = false;\n",
       "            return;\n",
       "        }\n",
       "\n",
       "        var msg = JSON.parse(evt.data);\n",
       "        var msg_type = msg['type'];\n",
       "\n",
       "        // Call the  \"handle_{type}\" callback, which takes\n",
       "        // the figure and JSON message as its only arguments.\n",
       "        try {\n",
       "            var callback = fig['handle_' + msg_type];\n",
       "        } catch (e) {\n",
       "            console.log(\n",
       "                \"No handler for the '\" + msg_type + \"' message type: \",\n",
       "                msg\n",
       "            );\n",
       "            return;\n",
       "        }\n",
       "\n",
       "        if (callback) {\n",
       "            try {\n",
       "                // console.log(\"Handling '\" + msg_type + \"' message: \", msg);\n",
       "                callback(fig, msg);\n",
       "            } catch (e) {\n",
       "                console.log(\n",
       "                    \"Exception inside the 'handler_\" + msg_type + \"' callback:\",\n",
       "                    e,\n",
       "                    e.stack,\n",
       "                    msg\n",
       "                );\n",
       "            }\n",
       "        }\n",
       "    };\n",
       "};\n",
       "\n",
       "// from http://stackoverflow.com/questions/1114465/getting-mouse-location-in-canvas\n",
       "mpl.findpos = function (e) {\n",
       "    //this section is from http://www.quirksmode.org/js/events_properties.html\n",
       "    var targ;\n",
       "    if (!e) {\n",
       "        e = window.event;\n",
       "    }\n",
       "    if (e.target) {\n",
       "        targ = e.target;\n",
       "    } else if (e.srcElement) {\n",
       "        targ = e.srcElement;\n",
       "    }\n",
       "    if (targ.nodeType === 3) {\n",
       "        // defeat Safari bug\n",
       "        targ = targ.parentNode;\n",
       "    }\n",
       "\n",
       "    // pageX,Y are the mouse positions relative to the document\n",
       "    var boundingRect = targ.getBoundingClientRect();\n",
       "    var x = e.pageX - (boundingRect.left + document.body.scrollLeft);\n",
       "    var y = e.pageY - (boundingRect.top + document.body.scrollTop);\n",
       "\n",
       "    return { x: x, y: y };\n",
       "};\n",
       "\n",
       "/*\n",
       " * return a copy of an object with only non-object keys\n",
       " * we need this to avoid circular references\n",
       " * http://stackoverflow.com/a/24161582/3208463\n",
       " */\n",
       "function simpleKeys(original) {\n",
       "    return Object.keys(original).reduce(function (obj, key) {\n",
       "        if (typeof original[key] !== 'object') {\n",
       "            obj[key] = original[key];\n",
       "        }\n",
       "        return obj;\n",
       "    }, {});\n",
       "}\n",
       "\n",
       "mpl.figure.prototype.mouse_event = function (event, name) {\n",
       "    var canvas_pos = mpl.findpos(event);\n",
       "\n",
       "    if (name === 'button_press') {\n",
       "        this.canvas.focus();\n",
       "        this.canvas_div.focus();\n",
       "    }\n",
       "\n",
       "    var x = canvas_pos.x * this.ratio;\n",
       "    var y = canvas_pos.y * this.ratio;\n",
       "\n",
       "    this.send_message(name, {\n",
       "        x: x,\n",
       "        y: y,\n",
       "        button: event.button,\n",
       "        step: event.step,\n",
       "        guiEvent: simpleKeys(event),\n",
       "    });\n",
       "\n",
       "    /* This prevents the web browser from automatically changing to\n",
       "     * the text insertion cursor when the button is pressed.  We want\n",
       "     * to control all of the cursor setting manually through the\n",
       "     * 'cursor' event from matplotlib */\n",
       "    event.preventDefault();\n",
       "    return false;\n",
       "};\n",
       "\n",
       "mpl.figure.prototype._key_event_extra = function (_event, _name) {\n",
       "    // Handle any extra behaviour associated with a key event\n",
       "};\n",
       "\n",
       "mpl.figure.prototype.key_event = function (event, name) {\n",
       "    // Prevent repeat events\n",
       "    if (name === 'key_press') {\n",
       "        if (event.key === this._key) {\n",
       "            return;\n",
       "        } else {\n",
       "            this._key = event.key;\n",
       "        }\n",
       "    }\n",
       "    if (name === 'key_release') {\n",
       "        this._key = null;\n",
       "    }\n",
       "\n",
       "    var value = '';\n",
       "    if (event.ctrlKey && event.key !== 'Control') {\n",
       "        value += 'ctrl+';\n",
       "    }\n",
       "    else if (event.altKey && event.key !== 'Alt') {\n",
       "        value += 'alt+';\n",
       "    }\n",
       "    else if (event.shiftKey && event.key !== 'Shift') {\n",
       "        value += 'shift+';\n",
       "    }\n",
       "\n",
       "    value += 'k' + event.key;\n",
       "\n",
       "    this._key_event_extra(event, name);\n",
       "\n",
       "    this.send_message(name, { key: value, guiEvent: simpleKeys(event) });\n",
       "    return false;\n",
       "};\n",
       "\n",
       "mpl.figure.prototype.toolbar_button_onclick = function (name) {\n",
       "    if (name === 'download') {\n",
       "        this.handle_save(this, null);\n",
       "    } else {\n",
       "        this.send_message('toolbar_button', { name: name });\n",
       "    }\n",
       "};\n",
       "\n",
       "mpl.figure.prototype.toolbar_button_onmouseover = function (tooltip) {\n",
       "    this.message.textContent = tooltip;\n",
       "};\n",
       "\n",
       "///////////////// REMAINING CONTENT GENERATED BY embed_js.py /////////////////\n",
       "// prettier-ignore\n",
       "var _JSXTOOLS_RESIZE_OBSERVER=function(A){var t,i=new WeakMap,n=new WeakMap,a=new WeakMap,r=new WeakMap,o=new Set;function s(e){if(!(this instanceof s))throw new TypeError(\"Constructor requires 'new' operator\");i.set(this,e)}function h(){throw new TypeError(\"Function is not a constructor\")}function c(e,t,i,n){e=0 in arguments?Number(arguments[0]):0,t=1 in arguments?Number(arguments[1]):0,i=2 in arguments?Number(arguments[2]):0,n=3 in arguments?Number(arguments[3]):0,this.right=(this.x=this.left=e)+(this.width=i),this.bottom=(this.y=this.top=t)+(this.height=n),Object.freeze(this)}function d(){t=requestAnimationFrame(d);var s=new WeakMap,p=new Set;o.forEach((function(t){r.get(t).forEach((function(i){var r=t instanceof window.SVGElement,o=a.get(t),d=r?0:parseFloat(o.paddingTop),f=r?0:parseFloat(o.paddingRight),l=r?0:parseFloat(o.paddingBottom),u=r?0:parseFloat(o.paddingLeft),g=r?0:parseFloat(o.borderTopWidth),m=r?0:parseFloat(o.borderRightWidth),w=r?0:parseFloat(o.borderBottomWidth),b=u+f,F=d+l,v=(r?0:parseFloat(o.borderLeftWidth))+m,W=g+w,y=r?0:t.offsetHeight-W-t.clientHeight,E=r?0:t.offsetWidth-v-t.clientWidth,R=b+v,z=F+W,M=r?t.width:parseFloat(o.width)-R-E,O=r?t.height:parseFloat(o.height)-z-y;if(n.has(t)){var k=n.get(t);if(k[0]===M&&k[1]===O)return}n.set(t,[M,O]);var S=Object.create(h.prototype);S.target=t,S.contentRect=new c(u,d,M,O),s.has(i)||(s.set(i,[]),p.add(i)),s.get(i).push(S)}))})),p.forEach((function(e){i.get(e).call(e,s.get(e),e)}))}return s.prototype.observe=function(i){if(i instanceof window.Element){r.has(i)||(r.set(i,new Set),o.add(i),a.set(i,window.getComputedStyle(i)));var n=r.get(i);n.has(this)||n.add(this),cancelAnimationFrame(t),t=requestAnimationFrame(d)}},s.prototype.unobserve=function(i){if(i instanceof window.Element&&r.has(i)){var n=r.get(i);n.has(this)&&(n.delete(this),n.size||(r.delete(i),o.delete(i))),n.size||r.delete(i),o.size||cancelAnimationFrame(t)}},A.DOMRectReadOnly=c,A.ResizeObserver=s,A.ResizeObserverEntry=h,A}; // eslint-disable-line\n",
       "mpl.toolbar_items = [[\"Home\", \"Reset original view\", \"fa fa-home icon-home\", \"home\"], [\"Back\", \"Back to previous view\", \"fa fa-arrow-left icon-arrow-left\", \"back\"], [\"Forward\", \"Forward to next view\", \"fa fa-arrow-right icon-arrow-right\", \"forward\"], [\"\", \"\", \"\", \"\"], [\"Pan\", \"Left button pans, Right button zooms\\nx/y fixes axis, CTRL fixes aspect\", \"fa fa-arrows icon-move\", \"pan\"], [\"Zoom\", \"Zoom to rectangle\\nx/y fixes axis, CTRL fixes aspect\", \"fa fa-square-o icon-check-empty\", \"zoom\"], [\"\", \"\", \"\", \"\"], [\"Download\", \"Download plot\", \"fa fa-floppy-o icon-save\", \"download\"]];\n",
       "\n",
       "mpl.extensions = [\"eps\", \"jpeg\", \"pgf\", \"pdf\", \"png\", \"ps\", \"raw\", \"svg\", \"tif\"];\n",
       "\n",
       "mpl.default_extension = \"png\";/* global mpl */\n",
       "\n",
       "var comm_websocket_adapter = function (comm) {\n",
       "    // Create a \"websocket\"-like object which calls the given IPython comm\n",
       "    // object with the appropriate methods. Currently this is a non binary\n",
       "    // socket, so there is still some room for performance tuning.\n",
       "    var ws = {};\n",
       "\n",
       "    ws.binaryType = comm.kernel.ws.binaryType;\n",
       "    ws.readyState = comm.kernel.ws.readyState;\n",
       "    function updateReadyState(_event) {\n",
       "        if (comm.kernel.ws) {\n",
       "            ws.readyState = comm.kernel.ws.readyState;\n",
       "        } else {\n",
       "            ws.readyState = 3; // Closed state.\n",
       "        }\n",
       "    }\n",
       "    comm.kernel.ws.addEventListener('open', updateReadyState);\n",
       "    comm.kernel.ws.addEventListener('close', updateReadyState);\n",
       "    comm.kernel.ws.addEventListener('error', updateReadyState);\n",
       "\n",
       "    ws.close = function () {\n",
       "        comm.close();\n",
       "    };\n",
       "    ws.send = function (m) {\n",
       "        //console.log('sending', m);\n",
       "        comm.send(m);\n",
       "    };\n",
       "    // Register the callback with on_msg.\n",
       "    comm.on_msg(function (msg) {\n",
       "        //console.log('receiving', msg['content']['data'], msg);\n",
       "        var data = msg['content']['data'];\n",
       "        if (data['blob'] !== undefined) {\n",
       "            data = {\n",
       "                data: new Blob(msg['buffers'], { type: data['blob'] }),\n",
       "            };\n",
       "        }\n",
       "        // Pass the mpl event to the overridden (by mpl) onmessage function.\n",
       "        ws.onmessage(data);\n",
       "    });\n",
       "    return ws;\n",
       "};\n",
       "\n",
       "mpl.mpl_figure_comm = function (comm, msg) {\n",
       "    // This is the function which gets called when the mpl process\n",
       "    // starts-up an IPython Comm through the \"matplotlib\" channel.\n",
       "\n",
       "    var id = msg.content.data.id;\n",
       "    // Get hold of the div created by the display call when the Comm\n",
       "    // socket was opened in Python.\n",
       "    var element = document.getElementById(id);\n",
       "    var ws_proxy = comm_websocket_adapter(comm);\n",
       "\n",
       "    function ondownload(figure, _format) {\n",
       "        window.open(figure.canvas.toDataURL());\n",
       "    }\n",
       "\n",
       "    var fig = new mpl.figure(id, ws_proxy, ondownload, element);\n",
       "\n",
       "    // Call onopen now - mpl needs it, as it is assuming we've passed it a real\n",
       "    // web socket which is closed, not our websocket->open comm proxy.\n",
       "    ws_proxy.onopen();\n",
       "\n",
       "    fig.parent_element = element;\n",
       "    fig.cell_info = mpl.find_output_cell(\"<div id='\" + id + \"'></div>\");\n",
       "    if (!fig.cell_info) {\n",
       "        console.error('Failed to find cell for figure', id, fig);\n",
       "        return;\n",
       "    }\n",
       "    fig.cell_info[0].output_area.element.on(\n",
       "        'cleared',\n",
       "        { fig: fig },\n",
       "        fig._remove_fig_handler\n",
       "    );\n",
       "};\n",
       "\n",
       "mpl.figure.prototype.handle_close = function (fig, msg) {\n",
       "    var width = fig.canvas.width / fig.ratio;\n",
       "    fig.cell_info[0].output_area.element.off(\n",
       "        'cleared',\n",
       "        fig._remove_fig_handler\n",
       "    );\n",
       "    fig.resizeObserverInstance.unobserve(fig.canvas_div);\n",
       "\n",
       "    // Update the output cell to use the data from the current canvas.\n",
       "    fig.push_to_output();\n",
       "    var dataURL = fig.canvas.toDataURL();\n",
       "    // Re-enable the keyboard manager in IPython - without this line, in FF,\n",
       "    // the notebook keyboard shortcuts fail.\n",
       "    IPython.keyboard_manager.enable();\n",
       "    fig.parent_element.innerHTML =\n",
       "        '<img src=\"' + dataURL + '\" width=\"' + width + '\">';\n",
       "    fig.close_ws(fig, msg);\n",
       "};\n",
       "\n",
       "mpl.figure.prototype.close_ws = function (fig, msg) {\n",
       "    fig.send_message('closing', msg);\n",
       "    // fig.ws.close()\n",
       "};\n",
       "\n",
       "mpl.figure.prototype.push_to_output = function (_remove_interactive) {\n",
       "    // Turn the data on the canvas into data in the output cell.\n",
       "    var width = this.canvas.width / this.ratio;\n",
       "    var dataURL = this.canvas.toDataURL();\n",
       "    this.cell_info[1]['text/html'] =\n",
       "        '<img src=\"' + dataURL + '\" width=\"' + width + '\">';\n",
       "};\n",
       "\n",
       "mpl.figure.prototype.updated_canvas_event = function () {\n",
       "    // Tell IPython that the notebook contents must change.\n",
       "    IPython.notebook.set_dirty(true);\n",
       "    this.send_message('ack', {});\n",
       "    var fig = this;\n",
       "    // Wait a second, then push the new image to the DOM so\n",
       "    // that it is saved nicely (might be nice to debounce this).\n",
       "    setTimeout(function () {\n",
       "        fig.push_to_output();\n",
       "    }, 1000);\n",
       "};\n",
       "\n",
       "mpl.figure.prototype._init_toolbar = function () {\n",
       "    var fig = this;\n",
       "\n",
       "    var toolbar = document.createElement('div');\n",
       "    toolbar.classList = 'btn-toolbar';\n",
       "    this.root.appendChild(toolbar);\n",
       "\n",
       "    function on_click_closure(name) {\n",
       "        return function (_event) {\n",
       "            return fig.toolbar_button_onclick(name);\n",
       "        };\n",
       "    }\n",
       "\n",
       "    function on_mouseover_closure(tooltip) {\n",
       "        return function (event) {\n",
       "            if (!event.currentTarget.disabled) {\n",
       "                return fig.toolbar_button_onmouseover(tooltip);\n",
       "            }\n",
       "        };\n",
       "    }\n",
       "\n",
       "    fig.buttons = {};\n",
       "    var buttonGroup = document.createElement('div');\n",
       "    buttonGroup.classList = 'btn-group';\n",
       "    var button;\n",
       "    for (var toolbar_ind in mpl.toolbar_items) {\n",
       "        var name = mpl.toolbar_items[toolbar_ind][0];\n",
       "        var tooltip = mpl.toolbar_items[toolbar_ind][1];\n",
       "        var image = mpl.toolbar_items[toolbar_ind][2];\n",
       "        var method_name = mpl.toolbar_items[toolbar_ind][3];\n",
       "\n",
       "        if (!name) {\n",
       "            /* Instead of a spacer, we start a new button group. */\n",
       "            if (buttonGroup.hasChildNodes()) {\n",
       "                toolbar.appendChild(buttonGroup);\n",
       "            }\n",
       "            buttonGroup = document.createElement('div');\n",
       "            buttonGroup.classList = 'btn-group';\n",
       "            continue;\n",
       "        }\n",
       "\n",
       "        button = fig.buttons[name] = document.createElement('button');\n",
       "        button.classList = 'btn btn-default';\n",
       "        button.href = '#';\n",
       "        button.title = name;\n",
       "        button.innerHTML = '<i class=\"fa ' + image + ' fa-lg\"></i>';\n",
       "        button.addEventListener('click', on_click_closure(method_name));\n",
       "        button.addEventListener('mouseover', on_mouseover_closure(tooltip));\n",
       "        buttonGroup.appendChild(button);\n",
       "    }\n",
       "\n",
       "    if (buttonGroup.hasChildNodes()) {\n",
       "        toolbar.appendChild(buttonGroup);\n",
       "    }\n",
       "\n",
       "    // Add the status bar.\n",
       "    var status_bar = document.createElement('span');\n",
       "    status_bar.classList = 'mpl-message pull-right';\n",
       "    toolbar.appendChild(status_bar);\n",
       "    this.message = status_bar;\n",
       "\n",
       "    // Add the close button to the window.\n",
       "    var buttongrp = document.createElement('div');\n",
       "    buttongrp.classList = 'btn-group inline pull-right';\n",
       "    button = document.createElement('button');\n",
       "    button.classList = 'btn btn-mini btn-primary';\n",
       "    button.href = '#';\n",
       "    button.title = 'Stop Interaction';\n",
       "    button.innerHTML = '<i class=\"fa fa-power-off icon-remove icon-large\"></i>';\n",
       "    button.addEventListener('click', function (_evt) {\n",
       "        fig.handle_close(fig, {});\n",
       "    });\n",
       "    button.addEventListener(\n",
       "        'mouseover',\n",
       "        on_mouseover_closure('Stop Interaction')\n",
       "    );\n",
       "    buttongrp.appendChild(button);\n",
       "    var titlebar = this.root.querySelector('.ui-dialog-titlebar');\n",
       "    titlebar.insertBefore(buttongrp, titlebar.firstChild);\n",
       "};\n",
       "\n",
       "mpl.figure.prototype._remove_fig_handler = function (event) {\n",
       "    var fig = event.data.fig;\n",
       "    if (event.target !== this) {\n",
       "        // Ignore bubbled events from children.\n",
       "        return;\n",
       "    }\n",
       "    fig.close_ws(fig, {});\n",
       "};\n",
       "\n",
       "mpl.figure.prototype._root_extra_style = function (el) {\n",
       "    el.style.boxSizing = 'content-box'; // override notebook setting of border-box.\n",
       "};\n",
       "\n",
       "mpl.figure.prototype._canvas_extra_style = function (el) {\n",
       "    // this is important to make the div 'focusable\n",
       "    el.setAttribute('tabindex', 0);\n",
       "    // reach out to IPython and tell the keyboard manager to turn it's self\n",
       "    // off when our div gets focus\n",
       "\n",
       "    // location in version 3\n",
       "    if (IPython.notebook.keyboard_manager) {\n",
       "        IPython.notebook.keyboard_manager.register_events(el);\n",
       "    } else {\n",
       "        // location in version 2\n",
       "        IPython.keyboard_manager.register_events(el);\n",
       "    }\n",
       "};\n",
       "\n",
       "mpl.figure.prototype._key_event_extra = function (event, _name) {\n",
       "    var manager = IPython.notebook.keyboard_manager;\n",
       "    if (!manager) {\n",
       "        manager = IPython.keyboard_manager;\n",
       "    }\n",
       "\n",
       "    // Check for shift+enter\n",
       "    if (event.shiftKey && event.which === 13) {\n",
       "        this.canvas_div.blur();\n",
       "        // select the cell after this one\n",
       "        var index = IPython.notebook.find_cell_index(this.cell_info[0]);\n",
       "        IPython.notebook.select(index + 1);\n",
       "    }\n",
       "};\n",
       "\n",
       "mpl.figure.prototype.handle_save = function (fig, _msg) {\n",
       "    fig.ondownload(fig, null);\n",
       "};\n",
       "\n",
       "mpl.find_output_cell = function (html_output) {\n",
       "    // Return the cell and output element which can be found *uniquely* in the notebook.\n",
       "    // Note - this is a bit hacky, but it is done because the \"notebook_saving.Notebook\"\n",
       "    // IPython event is triggered only after the cells have been serialised, which for\n",
       "    // our purposes (turning an active figure into a static one), is too late.\n",
       "    var cells = IPython.notebook.get_cells();\n",
       "    var ncells = cells.length;\n",
       "    for (var i = 0; i < ncells; i++) {\n",
       "        var cell = cells[i];\n",
       "        if (cell.cell_type === 'code') {\n",
       "            for (var j = 0; j < cell.output_area.outputs.length; j++) {\n",
       "                var data = cell.output_area.outputs[j];\n",
       "                if (data.data) {\n",
       "                    // IPython >= 3 moved mimebundle to data attribute of output\n",
       "                    data = data.data;\n",
       "                }\n",
       "                if (data['text/html'] === html_output) {\n",
       "                    return [cell, data, j];\n",
       "                }\n",
       "            }\n",
       "        }\n",
       "    }\n",
       "};\n",
       "\n",
       "// Register the function which deals with the matplotlib target/channel.\n",
       "// The kernel may be null if the page has been refreshed.\n",
       "if (IPython.notebook.kernel !== null) {\n",
       "    IPython.notebook.kernel.comm_manager.register_target(\n",
       "        'matplotlib',\n",
       "        mpl.mpl_figure_comm\n",
       "    );\n",
       "}\n"
      ],
      "text/plain": [
       "<IPython.core.display.Javascript object>"
      ]
     },
     "metadata": {},
     "output_type": "display_data"
    },
    {
     "data": {
      "text/html": [
       "<img src=\"data:image/png;base64,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\" width=\"640\">"
      ],
      "text/plain": [
       "<IPython.core.display.HTML object>"
      ]
     },
     "metadata": {},
     "output_type": "display_data"
    }
   ],
   "source": [
    "%matplotlib notebook\n",
    "import matplotlib.pyplot as plt\n",
    "\n",
    "from mpl_toolkits.mplot3d import Axes3D\n",
    "\n",
    "\n",
    "from matplotlib import interactive,pyplot\n",
    "from mpl_toolkits.mplot3d import Axes3D\n",
    "from numpy.random import rand\n",
    "from pylab import figure\n",
    "\n",
    " \n",
    "m=rand(3,3) # m is an array of (x,y,z) coordinate triplets\n",
    " \n",
    "fig = figure()\n",
    "ax = fig.add_subplot(projection='3d')\n",
    "\n",
    "for i in range(len(df_mca)): #plot each point + its index as text above\n",
    "    if i==4:\n",
    "        delta=0.2\n",
    "        delta2=0.\n",
    "    elif i==7:\n",
    "        delta=0.1\n",
    "        delta2=0.\n",
    "    elif i==1:\n",
    "        delta=0.1\n",
    "        delta2=0.1\n",
    "    else:\n",
    "        delta=0.\n",
    "        delta2=0\n",
    "    ax.scatter(df_mca.iloc[i,0],df_mca.iloc[i,1],df_mca.iloc[i,2],color='b') \n",
    "    ax.text(df_mca.iloc[i,0]+delta,df_mca.iloc[i,1]+delta2,df_mca.iloc[i,2],  '%s' % (index[i]), size=10, zorder=1,  \n",
    "    color='k') \n",
    "\n",
    "ax.set_xlabel(f'component 0 {round(mca.explained_inertia_[0]*100,1)}%', fontsize=14)\n",
    "ax.set_ylabel(f'component 1 {round(mca.explained_inertia_[1]*100,1)}%', fontsize=14)\n",
    "ax.set_zlabel(f'component 2 {round(mca.explained_inertia_[2]*100,1)}%', fontsize=14)\n",
    "\n",
    "\n",
    "ax.view_init(60., -20.)\n",
    "\n",
    "plt.show()\n",
    "plt.savefig('DimensionsReductionSurvey2023_orig-4diagram_1000dpi.pdf',dpi=1000,format='pdf')\n",
    "plt.savefig('DimensionsReductionSurvey2023_orig-4diagram_1000dpi.tiff',dpi=1000,format='tiff')\n",
    "\n",
    "\n",
    "\n"
   ]
  },
  {
   "cell_type": "code",
   "execution_count": 61,
   "metadata": {},
   "outputs": [
    {
     "data": {
      "application/vnd.plotly.v1+json": {
       "config": {
        "plotlyServerURL": "https://plot.ly"
       },
       "data": [
        {
         "diagonal": {
          "visible": false
         },
         "dimensions": [
          {
           "axis": {
            "matches": true
           },
           "label": "PC 1 (0.3%)",
           "values": [
            0.6289565590029355
           ]
          },
          {
           "axis": {
            "matches": true
           },
           "label": "PC 2 (0.2%)",
           "values": [
            -0.9174858564915227
           ]
          },
          {
           "axis": {
            "matches": true
           },
           "label": "PC 3 (0.2%)",
           "values": [
            0.26626594721708613
           ]
          }
         ],
         "hovertemplate": "index=ehrbase<br>%{xaxis.title.text}=%{x}<br>%{yaxis.title.text}=%{y}<extra></extra>",
         "legendgroup": "ehrbase",
         "marker": {
          "color": "#636efa",
          "symbol": "circle"
         },
         "name": "ehrbase",
         "showlegend": true,
         "type": "splom"
        },
        {
         "diagonal": {
          "visible": false
         },
         "dimensions": [
          {
           "axis": {
            "matches": true
           },
           "label": "PC 1 (0.3%)",
           "values": [
            -0.3925628734451425
           ]
          },
          {
           "axis": {
            "matches": true
           },
           "label": "PC 2 (0.2%)",
           "values": [
            -0.6617309886561458
           ]
          },
          {
           "axis": {
            "matches": true
           },
           "label": "PC 3 (0.2%)",
           "values": [
            0.04154638950386081
           ]
          }
         ],
         "hovertemplate": "index=better<br>%{xaxis.title.text}=%{x}<br>%{yaxis.title.text}=%{y}<extra></extra>",
         "legendgroup": "better",
         "marker": {
          "color": "#EF553B",
          "symbol": "circle"
         },
         "name": "better",
         "showlegend": true,
         "type": "splom"
        },
        {
         "diagonal": {
          "visible": false
         },
         "dimensions": [
          {
           "axis": {
            "matches": true
           },
           "label": "PC 1 (0.3%)",
           "values": [
            0.3885216217026657
           ]
          },
          {
           "axis": {
            "matches": true
           },
           "label": "PC 2 (0.2%)",
           "values": [
            0.43529829942952714
           ]
          },
          {
           "axis": {
            "matches": true
           },
           "label": "PC 3 (0.2%)",
           "values": [
            -0.6092467146490055
           ]
          }
         ],
         "hovertemplate": "index=base24<br>%{xaxis.title.text}=%{x}<br>%{yaxis.title.text}=%{y}<extra></extra>",
         "legendgroup": "base24",
         "marker": {
          "color": "#00cc96",
          "symbol": "circle"
         },
         "name": "base24",
         "showlegend": true,
         "type": "splom"
        },
        {
         "diagonal": {
          "visible": false
         },
         "dimensions": [
          {
           "axis": {
            "matches": true
           },
           "label": "PC 1 (0.3%)",
           "values": [
            1.3703666117447757
           ]
          },
          {
           "axis": {
            "matches": true
           },
           "label": "PC 2 (0.2%)",
           "values": [
            0.13840271150243547
           ]
          },
          {
           "axis": {
            "matches": true
           },
           "label": "PC 3 (0.2%)",
           "values": [
            -0.6928814326165799
           ]
          }
         ],
         "hovertemplate": "index=cabo<br>%{xaxis.title.text}=%{x}<br>%{yaxis.title.text}=%{y}<extra></extra>",
         "legendgroup": "cabo",
         "marker": {
          "color": "#ab63fa",
          "symbol": "circle"
         },
         "name": "cabo",
         "showlegend": true,
         "type": "splom"
        },
        {
         "diagonal": {
          "visible": false
         },
         "dimensions": [
          {
           "axis": {
            "matches": true
           },
           "label": "PC 1 (0.3%)",
           "values": [
            -0.23517697946442256
           ]
          },
          {
           "axis": {
            "matches": true
           },
           "label": "PC 2 (0.2%)",
           "values": [
            -0.7628876107364937
           ]
          },
          {
           "axis": {
            "matches": true
           },
           "label": "PC 3 (0.2%)",
           "values": [
            0.3129025900680174
           ]
          }
         ],
         "hovertemplate": "index=arenaehr<br>%{xaxis.title.text}=%{x}<br>%{yaxis.title.text}=%{y}<extra></extra>",
         "legendgroup": "arenaehr",
         "marker": {
          "color": "#FFA15A",
          "symbol": "circle"
         },
         "name": "arenaehr",
         "showlegend": true,
         "type": "splom"
        },
        {
         "diagonal": {
          "visible": false
         },
         "dimensions": [
          {
           "axis": {
            "matches": true
           },
           "label": "PC 1 (0.3%)",
           "values": [
            0.22351092361813304
           ]
          },
          {
           "axis": {
            "matches": true
           },
           "label": "PC 2 (0.2%)",
           "values": [
            1.2504056169105782
           ]
          },
          {
           "axis": {
            "matches": true
           },
           "label": "PC 3 (0.2%)",
           "values": [
            0.923621865984319
           ]
          }
         ],
         "hovertemplate": "index=eweave<br>%{xaxis.title.text}=%{x}<br>%{yaxis.title.text}=%{y}<extra></extra>",
         "legendgroup": "eweave",
         "marker": {
          "color": "#19d3f3",
          "symbol": "circle"
         },
         "name": "eweave",
         "showlegend": true,
         "type": "splom"
        },
        {
         "diagonal": {
          "visible": false
         },
         "dimensions": [
          {
           "axis": {
            "matches": true
           },
           "label": "PC 1 (0.3%)",
           "values": [
            -0.14372879196626803
           ]
          },
          {
           "axis": {
            "matches": true
           },
           "label": "PC 2 (0.2%)",
           "values": [
            0.14002744388086022
           ]
          },
          {
           "axis": {
            "matches": true
           },
           "label": "PC 3 (0.2%)",
           "values": [
            0.6261949715444115
           ]
          }
         ],
         "hovertemplate": "index=ehrcare<br>%{xaxis.title.text}=%{x}<br>%{yaxis.title.text}=%{y}<extra></extra>",
         "legendgroup": "ehrcare",
         "marker": {
          "color": "#FF6692",
          "symbol": "circle"
         },
         "name": "ehrcare",
         "showlegend": true,
         "type": "splom"
        },
        {
         "diagonal": {
          "visible": false
         },
         "dimensions": [
          {
           "axis": {
            "matches": true
           },
           "label": "PC 1 (0.3%)",
           "values": [
            -0.9261998000344346
           ]
          },
          {
           "axis": {
            "matches": true
           },
           "label": "PC 2 (0.2%)",
           "values": [
            0.17687034763193496
           ]
          },
          {
           "axis": {
            "matches": true
           },
           "label": "PC 3 (0.2%)",
           "values": [
            -0.7380186993793514
           ]
          }
         ],
         "hovertemplate": "index=clever<br>%{xaxis.title.text}=%{x}<br>%{yaxis.title.text}=%{y}<extra></extra>",
         "legendgroup": "clever",
         "marker": {
          "color": "#B6E880",
          "symbol": "circle"
         },
         "name": "clever",
         "showlegend": true,
         "type": "splom"
        },
        {
         "diagonal": {
          "visible": false
         },
         "dimensions": [
          {
           "axis": {
            "matches": true
           },
           "label": "PC 1 (0.3%)",
           "values": [
            -0.4123987281754996
           ]
          },
          {
           "axis": {
            "matches": true
           },
           "label": "PC 2 (0.2%)",
           "values": [
            -0.5811795164822273
           ]
          },
          {
           "axis": {
            "matches": true
           },
           "label": "PC 3 (0.2%)",
           "values": [
            0.052052879592194116
           ]
          }
         ],
         "hovertemplate": "index=ehrdb<br>%{xaxis.title.text}=%{x}<br>%{yaxis.title.text}=%{y}<extra></extra>",
         "legendgroup": "ehrdb",
         "marker": {
          "color": "#FF97FF",
          "symbol": "circle"
         },
         "name": "ehrdb",
         "showlegend": true,
         "type": "splom"
        },
        {
         "diagonal": {
          "visible": false
         },
         "dimensions": [
          {
           "axis": {
            "matches": true
           },
           "label": "PC 1 (0.3%)",
           "values": [
            -0.8578779403837999
           ]
          },
          {
           "axis": {
            "matches": true
           },
           "label": "PC 2 (0.2%)",
           "values": [
            0.6876080165851824
           ]
          },
          {
           "axis": {
            "matches": true
           },
           "label": "PC 3 (0.2%)",
           "values": [
            -0.32538237691212796
           ]
          }
         ],
         "hovertemplate": "index=rhp<br>%{xaxis.title.text}=%{x}<br>%{yaxis.title.text}=%{y}<extra></extra>",
         "legendgroup": "rhp",
         "marker": {
          "color": "#FECB52",
          "symbol": "circle"
         },
         "name": "rhp",
         "showlegend": true,
         "type": "splom"
        },
        {
         "diagonal": {
          "visible": false
         },
         "dimensions": [
          {
           "axis": {
            "matches": true
           },
           "label": "PC 1 (0.3%)",
           "values": [
            0.35658939740105744
           ]
          },
          {
           "axis": {
            "matches": true
           },
           "label": "PC 2 (0.2%)",
           "values": [
            0.09467153642587163
           ]
          },
          {
           "axis": {
            "matches": true
           },
           "label": "PC 3 (0.2%)",
           "values": [
            0.14294457964717655
           ]
          }
         ],
         "hovertemplate": "index=ehrn<br>%{xaxis.title.text}=%{x}<br>%{yaxis.title.text}=%{y}<extra></extra>",
         "legendgroup": "ehrn",
         "marker": {
          "color": "#636efa",
          "symbol": "circle"
         },
         "name": "ehrn",
         "showlegend": true,
         "type": "splom"
        }
       ],
       "layout": {
        "dragmode": "select",
        "legend": {
         "title": {
          "text": "index"
         },
         "tracegroupgap": 0
        },
        "margin": {
         "t": 60
        },
        "template": {
         "data": {
          "bar": [
           {
            "error_x": {
             "color": "#2a3f5f"
            },
            "error_y": {
             "color": "#2a3f5f"
            },
            "marker": {
             "line": {
              "color": "#E5ECF6",
              "width": 0.5
             },
             "pattern": {
              "fillmode": "overlay",
              "size": 10,
              "solidity": 0.2
             }
            },
            "type": "bar"
           }
          ],
          "barpolar": [
           {
            "marker": {
             "line": {
              "color": "#E5ECF6",
              "width": 0.5
             },
             "pattern": {
              "fillmode": "overlay",
              "size": 10,
              "solidity": 0.2
             }
            },
            "type": "barpolar"
           }
          ],
          "carpet": [
           {
            "aaxis": {
             "endlinecolor": "#2a3f5f",
             "gridcolor": "white",
             "linecolor": "white",
             "minorgridcolor": "white",
             "startlinecolor": "#2a3f5f"
            },
            "baxis": {
             "endlinecolor": "#2a3f5f",
             "gridcolor": "white",
             "linecolor": "white",
             "minorgridcolor": "white",
             "startlinecolor": "#2a3f5f"
            },
            "type": "carpet"
           }
          ],
          "choropleth": [
           {
            "colorbar": {
             "outlinewidth": 0,
             "ticks": ""
            },
            "type": "choropleth"
           }
          ],
          "contour": [
           {
            "colorbar": {
             "outlinewidth": 0,
             "ticks": ""
            },
            "colorscale": [
             [
              0,
              "#0d0887"
             ],
             [
              0.1111111111111111,
              "#46039f"
             ],
             [
              0.2222222222222222,
              "#7201a8"
             ],
             [
              0.3333333333333333,
              "#9c179e"
             ],
             [
              0.4444444444444444,
              "#bd3786"
             ],
             [
              0.5555555555555556,
              "#d8576b"
             ],
             [
              0.6666666666666666,
              "#ed7953"
             ],
             [
              0.7777777777777778,
              "#fb9f3a"
             ],
             [
              0.8888888888888888,
              "#fdca26"
             ],
             [
              1,
              "#f0f921"
             ]
            ],
            "type": "contour"
           }
          ],
          "contourcarpet": [
           {
            "colorbar": {
             "outlinewidth": 0,
             "ticks": ""
            },
            "type": "contourcarpet"
           }
          ],
          "heatmap": [
           {
            "colorbar": {
             "outlinewidth": 0,
             "ticks": ""
            },
            "colorscale": [
             [
              0,
              "#0d0887"
             ],
             [
              0.1111111111111111,
              "#46039f"
             ],
             [
              0.2222222222222222,
              "#7201a8"
             ],
             [
              0.3333333333333333,
              "#9c179e"
             ],
             [
              0.4444444444444444,
              "#bd3786"
             ],
             [
              0.5555555555555556,
              "#d8576b"
             ],
             [
              0.6666666666666666,
              "#ed7953"
             ],
             [
              0.7777777777777778,
              "#fb9f3a"
             ],
             [
              0.8888888888888888,
              "#fdca26"
             ],
             [
              1,
              "#f0f921"
             ]
            ],
            "type": "heatmap"
           }
          ],
          "heatmapgl": [
           {
            "colorbar": {
             "outlinewidth": 0,
             "ticks": ""
            },
            "colorscale": [
             [
              0,
              "#0d0887"
             ],
             [
              0.1111111111111111,
              "#46039f"
             ],
             [
              0.2222222222222222,
              "#7201a8"
             ],
             [
              0.3333333333333333,
              "#9c179e"
             ],
             [
              0.4444444444444444,
              "#bd3786"
             ],
             [
              0.5555555555555556,
              "#d8576b"
             ],
             [
              0.6666666666666666,
              "#ed7953"
             ],
             [
              0.7777777777777778,
              "#fb9f3a"
             ],
             [
              0.8888888888888888,
              "#fdca26"
             ],
             [
              1,
              "#f0f921"
             ]
            ],
            "type": "heatmapgl"
           }
          ],
          "histogram": [
           {
            "marker": {
             "pattern": {
              "fillmode": "overlay",
              "size": 10,
              "solidity": 0.2
             }
            },
            "type": "histogram"
           }
          ],
          "histogram2d": [
           {
            "colorbar": {
             "outlinewidth": 0,
             "ticks": ""
            },
            "colorscale": [
             [
              0,
              "#0d0887"
             ],
             [
              0.1111111111111111,
              "#46039f"
             ],
             [
              0.2222222222222222,
              "#7201a8"
             ],
             [
              0.3333333333333333,
              "#9c179e"
             ],
             [
              0.4444444444444444,
              "#bd3786"
             ],
             [
              0.5555555555555556,
              "#d8576b"
             ],
             [
              0.6666666666666666,
              "#ed7953"
             ],
             [
              0.7777777777777778,
              "#fb9f3a"
             ],
             [
              0.8888888888888888,
              "#fdca26"
             ],
             [
              1,
              "#f0f921"
             ]
            ],
            "type": "histogram2d"
           }
          ],
          "histogram2dcontour": [
           {
            "colorbar": {
             "outlinewidth": 0,
             "ticks": ""
            },
            "colorscale": [
             [
              0,
              "#0d0887"
             ],
             [
              0.1111111111111111,
              "#46039f"
             ],
             [
              0.2222222222222222,
              "#7201a8"
             ],
             [
              0.3333333333333333,
              "#9c179e"
             ],
             [
              0.4444444444444444,
              "#bd3786"
             ],
             [
              0.5555555555555556,
              "#d8576b"
             ],
             [
              0.6666666666666666,
              "#ed7953"
             ],
             [
              0.7777777777777778,
              "#fb9f3a"
             ],
             [
              0.8888888888888888,
              "#fdca26"
             ],
             [
              1,
              "#f0f921"
             ]
            ],
            "type": "histogram2dcontour"
           }
          ],
          "mesh3d": [
           {
            "colorbar": {
             "outlinewidth": 0,
             "ticks": ""
            },
            "type": "mesh3d"
           }
          ],
          "parcoords": [
           {
            "line": {
             "colorbar": {
              "outlinewidth": 0,
              "ticks": ""
             }
            },
            "type": "parcoords"
           }
          ],
          "pie": [
           {
            "automargin": true,
            "type": "pie"
           }
          ],
          "scatter": [
           {
            "marker": {
             "colorbar": {
              "outlinewidth": 0,
              "ticks": ""
             }
            },
            "type": "scatter"
           }
          ],
          "scatter3d": [
           {
            "line": {
             "colorbar": {
              "outlinewidth": 0,
              "ticks": ""
             }
            },
            "marker": {
             "colorbar": {
              "outlinewidth": 0,
              "ticks": ""
             }
            },
            "type": "scatter3d"
           }
          ],
          "scattercarpet": [
           {
            "marker": {
             "colorbar": {
              "outlinewidth": 0,
              "ticks": ""
             }
            },
            "type": "scattercarpet"
           }
          ],
          "scattergeo": [
           {
            "marker": {
             "colorbar": {
              "outlinewidth": 0,
              "ticks": ""
             }
            },
            "type": "scattergeo"
           }
          ],
          "scattergl": [
           {
            "marker": {
             "colorbar": {
              "outlinewidth": 0,
              "ticks": ""
             }
            },
            "type": "scattergl"
           }
          ],
          "scattermapbox": [
           {
            "marker": {
             "colorbar": {
              "outlinewidth": 0,
              "ticks": ""
             }
            },
            "type": "scattermapbox"
           }
          ],
          "scatterpolar": [
           {
            "marker": {
             "colorbar": {
              "outlinewidth": 0,
              "ticks": ""
             }
            },
            "type": "scatterpolar"
           }
          ],
          "scatterpolargl": [
           {
            "marker": {
             "colorbar": {
              "outlinewidth": 0,
              "ticks": ""
             }
            },
            "type": "scatterpolargl"
           }
          ],
          "scatterternary": [
           {
            "marker": {
             "colorbar": {
              "outlinewidth": 0,
              "ticks": ""
             }
            },
            "type": "scatterternary"
           }
          ],
          "surface": [
           {
            "colorbar": {
             "outlinewidth": 0,
             "ticks": ""
            },
            "colorscale": [
             [
              0,
              "#0d0887"
             ],
             [
              0.1111111111111111,
              "#46039f"
             ],
             [
              0.2222222222222222,
              "#7201a8"
             ],
             [
              0.3333333333333333,
              "#9c179e"
             ],
             [
              0.4444444444444444,
              "#bd3786"
             ],
             [
              0.5555555555555556,
              "#d8576b"
             ],
             [
              0.6666666666666666,
              "#ed7953"
             ],
             [
              0.7777777777777778,
              "#fb9f3a"
             ],
             [
              0.8888888888888888,
              "#fdca26"
             ],
             [
              1,
              "#f0f921"
             ]
            ],
            "type": "surface"
           }
          ],
          "table": [
           {
            "cells": {
             "fill": {
              "color": "#EBF0F8"
             },
             "line": {
              "color": "white"
             }
            },
            "header": {
             "fill": {
              "color": "#C8D4E3"
             },
             "line": {
              "color": "white"
             }
            },
            "type": "table"
           }
          ]
         },
         "layout": {
          "annotationdefaults": {
           "arrowcolor": "#2a3f5f",
           "arrowhead": 0,
           "arrowwidth": 1
          },
          "autotypenumbers": "strict",
          "coloraxis": {
           "colorbar": {
            "outlinewidth": 0,
            "ticks": ""
           }
          },
          "colorscale": {
           "diverging": [
            [
             0,
             "#8e0152"
            ],
            [
             0.1,
             "#c51b7d"
            ],
            [
             0.2,
             "#de77ae"
            ],
            [
             0.3,
             "#f1b6da"
            ],
            [
             0.4,
             "#fde0ef"
            ],
            [
             0.5,
             "#f7f7f7"
            ],
            [
             0.6,
             "#e6f5d0"
            ],
            [
             0.7,
             "#b8e186"
            ],
            [
             0.8,
             "#7fbc41"
            ],
            [
             0.9,
             "#4d9221"
            ],
            [
             1,
             "#276419"
            ]
           ],
           "sequential": [
            [
             0,
             "#0d0887"
            ],
            [
             0.1111111111111111,
             "#46039f"
            ],
            [
             0.2222222222222222,
             "#7201a8"
            ],
            [
             0.3333333333333333,
             "#9c179e"
            ],
            [
             0.4444444444444444,
             "#bd3786"
            ],
            [
             0.5555555555555556,
             "#d8576b"
            ],
            [
             0.6666666666666666,
             "#ed7953"
            ],
            [
             0.7777777777777778,
             "#fb9f3a"
            ],
            [
             0.8888888888888888,
             "#fdca26"
            ],
            [
             1,
             "#f0f921"
            ]
           ],
           "sequentialminus": [
            [
             0,
             "#0d0887"
            ],
            [
             0.1111111111111111,
             "#46039f"
            ],
            [
             0.2222222222222222,
             "#7201a8"
            ],
            [
             0.3333333333333333,
             "#9c179e"
            ],
            [
             0.4444444444444444,
             "#bd3786"
            ],
            [
             0.5555555555555556,
             "#d8576b"
            ],
            [
             0.6666666666666666,
             "#ed7953"
            ],
            [
             0.7777777777777778,
             "#fb9f3a"
            ],
            [
             0.8888888888888888,
             "#fdca26"
            ],
            [
             1,
             "#f0f921"
            ]
           ]
          },
          "colorway": [
           "#636efa",
           "#EF553B",
           "#00cc96",
           "#ab63fa",
           "#FFA15A",
           "#19d3f3",
           "#FF6692",
           "#B6E880",
           "#FF97FF",
           "#FECB52"
          ],
          "font": {
           "color": "#2a3f5f"
          },
          "geo": {
           "bgcolor": "white",
           "lakecolor": "white",
           "landcolor": "#E5ECF6",
           "showlakes": true,
           "showland": true,
           "subunitcolor": "white"
          },
          "hoverlabel": {
           "align": "left"
          },
          "hovermode": "closest",
          "mapbox": {
           "style": "light"
          },
          "paper_bgcolor": "white",
          "plot_bgcolor": "#E5ECF6",
          "polar": {
           "angularaxis": {
            "gridcolor": "white",
            "linecolor": "white",
            "ticks": ""
           },
           "bgcolor": "#E5ECF6",
           "radialaxis": {
            "gridcolor": "white",
            "linecolor": "white",
            "ticks": ""
           }
          },
          "scene": {
           "xaxis": {
            "backgroundcolor": "#E5ECF6",
            "gridcolor": "white",
            "gridwidth": 2,
            "linecolor": "white",
            "showbackground": true,
            "ticks": "",
            "zerolinecolor": "white"
           },
           "yaxis": {
            "backgroundcolor": "#E5ECF6",
            "gridcolor": "white",
            "gridwidth": 2,
            "linecolor": "white",
            "showbackground": true,
            "ticks": "",
            "zerolinecolor": "white"
           },
           "zaxis": {
            "backgroundcolor": "#E5ECF6",
            "gridcolor": "white",
            "gridwidth": 2,
            "linecolor": "white",
            "showbackground": true,
            "ticks": "",
            "zerolinecolor": "white"
           }
          },
          "shapedefaults": {
           "line": {
            "color": "#2a3f5f"
           }
          },
          "ternary": {
           "aaxis": {
            "gridcolor": "white",
            "linecolor": "white",
            "ticks": ""
           },
           "baxis": {
            "gridcolor": "white",
            "linecolor": "white",
            "ticks": ""
           },
           "bgcolor": "#E5ECF6",
           "caxis": {
            "gridcolor": "white",
            "linecolor": "white",
            "ticks": ""
           }
          },
          "title": {
           "x": 0.05
          },
          "xaxis": {
           "automargin": true,
           "gridcolor": "white",
           "linecolor": "white",
           "ticks": "",
           "title": {
            "standoff": 15
           },
           "zerolinecolor": "white",
           "zerolinewidth": 2
          },
          "yaxis": {
           "automargin": true,
           "gridcolor": "white",
           "linecolor": "white",
           "ticks": "",
           "title": {
            "standoff": 15
           },
           "zerolinecolor": "white",
           "zerolinewidth": 2
          }
         }
        }
       }
      },
      "text/html": [
       "<div>                            <div id=\"72096852-e454-411f-977e-f21afe3cbf16\" class=\"plotly-graph-div\" style=\"height:525px; width:100%;\"></div>            <script type=\"text/javascript\">                require([\"plotly\"], function(Plotly) {                    window.PLOTLYENV=window.PLOTLYENV || {};                                    if (document.getElementById(\"72096852-e454-411f-977e-f21afe3cbf16\")) {                    Plotly.newPlot(                        \"72096852-e454-411f-977e-f21afe3cbf16\",                        [{\"dimensions\":[{\"axis\":{\"matches\":true},\"label\":\"PC 1 (0.3%)\",\"values\":[0.6289565590029355]},{\"axis\":{\"matches\":true},\"label\":\"PC 2 (0.2%)\",\"values\":[-0.9174858564915227]},{\"axis\":{\"matches\":true},\"label\":\"PC 3 (0.2%)\",\"values\":[0.26626594721708613]}],\"hovertemplate\":\"index=ehrbase<br>%{xaxis.title.text}=%{x}<br>%{yaxis.title.text}=%{y}<extra></extra>\",\"legendgroup\":\"ehrbase\",\"marker\":{\"color\":\"#636efa\",\"symbol\":\"circle\"},\"name\":\"ehrbase\",\"showlegend\":true,\"type\":\"splom\",\"diagonal\":{\"visible\":false}},{\"dimensions\":[{\"axis\":{\"matches\":true},\"label\":\"PC 1 (0.3%)\",\"values\":[-0.3925628734451425]},{\"axis\":{\"matches\":true},\"label\":\"PC 2 (0.2%)\",\"values\":[-0.6617309886561458]},{\"axis\":{\"matches\":true},\"label\":\"PC 3 (0.2%)\",\"values\":[0.04154638950386081]}],\"hovertemplate\":\"index=better<br>%{xaxis.title.text}=%{x}<br>%{yaxis.title.text}=%{y}<extra></extra>\",\"legendgroup\":\"better\",\"marker\":{\"color\":\"#EF553B\",\"symbol\":\"circle\"},\"name\":\"better\",\"showlegend\":true,\"type\":\"splom\",\"diagonal\":{\"visible\":false}},{\"dimensions\":[{\"axis\":{\"matches\":true},\"label\":\"PC 1 (0.3%)\",\"values\":[0.3885216217026657]},{\"axis\":{\"matches\":true},\"label\":\"PC 2 (0.2%)\",\"values\":[0.43529829942952714]},{\"axis\":{\"matches\":true},\"label\":\"PC 3 (0.2%)\",\"values\":[-0.6092467146490055]}],\"hovertemplate\":\"index=base24<br>%{xaxis.title.text}=%{x}<br>%{yaxis.title.text}=%{y}<extra></extra>\",\"legendgroup\":\"base24\",\"marker\":{\"color\":\"#00cc96\",\"symbol\":\"circle\"},\"name\":\"base24\",\"showlegend\":true,\"type\":\"splom\",\"diagonal\":{\"visible\":false}},{\"dimensions\":[{\"axis\":{\"matches\":true},\"label\":\"PC 1 (0.3%)\",\"values\":[1.3703666117447757]},{\"axis\":{\"matches\":true},\"label\":\"PC 2 (0.2%)\",\"values\":[0.13840271150243547]},{\"axis\":{\"matches\":true},\"label\":\"PC 3 (0.2%)\",\"values\":[-0.6928814326165799]}],\"hovertemplate\":\"index=cabo<br>%{xaxis.title.text}=%{x}<br>%{yaxis.title.text}=%{y}<extra></extra>\",\"legendgroup\":\"cabo\",\"marker\":{\"color\":\"#ab63fa\",\"symbol\":\"circle\"},\"name\":\"cabo\",\"showlegend\":true,\"type\":\"splom\",\"diagonal\":{\"visible\":false}},{\"dimensions\":[{\"axis\":{\"matches\":true},\"label\":\"PC 1 (0.3%)\",\"values\":[-0.23517697946442256]},{\"axis\":{\"matches\":true},\"label\":\"PC 2 (0.2%)\",\"values\":[-0.7628876107364937]},{\"axis\":{\"matches\":true},\"label\":\"PC 3 (0.2%)\",\"values\":[0.3129025900680174]}],\"hovertemplate\":\"index=arenaehr<br>%{xaxis.title.text}=%{x}<br>%{yaxis.title.text}=%{y}<extra></extra>\",\"legendgroup\":\"arenaehr\",\"marker\":{\"color\":\"#FFA15A\",\"symbol\":\"circle\"},\"name\":\"arenaehr\",\"showlegend\":true,\"type\":\"splom\",\"diagonal\":{\"visible\":false}},{\"dimensions\":[{\"axis\":{\"matches\":true},\"label\":\"PC 1 (0.3%)\",\"values\":[0.22351092361813304]},{\"axis\":{\"matches\":true},\"label\":\"PC 2 (0.2%)\",\"values\":[1.2504056169105782]},{\"axis\":{\"matches\":true},\"label\":\"PC 3 (0.2%)\",\"values\":[0.923621865984319]}],\"hovertemplate\":\"index=eweave<br>%{xaxis.title.text}=%{x}<br>%{yaxis.title.text}=%{y}<extra></extra>\",\"legendgroup\":\"eweave\",\"marker\":{\"color\":\"#19d3f3\",\"symbol\":\"circle\"},\"name\":\"eweave\",\"showlegend\":true,\"type\":\"splom\",\"diagonal\":{\"visible\":false}},{\"dimensions\":[{\"axis\":{\"matches\":true},\"label\":\"PC 1 (0.3%)\",\"values\":[-0.14372879196626803]},{\"axis\":{\"matches\":true},\"label\":\"PC 2 (0.2%)\",\"values\":[0.14002744388086022]},{\"axis\":{\"matches\":true},\"label\":\"PC 3 (0.2%)\",\"values\":[0.6261949715444115]}],\"hovertemplate\":\"index=ehrcare<br>%{xaxis.title.text}=%{x}<br>%{yaxis.title.text}=%{y}<extra></extra>\",\"legendgroup\":\"ehrcare\",\"marker\":{\"color\":\"#FF6692\",\"symbol\":\"circle\"},\"name\":\"ehrcare\",\"showlegend\":true,\"type\":\"splom\",\"diagonal\":{\"visible\":false}},{\"dimensions\":[{\"axis\":{\"matches\":true},\"label\":\"PC 1 (0.3%)\",\"values\":[-0.9261998000344346]},{\"axis\":{\"matches\":true},\"label\":\"PC 2 (0.2%)\",\"values\":[0.17687034763193496]},{\"axis\":{\"matches\":true},\"label\":\"PC 3 (0.2%)\",\"values\":[-0.7380186993793514]}],\"hovertemplate\":\"index=clever<br>%{xaxis.title.text}=%{x}<br>%{yaxis.title.text}=%{y}<extra></extra>\",\"legendgroup\":\"clever\",\"marker\":{\"color\":\"#B6E880\",\"symbol\":\"circle\"},\"name\":\"clever\",\"showlegend\":true,\"type\":\"splom\",\"diagonal\":{\"visible\":false}},{\"dimensions\":[{\"axis\":{\"matches\":true},\"label\":\"PC 1 (0.3%)\",\"values\":[-0.4123987281754996]},{\"axis\":{\"matches\":true},\"label\":\"PC 2 (0.2%)\",\"values\":[-0.5811795164822273]},{\"axis\":{\"matches\":true},\"label\":\"PC 3 (0.2%)\",\"values\":[0.052052879592194116]}],\"hovertemplate\":\"index=ehrdb<br>%{xaxis.title.text}=%{x}<br>%{yaxis.title.text}=%{y}<extra></extra>\",\"legendgroup\":\"ehrdb\",\"marker\":{\"color\":\"#FF97FF\",\"symbol\":\"circle\"},\"name\":\"ehrdb\",\"showlegend\":true,\"type\":\"splom\",\"diagonal\":{\"visible\":false}},{\"dimensions\":[{\"axis\":{\"matches\":true},\"label\":\"PC 1 (0.3%)\",\"values\":[-0.8578779403837999]},{\"axis\":{\"matches\":true},\"label\":\"PC 2 (0.2%)\",\"values\":[0.6876080165851824]},{\"axis\":{\"matches\":true},\"label\":\"PC 3 (0.2%)\",\"values\":[-0.32538237691212796]}],\"hovertemplate\":\"index=rhp<br>%{xaxis.title.text}=%{x}<br>%{yaxis.title.text}=%{y}<extra></extra>\",\"legendgroup\":\"rhp\",\"marker\":{\"color\":\"#FECB52\",\"symbol\":\"circle\"},\"name\":\"rhp\",\"showlegend\":true,\"type\":\"splom\",\"diagonal\":{\"visible\":false}},{\"dimensions\":[{\"axis\":{\"matches\":true},\"label\":\"PC 1 (0.3%)\",\"values\":[0.35658939740105744]},{\"axis\":{\"matches\":true},\"label\":\"PC 2 (0.2%)\",\"values\":[0.09467153642587163]},{\"axis\":{\"matches\":true},\"label\":\"PC 3 (0.2%)\",\"values\":[0.14294457964717655]}],\"hovertemplate\":\"index=ehrn<br>%{xaxis.title.text}=%{x}<br>%{yaxis.title.text}=%{y}<extra></extra>\",\"legendgroup\":\"ehrn\",\"marker\":{\"color\":\"#636efa\",\"symbol\":\"circle\"},\"name\":\"ehrn\",\"showlegend\":true,\"type\":\"splom\",\"diagonal\":{\"visible\":false}}],                        {\"template\":{\"data\":{\"bar\":[{\"error_x\":{\"color\":\"#2a3f5f\"},\"error_y\":{\"color\":\"#2a3f5f\"},\"marker\":{\"line\":{\"color\":\"#E5ECF6\",\"width\":0.5},\"pattern\":{\"fillmode\":\"overlay\",\"size\":10,\"solidity\":0.2}},\"type\":\"bar\"}],\"barpolar\":[{\"marker\":{\"line\":{\"color\":\"#E5ECF6\",\"width\":0.5},\"pattern\":{\"fillmode\":\"overlay\",\"size\":10,\"solidity\":0.2}},\"type\":\"barpolar\"}],\"carpet\":[{\"aaxis\":{\"endlinecolor\":\"#2a3f5f\",\"gridcolor\":\"white\",\"linecolor\":\"white\",\"minorgridcolor\":\"white\",\"startlinecolor\":\"#2a3f5f\"},\"baxis\":{\"endlinecolor\":\"#2a3f5f\",\"gridcolor\":\"white\",\"linecolor\":\"white\",\"minorgridcolor\":\"white\",\"startlinecolor\":\"#2a3f5f\"},\"type\":\"carpet\"}],\"choropleth\":[{\"colorbar\":{\"outlinewidth\":0,\"ticks\":\"\"},\"type\":\"choropleth\"}],\"contour\":[{\"colorbar\":{\"outlinewidth\":0,\"ticks\":\"\"},\"colorscale\":[[0.0,\"#0d0887\"],[0.1111111111111111,\"#46039f\"],[0.2222222222222222,\"#7201a8\"],[0.3333333333333333,\"#9c179e\"],[0.4444444444444444,\"#bd3786\"],[0.5555555555555556,\"#d8576b\"],[0.6666666666666666,\"#ed7953\"],[0.7777777777777778,\"#fb9f3a\"],[0.8888888888888888,\"#fdca26\"],[1.0,\"#f0f921\"]],\"type\":\"contour\"}],\"contourcarpet\":[{\"colorbar\":{\"outlinewidth\":0,\"ticks\":\"\"},\"type\":\"contourcarpet\"}],\"heatmap\":[{\"colorbar\":{\"outlinewidth\":0,\"ticks\":\"\"},\"colorscale\":[[0.0,\"#0d0887\"],[0.1111111111111111,\"#46039f\"],[0.2222222222222222,\"#7201a8\"],[0.3333333333333333,\"#9c179e\"],[0.4444444444444444,\"#bd3786\"],[0.5555555555555556,\"#d8576b\"],[0.6666666666666666,\"#ed7953\"],[0.7777777777777778,\"#fb9f3a\"],[0.8888888888888888,\"#fdca26\"],[1.0,\"#f0f921\"]],\"type\":\"heatmap\"}],\"heatmapgl\":[{\"colorbar\":{\"outlinewidth\":0,\"ticks\":\"\"},\"colorscale\":[[0.0,\"#0d0887\"],[0.1111111111111111,\"#46039f\"],[0.2222222222222222,\"#7201a8\"],[0.3333333333333333,\"#9c179e\"],[0.4444444444444444,\"#bd3786\"],[0.5555555555555556,\"#d8576b\"],[0.6666666666666666,\"#ed7953\"],[0.7777777777777778,\"#fb9f3a\"],[0.8888888888888888,\"#fdca26\"],[1.0,\"#f0f921\"]],\"type\":\"heatmapgl\"}],\"histogram\":[{\"marker\":{\"pattern\":{\"fillmode\":\"overlay\",\"size\":10,\"solidity\":0.2}},\"type\":\"histogram\"}],\"histogram2d\":[{\"colorbar\":{\"outlinewidth\":0,\"ticks\":\"\"},\"colorscale\":[[0.0,\"#0d0887\"],[0.1111111111111111,\"#46039f\"],[0.2222222222222222,\"#7201a8\"],[0.3333333333333333,\"#9c179e\"],[0.4444444444444444,\"#bd3786\"],[0.5555555555555556,\"#d8576b\"],[0.6666666666666666,\"#ed7953\"],[0.7777777777777778,\"#fb9f3a\"],[0.8888888888888888,\"#fdca26\"],[1.0,\"#f0f921\"]],\"type\":\"histogram2d\"}],\"histogram2dcontour\":[{\"colorbar\":{\"outlinewidth\":0,\"ticks\":\"\"},\"colorscale\":[[0.0,\"#0d0887\"],[0.1111111111111111,\"#46039f\"],[0.2222222222222222,\"#7201a8\"],[0.3333333333333333,\"#9c179e\"],[0.4444444444444444,\"#bd3786\"],[0.5555555555555556,\"#d8576b\"],[0.6666666666666666,\"#ed7953\"],[0.7777777777777778,\"#fb9f3a\"],[0.8888888888888888,\"#fdca26\"],[1.0,\"#f0f921\"]],\"type\":\"histogram2dcontour\"}],\"mesh3d\":[{\"colorbar\":{\"outlinewidth\":0,\"ticks\":\"\"},\"type\":\"mesh3d\"}],\"parcoords\":[{\"line\":{\"colorbar\":{\"outlinewidth\":0,\"ticks\":\"\"}},\"type\":\"parcoords\"}],\"pie\":[{\"automargin\":true,\"type\":\"pie\"}],\"scatter\":[{\"marker\":{\"colorbar\":{\"outlinewidth\":0,\"ticks\":\"\"}},\"type\":\"scatter\"}],\"scatter3d\":[{\"line\":{\"colorbar\":{\"outlinewidth\":0,\"ticks\":\"\"}},\"marker\":{\"colorbar\":{\"outlinewidth\":0,\"ticks\":\"\"}},\"type\":\"scatter3d\"}],\"scattercarpet\":[{\"marker\":{\"colorbar\":{\"outlinewidth\":0,\"ticks\":\"\"}},\"type\":\"scattercarpet\"}],\"scattergeo\":[{\"marker\":{\"colorbar\":{\"outlinewidth\":0,\"ticks\":\"\"}},\"type\":\"scattergeo\"}],\"scattergl\":[{\"marker\":{\"colorbar\":{\"outlinewidth\":0,\"ticks\":\"\"}},\"type\":\"scattergl\"}],\"scattermapbox\":[{\"marker\":{\"colorbar\":{\"outlinewidth\":0,\"ticks\":\"\"}},\"type\":\"scattermapbox\"}],\"scatterpolar\":[{\"marker\":{\"colorbar\":{\"outlinewidth\":0,\"ticks\":\"\"}},\"type\":\"scatterpolar\"}],\"scatterpolargl\":[{\"marker\":{\"colorbar\":{\"outlinewidth\":0,\"ticks\":\"\"}},\"type\":\"scatterpolargl\"}],\"scatterternary\":[{\"marker\":{\"colorbar\":{\"outlinewidth\":0,\"ticks\":\"\"}},\"type\":\"scatterternary\"}],\"surface\":[{\"colorbar\":{\"outlinewidth\":0,\"ticks\":\"\"},\"colorscale\":[[0.0,\"#0d0887\"],[0.1111111111111111,\"#46039f\"],[0.2222222222222222,\"#7201a8\"],[0.3333333333333333,\"#9c179e\"],[0.4444444444444444,\"#bd3786\"],[0.5555555555555556,\"#d8576b\"],[0.6666666666666666,\"#ed7953\"],[0.7777777777777778,\"#fb9f3a\"],[0.8888888888888888,\"#fdca26\"],[1.0,\"#f0f921\"]],\"type\":\"surface\"}],\"table\":[{\"cells\":{\"fill\":{\"color\":\"#EBF0F8\"},\"line\":{\"color\":\"white\"}},\"header\":{\"fill\":{\"color\":\"#C8D4E3\"},\"line\":{\"color\":\"white\"}},\"type\":\"table\"}]},\"layout\":{\"annotationdefaults\":{\"arrowcolor\":\"#2a3f5f\",\"arrowhead\":0,\"arrowwidth\":1},\"autotypenumbers\":\"strict\",\"coloraxis\":{\"colorbar\":{\"outlinewidth\":0,\"ticks\":\"\"}},\"colorscale\":{\"diverging\":[[0,\"#8e0152\"],[0.1,\"#c51b7d\"],[0.2,\"#de77ae\"],[0.3,\"#f1b6da\"],[0.4,\"#fde0ef\"],[0.5,\"#f7f7f7\"],[0.6,\"#e6f5d0\"],[0.7,\"#b8e186\"],[0.8,\"#7fbc41\"],[0.9,\"#4d9221\"],[1,\"#276419\"]],\"sequential\":[[0.0,\"#0d0887\"],[0.1111111111111111,\"#46039f\"],[0.2222222222222222,\"#7201a8\"],[0.3333333333333333,\"#9c179e\"],[0.4444444444444444,\"#bd3786\"],[0.5555555555555556,\"#d8576b\"],[0.6666666666666666,\"#ed7953\"],[0.7777777777777778,\"#fb9f3a\"],[0.8888888888888888,\"#fdca26\"],[1.0,\"#f0f921\"]],\"sequentialminus\":[[0.0,\"#0d0887\"],[0.1111111111111111,\"#46039f\"],[0.2222222222222222,\"#7201a8\"],[0.3333333333333333,\"#9c179e\"],[0.4444444444444444,\"#bd3786\"],[0.5555555555555556,\"#d8576b\"],[0.6666666666666666,\"#ed7953\"],[0.7777777777777778,\"#fb9f3a\"],[0.8888888888888888,\"#fdca26\"],[1.0,\"#f0f921\"]]},\"colorway\":[\"#636efa\",\"#EF553B\",\"#00cc96\",\"#ab63fa\",\"#FFA15A\",\"#19d3f3\",\"#FF6692\",\"#B6E880\",\"#FF97FF\",\"#FECB52\"],\"font\":{\"color\":\"#2a3f5f\"},\"geo\":{\"bgcolor\":\"white\",\"lakecolor\":\"white\",\"landcolor\":\"#E5ECF6\",\"showlakes\":true,\"showland\":true,\"subunitcolor\":\"white\"},\"hoverlabel\":{\"align\":\"left\"},\"hovermode\":\"closest\",\"mapbox\":{\"style\":\"light\"},\"paper_bgcolor\":\"white\",\"plot_bgcolor\":\"#E5ECF6\",\"polar\":{\"angularaxis\":{\"gridcolor\":\"white\",\"linecolor\":\"white\",\"ticks\":\"\"},\"bgcolor\":\"#E5ECF6\",\"radialaxis\":{\"gridcolor\":\"white\",\"linecolor\":\"white\",\"ticks\":\"\"}},\"scene\":{\"xaxis\":{\"backgroundcolor\":\"#E5ECF6\",\"gridcolor\":\"white\",\"gridwidth\":2,\"linecolor\":\"white\",\"showbackground\":true,\"ticks\":\"\",\"zerolinecolor\":\"white\"},\"yaxis\":{\"backgroundcolor\":\"#E5ECF6\",\"gridcolor\":\"white\",\"gridwidth\":2,\"linecolor\":\"white\",\"showbackground\":true,\"ticks\":\"\",\"zerolinecolor\":\"white\"},\"zaxis\":{\"backgroundcolor\":\"#E5ECF6\",\"gridcolor\":\"white\",\"gridwidth\":2,\"linecolor\":\"white\",\"showbackground\":true,\"ticks\":\"\",\"zerolinecolor\":\"white\"}},\"shapedefaults\":{\"line\":{\"color\":\"#2a3f5f\"}},\"ternary\":{\"aaxis\":{\"gridcolor\":\"white\",\"linecolor\":\"white\",\"ticks\":\"\"},\"baxis\":{\"gridcolor\":\"white\",\"linecolor\":\"white\",\"ticks\":\"\"},\"bgcolor\":\"#E5ECF6\",\"caxis\":{\"gridcolor\":\"white\",\"linecolor\":\"white\",\"ticks\":\"\"}},\"title\":{\"x\":0.05},\"xaxis\":{\"automargin\":true,\"gridcolor\":\"white\",\"linecolor\":\"white\",\"ticks\":\"\",\"title\":{\"standoff\":15},\"zerolinecolor\":\"white\",\"zerolinewidth\":2},\"yaxis\":{\"automargin\":true,\"gridcolor\":\"white\",\"linecolor\":\"white\",\"ticks\":\"\",\"title\":{\"standoff\":15},\"zerolinecolor\":\"white\",\"zerolinewidth\":2}}},\"legend\":{\"title\":{\"text\":\"index\"},\"tracegroupgap\":0},\"margin\":{\"t\":60},\"dragmode\":\"select\"},                        {\"responsive\": true}                    ).then(function(){\n",
       "                            \n",
       "var gd = document.getElementById('72096852-e454-411f-977e-f21afe3cbf16');\n",
       "var x = new MutationObserver(function (mutations, observer) {{\n",
       "        var display = window.getComputedStyle(gd).display;\n",
       "        if (!display || display === 'none') {{\n",
       "            console.log([gd, 'removed!']);\n",
       "            Plotly.purge(gd);\n",
       "            observer.disconnect();\n",
       "        }}\n",
       "}});\n",
       "\n",
       "// Listen for the removal of the full notebook cells\n",
       "var notebookContainer = gd.closest('#notebook-container');\n",
       "if (notebookContainer) {{\n",
       "    x.observe(notebookContainer, {childList: true});\n",
       "}}\n",
       "\n",
       "// Listen for the clearing of the current output cell\n",
       "var outputEl = gd.closest('.output');\n",
       "if (outputEl) {{\n",
       "    x.observe(outputEl, {childList: true});\n",
       "}}\n",
       "\n",
       "                        })                };                });            </script>        </div>"
      ]
     },
     "metadata": {},
     "output_type": "display_data"
    }
   ],
   "source": [
    "import plotly.express as px\n",
    "from sklearn.decomposition import PCA\n",
    "\n",
    "labels = {\n",
    "    str(i): f\"PC {i+1} ({var:.1f}%)\"\n",
    "    for i, var in enumerate(mca.explained_inertia_ * 100)\n",
    "}\n",
    "\n",
    "fig = px.scatter_matrix(\n",
    "    df_mca,\n",
    "    labels=labels,\n",
    "    dimensions=range(3),\n",
    "    color=df_mca.index\n",
    ")\n",
    "fig.update_traces(diagonal_visible=False)\n",
    "fig.show()\n",
    "fig.write_image('DimensionsReductionSurvey2023_orig-4diagram_2dplots_1000dpi.pdf',scale=2)\n",
    "fig.write_image('DimensionsReductionSurvey2023_orig-4diagram_2dplots_1000dpi.jpeg',scale=8)"
   ]
  },
  {
   "cell_type": "code",
   "execution_count": null,
   "metadata": {},
   "outputs": [],
   "source": []
  }
 ],
 "metadata": {
  "kernelspec": {
   "display_name": "Python 3",
   "language": "python",
   "name": "python3"
  },
  "language_info": {
   "codemirror_mode": {
    "name": "ipython",
    "version": 3
   },
   "file_extension": ".py",
   "mimetype": "text/x-python",
   "name": "python",
   "nbconvert_exporter": "python",
   "pygments_lexer": "ipython3",
   "version": "3.8.10"
  }
 },
 "nbformat": 4,
 "nbformat_minor": 4
}
