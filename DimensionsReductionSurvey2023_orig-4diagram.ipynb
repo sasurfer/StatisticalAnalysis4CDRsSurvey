{
 "cells": [
  {
   "cell_type": "code",
   "execution_count": 286,
   "metadata": {},
   "outputs": [],
   "source": [
    "#package prince https://github.com/MaxHalford/prince\n",
    "#MCA multiple correspondance analysis\n",
    "#three or more categorical features"
   ]
  },
  {
   "cell_type": "code",
   "execution_count": 1,
   "metadata": {},
   "outputs": [
    {
     "name": "stdout",
     "output_type": "stream",
     "text": [
      "11\n",
      "10\n"
     ]
    },
    {
     "data": {
      "text/html": [
       "<div>\n",
       "<style scoped>\n",
       "    .dataframe tbody tr th:only-of-type {\n",
       "        vertical-align: middle;\n",
       "    }\n",
       "\n",
       "    .dataframe tbody tr th {\n",
       "        vertical-align: top;\n",
       "    }\n",
       "\n",
       "    .dataframe thead th {\n",
       "        text-align: right;\n",
       "    }\n",
       "</style>\n",
       "<table border=\"1\" class=\"dataframe\">\n",
       "  <thead>\n",
       "    <tr style=\"text-align: right;\">\n",
       "      <th></th>\n",
       "      <th>CDR_name</th>\n",
       "      <th>free_paid</th>\n",
       "      <th>api_gui_both</th>\n",
       "      <th>aql_sql_both_other</th>\n",
       "      <th>JsonXml_FlatStruct_both_none</th>\n",
       "      <th>FHIR_openEHRExtract_both_none</th>\n",
       "      <th>Forms</th>\n",
       "      <th>openEHR GDL</th>\n",
       "      <th>openEHR REST API</th>\n",
       "      <th>openEHR Demographics</th>\n",
       "    </tr>\n",
       "  </thead>\n",
       "  <tbody>\n",
       "    <tr>\n",
       "      <th>0</th>\n",
       "      <td>ehrbase</td>\n",
       "      <td>free</td>\n",
       "      <td>api</td>\n",
       "      <td>aql</td>\n",
       "      <td>both</td>\n",
       "      <td>fhir</td>\n",
       "      <td>n</td>\n",
       "      <td>n</td>\n",
       "      <td>y</td>\n",
       "      <td>n</td>\n",
       "    </tr>\n",
       "    <tr>\n",
       "      <th>1</th>\n",
       "      <td>better</td>\n",
       "      <td>paid</td>\n",
       "      <td>both</td>\n",
       "      <td>aql</td>\n",
       "      <td>both</td>\n",
       "      <td>fhir</td>\n",
       "      <td>y</td>\n",
       "      <td>y</td>\n",
       "      <td>y</td>\n",
       "      <td>n</td>\n",
       "    </tr>\n",
       "    <tr>\n",
       "      <th>2</th>\n",
       "      <td>base24</td>\n",
       "      <td>paid</td>\n",
       "      <td>both</td>\n",
       "      <td>other</td>\n",
       "      <td>jsonxml</td>\n",
       "      <td>fhir</td>\n",
       "      <td>y</td>\n",
       "      <td>n</td>\n",
       "      <td>n</td>\n",
       "      <td>y</td>\n",
       "    </tr>\n",
       "    <tr>\n",
       "      <th>3</th>\n",
       "      <td>cabo</td>\n",
       "      <td>free</td>\n",
       "      <td>gui</td>\n",
       "      <td>other</td>\n",
       "      <td>jsonxml</td>\n",
       "      <td>fhir</td>\n",
       "      <td>n</td>\n",
       "      <td>n</td>\n",
       "      <td>n</td>\n",
       "      <td>n</td>\n",
       "    </tr>\n",
       "    <tr>\n",
       "      <th>4</th>\n",
       "      <td>arenaehr</td>\n",
       "      <td>paid</td>\n",
       "      <td>api</td>\n",
       "      <td>aql</td>\n",
       "      <td>both</td>\n",
       "      <td>fhir</td>\n",
       "      <td>y</td>\n",
       "      <td>y</td>\n",
       "      <td>y</td>\n",
       "      <td>n</td>\n",
       "    </tr>\n",
       "    <tr>\n",
       "      <th>5</th>\n",
       "      <td>eweave</td>\n",
       "      <td>paid</td>\n",
       "      <td>gui</td>\n",
       "      <td>both</td>\n",
       "      <td>none</td>\n",
       "      <td>none</td>\n",
       "      <td>y</td>\n",
       "      <td>n</td>\n",
       "      <td>n</td>\n",
       "      <td>y</td>\n",
       "    </tr>\n",
       "    <tr>\n",
       "      <th>6</th>\n",
       "      <td>ehrcare</td>\n",
       "      <td>paid</td>\n",
       "      <td>api</td>\n",
       "      <td>aql</td>\n",
       "      <td>both</td>\n",
       "      <td>none</td>\n",
       "      <td>y</td>\n",
       "      <td>n</td>\n",
       "      <td>n</td>\n",
       "      <td>y</td>\n",
       "    </tr>\n",
       "    <tr>\n",
       "      <th>7</th>\n",
       "      <td>clever</td>\n",
       "      <td>paid</td>\n",
       "      <td>both</td>\n",
       "      <td>sql</td>\n",
       "      <td>flatstruct</td>\n",
       "      <td>extract</td>\n",
       "      <td>y</td>\n",
       "      <td>y</td>\n",
       "      <td>n</td>\n",
       "      <td>n</td>\n",
       "    </tr>\n",
       "    <tr>\n",
       "      <th>8</th>\n",
       "      <td>ehrdb</td>\n",
       "      <td>paid</td>\n",
       "      <td>both</td>\n",
       "      <td>aql</td>\n",
       "      <td>both</td>\n",
       "      <td>extract</td>\n",
       "      <td>y</td>\n",
       "      <td>n</td>\n",
       "      <td>y</td>\n",
       "      <td>n</td>\n",
       "    </tr>\n",
       "    <tr>\n",
       "      <th>9</th>\n",
       "      <td>rhp</td>\n",
       "      <td>paid</td>\n",
       "      <td>both</td>\n",
       "      <td>sql</td>\n",
       "      <td>flatstruct</td>\n",
       "      <td>none</td>\n",
       "      <td>y</td>\n",
       "      <td>y</td>\n",
       "      <td>n</td>\n",
       "      <td>y</td>\n",
       "    </tr>\n",
       "    <tr>\n",
       "      <th>10</th>\n",
       "      <td>ehrn</td>\n",
       "      <td>paid</td>\n",
       "      <td>api</td>\n",
       "      <td>both</td>\n",
       "      <td>flatstruct</td>\n",
       "      <td>fhir</td>\n",
       "      <td>n</td>\n",
       "      <td>n</td>\n",
       "      <td>n</td>\n",
       "      <td>n</td>\n",
       "    </tr>\n",
       "  </tbody>\n",
       "</table>\n",
       "</div>"
      ],
      "text/plain": [
       "    CDR_name free_paid api_gui_both aql_sql_both_other  \\\n",
       "0    ehrbase      free          api                aql   \n",
       "1     better      paid         both                aql   \n",
       "2     base24      paid         both              other   \n",
       "3       cabo      free          gui              other   \n",
       "4   arenaehr      paid          api                aql   \n",
       "5     eweave      paid          gui               both   \n",
       "6    ehrcare      paid          api                aql   \n",
       "7     clever      paid         both                sql   \n",
       "8      ehrdb      paid         both                aql   \n",
       "9        rhp      paid         both                sql   \n",
       "10      ehrn      paid          api               both   \n",
       "\n",
       "   JsonXml_FlatStruct_both_none FHIR_openEHRExtract_both_none Forms  \\\n",
       "0                          both                          fhir     n   \n",
       "1                          both                          fhir     y   \n",
       "2                       jsonxml                          fhir     y   \n",
       "3                       jsonxml                          fhir     n   \n",
       "4                          both                          fhir     y   \n",
       "5                          none                          none     y   \n",
       "6                          both                          none     y   \n",
       "7                    flatstruct                       extract     y   \n",
       "8                          both                       extract     y   \n",
       "9                    flatstruct                          none     y   \n",
       "10                   flatstruct                          fhir     n   \n",
       "\n",
       "   openEHR GDL openEHR REST API openEHR Demographics  \n",
       "0            n                y                    n  \n",
       "1            y                y                    n  \n",
       "2            n                n                    y  \n",
       "3            n                n                    n  \n",
       "4            y                y                    n  \n",
       "5            n                n                    y  \n",
       "6            n                n                    y  \n",
       "7            y                n                    n  \n",
       "8            n                y                    n  \n",
       "9            y                n                    y  \n",
       "10           n                n                    n  "
      ]
     },
     "execution_count": 1,
     "metadata": {},
     "output_type": "execute_result"
    }
   ],
   "source": [
    "#Importing the necessary package\n",
    "import math\n",
    "import pandas as pd\n",
    "import numpy as np\n",
    "from prince import MCA#Dataset preparation with only numerical features\n",
    "df = pd.read_csv('SurveyAnswers4ClusteringUpdated2023_apiguinumbers_flat5_mixedcategnumeric_diagramvariables.csv')\n",
    "print(len(df))\n",
    "print(len(df.columns))\n",
    "df"
   ]
  },
  {
   "cell_type": "code",
   "execution_count": 2,
   "metadata": {},
   "outputs": [
    {
     "data": {
      "text/html": [
       "<div>\n",
       "<style scoped>\n",
       "    .dataframe tbody tr th:only-of-type {\n",
       "        vertical-align: middle;\n",
       "    }\n",
       "\n",
       "    .dataframe tbody tr th {\n",
       "        vertical-align: top;\n",
       "    }\n",
       "\n",
       "    .dataframe thead th {\n",
       "        text-align: right;\n",
       "    }\n",
       "</style>\n",
       "<table border=\"1\" class=\"dataframe\">\n",
       "  <thead>\n",
       "    <tr style=\"text-align: right;\">\n",
       "      <th></th>\n",
       "      <th>free_paid</th>\n",
       "      <th>api_gui_both</th>\n",
       "      <th>aql_sql_both_other</th>\n",
       "      <th>JsonXml_FlatStruct_both_none</th>\n",
       "      <th>FHIR_openEHRExtract_both_none</th>\n",
       "      <th>Forms</th>\n",
       "      <th>openEHR GDL</th>\n",
       "      <th>openEHR REST API</th>\n",
       "      <th>openEHR Demographics</th>\n",
       "    </tr>\n",
       "    <tr>\n",
       "      <th>CDR_name</th>\n",
       "      <th></th>\n",
       "      <th></th>\n",
       "      <th></th>\n",
       "      <th></th>\n",
       "      <th></th>\n",
       "      <th></th>\n",
       "      <th></th>\n",
       "      <th></th>\n",
       "      <th></th>\n",
       "    </tr>\n",
       "  </thead>\n",
       "  <tbody>\n",
       "    <tr>\n",
       "      <th>ehrbase</th>\n",
       "      <td>free</td>\n",
       "      <td>api</td>\n",
       "      <td>aql</td>\n",
       "      <td>both</td>\n",
       "      <td>fhir</td>\n",
       "      <td>n</td>\n",
       "      <td>n</td>\n",
       "      <td>y</td>\n",
       "      <td>n</td>\n",
       "    </tr>\n",
       "    <tr>\n",
       "      <th>better</th>\n",
       "      <td>paid</td>\n",
       "      <td>both</td>\n",
       "      <td>aql</td>\n",
       "      <td>both</td>\n",
       "      <td>fhir</td>\n",
       "      <td>y</td>\n",
       "      <td>y</td>\n",
       "      <td>y</td>\n",
       "      <td>n</td>\n",
       "    </tr>\n",
       "    <tr>\n",
       "      <th>base24</th>\n",
       "      <td>paid</td>\n",
       "      <td>both</td>\n",
       "      <td>other</td>\n",
       "      <td>jsonxml</td>\n",
       "      <td>fhir</td>\n",
       "      <td>y</td>\n",
       "      <td>n</td>\n",
       "      <td>n</td>\n",
       "      <td>y</td>\n",
       "    </tr>\n",
       "    <tr>\n",
       "      <th>cabo</th>\n",
       "      <td>free</td>\n",
       "      <td>gui</td>\n",
       "      <td>other</td>\n",
       "      <td>jsonxml</td>\n",
       "      <td>fhir</td>\n",
       "      <td>n</td>\n",
       "      <td>n</td>\n",
       "      <td>n</td>\n",
       "      <td>n</td>\n",
       "    </tr>\n",
       "    <tr>\n",
       "      <th>arenaehr</th>\n",
       "      <td>paid</td>\n",
       "      <td>api</td>\n",
       "      <td>aql</td>\n",
       "      <td>both</td>\n",
       "      <td>fhir</td>\n",
       "      <td>y</td>\n",
       "      <td>y</td>\n",
       "      <td>y</td>\n",
       "      <td>n</td>\n",
       "    </tr>\n",
       "    <tr>\n",
       "      <th>eweave</th>\n",
       "      <td>paid</td>\n",
       "      <td>gui</td>\n",
       "      <td>both</td>\n",
       "      <td>none</td>\n",
       "      <td>none</td>\n",
       "      <td>y</td>\n",
       "      <td>n</td>\n",
       "      <td>n</td>\n",
       "      <td>y</td>\n",
       "    </tr>\n",
       "    <tr>\n",
       "      <th>ehrcare</th>\n",
       "      <td>paid</td>\n",
       "      <td>api</td>\n",
       "      <td>aql</td>\n",
       "      <td>both</td>\n",
       "      <td>none</td>\n",
       "      <td>y</td>\n",
       "      <td>n</td>\n",
       "      <td>n</td>\n",
       "      <td>y</td>\n",
       "    </tr>\n",
       "    <tr>\n",
       "      <th>clever</th>\n",
       "      <td>paid</td>\n",
       "      <td>both</td>\n",
       "      <td>sql</td>\n",
       "      <td>flatstruct</td>\n",
       "      <td>extract</td>\n",
       "      <td>y</td>\n",
       "      <td>y</td>\n",
       "      <td>n</td>\n",
       "      <td>n</td>\n",
       "    </tr>\n",
       "    <tr>\n",
       "      <th>ehrdb</th>\n",
       "      <td>paid</td>\n",
       "      <td>both</td>\n",
       "      <td>aql</td>\n",
       "      <td>both</td>\n",
       "      <td>extract</td>\n",
       "      <td>y</td>\n",
       "      <td>n</td>\n",
       "      <td>y</td>\n",
       "      <td>n</td>\n",
       "    </tr>\n",
       "    <tr>\n",
       "      <th>rhp</th>\n",
       "      <td>paid</td>\n",
       "      <td>both</td>\n",
       "      <td>sql</td>\n",
       "      <td>flatstruct</td>\n",
       "      <td>none</td>\n",
       "      <td>y</td>\n",
       "      <td>y</td>\n",
       "      <td>n</td>\n",
       "      <td>y</td>\n",
       "    </tr>\n",
       "    <tr>\n",
       "      <th>ehrn</th>\n",
       "      <td>paid</td>\n",
       "      <td>api</td>\n",
       "      <td>both</td>\n",
       "      <td>flatstruct</td>\n",
       "      <td>fhir</td>\n",
       "      <td>n</td>\n",
       "      <td>n</td>\n",
       "      <td>n</td>\n",
       "      <td>n</td>\n",
       "    </tr>\n",
       "  </tbody>\n",
       "</table>\n",
       "</div>"
      ],
      "text/plain": [
       "         free_paid api_gui_both aql_sql_both_other  \\\n",
       "CDR_name                                             \n",
       "ehrbase       free          api                aql   \n",
       "better        paid         both                aql   \n",
       "base24        paid         both              other   \n",
       "cabo          free          gui              other   \n",
       "arenaehr      paid          api                aql   \n",
       "eweave        paid          gui               both   \n",
       "ehrcare       paid          api                aql   \n",
       "clever        paid         both                sql   \n",
       "ehrdb         paid         both                aql   \n",
       "rhp           paid         both                sql   \n",
       "ehrn          paid          api               both   \n",
       "\n",
       "         JsonXml_FlatStruct_both_none FHIR_openEHRExtract_both_none Forms  \\\n",
       "CDR_name                                                                    \n",
       "ehrbase                          both                          fhir     n   \n",
       "better                           both                          fhir     y   \n",
       "base24                        jsonxml                          fhir     y   \n",
       "cabo                          jsonxml                          fhir     n   \n",
       "arenaehr                         both                          fhir     y   \n",
       "eweave                           none                          none     y   \n",
       "ehrcare                          both                          none     y   \n",
       "clever                     flatstruct                       extract     y   \n",
       "ehrdb                            both                       extract     y   \n",
       "rhp                        flatstruct                          none     y   \n",
       "ehrn                       flatstruct                          fhir     n   \n",
       "\n",
       "         openEHR GDL openEHR REST API openEHR Demographics  \n",
       "CDR_name                                                    \n",
       "ehrbase            n                y                    n  \n",
       "better             y                y                    n  \n",
       "base24             n                n                    y  \n",
       "cabo               n                n                    n  \n",
       "arenaehr           y                y                    n  \n",
       "eweave             n                n                    y  \n",
       "ehrcare            n                n                    y  \n",
       "clever             y                n                    n  \n",
       "ehrdb              n                y                    n  \n",
       "rhp                y                n                    y  \n",
       "ehrn               n                n                    n  "
      ]
     },
     "execution_count": 2,
     "metadata": {},
     "output_type": "execute_result"
    }
   ],
   "source": [
    "df=df.set_index('CDR_name')\n",
    "df"
   ]
  },
  {
   "cell_type": "code",
   "execution_count": 3,
   "metadata": {},
   "outputs": [
    {
     "data": {
      "text/html": [
       "<div>\n",
       "<style scoped>\n",
       "    .dataframe tbody tr th:only-of-type {\n",
       "        vertical-align: middle;\n",
       "    }\n",
       "\n",
       "    .dataframe tbody tr th {\n",
       "        vertical-align: top;\n",
       "    }\n",
       "\n",
       "    .dataframe thead th {\n",
       "        text-align: right;\n",
       "    }\n",
       "</style>\n",
       "<table border=\"1\" class=\"dataframe\">\n",
       "  <thead>\n",
       "    <tr style=\"text-align: right;\">\n",
       "      <th></th>\n",
       "      <th>0</th>\n",
       "      <th>1</th>\n",
       "    </tr>\n",
       "  </thead>\n",
       "  <tbody>\n",
       "    <tr>\n",
       "      <th>ehrbase</th>\n",
       "      <td>0.628957</td>\n",
       "      <td>-0.917486</td>\n",
       "    </tr>\n",
       "    <tr>\n",
       "      <th>better</th>\n",
       "      <td>-0.392563</td>\n",
       "      <td>-0.661731</td>\n",
       "    </tr>\n",
       "    <tr>\n",
       "      <th>base24</th>\n",
       "      <td>0.388522</td>\n",
       "      <td>0.435298</td>\n",
       "    </tr>\n",
       "    <tr>\n",
       "      <th>cabo</th>\n",
       "      <td>1.370367</td>\n",
       "      <td>0.138403</td>\n",
       "    </tr>\n",
       "    <tr>\n",
       "      <th>arenaehr</th>\n",
       "      <td>-0.235177</td>\n",
       "      <td>-0.762888</td>\n",
       "    </tr>\n",
       "    <tr>\n",
       "      <th>eweave</th>\n",
       "      <td>0.223511</td>\n",
       "      <td>1.250406</td>\n",
       "    </tr>\n",
       "    <tr>\n",
       "      <th>ehrcare</th>\n",
       "      <td>-0.143729</td>\n",
       "      <td>0.140027</td>\n",
       "    </tr>\n",
       "    <tr>\n",
       "      <th>clever</th>\n",
       "      <td>-0.926200</td>\n",
       "      <td>0.176870</td>\n",
       "    </tr>\n",
       "    <tr>\n",
       "      <th>ehrdb</th>\n",
       "      <td>-0.412399</td>\n",
       "      <td>-0.581180</td>\n",
       "    </tr>\n",
       "    <tr>\n",
       "      <th>rhp</th>\n",
       "      <td>-0.857878</td>\n",
       "      <td>0.687608</td>\n",
       "    </tr>\n",
       "    <tr>\n",
       "      <th>ehrn</th>\n",
       "      <td>0.356589</td>\n",
       "      <td>0.094672</td>\n",
       "    </tr>\n",
       "  </tbody>\n",
       "</table>\n",
       "</div>"
      ],
      "text/plain": [
       "                 0         1\n",
       "ehrbase   0.628957 -0.917486\n",
       "better   -0.392563 -0.661731\n",
       "base24    0.388522  0.435298\n",
       "cabo      1.370367  0.138403\n",
       "arenaehr -0.235177 -0.762888\n",
       "eweave    0.223511  1.250406\n",
       "ehrcare  -0.143729  0.140027\n",
       "clever   -0.926200  0.176870\n",
       "ehrdb    -0.412399 -0.581180\n",
       "rhp      -0.857878  0.687608\n",
       "ehrn      0.356589  0.094672"
      ]
     },
     "execution_count": 3,
     "metadata": {},
     "output_type": "execute_result"
    }
   ],
   "source": [
    "mca = MCA(n_components = 2, n_iter = 3, random_state = 101)\n",
    "mca.fit(df)\n",
    "df_mca = mca.transform(df)\n",
    "df_mca"
   ]
  },
  {
   "cell_type": "code",
   "execution_count": 4,
   "metadata": {},
   "outputs": [
    {
     "data": {
      "text/plain": [
       "[0.2506635443805253, 0.24568624097646857]"
      ]
     },
     "execution_count": 4,
     "metadata": {},
     "output_type": "execute_result"
    }
   ],
   "source": [
    "mca.explained_inertia_ #variance explained"
   ]
  },
  {
   "cell_type": "code",
   "execution_count": 5,
   "metadata": {},
   "outputs": [
    {
     "data": {
      "text/plain": [
       "49.6"
      ]
     },
     "execution_count": 5,
     "metadata": {},
     "output_type": "execute_result"
    }
   ],
   "source": [
    "round(sum(mca.explained_inertia_)*100,1)"
   ]
  },
  {
   "cell_type": "code",
   "execution_count": 6,
   "metadata": {},
   "outputs": [
    {
     "data": {
      "text/plain": [
       "[0.4177725739675422, 0.4094770682941143]"
      ]
     },
     "execution_count": 6,
     "metadata": {},
     "output_type": "execute_result"
    }
   ],
   "source": [
    " mca.eigenvalues_"
   ]
  },
  {
   "cell_type": "code",
   "execution_count": 7,
   "metadata": {},
   "outputs": [
    {
     "data": {
      "text/html": [
       "<div>\n",
       "<style scoped>\n",
       "    .dataframe tbody tr th:only-of-type {\n",
       "        vertical-align: middle;\n",
       "    }\n",
       "\n",
       "    .dataframe tbody tr th {\n",
       "        vertical-align: top;\n",
       "    }\n",
       "\n",
       "    .dataframe thead th {\n",
       "        text-align: right;\n",
       "    }\n",
       "</style>\n",
       "<table border=\"1\" class=\"dataframe\">\n",
       "  <thead>\n",
       "    <tr style=\"text-align: right;\">\n",
       "      <th></th>\n",
       "      <th>0</th>\n",
       "      <th>1</th>\n",
       "    </tr>\n",
       "  </thead>\n",
       "  <tbody>\n",
       "    <tr>\n",
       "      <th>free_paid_free</th>\n",
       "      <td>1.546618</td>\n",
       "      <td>-0.608750</td>\n",
       "    </tr>\n",
       "    <tr>\n",
       "      <th>free_paid_paid</th>\n",
       "      <td>-0.343693</td>\n",
       "      <td>0.135278</td>\n",
       "    </tr>\n",
       "    <tr>\n",
       "      <th>api_gui_both_api</th>\n",
       "      <td>0.234640</td>\n",
       "      <td>-0.564801</td>\n",
       "    </tr>\n",
       "    <tr>\n",
       "      <th>api_gui_both_both</th>\n",
       "      <td>-0.680902</td>\n",
       "      <td>0.017773</td>\n",
       "    </tr>\n",
       "    <tr>\n",
       "      <th>api_gui_both_gui</th>\n",
       "      <td>1.232977</td>\n",
       "      <td>1.085169</td>\n",
       "    </tr>\n",
       "    <tr>\n",
       "      <th>aql_sql_both_other_aql</th>\n",
       "      <td>-0.171705</td>\n",
       "      <td>-0.869898</td>\n",
       "    </tr>\n",
       "    <tr>\n",
       "      <th>aql_sql_both_other_both</th>\n",
       "      <td>0.448749</td>\n",
       "      <td>1.050999</td>\n",
       "    </tr>\n",
       "    <tr>\n",
       "      <th>aql_sql_both_other_other</th>\n",
       "      <td>1.360624</td>\n",
       "      <td>0.448271</td>\n",
       "    </tr>\n",
       "    <tr>\n",
       "      <th>aql_sql_both_other_sql</th>\n",
       "      <td>-1.380110</td>\n",
       "      <td>0.675475</td>\n",
       "    </tr>\n",
       "    <tr>\n",
       "      <th>JsonXml_FlatStruct_both_none_both</th>\n",
       "      <td>-0.171705</td>\n",
       "      <td>-0.869898</td>\n",
       "    </tr>\n",
       "    <tr>\n",
       "      <th>JsonXml_FlatStruct_both_none_flatstruct</th>\n",
       "      <td>-0.736175</td>\n",
       "      <td>0.499632</td>\n",
       "    </tr>\n",
       "    <tr>\n",
       "      <th>JsonXml_FlatStruct_both_none_jsonxml</th>\n",
       "      <td>1.360624</td>\n",
       "      <td>0.448271</td>\n",
       "    </tr>\n",
       "    <tr>\n",
       "      <th>JsonXml_FlatStruct_both_none_none</th>\n",
       "      <td>0.345803</td>\n",
       "      <td>1.954052</td>\n",
       "    </tr>\n",
       "    <tr>\n",
       "      <th>FHIR_openEHRExtract_both_none_extract</th>\n",
       "      <td>-1.035501</td>\n",
       "      <td>-0.315914</td>\n",
       "    </tr>\n",
       "    <tr>\n",
       "      <th>FHIR_openEHRExtract_both_none_fhir</th>\n",
       "      <td>0.545804</td>\n",
       "      <td>-0.435933</td>\n",
       "    </tr>\n",
       "    <tr>\n",
       "      <th>FHIR_openEHRExtract_both_none_none</th>\n",
       "      <td>-0.401275</td>\n",
       "      <td>1.082476</td>\n",
       "    </tr>\n",
       "    <tr>\n",
       "      <th>Forms_n</th>\n",
       "      <td>1.214977</td>\n",
       "      <td>-0.356518</td>\n",
       "    </tr>\n",
       "    <tr>\n",
       "      <th>Forms_y</th>\n",
       "      <td>-0.455616</td>\n",
       "      <td>0.133694</td>\n",
       "    </tr>\n",
       "    <tr>\n",
       "      <th>openEHR GDL_n</th>\n",
       "      <td>0.533060</td>\n",
       "      <td>0.125050</td>\n",
       "    </tr>\n",
       "    <tr>\n",
       "      <th>openEHR GDL_y</th>\n",
       "      <td>-0.932856</td>\n",
       "      <td>-0.218838</td>\n",
       "    </tr>\n",
       "    <tr>\n",
       "      <th>openEHR REST API_n</th>\n",
       "      <td>0.090880</td>\n",
       "      <td>0.652617</td>\n",
       "    </tr>\n",
       "    <tr>\n",
       "      <th>openEHR REST API_y</th>\n",
       "      <td>-0.159039</td>\n",
       "      <td>-1.142079</td>\n",
       "    </tr>\n",
       "    <tr>\n",
       "      <th>openEHR Demographics_n</th>\n",
       "      <td>0.086104</td>\n",
       "      <td>-0.561097</td>\n",
       "    </tr>\n",
       "    <tr>\n",
       "      <th>openEHR Demographics_y</th>\n",
       "      <td>-0.150682</td>\n",
       "      <td>0.981921</td>\n",
       "    </tr>\n",
       "  </tbody>\n",
       "</table>\n",
       "</div>"
      ],
      "text/plain": [
       "                                                0         1\n",
       "free_paid_free                           1.546618 -0.608750\n",
       "free_paid_paid                          -0.343693  0.135278\n",
       "api_gui_both_api                         0.234640 -0.564801\n",
       "api_gui_both_both                       -0.680902  0.017773\n",
       "api_gui_both_gui                         1.232977  1.085169\n",
       "aql_sql_both_other_aql                  -0.171705 -0.869898\n",
       "aql_sql_both_other_both                  0.448749  1.050999\n",
       "aql_sql_both_other_other                 1.360624  0.448271\n",
       "aql_sql_both_other_sql                  -1.380110  0.675475\n",
       "JsonXml_FlatStruct_both_none_both       -0.171705 -0.869898\n",
       "JsonXml_FlatStruct_both_none_flatstruct -0.736175  0.499632\n",
       "JsonXml_FlatStruct_both_none_jsonxml     1.360624  0.448271\n",
       "JsonXml_FlatStruct_both_none_none        0.345803  1.954052\n",
       "FHIR_openEHRExtract_both_none_extract   -1.035501 -0.315914\n",
       "FHIR_openEHRExtract_both_none_fhir       0.545804 -0.435933\n",
       "FHIR_openEHRExtract_both_none_none      -0.401275  1.082476\n",
       "Forms_n                                  1.214977 -0.356518\n",
       "Forms_y                                 -0.455616  0.133694\n",
       "openEHR GDL_n                            0.533060  0.125050\n",
       "openEHR GDL_y                           -0.932856 -0.218838\n",
       "openEHR REST API_n                       0.090880  0.652617\n",
       "openEHR REST API_y                      -0.159039 -1.142079\n",
       "openEHR Demographics_n                   0.086104 -0.561097\n",
       "openEHR Demographics_y                  -0.150682  0.981921"
      ]
     },
     "execution_count": 7,
     "metadata": {},
     "output_type": "execute_result"
    }
   ],
   "source": [
    "mca.column_coordinates(df)"
   ]
  },
  {
   "cell_type": "code",
   "execution_count": 8,
   "metadata": {},
   "outputs": [
    {
     "data": {
      "text/plain": [
       "<AxesSubplot:title={'center':'Row and column principal coordinates'}, xlabel='Component 0 (25.07% inertia)', ylabel='Component 1 (24.57% inertia)'>"
      ]
     },
     "execution_count": 8,
     "metadata": {},
     "output_type": "execute_result"
    },
    {
     "data": {
      "image/png": "[encoded data removed]",
      "text/plain": [
       "<Figure size 576x576 with 1 Axes>"
      ]
     },
     "metadata": {
      "needs_background": "light"
     },
     "output_type": "display_data"
    }
   ],
   "source": [
    "#The result is like the PCA or CA result, two principal components with SVD result as the values. Just like previous techniques, we could plot the coordinates into a two-dimension graph.\n",
    "mca.column_coordinates(df)\n",
    "mca.plot_coordinates(X =df,figsize=(8,8),show_row_points=True,show_row_labels=True, \n",
    "                     show_column_points=False, show_column_labels=False,\n",
    "                    row_points_size=30, column_points_size=30)"
   ]
  },
  {
   "cell_type": "code",
   "execution_count": 9,
   "metadata": {},
   "outputs": [
    {
     "data": {
      "text/html": [
       "<div>\n",
       "<style scoped>\n",
       "    .dataframe tbody tr th:only-of-type {\n",
       "        vertical-align: middle;\n",
       "    }\n",
       "\n",
       "    .dataframe tbody tr th {\n",
       "        vertical-align: top;\n",
       "    }\n",
       "\n",
       "    .dataframe thead th {\n",
       "        text-align: right;\n",
       "    }\n",
       "</style>\n",
       "<table border=\"1\" class=\"dataframe\">\n",
       "  <thead>\n",
       "    <tr style=\"text-align: right;\">\n",
       "      <th></th>\n",
       "      <th>0</th>\n",
       "      <th>1</th>\n",
       "      <th>2</th>\n",
       "    </tr>\n",
       "  </thead>\n",
       "  <tbody>\n",
       "    <tr>\n",
       "      <th>ehrbase</th>\n",
       "      <td>0.628957</td>\n",
       "      <td>-0.917486</td>\n",
       "      <td>0.266266</td>\n",
       "    </tr>\n",
       "    <tr>\n",
       "      <th>better</th>\n",
       "      <td>-0.392563</td>\n",
       "      <td>-0.661731</td>\n",
       "      <td>0.041546</td>\n",
       "    </tr>\n",
       "    <tr>\n",
       "      <th>base24</th>\n",
       "      <td>0.388522</td>\n",
       "      <td>0.435298</td>\n",
       "      <td>-0.609247</td>\n",
       "    </tr>\n",
       "    <tr>\n",
       "      <th>cabo</th>\n",
       "      <td>1.370367</td>\n",
       "      <td>0.138403</td>\n",
       "      <td>-0.692881</td>\n",
       "    </tr>\n",
       "    <tr>\n",
       "      <th>arenaehr</th>\n",
       "      <td>-0.235177</td>\n",
       "      <td>-0.762888</td>\n",
       "      <td>0.312903</td>\n",
       "    </tr>\n",
       "    <tr>\n",
       "      <th>eweave</th>\n",
       "      <td>0.223511</td>\n",
       "      <td>1.250406</td>\n",
       "      <td>0.923622</td>\n",
       "    </tr>\n",
       "    <tr>\n",
       "      <th>ehrcare</th>\n",
       "      <td>-0.143729</td>\n",
       "      <td>0.140027</td>\n",
       "      <td>0.626195</td>\n",
       "    </tr>\n",
       "    <tr>\n",
       "      <th>clever</th>\n",
       "      <td>-0.926200</td>\n",
       "      <td>0.176870</td>\n",
       "      <td>-0.738019</td>\n",
       "    </tr>\n",
       "    <tr>\n",
       "      <th>ehrdb</th>\n",
       "      <td>-0.412399</td>\n",
       "      <td>-0.581180</td>\n",
       "      <td>0.052053</td>\n",
       "    </tr>\n",
       "    <tr>\n",
       "      <th>rhp</th>\n",
       "      <td>-0.857878</td>\n",
       "      <td>0.687608</td>\n",
       "      <td>-0.325382</td>\n",
       "    </tr>\n",
       "    <tr>\n",
       "      <th>ehrn</th>\n",
       "      <td>0.356589</td>\n",
       "      <td>0.094672</td>\n",
       "      <td>0.142945</td>\n",
       "    </tr>\n",
       "  </tbody>\n",
       "</table>\n",
       "</div>"
      ],
      "text/plain": [
       "                 0         1         2\n",
       "ehrbase   0.628957 -0.917486  0.266266\n",
       "better   -0.392563 -0.661731  0.041546\n",
       "base24    0.388522  0.435298 -0.609247\n",
       "cabo      1.370367  0.138403 -0.692881\n",
       "arenaehr -0.235177 -0.762888  0.312903\n",
       "eweave    0.223511  1.250406  0.923622\n",
       "ehrcare  -0.143729  0.140027  0.626195\n",
       "clever   -0.926200  0.176870 -0.738019\n",
       "ehrdb    -0.412399 -0.581180  0.052053\n",
       "rhp      -0.857878  0.687608 -0.325382\n",
       "ehrn      0.356589  0.094672  0.142945"
      ]
     },
     "execution_count": 9,
     "metadata": {},
     "output_type": "execute_result"
    }
   ],
   "source": [
    "mca = MCA(n_components = 3, n_iter = 3, random_state = 101)\n",
    "mca.fit(df)\n",
    "df_mca = mca.transform(df)\n",
    "df_mca"
   ]
  },
  {
   "cell_type": "code",
   "execution_count": 10,
   "metadata": {},
   "outputs": [
    {
     "name": "stdout",
     "output_type": "stream",
     "text": [
      "0.26626594721708613\n",
      "ehrbase\n"
     ]
    }
   ],
   "source": [
    "print(df_mca.iloc[0,2])\n",
    "index=df_mca.index\n",
    "print(index[0])"
   ]
  },
  {
   "cell_type": "code",
   "execution_count": 11,
   "metadata": {},
   "outputs": [
    {
     "data": {
      "text/plain": [
       "[0.2506635443805253, 0.24568624097646857, 0.16040091096271009]"
      ]
     },
     "execution_count": 11,
     "metadata": {},
     "output_type": "execute_result"
    }
   ],
   "source": [
    "mca.explained_inertia_ #variance explained"
   ]
  },
  {
   "cell_type": "code",
   "execution_count": 12,
   "metadata": {},
   "outputs": [
    {
     "data": {
      "text/plain": [
       "65.7"
      ]
     },
     "execution_count": 12,
     "metadata": {},
     "output_type": "execute_result"
    }
   ],
   "source": [
    "round(sum(mca.explained_inertia_)*100,1)"
   ]
  },
  {
   "cell_type": "code",
   "execution_count": 13,
   "metadata": {},
   "outputs": [
    {
     "data": {
      "text/plain": [
       "[0.4177725739675422, 0.4094770682941143, 0.2673348516045168]"
      ]
     },
     "execution_count": 13,
     "metadata": {},
     "output_type": "execute_result"
    }
   ],
   "source": [
    " mca.eigenvalues_"
   ]
  },
  {
   "cell_type": "code",
   "execution_count": 14,
   "metadata": {},
   "outputs": [
    {
     "data": {
      "text/html": [
       "<div>\n",
       "<style scoped>\n",
       "    .dataframe tbody tr th:only-of-type {\n",
       "        vertical-align: middle;\n",
       "    }\n",
       "\n",
       "    .dataframe tbody tr th {\n",
       "        vertical-align: top;\n",
       "    }\n",
       "\n",
       "    .dataframe thead th {\n",
       "        text-align: right;\n",
       "    }\n",
       "</style>\n",
       "<table border=\"1\" class=\"dataframe\">\n",
       "  <thead>\n",
       "    <tr style=\"text-align: right;\">\n",
       "      <th></th>\n",
       "      <th>0</th>\n",
       "      <th>1</th>\n",
       "      <th>2</th>\n",
       "    </tr>\n",
       "  </thead>\n",
       "  <tbody>\n",
       "    <tr>\n",
       "      <th>free_paid_free</th>\n",
       "      <td>1.546618</td>\n",
       "      <td>-0.608750</td>\n",
       "      <td>-0.412552</td>\n",
       "    </tr>\n",
       "    <tr>\n",
       "      <th>free_paid_paid</th>\n",
       "      <td>-0.343693</td>\n",
       "      <td>0.135278</td>\n",
       "      <td>0.091678</td>\n",
       "    </tr>\n",
       "    <tr>\n",
       "      <th>api_gui_both_api</th>\n",
       "      <td>0.234640</td>\n",
       "      <td>-0.564801</td>\n",
       "      <td>0.651931</td>\n",
       "    </tr>\n",
       "    <tr>\n",
       "      <th>api_gui_both_both</th>\n",
       "      <td>-0.680902</td>\n",
       "      <td>0.017773</td>\n",
       "      <td>-0.610798</td>\n",
       "    </tr>\n",
       "    <tr>\n",
       "      <th>api_gui_both_gui</th>\n",
       "      <td>1.232977</td>\n",
       "      <td>1.085169</td>\n",
       "      <td>0.223134</td>\n",
       "    </tr>\n",
       "    <tr>\n",
       "      <th>aql_sql_both_other_aql</th>\n",
       "      <td>-0.171705</td>\n",
       "      <td>-0.869898</td>\n",
       "      <td>0.502457</td>\n",
       "    </tr>\n",
       "    <tr>\n",
       "      <th>aql_sql_both_other_both</th>\n",
       "      <td>0.448749</td>\n",
       "      <td>1.050999</td>\n",
       "      <td>1.031407</td>\n",
       "    </tr>\n",
       "    <tr>\n",
       "      <th>aql_sql_both_other_other</th>\n",
       "      <td>1.360624</td>\n",
       "      <td>0.448271</td>\n",
       "      <td>-1.259204</td>\n",
       "    </tr>\n",
       "    <tr>\n",
       "      <th>aql_sql_both_other_sql</th>\n",
       "      <td>-1.380110</td>\n",
       "      <td>0.675475</td>\n",
       "      <td>-1.028346</td>\n",
       "    </tr>\n",
       "    <tr>\n",
       "      <th>JsonXml_FlatStruct_both_none_both</th>\n",
       "      <td>-0.171705</td>\n",
       "      <td>-0.869898</td>\n",
       "      <td>0.502457</td>\n",
       "    </tr>\n",
       "    <tr>\n",
       "      <th>JsonXml_FlatStruct_both_none_flatstruct</th>\n",
       "      <td>-0.736175</td>\n",
       "      <td>0.499632</td>\n",
       "      <td>-0.593409</td>\n",
       "    </tr>\n",
       "    <tr>\n",
       "      <th>JsonXml_FlatStruct_both_none_jsonxml</th>\n",
       "      <td>1.360624</td>\n",
       "      <td>0.448271</td>\n",
       "      <td>-1.259204</td>\n",
       "    </tr>\n",
       "    <tr>\n",
       "      <th>JsonXml_FlatStruct_both_none_none</th>\n",
       "      <td>0.345803</td>\n",
       "      <td>1.954052</td>\n",
       "      <td>1.786349</td>\n",
       "    </tr>\n",
       "    <tr>\n",
       "      <th>FHIR_openEHRExtract_both_none_extract</th>\n",
       "      <td>-1.035501</td>\n",
       "      <td>-0.315914</td>\n",
       "      <td>-0.663353</td>\n",
       "    </tr>\n",
       "    <tr>\n",
       "      <th>FHIR_openEHRExtract_both_none_fhir</th>\n",
       "      <td>0.545804</td>\n",
       "      <td>-0.435933</td>\n",
       "      <td>-0.173573</td>\n",
       "    </tr>\n",
       "    <tr>\n",
       "      <th>FHIR_openEHRExtract_both_none_none</th>\n",
       "      <td>-0.401275</td>\n",
       "      <td>1.082476</td>\n",
       "      <td>0.789381</td>\n",
       "    </tr>\n",
       "    <tr>\n",
       "      <th>Forms_n</th>\n",
       "      <td>1.214977</td>\n",
       "      <td>-0.356518</td>\n",
       "      <td>-0.182880</td>\n",
       "    </tr>\n",
       "    <tr>\n",
       "      <th>Forms_y</th>\n",
       "      <td>-0.455616</td>\n",
       "      <td>0.133694</td>\n",
       "      <td>0.068580</td>\n",
       "    </tr>\n",
       "    <tr>\n",
       "      <th>openEHR GDL_n</th>\n",
       "      <td>0.533060</td>\n",
       "      <td>0.125050</td>\n",
       "      <td>0.195880</td>\n",
       "    </tr>\n",
       "    <tr>\n",
       "      <th>openEHR GDL_y</th>\n",
       "      <td>-0.932856</td>\n",
       "      <td>-0.218838</td>\n",
       "      <td>-0.342791</td>\n",
       "    </tr>\n",
       "    <tr>\n",
       "      <th>openEHR REST API_n</th>\n",
       "      <td>0.090880</td>\n",
       "      <td>0.652617</td>\n",
       "      <td>-0.185883</td>\n",
       "    </tr>\n",
       "    <tr>\n",
       "      <th>openEHR REST API_y</th>\n",
       "      <td>-0.159039</td>\n",
       "      <td>-1.142079</td>\n",
       "      <td>0.325295</td>\n",
       "    </tr>\n",
       "    <tr>\n",
       "      <th>openEHR Demographics_n</th>\n",
       "      <td>0.086104</td>\n",
       "      <td>-0.561097</td>\n",
       "      <td>-0.169974</td>\n",
       "    </tr>\n",
       "    <tr>\n",
       "      <th>openEHR Demographics_y</th>\n",
       "      <td>-0.150682</td>\n",
       "      <td>0.981921</td>\n",
       "      <td>0.297454</td>\n",
       "    </tr>\n",
       "  </tbody>\n",
       "</table>\n",
       "</div>"
      ],
      "text/plain": [
       "                                                0         1         2\n",
       "free_paid_free                           1.546618 -0.608750 -0.412552\n",
       "free_paid_paid                          -0.343693  0.135278  0.091678\n",
       "api_gui_both_api                         0.234640 -0.564801  0.651931\n",
       "api_gui_both_both                       -0.680902  0.017773 -0.610798\n",
       "api_gui_both_gui                         1.232977  1.085169  0.223134\n",
       "aql_sql_both_other_aql                  -0.171705 -0.869898  0.502457\n",
       "aql_sql_both_other_both                  0.448749  1.050999  1.031407\n",
       "aql_sql_both_other_other                 1.360624  0.448271 -1.259204\n",
       "aql_sql_both_other_sql                  -1.380110  0.675475 -1.028346\n",
       "JsonXml_FlatStruct_both_none_both       -0.171705 -0.869898  0.502457\n",
       "JsonXml_FlatStruct_both_none_flatstruct -0.736175  0.499632 -0.593409\n",
       "JsonXml_FlatStruct_both_none_jsonxml     1.360624  0.448271 -1.259204\n",
       "JsonXml_FlatStruct_both_none_none        0.345803  1.954052  1.786349\n",
       "FHIR_openEHRExtract_both_none_extract   -1.035501 -0.315914 -0.663353\n",
       "FHIR_openEHRExtract_both_none_fhir       0.545804 -0.435933 -0.173573\n",
       "FHIR_openEHRExtract_both_none_none      -0.401275  1.082476  0.789381\n",
       "Forms_n                                  1.214977 -0.356518 -0.182880\n",
       "Forms_y                                 -0.455616  0.133694  0.068580\n",
       "openEHR GDL_n                            0.533060  0.125050  0.195880\n",
       "openEHR GDL_y                           -0.932856 -0.218838 -0.342791\n",
       "openEHR REST API_n                       0.090880  0.652617 -0.185883\n",
       "openEHR REST API_y                      -0.159039 -1.142079  0.325295\n",
       "openEHR Demographics_n                   0.086104 -0.561097 -0.169974\n",
       "openEHR Demographics_y                  -0.150682  0.981921  0.297454"
      ]
     },
     "execution_count": 14,
     "metadata": {},
     "output_type": "execute_result"
    }
   ],
   "source": [
    "mca.column_coordinates(df)"
   ]
  },
  {
   "cell_type": "code",
   "execution_count": 15,
   "metadata": {},
   "outputs": [
    {
     "data": {
      "application/javascript": [
       "/* Put everything inside the global mpl namespace */\n",
       "/* global mpl */\n",
       "window.mpl = {};\n",
       "\n",
       "mpl.get_websocket_type = function () {\n",
       "    if (typeof WebSocket !== 'undefined') {\n",
       "        return WebSocket;\n",
       "    } else if (typeof MozWebSocket !== 'undefined') {\n",
       "        return MozWebSocket;\n",
       "    } else {\n",
       "        alert(\n",
       "            'Your browser does not have WebSocket support. ' +\n",
       "                'Please try Chrome, Safari or Firefox ≥ 6. ' +\n",
       "                'Firefox 4 and 5 are also supported but you ' +\n",
       "                'have to enable WebSockets in about:config.'\n",
       "        );\n",
       "    }\n",
       "};\n",
       "\n",
       "mpl.figure = function (figure_id, websocket, ondownload, parent_element) {\n",
       "    this.id = figure_id;\n",
       "\n",
       "    this.ws = websocket;\n",
       "\n",
       "    this.supports_binary = this.ws.binaryType !== undefined;\n",
       "\n",
       "    if (!this.supports_binary) {\n",
       "        var warnings = document.getElementById('mpl-warnings');\n",
       "        if (warnings) {\n",
       "            warnings.style.display = 'block';\n",
       "            warnings.textContent =\n",
       "                'This browser does not support binary websocket messages. ' +\n",
       "                'Performance may be slow.';\n",
       "        }\n",
       "    }\n",
       "\n",
       "    this.imageObj = new Image();\n",
       "\n",
       "    this.context = undefined;\n",
       "    this.message = undefined;\n",
       "    this.canvas = undefined;\n",
       "    this.rubberband_canvas = undefined;\n",
       "    this.rubberband_context = undefined;\n",
       "    this.format_dropdown = undefined;\n",
       "\n",
       "    this.image_mode = 'full';\n",
       "\n",
       "    this.root = document.createElement('div');\n",
       "    this.root.setAttribute('style', 'display: inline-block');\n",
       "    this._root_extra_style(this.root);\n",
       "\n",
       "    parent_element.appendChild(this.root);\n",
       "\n",
       "    this._init_header(this);\n",
       "    this._init_canvas(this);\n",
       "    this._init_toolbar(this);\n",
       "\n",
       "    var fig = this;\n",
       "\n",
       "    this.waiting = false;\n",
       "\n",
       "    this.ws.onopen = function () {\n",
       "        fig.send_message('supports_binary', { value: fig.supports_binary });\n",
       "        fig.send_message('send_image_mode', {});\n",
       "        if (fig.ratio !== 1) {\n",
       "            fig.send_message('set_dpi_ratio', { dpi_ratio: fig.ratio });\n",
       "        }\n",
       "        fig.send_message('refresh', {});\n",
       "    };\n",
       "\n",
       "    this.imageObj.onload = function () {\n",
       "        if (fig.image_mode === 'full') {\n",
       "            // Full images could contain transparency (where diff images\n",
       "            // almost always do), so we need to clear the canvas so that\n",
       "            // there is no ghosting.\n",
       "            fig.context.clearRect(0, 0, fig.canvas.width, fig.canvas.height);\n",
       "        }\n",
       "        fig.context.drawImage(fig.imageObj, 0, 0);\n",
       "    };\n",
       "\n",
       "    this.imageObj.onunload = function () {\n",
       "        fig.ws.close();\n",
       "    };\n",
       "\n",
       "    this.ws.onmessage = this._make_on_message_function(this);\n",
       "\n",
       "    this.ondownload = ondownload;\n",
       "};\n",
       "\n",
       "mpl.figure.prototype._init_header = function () {\n",
       "    var titlebar = document.createElement('div');\n",
       "    titlebar.classList =\n",
       "        'ui-dialog-titlebar ui-widget-header ui-corner-all ui-helper-clearfix';\n",
       "    var titletext = document.createElement('div');\n",
       "    titletext.classList = 'ui-dialog-title';\n",
       "    titletext.setAttribute(\n",
       "        'style',\n",
       "        'width: 100%; text-align: center; padding: 3px;'\n",
       "    );\n",
       "    titlebar.appendChild(titletext);\n",
       "    this.root.appendChild(titlebar);\n",
       "    this.header = titletext;\n",
       "};\n",
       "\n",
       "mpl.figure.prototype._canvas_extra_style = function (_canvas_div) {};\n",
       "\n",
       "mpl.figure.prototype._root_extra_style = function (_canvas_div) {};\n",
       "\n",
       "mpl.figure.prototype._init_canvas = function () {\n",
       "    var fig = this;\n",
       "\n",
       "    var canvas_div = (this.canvas_div = document.createElement('div'));\n",
       "    canvas_div.setAttribute(\n",
       "        'style',\n",
       "        'border: 1px solid #ddd;' +\n",
       "            'box-sizing: content-box;' +\n",
       "            'clear: both;' +\n",
       "            'min-height: 1px;' +\n",
       "            'min-width: 1px;' +\n",
       "            'outline: 0;' +\n",
       "            'overflow: hidden;' +\n",
       "            'position: relative;' +\n",
       "            'resize: both;'\n",
       "    );\n",
       "\n",
       "    function on_keyboard_event_closure(name) {\n",
       "        return function (event) {\n",
       "            return fig.key_event(event, name);\n",
       "        };\n",
       "    }\n",
       "\n",
       "    canvas_div.addEventListener(\n",
       "        'keydown',\n",
       "        on_keyboard_event_closure('key_press')\n",
       "    );\n",
       "    canvas_div.addEventListener(\n",
       "        'keyup',\n",
       "        on_keyboard_event_closure('key_release')\n",
       "    );\n",
       "\n",
       "    this._canvas_extra_style(canvas_div);\n",
       "    this.root.appendChild(canvas_div);\n",
       "\n",
       "    var canvas = (this.canvas = document.createElement('canvas'));\n",
       "    canvas.classList.add('mpl-canvas');\n",
       "    canvas.setAttribute('style', 'box-sizing: content-box;');\n",
       "\n",
       "    this.context = canvas.getContext('2d');\n",
       "\n",
       "    var backingStore =\n",
       "        this.context.backingStorePixelRatio ||\n",
       "        this.context.webkitBackingStorePixelRatio ||\n",
       "        this.context.mozBackingStorePixelRatio ||\n",
       "        this.context.msBackingStorePixelRatio ||\n",
       "        this.context.oBackingStorePixelRatio ||\n",
       "        this.context.backingStorePixelRatio ||\n",
       "        1;\n",
       "\n",
       "    this.ratio = (window.devicePixelRatio || 1) / backingStore;\n",
       "\n",
       "    var rubberband_canvas = (this.rubberband_canvas = document.createElement(\n",
       "        'canvas'\n",
       "    ));\n",
       "    rubberband_canvas.setAttribute(\n",
       "        'style',\n",
       "        'box-sizing: content-box; position: absolute; left: 0; top: 0; z-index: 1;'\n",
       "    );\n",
       "\n",
       "    // Apply a ponyfill if ResizeObserver is not implemented by browser.\n",
       "    if (this.ResizeObserver === undefined) {\n",
       "        if (window.ResizeObserver !== undefined) {\n",
       "            this.ResizeObserver = window.ResizeObserver;\n",
       "        } else {\n",
       "            var obs = _JSXTOOLS_RESIZE_OBSERVER({});\n",
       "            this.ResizeObserver = obs.ResizeObserver;\n",
       "        }\n",
       "    }\n",
       "\n",
       "    this.resizeObserverInstance = new this.ResizeObserver(function (entries) {\n",
       "        var nentries = entries.length;\n",
       "        for (var i = 0; i < nentries; i++) {\n",
       "            var entry = entries[i];\n",
       "            var width, height;\n",
       "            if (entry.contentBoxSize) {\n",
       "                if (entry.contentBoxSize instanceof Array) {\n",
       "                    // Chrome 84 implements new version of spec.\n",
       "                    width = entry.contentBoxSize[0].inlineSize;\n",
       "                    height = entry.contentBoxSize[0].blockSize;\n",
       "                } else {\n",
       "                    // Firefox implements old version of spec.\n",
       "                    width = entry.contentBoxSize.inlineSize;\n",
       "                    height = entry.contentBoxSize.blockSize;\n",
       "                }\n",
       "            } else {\n",
       "                // Chrome <84 implements even older version of spec.\n",
       "                width = entry.contentRect.width;\n",
       "                height = entry.contentRect.height;\n",
       "            }\n",
       "\n",
       "            // Keep the size of the canvas and rubber band canvas in sync with\n",
       "            // the canvas container.\n",
       "            if (entry.devicePixelContentBoxSize) {\n",
       "                // Chrome 84 implements new version of spec.\n",
       "                canvas.setAttribute(\n",
       "                    'width',\n",
       "                    entry.devicePixelContentBoxSize[0].inlineSize\n",
       "                );\n",
       "                canvas.setAttribute(\n",
       "                    'height',\n",
       "                    entry.devicePixelContentBoxSize[0].blockSize\n",
       "                );\n",
       "            } else {\n",
       "                canvas.setAttribute('width', width * fig.ratio);\n",
       "                canvas.setAttribute('height', height * fig.ratio);\n",
       "            }\n",
       "            canvas.setAttribute(\n",
       "                'style',\n",
       "                'width: ' + width + 'px; height: ' + height + 'px;'\n",
       "            );\n",
       "\n",
       "            rubberband_canvas.setAttribute('width', width);\n",
       "            rubberband_canvas.setAttribute('height', height);\n",
       "\n",
       "            // And update the size in Python. We ignore the initial 0/0 size\n",
       "            // that occurs as the element is placed into the DOM, which should\n",
       "            // otherwise not happen due to the minimum size styling.\n",
       "            if (fig.ws.readyState == 1 && width != 0 && height != 0) {\n",
       "                fig.request_resize(width, height);\n",
       "            }\n",
       "        }\n",
       "    });\n",
       "    this.resizeObserverInstance.observe(canvas_div);\n",
       "\n",
       "    function on_mouse_event_closure(name) {\n",
       "        return function (event) {\n",
       "            return fig.mouse_event(event, name);\n",
       "        };\n",
       "    }\n",
       "\n",
       "    rubberband_canvas.addEventListener(\n",
       "        'mousedown',\n",
       "        on_mouse_event_closure('button_press')\n",
       "    );\n",
       "    rubberband_canvas.addEventListener(\n",
       "        'mouseup',\n",
       "        on_mouse_event_closure('button_release')\n",
       "    );\n",
       "    rubberband_canvas.addEventListener(\n",
       "        'dblclick',\n",
       "        on_mouse_event_closure('dblclick')\n",
       "    );\n",
       "    // Throttle sequential mouse events to 1 every 20ms.\n",
       "    rubberband_canvas.addEventListener(\n",
       "        'mousemove',\n",
       "        on_mouse_event_closure('motion_notify')\n",
       "    );\n",
       "\n",
       "    rubberband_canvas.addEventListener(\n",
       "        'mouseenter',\n",
       "        on_mouse_event_closure('figure_enter')\n",
       "    );\n",
       "    rubberband_canvas.addEventListener(\n",
       "        'mouseleave',\n",
       "        on_mouse_event_closure('figure_leave')\n",
       "    );\n",
       "\n",
       "    canvas_div.addEventListener('wheel', function (event) {\n",
       "        if (event.deltaY < 0) {\n",
       "            event.step = 1;\n",
       "        } else {\n",
       "            event.step = -1;\n",
       "        }\n",
       "        on_mouse_event_closure('scroll')(event);\n",
       "    });\n",
       "\n",
       "    canvas_div.appendChild(canvas);\n",
       "    canvas_div.appendChild(rubberband_canvas);\n",
       "\n",
       "    this.rubberband_context = rubberband_canvas.getContext('2d');\n",
       "    this.rubberband_context.strokeStyle = '#000000';\n",
       "\n",
       "    this._resize_canvas = function (width, height, forward) {\n",
       "        if (forward) {\n",
       "            canvas_div.style.width = width + 'px';\n",
       "            canvas_div.style.height = height + 'px';\n",
       "        }\n",
       "    };\n",
       "\n",
       "    // Disable right mouse context menu.\n",
       "    this.rubberband_canvas.addEventListener('contextmenu', function (_e) {\n",
       "        event.preventDefault();\n",
       "        return false;\n",
       "    });\n",
       "\n",
       "    function set_focus() {\n",
       "        canvas.focus();\n",
       "        canvas_div.focus();\n",
       "    }\n",
       "\n",
       "    window.setTimeout(set_focus, 100);\n",
       "};\n",
       "\n",
       "mpl.figure.prototype._init_toolbar = function () {\n",
       "    var fig = this;\n",
       "\n",
       "    var toolbar = document.createElement('div');\n",
       "    toolbar.classList = 'mpl-toolbar';\n",
       "    this.root.appendChild(toolbar);\n",
       "\n",
       "    function on_click_closure(name) {\n",
       "        return function (_event) {\n",
       "            return fig.toolbar_button_onclick(name);\n",
       "        };\n",
       "    }\n",
       "\n",
       "    function on_mouseover_closure(tooltip) {\n",
       "        return function (event) {\n",
       "            if (!event.currentTarget.disabled) {\n",
       "                return fig.toolbar_button_onmouseover(tooltip);\n",
       "            }\n",
       "        };\n",
       "    }\n",
       "\n",
       "    fig.buttons = {};\n",
       "    var buttonGroup = document.createElement('div');\n",
       "    buttonGroup.classList = 'mpl-button-group';\n",
       "    for (var toolbar_ind in mpl.toolbar_items) {\n",
       "        var name = mpl.toolbar_items[toolbar_ind][0];\n",
       "        var tooltip = mpl.toolbar_items[toolbar_ind][1];\n",
       "        var image = mpl.toolbar_items[toolbar_ind][2];\n",
       "        var method_name = mpl.toolbar_items[toolbar_ind][3];\n",
       "\n",
       "        if (!name) {\n",
       "            /* Instead of a spacer, we start a new button group. */\n",
       "            if (buttonGroup.hasChildNodes()) {\n",
       "                toolbar.appendChild(buttonGroup);\n",
       "            }\n",
       "            buttonGroup = document.createElement('div');\n",
       "            buttonGroup.classList = 'mpl-button-group';\n",
       "            continue;\n",
       "        }\n",
       "\n",
       "        var button = (fig.buttons[name] = document.createElement('button'));\n",
       "        button.classList = 'mpl-widget';\n",
       "        button.setAttribute('role', 'button');\n",
       "        button.setAttribute('aria-disabled', 'false');\n",
       "        button.addEventListener('click', on_click_closure(method_name));\n",
       "        button.addEventListener('mouseover', on_mouseover_closure(tooltip));\n",
       "\n",
       "        var icon_img = document.createElement('img');\n",
       "        icon_img.src = '_images/' + image + '.png';\n",
       "        icon_img.srcset = '_images/' + image + '_large.png 2x';\n",
       "        icon_img.alt = tooltip;\n",
       "        button.appendChild(icon_img);\n",
       "\n",
       "        buttonGroup.appendChild(button);\n",
       "    }\n",
       "\n",
       "    if (buttonGroup.hasChildNodes()) {\n",
       "        toolbar.appendChild(buttonGroup);\n",
       "    }\n",
       "\n",
       "    var fmt_picker = document.createElement('select');\n",
       "    fmt_picker.classList = 'mpl-widget';\n",
       "    toolbar.appendChild(fmt_picker);\n",
       "    this.format_dropdown = fmt_picker;\n",
       "\n",
       "    for (var ind in mpl.extensions) {\n",
       "        var fmt = mpl.extensions[ind];\n",
       "        var option = document.createElement('option');\n",
       "        option.selected = fmt === mpl.default_extension;\n",
       "        option.innerHTML = fmt;\n",
       "        fmt_picker.appendChild(option);\n",
       "    }\n",
       "\n",
       "    var status_bar = document.createElement('span');\n",
       "    status_bar.classList = 'mpl-message';\n",
       "    toolbar.appendChild(status_bar);\n",
       "    this.message = status_bar;\n",
       "};\n",
       "\n",
       "mpl.figure.prototype.request_resize = function (x_pixels, y_pixels) {\n",
       "    // Request matplotlib to resize the figure. Matplotlib will then trigger a resize in the client,\n",
       "    // which will in turn request a refresh of the image.\n",
       "    this.send_message('resize', { width: x_pixels, height: y_pixels });\n",
       "};\n",
       "\n",
       "mpl.figure.prototype.send_message = function (type, properties) {\n",
       "    properties['type'] = type;\n",
       "    properties['figure_id'] = this.id;\n",
       "    this.ws.send(JSON.stringify(properties));\n",
       "};\n",
       "\n",
       "mpl.figure.prototype.send_draw_message = function () {\n",
       "    if (!this.waiting) {\n",
       "        this.waiting = true;\n",
       "        this.ws.send(JSON.stringify({ type: 'draw', figure_id: this.id }));\n",
       "    }\n",
       "};\n",
       "\n",
       "mpl.figure.prototype.handle_save = function (fig, _msg) {\n",
       "    var format_dropdown = fig.format_dropdown;\n",
       "    var format = format_dropdown.options[format_dropdown.selectedIndex].value;\n",
       "    fig.ondownload(fig, format);\n",
       "};\n",
       "\n",
       "mpl.figure.prototype.handle_resize = function (fig, msg) {\n",
       "    var size = msg['size'];\n",
       "    if (size[0] !== fig.canvas.width || size[1] !== fig.canvas.height) {\n",
       "        fig._resize_canvas(size[0], size[1], msg['forward']);\n",
       "        fig.send_message('refresh', {});\n",
       "    }\n",
       "};\n",
       "\n",
       "mpl.figure.prototype.handle_rubberband = function (fig, msg) {\n",
       "    var x0 = msg['x0'] / fig.ratio;\n",
       "    var y0 = (fig.canvas.height - msg['y0']) / fig.ratio;\n",
       "    var x1 = msg['x1'] / fig.ratio;\n",
       "    var y1 = (fig.canvas.height - msg['y1']) / fig.ratio;\n",
       "    x0 = Math.floor(x0) + 0.5;\n",
       "    y0 = Math.floor(y0) + 0.5;\n",
       "    x1 = Math.floor(x1) + 0.5;\n",
       "    y1 = Math.floor(y1) + 0.5;\n",
       "    var min_x = Math.min(x0, x1);\n",
       "    var min_y = Math.min(y0, y1);\n",
       "    var width = Math.abs(x1 - x0);\n",
       "    var height = Math.abs(y1 - y0);\n",
       "\n",
       "    fig.rubberband_context.clearRect(\n",
       "        0,\n",
       "        0,\n",
       "        fig.canvas.width / fig.ratio,\n",
       "        fig.canvas.height / fig.ratio\n",
       "    );\n",
       "\n",
       "    fig.rubberband_context.strokeRect(min_x, min_y, width, height);\n",
       "};\n",
       "\n",
       "mpl.figure.prototype.handle_figure_label = function (fig, msg) {\n",
       "    // Updates the figure title.\n",
       "    fig.header.textContent = msg['label'];\n",
       "};\n",
       "\n",
       "mpl.figure.prototype.handle_cursor = function (fig, msg) {\n",
       "    var cursor = msg['cursor'];\n",
       "    switch (cursor) {\n",
       "        case 0:\n",
       "            cursor = 'pointer';\n",
       "            break;\n",
       "        case 1:\n",
       "            cursor = 'default';\n",
       "            break;\n",
       "        case 2:\n",
       "            cursor = 'crosshair';\n",
       "            break;\n",
       "        case 3:\n",
       "            cursor = 'move';\n",
       "            break;\n",
       "    }\n",
       "    fig.rubberband_canvas.style.cursor = cursor;\n",
       "};\n",
       "\n",
       "mpl.figure.prototype.handle_message = function (fig, msg) {\n",
       "    fig.message.textContent = msg['message'];\n",
       "};\n",
       "\n",
       "mpl.figure.prototype.handle_draw = function (fig, _msg) {\n",
       "    // Request the server to send over a new figure.\n",
       "    fig.send_draw_message();\n",
       "};\n",
       "\n",
       "mpl.figure.prototype.handle_image_mode = function (fig, msg) {\n",
       "    fig.image_mode = msg['mode'];\n",
       "};\n",
       "\n",
       "mpl.figure.prototype.handle_history_buttons = function (fig, msg) {\n",
       "    for (var key in msg) {\n",
       "        if (!(key in fig.buttons)) {\n",
       "            continue;\n",
       "        }\n",
       "        fig.buttons[key].disabled = !msg[key];\n",
       "        fig.buttons[key].setAttribute('aria-disabled', !msg[key]);\n",
       "    }\n",
       "};\n",
       "\n",
       "mpl.figure.prototype.handle_navigate_mode = function (fig, msg) {\n",
       "    if (msg['mode'] === 'PAN') {\n",
       "        fig.buttons['Pan'].classList.add('active');\n",
       "        fig.buttons['Zoom'].classList.remove('active');\n",
       "    } else if (msg['mode'] === 'ZOOM') {\n",
       "        fig.buttons['Pan'].classList.remove('active');\n",
       "        fig.buttons['Zoom'].classList.add('active');\n",
       "    } else {\n",
       "        fig.buttons['Pan'].classList.remove('active');\n",
       "        fig.buttons['Zoom'].classList.remove('active');\n",
       "    }\n",
       "};\n",
       "\n",
       "mpl.figure.prototype.updated_canvas_event = function () {\n",
       "    // Called whenever the canvas gets updated.\n",
       "    this.send_message('ack', {});\n",
       "};\n",
       "\n",
       "// A function to construct a web socket function for onmessage handling.\n",
       "// Called in the figure constructor.\n",
       "mpl.figure.prototype._make_on_message_function = function (fig) {\n",
       "    return function socket_on_message(evt) {\n",
       "        if (evt.data instanceof Blob) {\n",
       "            var img = evt.data;\n",
       "            if (img.type !== 'image/png') {\n",
       "                /* FIXME: We get \"Resource interpreted as Image but\n",
       "                 * transferred with MIME type text/plain:\" errors on\n",
       "                 * Chrome.  But how to set the MIME type?  It doesn't seem\n",
       "                 * to be part of the websocket stream */\n",
       "                img.type = 'image/png';\n",
       "            }\n",
       "\n",
       "            /* Free the memory for the previous frames */\n",
       "            if (fig.imageObj.src) {\n",
       "                (window.URL || window.webkitURL).revokeObjectURL(\n",
       "                    fig.imageObj.src\n",
       "                );\n",
       "            }\n",
       "\n",
       "            fig.imageObj.src = (window.URL || window.webkitURL).createObjectURL(\n",
       "                img\n",
       "            );\n",
       "            fig.updated_canvas_event();\n",
       "            fig.waiting = false;\n",
       "            return;\n",
       "        } else if (\n",
       "            typeof evt.data === 'string' &&\n",
       "            evt.data.slice(0, 21) === 'data:image/png;base64'\n",
       "        ) {\n",
       "            fig.imageObj.src = evt.data;\n",
       "            fig.updated_canvas_event();\n",
       "            fig.waiting = false;\n",
       "            return;\n",
       "        }\n",
       "\n",
       "        var msg = JSON.parse(evt.data);\n",
       "        var msg_type = msg['type'];\n",
       "\n",
       "        // Call the  \"handle_{type}\" callback, which takes\n",
       "        // the figure and JSON message as its only arguments.\n",
       "        try {\n",
       "            var callback = fig['handle_' + msg_type];\n",
       "        } catch (e) {\n",
       "            console.log(\n",
       "                \"No handler for the '\" + msg_type + \"' message type: \",\n",
       "                msg\n",
       "            );\n",
       "            return;\n",
       "        }\n",
       "\n",
       "        if (callback) {\n",
       "            try {\n",
       "                // console.log(\"Handling '\" + msg_type + \"' message: \", msg);\n",
       "                callback(fig, msg);\n",
       "            } catch (e) {\n",
       "                console.log(\n",
       "                    \"Exception inside the 'handler_\" + msg_type + \"' callback:\",\n",
       "                    e,\n",
       "                    e.stack,\n",
       "                    msg\n",
       "                );\n",
       "            }\n",
       "        }\n",
       "    };\n",
       "};\n",
       "\n",
       "// from http://stackoverflow.com/questions/1114465/getting-mouse-location-in-canvas\n",
       "mpl.findpos = function (e) {\n",
       "    //this section is from http://www.quirksmode.org/js/events_properties.html\n",
       "    var targ;\n",
       "    if (!e) {\n",
       "        e = window.event;\n",
       "    }\n",
       "    if (e.target) {\n",
       "        targ = e.target;\n",
       "    } else if (e.srcElement) {\n",
       "        targ = e.srcElement;\n",
       "    }\n",
       "    if (targ.nodeType === 3) {\n",
       "        // defeat Safari bug\n",
       "        targ = targ.parentNode;\n",
       "    }\n",
       "\n",
       "    // pageX,Y are the mouse positions relative to the document\n",
       "    var boundingRect = targ.getBoundingClientRect();\n",
       "    var x = e.pageX - (boundingRect.left + document.body.scrollLeft);\n",
       "    var y = e.pageY - (boundingRect.top + document.body.scrollTop);\n",
       "\n",
       "    return { x: x, y: y };\n",
       "};\n",
       "\n",
       "/*\n",
       " * return a copy of an object with only non-object keys\n",
       " * we need this to avoid circular references\n",
       " * http://stackoverflow.com/a/24161582/3208463\n",
       " */\n",
       "function simpleKeys(original) {\n",
       "    return Object.keys(original).reduce(function (obj, key) {\n",
       "        if (typeof original[key] !== 'object') {\n",
       "            obj[key] = original[key];\n",
       "        }\n",
       "        return obj;\n",
       "    }, {});\n",
       "}\n",
       "\n",
       "mpl.figure.prototype.mouse_event = function (event, name) {\n",
       "    var canvas_pos = mpl.findpos(event);\n",
       "\n",
       "    if (name === 'button_press') {\n",
       "        this.canvas.focus();\n",
       "        this.canvas_div.focus();\n",
       "    }\n",
       "\n",
       "    var x = canvas_pos.x * this.ratio;\n",
       "    var y = canvas_pos.y * this.ratio;\n",
       "\n",
       "    this.send_message(name, {\n",
       "        x: x,\n",
       "        y: y,\n",
       "        button: event.button,\n",
       "        step: event.step,\n",
       "        guiEvent: simpleKeys(event),\n",
       "    });\n",
       "\n",
       "    /* This prevents the web browser from automatically changing to\n",
       "     * the text insertion cursor when the button is pressed.  We want\n",
       "     * to control all of the cursor setting manually through the\n",
       "     * 'cursor' event from matplotlib */\n",
       "    event.preventDefault();\n",
       "    return false;\n",
       "};\n",
       "\n",
       "mpl.figure.prototype._key_event_extra = function (_event, _name) {\n",
       "    // Handle any extra behaviour associated with a key event\n",
       "};\n",
       "\n",
       "mpl.figure.prototype.key_event = function (event, name) {\n",
       "    // Prevent repeat events\n",
       "    if (name === 'key_press') {\n",
       "        if (event.key === this._key) {\n",
       "            return;\n",
       "        } else {\n",
       "            this._key = event.key;\n",
       "        }\n",
       "    }\n",
       "    if (name === 'key_release') {\n",
       "        this._key = null;\n",
       "    }\n",
       "\n",
       "    var value = '';\n",
       "    if (event.ctrlKey && event.key !== 'Control') {\n",
       "        value += 'ctrl+';\n",
       "    }\n",
       "    else if (event.altKey && event.key !== 'Alt') {\n",
       "        value += 'alt+';\n",
       "    }\n",
       "    else if (event.shiftKey && event.key !== 'Shift') {\n",
       "        value += 'shift+';\n",
       "    }\n",
       "\n",
       "    value += 'k' + event.key;\n",
       "\n",
       "    this._key_event_extra(event, name);\n",
       "\n",
       "    this.send_message(name, { key: value, guiEvent: simpleKeys(event) });\n",
       "    return false;\n",
       "};\n",
       "\n",
       "mpl.figure.prototype.toolbar_button_onclick = function (name) {\n",
       "    if (name === 'download') {\n",
       "        this.handle_save(this, null);\n",
       "    } else {\n",
       "        this.send_message('toolbar_button', { name: name });\n",
       "    }\n",
       "};\n",
       "\n",
       "mpl.figure.prototype.toolbar_button_onmouseover = function (tooltip) {\n",
       "    this.message.textContent = tooltip;\n",
       "};\n",
       "\n",
       "///////////////// REMAINING CONTENT GENERATED BY embed_js.py /////////////////\n",
       "// prettier-ignore\n",
       "var _JSXTOOLS_RESIZE_OBSERVER=function(A){var t,i=new WeakMap,n=new WeakMap,a=new WeakMap,r=new WeakMap,o=new Set;function s(e){if(!(this instanceof s))throw new TypeError(\"Constructor requires 'new' operator\");i.set(this,e)}function h(){throw new TypeError(\"Function is not a constructor\")}function c(e,t,i,n){e=0 in arguments?Number(arguments[0]):0,t=1 in arguments?Number(arguments[1]):0,i=2 in arguments?Number(arguments[2]):0,n=3 in arguments?Number(arguments[3]):0,this.right=(this.x=this.left=e)+(this.width=i),this.bottom=(this.y=this.top=t)+(this.height=n),Object.freeze(this)}function d(){t=requestAnimationFrame(d);var s=new WeakMap,p=new Set;o.forEach((function(t){r.get(t).forEach((function(i){var r=t instanceof window.SVGElement,o=a.get(t),d=r?0:parseFloat(o.paddingTop),f=r?0:parseFloat(o.paddingRight),l=r?0:parseFloat(o.paddingBottom),u=r?0:parseFloat(o.paddingLeft),g=r?0:parseFloat(o.borderTopWidth),m=r?0:parseFloat(o.borderRightWidth),w=r?0:parseFloat(o.borderBottomWidth),b=u+f,F=d+l,v=(r?0:parseFloat(o.borderLeftWidth))+m,W=g+w,y=r?0:t.offsetHeight-W-t.clientHeight,E=r?0:t.offsetWidth-v-t.clientWidth,R=b+v,z=F+W,M=r?t.width:parseFloat(o.width)-R-E,O=r?t.height:parseFloat(o.height)-z-y;if(n.has(t)){var k=n.get(t);if(k[0]===M&&k[1]===O)return}n.set(t,[M,O]);var S=Object.create(h.prototype);S.target=t,S.contentRect=new c(u,d,M,O),s.has(i)||(s.set(i,[]),p.add(i)),s.get(i).push(S)}))})),p.forEach((function(e){i.get(e).call(e,s.get(e),e)}))}return s.prototype.observe=function(i){if(i instanceof window.Element){r.has(i)||(r.set(i,new Set),o.add(i),a.set(i,window.getComputedStyle(i)));var n=r.get(i);n.has(this)||n.add(this),cancelAnimationFrame(t),t=requestAnimationFrame(d)}},s.prototype.unobserve=function(i){if(i instanceof window.Element&&r.has(i)){var n=r.get(i);n.has(this)&&(n.delete(this),n.size||(r.delete(i),o.delete(i))),n.size||r.delete(i),o.size||cancelAnimationFrame(t)}},A.DOMRectReadOnly=c,A.ResizeObserver=s,A.ResizeObserverEntry=h,A}; // eslint-disable-line\n",
       "mpl.toolbar_items = [[\"Home\", \"Reset original view\", \"fa fa-home icon-home\", \"home\"], [\"Back\", \"Back to previous view\", \"fa fa-arrow-left icon-arrow-left\", \"back\"], [\"Forward\", \"Forward to next view\", \"fa fa-arrow-right icon-arrow-right\", \"forward\"], [\"\", \"\", \"\", \"\"], [\"Pan\", \"Left button pans, Right button zooms\\nx/y fixes axis, CTRL fixes aspect\", \"fa fa-arrows icon-move\", \"pan\"], [\"Zoom\", \"Zoom to rectangle\\nx/y fixes axis, CTRL fixes aspect\", \"fa fa-square-o icon-check-empty\", \"zoom\"], [\"\", \"\", \"\", \"\"], [\"Download\", \"Download plot\", \"fa fa-floppy-o icon-save\", \"download\"]];\n",
       "\n",
       "mpl.extensions = [\"eps\", \"jpeg\", \"pgf\", \"pdf\", \"png\", \"ps\", \"raw\", \"svg\", \"tif\"];\n",
       "\n",
       "mpl.default_extension = \"png\";/* global mpl */\n",
       "\n",
       "var comm_websocket_adapter = function (comm) {\n",
       "    // Create a \"websocket\"-like object which calls the given IPython comm\n",
       "    // object with the appropriate methods. Currently this is a non binary\n",
       "    // socket, so there is still some room for performance tuning.\n",
       "    var ws = {};\n",
       "\n",
       "    ws.binaryType = comm.kernel.ws.binaryType;\n",
       "    ws.readyState = comm.kernel.ws.readyState;\n",
       "    function updateReadyState(_event) {\n",
       "        if (comm.kernel.ws) {\n",
       "            ws.readyState = comm.kernel.ws.readyState;\n",
       "        } else {\n",
       "            ws.readyState = 3; // Closed state.\n",
       "        }\n",
       "    }\n",
       "    comm.kernel.ws.addEventListener('open', updateReadyState);\n",
       "    comm.kernel.ws.addEventListener('close', updateReadyState);\n",
       "    comm.kernel.ws.addEventListener('error', updateReadyState);\n",
       "\n",
       "    ws.close = function () {\n",
       "        comm.close();\n",
       "    };\n",
       "    ws.send = function (m) {\n",
       "        //console.log('sending', m);\n",
       "        comm.send(m);\n",
       "    };\n",
       "    // Register the callback with on_msg.\n",
       "    comm.on_msg(function (msg) {\n",
       "        //console.log('receiving', msg['content']['data'], msg);\n",
       "        var data = msg['content']['data'];\n",
       "        if (data['blob'] !== undefined) {\n",
       "            data = {\n",
       "                data: new Blob(msg['buffers'], { type: data['blob'] }),\n",
       "            };\n",
       "        }\n",
       "        // Pass the mpl event to the overridden (by mpl) onmessage function.\n",
       "        ws.onmessage(data);\n",
       "    });\n",
       "    return ws;\n",
       "};\n",
       "\n",
       "mpl.mpl_figure_comm = function (comm, msg) {\n",
       "    // This is the function which gets called when the mpl process\n",
       "    // starts-up an IPython Comm through the \"matplotlib\" channel.\n",
       "\n",
       "    var id = msg.content.data.id;\n",
       "    // Get hold of the div created by the display call when the Comm\n",
       "    // socket was opened in Python.\n",
       "    var element = document.getElementById(id);\n",
       "    var ws_proxy = comm_websocket_adapter(comm);\n",
       "\n",
       "    function ondownload(figure, _format) {\n",
       "        window.open(figure.canvas.toDataURL());\n",
       "    }\n",
       "\n",
       "    var fig = new mpl.figure(id, ws_proxy, ondownload, element);\n",
       "\n",
       "    // Call onopen now - mpl needs it, as it is assuming we've passed it a real\n",
       "    // web socket which is closed, not our websocket->open comm proxy.\n",
       "    ws_proxy.onopen();\n",
       "\n",
       "    fig.parent_element = element;\n",
       "    fig.cell_info = mpl.find_output_cell(\"<div id='\" + id + \"'></div>\");\n",
       "    if (!fig.cell_info) {\n",
       "        console.error('Failed to find cell for figure', id, fig);\n",
       "        return;\n",
       "    }\n",
       "    fig.cell_info[0].output_area.element.on(\n",
       "        'cleared',\n",
       "        { fig: fig },\n",
       "        fig._remove_fig_handler\n",
       "    );\n",
       "};\n",
       "\n",
       "mpl.figure.prototype.handle_close = function (fig, msg) {\n",
       "    var width = fig.canvas.width / fig.ratio;\n",
       "    fig.cell_info[0].output_area.element.off(\n",
       "        'cleared',\n",
       "        fig._remove_fig_handler\n",
       "    );\n",
       "    fig.resizeObserverInstance.unobserve(fig.canvas_div);\n",
       "\n",
       "    // Update the output cell to use the data from the current canvas.\n",
       "    fig.push_to_output();\n",
       "    var dataURL = fig.canvas.toDataURL();\n",
       "    // Re-enable the keyboard manager in IPython - without this line, in FF,\n",
       "    // the notebook keyboard shortcuts fail.\n",
       "    IPython.keyboard_manager.enable();\n",
       "    fig.parent_element.innerHTML =\n",
       "        '<img src=\"' + dataURL + '\" width=\"' + width + '\">';\n",
       "    fig.close_ws(fig, msg);\n",
       "};\n",
       "\n",
       "mpl.figure.prototype.close_ws = function (fig, msg) {\n",
       "    fig.send_message('closing', msg);\n",
       "    // fig.ws.close()\n",
       "};\n",
       "\n",
       "mpl.figure.prototype.push_to_output = function (_remove_interactive) {\n",
       "    // Turn the data on the canvas into data in the output cell.\n",
       "    var width = this.canvas.width / this.ratio;\n",
       "    var dataURL = this.canvas.toDataURL();\n",
       "    this.cell_info[1]['text/html'] =\n",
       "        '<img src=\"' + dataURL + '\" width=\"' + width + '\">';\n",
       "};\n",
       "\n",
       "mpl.figure.prototype.updated_canvas_event = function () {\n",
       "    // Tell IPython that the notebook contents must change.\n",
       "    IPython.notebook.set_dirty(true);\n",
       "    this.send_message('ack', {});\n",
       "    var fig = this;\n",
       "    // Wait a second, then push the new image to the DOM so\n",
       "    // that it is saved nicely (might be nice to debounce this).\n",
       "    setTimeout(function () {\n",
       "        fig.push_to_output();\n",
       "    }, 1000);\n",
       "};\n",
       "\n",
       "mpl.figure.prototype._init_toolbar = function () {\n",
       "    var fig = this;\n",
       "\n",
       "    var toolbar = document.createElement('div');\n",
       "    toolbar.classList = 'btn-toolbar';\n",
       "    this.root.appendChild(toolbar);\n",
       "\n",
       "    function on_click_closure(name) {\n",
       "        return function (_event) {\n",
       "            return fig.toolbar_button_onclick(name);\n",
       "        };\n",
       "    }\n",
       "\n",
       "    function on_mouseover_closure(tooltip) {\n",
       "        return function (event) {\n",
       "            if (!event.currentTarget.disabled) {\n",
       "                return fig.toolbar_button_onmouseover(tooltip);\n",
       "            }\n",
       "        };\n",
       "    }\n",
       "\n",
       "    fig.buttons = {};\n",
       "    var buttonGroup = document.createElement('div');\n",
       "    buttonGroup.classList = 'btn-group';\n",
       "    var button;\n",
       "    for (var toolbar_ind in mpl.toolbar_items) {\n",
       "        var name = mpl.toolbar_items[toolbar_ind][0];\n",
       "        var tooltip = mpl.toolbar_items[toolbar_ind][1];\n",
       "        var image = mpl.toolbar_items[toolbar_ind][2];\n",
       "        var method_name = mpl.toolbar_items[toolbar_ind][3];\n",
       "\n",
       "        if (!name) {\n",
       "            /* Instead of a spacer, we start a new button group. */\n",
       "            if (buttonGroup.hasChildNodes()) {\n",
       "                toolbar.appendChild(buttonGroup);\n",
       "            }\n",
       "            buttonGroup = document.createElement('div');\n",
       "            buttonGroup.classList = 'btn-group';\n",
       "            continue;\n",
       "        }\n",
       "\n",
       "        button = fig.buttons[name] = document.createElement('button');\n",
       "        button.classList = 'btn btn-default';\n",
       "        button.href = '#';\n",
       "        button.title = name;\n",
       "        button.innerHTML = '<i class=\"fa ' + image + ' fa-lg\"></i>';\n",
       "        button.addEventListener('click', on_click_closure(method_name));\n",
       "        button.addEventListener('mouseover', on_mouseover_closure(tooltip));\n",
       "        buttonGroup.appendChild(button);\n",
       "    }\n",
       "\n",
       "    if (buttonGroup.hasChildNodes()) {\n",
       "        toolbar.appendChild(buttonGroup);\n",
       "    }\n",
       "\n",
       "    // Add the status bar.\n",
       "    var status_bar = document.createElement('span');\n",
       "    status_bar.classList = 'mpl-message pull-right';\n",
       "    toolbar.appendChild(status_bar);\n",
       "    this.message = status_bar;\n",
       "\n",
       "    // Add the close button to the window.\n",
       "    var buttongrp = document.createElement('div');\n",
       "    buttongrp.classList = 'btn-group inline pull-right';\n",
       "    button = document.createElement('button');\n",
       "    button.classList = 'btn btn-mini btn-primary';\n",
       "    button.href = '#';\n",
       "    button.title = 'Stop Interaction';\n",
       "    button.innerHTML = '<i class=\"fa fa-power-off icon-remove icon-large\"></i>';\n",
       "    button.addEventListener('click', function (_evt) {\n",
       "        fig.handle_close(fig, {});\n",
       "    });\n",
       "    button.addEventListener(\n",
       "        'mouseover',\n",
       "        on_mouseover_closure('Stop Interaction')\n",
       "    );\n",
       "    buttongrp.appendChild(button);\n",
       "    var titlebar = this.root.querySelector('.ui-dialog-titlebar');\n",
       "    titlebar.insertBefore(buttongrp, titlebar.firstChild);\n",
       "};\n",
       "\n",
       "mpl.figure.prototype._remove_fig_handler = function (event) {\n",
       "    var fig = event.data.fig;\n",
       "    if (event.target !== this) {\n",
       "        // Ignore bubbled events from children.\n",
       "        return;\n",
       "    }\n",
       "    fig.close_ws(fig, {});\n",
       "};\n",
       "\n",
       "mpl.figure.prototype._root_extra_style = function (el) {\n",
       "    el.style.boxSizing = 'content-box'; // override notebook setting of border-box.\n",
       "};\n",
       "\n",
       "mpl.figure.prototype._canvas_extra_style = function (el) {\n",
       "    // this is important to make the div 'focusable\n",
       "    el.setAttribute('tabindex', 0);\n",
       "    // reach out to IPython and tell the keyboard manager to turn it's self\n",
       "    // off when our div gets focus\n",
       "\n",
       "    // location in version 3\n",
       "    if (IPython.notebook.keyboard_manager) {\n",
       "        IPython.notebook.keyboard_manager.register_events(el);\n",
       "    } else {\n",
       "        // location in version 2\n",
       "        IPython.keyboard_manager.register_events(el);\n",
       "    }\n",
       "};\n",
       "\n",
       "mpl.figure.prototype._key_event_extra = function (event, _name) {\n",
       "    var manager = IPython.notebook.keyboard_manager;\n",
       "    if (!manager) {\n",
       "        manager = IPython.keyboard_manager;\n",
       "    }\n",
       "\n",
       "    // Check for shift+enter\n",
       "    if (event.shiftKey && event.which === 13) {\n",
       "        this.canvas_div.blur();\n",
       "        // select the cell after this one\n",
       "        var index = IPython.notebook.find_cell_index(this.cell_info[0]);\n",
       "        IPython.notebook.select(index + 1);\n",
       "    }\n",
       "};\n",
       "\n",
       "mpl.figure.prototype.handle_save = function (fig, _msg) {\n",
       "    fig.ondownload(fig, null);\n",
       "};\n",
       "\n",
       "mpl.find_output_cell = function (html_output) {\n",
       "    // Return the cell and output element which can be found *uniquely* in the notebook.\n",
       "    // Note - this is a bit hacky, but it is done because the \"notebook_saving.Notebook\"\n",
       "    // IPython event is triggered only after the cells have been serialised, which for\n",
       "    // our purposes (turning an active figure into a static one), is too late.\n",
       "    var cells = IPython.notebook.get_cells();\n",
       "    var ncells = cells.length;\n",
       "    for (var i = 0; i < ncells; i++) {\n",
       "        var cell = cells[i];\n",
       "        if (cell.cell_type === 'code') {\n",
       "            for (var j = 0; j < cell.output_area.outputs.length; j++) {\n",
       "                var data = cell.output_area.outputs[j];\n",
       "                if (data.data) {\n",
       "                    // IPython >= 3 moved mimebundle to data attribute of output\n",
       "                    data = data.data;\n",
       "                }\n",
       "                if (data['text/html'] === html_output) {\n",
       "                    return [cell, data, j];\n",
       "                }\n",
       "            }\n",
       "        }\n",
       "    }\n",
       "};\n",
       "\n",
       "// Register the function which deals with the matplotlib target/channel.\n",
       "// The kernel may be null if the page has been refreshed.\n",
       "if (IPython.notebook.kernel !== null) {\n",
       "    IPython.notebook.kernel.comm_manager.register_target(\n",
       "        'matplotlib',\n",
       "        mpl.mpl_figure_comm\n",
       "    );\n",
       "}\n"
      ],
      "text/plain": [
       "<IPython.core.display.Javascript object>"
      ]
     },
     "metadata": {},
     "output_type": "display_data"
    },
    {
     "data": {
      "text/html": [
       "<img src=\"data:image/png;base64,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\" width=\"640\">"
      ],
      "text/plain": [
       "<IPython.core.display.HTML object>"
      ]
     },
     "metadata": {},
     "output_type": "display_data"
    }
   ],
   "source": [
    "%matplotlib notebook\n",
    "import matplotlib.pyplot as plt\n",
    "\n",
    "from mpl_toolkits.mplot3d import Axes3D\n",
    "\n",
    "\n",
    "from matplotlib import interactive,pyplot\n",
    "from mpl_toolkits.mplot3d import Axes3D\n",
    "from numpy.random import rand\n",
    "from pylab import figure\n",
    "\n",
    " \n",
    "m=rand(3,3) # m is an array of (x,y,z) coordinate triplets\n",
    " \n",
    "fig = figure()\n",
    "ax = fig.add_subplot(projection='3d')\n",
    "\n",
    "for i in range(len(df_mca)): #plot each point + its index as text above\n",
    "    if i==4:\n",
    "        delta=0.2\n",
    "        delta2=0.\n",
    "    elif i==7:\n",
    "        delta=0.1\n",
    "        delta2=0.\n",
    "    elif i==1:\n",
    "        delta=0.1\n",
    "        delta2=0.1\n",
    "    else:\n",
    "        delta=0.\n",
    "        delta2=0\n",
    "    ax.scatter(df_mca.iloc[i,0],df_mca.iloc[i,1],df_mca.iloc[i,2],color='b') \n",
    "    ax.text(df_mca.iloc[i,0]+delta,df_mca.iloc[i,1]+delta2,df_mca.iloc[i,2],  '%s' % (index[i]), size=10, zorder=1,  \n",
    "    color='k') \n",
    "\n",
    "ax.set_xlabel(f'component 0 {round(mca.explained_inertia_[0]*100,1)}%', fontsize=14)\n",
    "ax.set_ylabel(f'component 1 {round(mca.explained_inertia_[1]*100,1)}%', fontsize=14)\n",
    "ax.set_zlabel(f'component 2 {round(mca.explained_inertia_[2]*100,1)}%', fontsize=14)\n",
    "\n",
    "\n",
    "ax.view_init(60., -20.)\n",
    "\n",
    "plt.show()\n",
    "#plt.savefig('DimensionsReductionSurvey2023_orig-4diagram_1000dpi.pdf',dpi=1000,format='pdf')\n",
    "#plt.savefig('DimensionsReductionSurvey2023_orig-4diagram_1000dpi.tiff',dpi=1000,format='tiff')\n",
    "\n",
    "\n",
    "\n"
   ]
  },
  {
   "cell_type": "code",
   "execution_count": 17,
   "metadata": {},
   "outputs": [
    {
     "data": {
      "application/vnd.plotly.v1+json": {
       "config": {
        "plotlyServerURL": "https://plot.ly"
       },
       "data": [
        {
         "diagonal": {
          "visible": false
         },
         "dimensions": [
          {
           "axis": {
            "matches": true
           },
           "label": "PC 1 (0.3%)",
           "values": [
            0.6289565590029355
           ]
          },
          {
           "axis": {
            "matches": true
           },
           "label": "PC 2 (0.2%)",
           "values": [
            -0.9174858564915227
           ]
          },
          {
           "axis": {
            "matches": true
           },
           "label": "PC 3 (0.2%)",
           "values": [
            0.26626594721708613
           ]
          }
         ],
         "hovertemplate": "index=ehrbase<br>%{xaxis.title.text}=%{x}<br>%{yaxis.title.text}=%{y}<extra></extra>",
         "legendgroup": "ehrbase",
         "marker": {
          "color": "#636efa",
          "symbol": 106
         },
         "name": "ehrbase",
         "showlegend": true,
         "type": "splom"
        },
        {
         "diagonal": {
          "visible": false
         },
         "dimensions": [
          {
           "axis": {
            "matches": true
           },
           "label": "PC 1 (0.3%)",
           "values": [
            -0.3925628734451425
           ]
          },
          {
           "axis": {
            "matches": true
           },
           "label": "PC 2 (0.2%)",
           "values": [
            -0.6617309886561458
           ]
          },
          {
           "axis": {
            "matches": true
           },
           "label": "PC 3 (0.2%)",
           "values": [
            0.04154638950386081
           ]
          }
         ],
         "hovertemplate": "index=better<br>%{xaxis.title.text}=%{x}<br>%{yaxis.title.text}=%{y}<extra></extra>",
         "legendgroup": "better",
         "marker": {
          "color": "#EF553B",
          "symbol": 306
         },
         "name": "better",
         "showlegend": true,
         "type": "splom"
        },
        {
         "diagonal": {
          "visible": false
         },
         "dimensions": [
          {
           "axis": {
            "matches": true
           },
           "label": "PC 1 (0.3%)",
           "values": [
            0.3885216217026657
           ]
          },
          {
           "axis": {
            "matches": true
           },
           "label": "PC 2 (0.2%)",
           "values": [
            0.43529829942952714
           ]
          },
          {
           "axis": {
            "matches": true
           },
           "label": "PC 3 (0.2%)",
           "values": [
            -0.6092467146490055
           ]
          }
         ],
         "hovertemplate": "index=base24<br>%{xaxis.title.text}=%{x}<br>%{yaxis.title.text}=%{y}<extra></extra>",
         "legendgroup": "base24",
         "marker": {
          "color": "#00cc96",
          "symbol": 201
         },
         "name": "base24",
         "showlegend": true,
         "type": "splom"
        },
        {
         "diagonal": {
          "visible": false
         },
         "dimensions": [
          {
           "axis": {
            "matches": true
           },
           "label": "PC 1 (0.3%)",
           "values": [
            1.3703666117447757
           ]
          },
          {
           "axis": {
            "matches": true
           },
           "label": "PC 2 (0.2%)",
           "values": [
            0.13840271150243547
           ]
          },
          {
           "axis": {
            "matches": true
           },
           "label": "PC 3 (0.2%)",
           "values": [
            -0.6928814326165799
           ]
          }
         ],
         "hovertemplate": "index=cabo<br>%{xaxis.title.text}=%{x}<br>%{yaxis.title.text}=%{y}<extra></extra>",
         "legendgroup": "cabo",
         "marker": {
          "color": "#ab63fa",
          "symbol": 101
         },
         "name": "cabo",
         "showlegend": true,
         "type": "splom"
        },
        {
         "diagonal": {
          "visible": false
         },
         "dimensions": [
          {
           "axis": {
            "matches": true
           },
           "label": "PC 1 (0.3%)",
           "values": [
            -0.23517697946442256
           ]
          },
          {
           "axis": {
            "matches": true
           },
           "label": "PC 2 (0.2%)",
           "values": [
            -0.7628876107364937
           ]
          },
          {
           "axis": {
            "matches": true
           },
           "label": "PC 3 (0.2%)",
           "values": [
            0.3129025900680174
           ]
          }
         ],
         "hovertemplate": "index=arenaehr<br>%{xaxis.title.text}=%{x}<br>%{yaxis.title.text}=%{y}<extra></extra>",
         "legendgroup": "arenaehr",
         "marker": {
          "color": "#FFA15A",
          "symbol": 307
         },
         "name": "arenaehr",
         "showlegend": true,
         "type": "splom"
        },
        {
         "diagonal": {
          "visible": false
         },
         "dimensions": [
          {
           "axis": {
            "matches": true
           },
           "label": "PC 1 (0.3%)",
           "values": [
            0.22351092361813304
           ]
          },
          {
           "axis": {
            "matches": true
           },
           "label": "PC 2 (0.2%)",
           "values": [
            1.2504056169105782
           ]
          },
          {
           "axis": {
            "matches": true
           },
           "label": "PC 3 (0.2%)",
           "values": [
            0.923621865984319
           ]
          }
         ],
         "hovertemplate": "index=eweave<br>%{xaxis.title.text}=%{x}<br>%{yaxis.title.text}=%{y}<extra></extra>",
         "legendgroup": "eweave",
         "marker": {
          "color": "#19d3f3",
          "symbol": 0
         },
         "name": "eweave",
         "showlegend": true,
         "type": "splom"
        },
        {
         "diagonal": {
          "visible": false
         },
         "dimensions": [
          {
           "axis": {
            "matches": true
           },
           "label": "PC 1 (0.3%)",
           "values": [
            -0.14372879196626803
           ]
          },
          {
           "axis": {
            "matches": true
           },
           "label": "PC 2 (0.2%)",
           "values": [
            0.14002744388086022
           ]
          },
          {
           "axis": {
            "matches": true
           },
           "label": "PC 3 (0.2%)",
           "values": [
            0.6261949715444115
           ]
          }
         ],
         "hovertemplate": "index=ehrcare<br>%{xaxis.title.text}=%{x}<br>%{yaxis.title.text}=%{y}<extra></extra>",
         "legendgroup": "ehrcare",
         "marker": {
          "color": "#FF6692",
          "symbol": 105
         },
         "name": "ehrcare",
         "showlegend": true,
         "type": "splom"
        },
        {
         "diagonal": {
          "visible": false
         },
         "dimensions": [
          {
           "axis": {
            "matches": true
           },
           "label": "PC 1 (0.3%)",
           "values": [
            -0.9261998000344346
           ]
          },
          {
           "axis": {
            "matches": true
           },
           "label": "PC 2 (0.2%)",
           "values": [
            0.17687034763193496
           ]
          },
          {
           "axis": {
            "matches": true
           },
           "label": "PC 3 (0.2%)",
           "values": [
            -0.7380186993793514
           ]
          }
         ],
         "hovertemplate": "index=clever<br>%{xaxis.title.text}=%{x}<br>%{yaxis.title.text}=%{y}<extra></extra>",
         "legendgroup": "clever",
         "marker": {
          "color": "#B6E880",
          "symbol": 102
         },
         "name": "clever",
         "showlegend": true,
         "type": "splom"
        },
        {
         "diagonal": {
          "visible": false
         },
         "dimensions": [
          {
           "axis": {
            "matches": true
           },
           "label": "PC 1 (0.3%)",
           "values": [
            -0.4123987281754996
           ]
          },
          {
           "axis": {
            "matches": true
           },
           "label": "PC 2 (0.2%)",
           "values": [
            -0.5811795164822273
           ]
          },
          {
           "axis": {
            "matches": true
           },
           "label": "PC 3 (0.2%)",
           "values": [
            0.052052879592194116
           ]
          }
         ],
         "hovertemplate": "index=ehrdb<br>%{xaxis.title.text}=%{x}<br>%{yaxis.title.text}=%{y}<extra></extra>",
         "legendgroup": "ehrdb",
         "marker": {
          "color": "#FF97FF",
          "symbol": 108
         },
         "name": "ehrdb",
         "showlegend": true,
         "type": "splom"
        },
        {
         "diagonal": {
          "visible": false
         },
         "dimensions": [
          {
           "axis": {
            "matches": true
           },
           "label": "PC 1 (0.3%)",
           "values": [
            -0.8578779403837999
           ]
          },
          {
           "axis": {
            "matches": true
           },
           "label": "PC 2 (0.2%)",
           "values": [
            0.6876080165851824
           ]
          },
          {
           "axis": {
            "matches": true
           },
           "label": "PC 3 (0.2%)",
           "values": [
            -0.32538237691212796
           ]
          }
         ],
         "hovertemplate": "index=rhp<br>%{xaxis.title.text}=%{x}<br>%{yaxis.title.text}=%{y}<extra></extra>",
         "legendgroup": "rhp",
         "marker": {
          "color": "#FECB52",
          "symbol": 302
         },
         "name": "rhp",
         "showlegend": true,
         "type": "splom"
        },
        {
         "diagonal": {
          "visible": false
         },
         "dimensions": [
          {
           "axis": {
            "matches": true
           },
           "label": "PC 1 (0.3%)",
           "values": [
            0.35658939740105744
           ]
          },
          {
           "axis": {
            "matches": true
           },
           "label": "PC 2 (0.2%)",
           "values": [
            0.09467153642587163
           ]
          },
          {
           "axis": {
            "matches": true
           },
           "label": "PC 3 (0.2%)",
           "values": [
            0.14294457964717655
           ]
          }
         ],
         "hovertemplate": "index=ehrn<br>%{xaxis.title.text}=%{x}<br>%{yaxis.title.text}=%{y}<extra></extra>",
         "legendgroup": "ehrn",
         "marker": {
          "color": "#636efa",
          "symbol": 107
         },
         "name": "ehrn",
         "showlegend": true,
         "type": "splom"
        }
       ],
       "layout": {
        "dragmode": "select",
        "legend": {
         "title": {
          "text": "index"
         },
         "tracegroupgap": 0
        },
        "margin": {
         "t": 60
        },
        "template": {
         "data": {
          "bar": [
           {
            "error_x": {
             "color": "#2a3f5f"
            },
            "error_y": {
             "color": "#2a3f5f"
            },
            "marker": {
             "line": {
              "color": "#E5ECF6",
              "width": 0.5
             },
             "pattern": {
              "fillmode": "overlay",
              "size": 10,
              "solidity": 0.2
             }
            },
            "type": "bar"
           }
          ],
          "barpolar": [
           {
            "marker": {
             "line": {
              "color": "#E5ECF6",
              "width": 0.5
             },
             "pattern": {
              "fillmode": "overlay",
              "size": 10,
              "solidity": 0.2
             }
            },
            "type": "barpolar"
           }
          ],
          "carpet": [
           {
            "aaxis": {
             "endlinecolor": "#2a3f5f",
             "gridcolor": "white",
             "linecolor": "white",
             "minorgridcolor": "white",
             "startlinecolor": "#2a3f5f"
            },
            "baxis": {
             "endlinecolor": "#2a3f5f",
             "gridcolor": "white",
             "linecolor": "white",
             "minorgridcolor": "white",
             "startlinecolor": "#2a3f5f"
            },
            "type": "carpet"
           }
          ],
          "choropleth": [
           {
            "colorbar": {
             "outlinewidth": 0,
             "ticks": ""
            },
            "type": "choropleth"
           }
          ],
          "contour": [
           {
            "colorbar": {
             "outlinewidth": 0,
             "ticks": ""
            },
            "colorscale": [
             [
              0,
              "#0d0887"
             ],
             [
              0.1111111111111111,
              "#46039f"
             ],
             [
              0.2222222222222222,
              "#7201a8"
             ],
             [
              0.3333333333333333,
              "#9c179e"
             ],
             [
              0.4444444444444444,
              "#bd3786"
             ],
             [
              0.5555555555555556,
              "#d8576b"
             ],
             [
              0.6666666666666666,
              "#ed7953"
             ],
             [
              0.7777777777777778,
              "#fb9f3a"
             ],
             [
              0.8888888888888888,
              "#fdca26"
             ],
             [
              1,
              "#f0f921"
             ]
            ],
            "type": "contour"
           }
          ],
          "contourcarpet": [
           {
            "colorbar": {
             "outlinewidth": 0,
             "ticks": ""
            },
            "type": "contourcarpet"
           }
          ],
          "heatmap": [
           {
            "colorbar": {
             "outlinewidth": 0,
             "ticks": ""
            },
            "colorscale": [
             [
              0,
              "#0d0887"
             ],
             [
              0.1111111111111111,
              "#46039f"
             ],
             [
              0.2222222222222222,
              "#7201a8"
             ],
             [
              0.3333333333333333,
              "#9c179e"
             ],
             [
              0.4444444444444444,
              "#bd3786"
             ],
             [
              0.5555555555555556,
              "#d8576b"
             ],
             [
              0.6666666666666666,
              "#ed7953"
             ],
             [
              0.7777777777777778,
              "#fb9f3a"
             ],
             [
              0.8888888888888888,
              "#fdca26"
             ],
             [
              1,
              "#f0f921"
             ]
            ],
            "type": "heatmap"
           }
          ],
          "heatmapgl": [
           {
            "colorbar": {
             "outlinewidth": 0,
             "ticks": ""
            },
            "colorscale": [
             [
              0,
              "#0d0887"
             ],
             [
              0.1111111111111111,
              "#46039f"
             ],
             [
              0.2222222222222222,
              "#7201a8"
             ],
             [
              0.3333333333333333,
              "#9c179e"
             ],
             [
              0.4444444444444444,
              "#bd3786"
             ],
             [
              0.5555555555555556,
              "#d8576b"
             ],
             [
              0.6666666666666666,
              "#ed7953"
             ],
             [
              0.7777777777777778,
              "#fb9f3a"
             ],
             [
              0.8888888888888888,
              "#fdca26"
             ],
             [
              1,
              "#f0f921"
             ]
            ],
            "type": "heatmapgl"
           }
          ],
          "histogram": [
           {
            "marker": {
             "pattern": {
              "fillmode": "overlay",
              "size": 10,
              "solidity": 0.2
             }
            },
            "type": "histogram"
           }
          ],
          "histogram2d": [
           {
            "colorbar": {
             "outlinewidth": 0,
             "ticks": ""
            },
            "colorscale": [
             [
              0,
              "#0d0887"
             ],
             [
              0.1111111111111111,
              "#46039f"
             ],
             [
              0.2222222222222222,
              "#7201a8"
             ],
             [
              0.3333333333333333,
              "#9c179e"
             ],
             [
              0.4444444444444444,
              "#bd3786"
             ],
             [
              0.5555555555555556,
              "#d8576b"
             ],
             [
              0.6666666666666666,
              "#ed7953"
             ],
             [
              0.7777777777777778,
              "#fb9f3a"
             ],
             [
              0.8888888888888888,
              "#fdca26"
             ],
             [
              1,
              "#f0f921"
             ]
            ],
            "type": "histogram2d"
           }
          ],
          "histogram2dcontour": [
           {
            "colorbar": {
             "outlinewidth": 0,
             "ticks": ""
            },
            "colorscale": [
             [
              0,
              "#0d0887"
             ],
             [
              0.1111111111111111,
              "#46039f"
             ],
             [
              0.2222222222222222,
              "#7201a8"
             ],
             [
              0.3333333333333333,
              "#9c179e"
             ],
             [
              0.4444444444444444,
              "#bd3786"
             ],
             [
              0.5555555555555556,
              "#d8576b"
             ],
             [
              0.6666666666666666,
              "#ed7953"
             ],
             [
              0.7777777777777778,
              "#fb9f3a"
             ],
             [
              0.8888888888888888,
              "#fdca26"
             ],
             [
              1,
              "#f0f921"
             ]
            ],
            "type": "histogram2dcontour"
           }
          ],
          "mesh3d": [
           {
            "colorbar": {
             "outlinewidth": 0,
             "ticks": ""
            },
            "type": "mesh3d"
           }
          ],
          "parcoords": [
           {
            "line": {
             "colorbar": {
              "outlinewidth": 0,
              "ticks": ""
             }
            },
            "type": "parcoords"
           }
          ],
          "pie": [
           {
            "automargin": true,
            "type": "pie"
           }
          ],
          "scatter": [
           {
            "marker": {
             "colorbar": {
              "outlinewidth": 0,
              "ticks": ""
             }
            },
            "type": "scatter"
           }
          ],
          "scatter3d": [
           {
            "line": {
             "colorbar": {
              "outlinewidth": 0,
              "ticks": ""
             }
            },
            "marker": {
             "colorbar": {
              "outlinewidth": 0,
              "ticks": ""
             }
            },
            "type": "scatter3d"
           }
          ],
          "scattercarpet": [
           {
            "marker": {
             "colorbar": {
              "outlinewidth": 0,
              "ticks": ""
             }
            },
            "type": "scattercarpet"
           }
          ],
          "scattergeo": [
           {
            "marker": {
             "colorbar": {
              "outlinewidth": 0,
              "ticks": ""
             }
            },
            "type": "scattergeo"
           }
          ],
          "scattergl": [
           {
            "marker": {
             "colorbar": {
              "outlinewidth": 0,
              "ticks": ""
             }
            },
            "type": "scattergl"
           }
          ],
          "scattermapbox": [
           {
            "marker": {
             "colorbar": {
              "outlinewidth": 0,
              "ticks": ""
             }
            },
            "type": "scattermapbox"
           }
          ],
          "scatterpolar": [
           {
            "marker": {
             "colorbar": {
              "outlinewidth": 0,
              "ticks": ""
             }
            },
            "type": "scatterpolar"
           }
          ],
          "scatterpolargl": [
           {
            "marker": {
             "colorbar": {
              "outlinewidth": 0,
              "ticks": ""
             }
            },
            "type": "scatterpolargl"
           }
          ],
          "scatterternary": [
           {
            "marker": {
             "colorbar": {
              "outlinewidth": 0,
              "ticks": ""
             }
            },
            "type": "scatterternary"
           }
          ],
          "surface": [
           {
            "colorbar": {
             "outlinewidth": 0,
             "ticks": ""
            },
            "colorscale": [
             [
              0,
              "#0d0887"
             ],
             [
              0.1111111111111111,
              "#46039f"
             ],
             [
              0.2222222222222222,
              "#7201a8"
             ],
             [
              0.3333333333333333,
              "#9c179e"
             ],
             [
              0.4444444444444444,
              "#bd3786"
             ],
             [
              0.5555555555555556,
              "#d8576b"
             ],
             [
              0.6666666666666666,
              "#ed7953"
             ],
             [
              0.7777777777777778,
              "#fb9f3a"
             ],
             [
              0.8888888888888888,
              "#fdca26"
             ],
             [
              1,
              "#f0f921"
             ]
            ],
            "type": "surface"
           }
          ],
          "table": [
           {
            "cells": {
             "fill": {
              "color": "#EBF0F8"
             },
             "line": {
              "color": "white"
             }
            },
            "header": {
             "fill": {
              "color": "#C8D4E3"
             },
             "line": {
              "color": "white"
             }
            },
            "type": "table"
           }
          ]
         },
         "layout": {
          "annotationdefaults": {
           "arrowcolor": "#2a3f5f",
           "arrowhead": 0,
           "arrowwidth": 1
          },
          "autotypenumbers": "strict",
          "coloraxis": {
           "colorbar": {
            "outlinewidth": 0,
            "ticks": ""
           }
          },
          "colorscale": {
           "diverging": [
            [
             0,
             "#8e0152"
            ],
            [
             0.1,
             "#c51b7d"
            ],
            [
             0.2,
             "#de77ae"
            ],
            [
             0.3,
             "#f1b6da"
            ],
            [
             0.4,
             "#fde0ef"
            ],
            [
             0.5,
             "#f7f7f7"
            ],
            [
             0.6,
             "#e6f5d0"
            ],
            [
             0.7,
             "#b8e186"
            ],
            [
             0.8,
             "#7fbc41"
            ],
            [
             0.9,
             "#4d9221"
            ],
            [
             1,
             "#276419"
            ]
           ],
           "sequential": [
            [
             0,
             "#0d0887"
            ],
            [
             0.1111111111111111,
             "#46039f"
            ],
            [
             0.2222222222222222,
             "#7201a8"
            ],
            [
             0.3333333333333333,
             "#9c179e"
            ],
            [
             0.4444444444444444,
             "#bd3786"
            ],
            [
             0.5555555555555556,
             "#d8576b"
            ],
            [
             0.6666666666666666,
             "#ed7953"
            ],
            [
             0.7777777777777778,
             "#fb9f3a"
            ],
            [
             0.8888888888888888,
             "#fdca26"
            ],
            [
             1,
             "#f0f921"
            ]
           ],
           "sequentialminus": [
            [
             0,
             "#0d0887"
            ],
            [
             0.1111111111111111,
             "#46039f"
            ],
            [
             0.2222222222222222,
             "#7201a8"
            ],
            [
             0.3333333333333333,
             "#9c179e"
            ],
            [
             0.4444444444444444,
             "#bd3786"
            ],
            [
             0.5555555555555556,
             "#d8576b"
            ],
            [
             0.6666666666666666,
             "#ed7953"
            ],
            [
             0.7777777777777778,
             "#fb9f3a"
            ],
            [
             0.8888888888888888,
             "#fdca26"
            ],
            [
             1,
             "#f0f921"
            ]
           ]
          },
          "colorway": [
           "#636efa",
           "#EF553B",
           "#00cc96",
           "#ab63fa",
           "#FFA15A",
           "#19d3f3",
           "#FF6692",
           "#B6E880",
           "#FF97FF",
           "#FECB52"
          ],
          "font": {
           "color": "#2a3f5f"
          },
          "geo": {
           "bgcolor": "white",
           "lakecolor": "white",
           "landcolor": "#E5ECF6",
           "showlakes": true,
           "showland": true,
           "subunitcolor": "white"
          },
          "hoverlabel": {
           "align": "left"
          },
          "hovermode": "closest",
          "mapbox": {
           "style": "light"
          },
          "paper_bgcolor": "white",
          "plot_bgcolor": "#E5ECF6",
          "polar": {
           "angularaxis": {
            "gridcolor": "white",
            "linecolor": "white",
            "ticks": ""
           },
           "bgcolor": "#E5ECF6",
           "radialaxis": {
            "gridcolor": "white",
            "linecolor": "white",
            "ticks": ""
           }
          },
          "scene": {
           "xaxis": {
            "backgroundcolor": "#E5ECF6",
            "gridcolor": "white",
            "gridwidth": 2,
            "linecolor": "white",
            "showbackground": true,
            "ticks": "",
            "zerolinecolor": "white"
           },
           "yaxis": {
            "backgroundcolor": "#E5ECF6",
            "gridcolor": "white",
            "gridwidth": 2,
            "linecolor": "white",
            "showbackground": true,
            "ticks": "",
            "zerolinecolor": "white"
           },
           "zaxis": {
            "backgroundcolor": "#E5ECF6",
            "gridcolor": "white",
            "gridwidth": 2,
            "linecolor": "white",
            "showbackground": true,
            "ticks": "",
            "zerolinecolor": "white"
           }
          },
          "shapedefaults": {
           "line": {
            "color": "#2a3f5f"
           }
          },
          "ternary": {
           "aaxis": {
            "gridcolor": "white",
            "linecolor": "white",
            "ticks": ""
           },
           "baxis": {
            "gridcolor": "white",
            "linecolor": "white",
            "ticks": ""
           },
           "bgcolor": "#E5ECF6",
           "caxis": {
            "gridcolor": "white",
            "linecolor": "white",
            "ticks": ""
           }
          },
          "title": {
           "x": 0.05
          },
          "xaxis": {
           "automargin": true,
           "gridcolor": "white",
           "linecolor": "white",
           "ticks": "",
           "title": {
            "standoff": 15
           },
           "zerolinecolor": "white",
           "zerolinewidth": 2
          },
          "yaxis": {
           "automargin": true,
           "gridcolor": "white",
           "linecolor": "white",
           "ticks": "",
           "title": {
            "standoff": 15
           },
           "zerolinecolor": "white",
           "zerolinewidth": 2
          }
         }
        }
       }
      },
      "text/html": [
       "<div>                            <div id=\"756731c2-a3f8-4d9c-9b22-84e3644fe7cb\" class=\"plotly-graph-div\" style=\"height:525px; width:100%;\"></div>            <script type=\"text/javascript\">                require([\"plotly\"], function(Plotly) {                    window.PLOTLYENV=window.PLOTLYENV || {};                                    if (document.getElementById(\"756731c2-a3f8-4d9c-9b22-84e3644fe7cb\")) {                    Plotly.newPlot(                        \"756731c2-a3f8-4d9c-9b22-84e3644fe7cb\",                        [{\"dimensions\":[{\"axis\":{\"matches\":true},\"label\":\"PC 1 (0.3%)\",\"values\":[0.6289565590029355]},{\"axis\":{\"matches\":true},\"label\":\"PC 2 (0.2%)\",\"values\":[-0.9174858564915227]},{\"axis\":{\"matches\":true},\"label\":\"PC 3 (0.2%)\",\"values\":[0.26626594721708613]}],\"hovertemplate\":\"index=ehrbase<br>%{xaxis.title.text}=%{x}<br>%{yaxis.title.text}=%{y}<extra></extra>\",\"legendgroup\":\"ehrbase\",\"marker\":{\"color\":\"#636efa\",\"symbol\":106},\"name\":\"ehrbase\",\"showlegend\":true,\"type\":\"splom\",\"diagonal\":{\"visible\":false}},{\"dimensions\":[{\"axis\":{\"matches\":true},\"label\":\"PC 1 (0.3%)\",\"values\":[-0.3925628734451425]},{\"axis\":{\"matches\":true},\"label\":\"PC 2 (0.2%)\",\"values\":[-0.6617309886561458]},{\"axis\":{\"matches\":true},\"label\":\"PC 3 (0.2%)\",\"values\":[0.04154638950386081]}],\"hovertemplate\":\"index=better<br>%{xaxis.title.text}=%{x}<br>%{yaxis.title.text}=%{y}<extra></extra>\",\"legendgroup\":\"better\",\"marker\":{\"color\":\"#EF553B\",\"symbol\":306},\"name\":\"better\",\"showlegend\":true,\"type\":\"splom\",\"diagonal\":{\"visible\":false}},{\"dimensions\":[{\"axis\":{\"matches\":true},\"label\":\"PC 1 (0.3%)\",\"values\":[0.3885216217026657]},{\"axis\":{\"matches\":true},\"label\":\"PC 2 (0.2%)\",\"values\":[0.43529829942952714]},{\"axis\":{\"matches\":true},\"label\":\"PC 3 (0.2%)\",\"values\":[-0.6092467146490055]}],\"hovertemplate\":\"index=base24<br>%{xaxis.title.text}=%{x}<br>%{yaxis.title.text}=%{y}<extra></extra>\",\"legendgroup\":\"base24\",\"marker\":{\"color\":\"#00cc96\",\"symbol\":201},\"name\":\"base24\",\"showlegend\":true,\"type\":\"splom\",\"diagonal\":{\"visible\":false}},{\"dimensions\":[{\"axis\":{\"matches\":true},\"label\":\"PC 1 (0.3%)\",\"values\":[1.3703666117447757]},{\"axis\":{\"matches\":true},\"label\":\"PC 2 (0.2%)\",\"values\":[0.13840271150243547]},{\"axis\":{\"matches\":true},\"label\":\"PC 3 (0.2%)\",\"values\":[-0.6928814326165799]}],\"hovertemplate\":\"index=cabo<br>%{xaxis.title.text}=%{x}<br>%{yaxis.title.text}=%{y}<extra></extra>\",\"legendgroup\":\"cabo\",\"marker\":{\"color\":\"#ab63fa\",\"symbol\":101},\"name\":\"cabo\",\"showlegend\":true,\"type\":\"splom\",\"diagonal\":{\"visible\":false}},{\"dimensions\":[{\"axis\":{\"matches\":true},\"label\":\"PC 1 (0.3%)\",\"values\":[-0.23517697946442256]},{\"axis\":{\"matches\":true},\"label\":\"PC 2 (0.2%)\",\"values\":[-0.7628876107364937]},{\"axis\":{\"matches\":true},\"label\":\"PC 3 (0.2%)\",\"values\":[0.3129025900680174]}],\"hovertemplate\":\"index=arenaehr<br>%{xaxis.title.text}=%{x}<br>%{yaxis.title.text}=%{y}<extra></extra>\",\"legendgroup\":\"arenaehr\",\"marker\":{\"color\":\"#FFA15A\",\"symbol\":307},\"name\":\"arenaehr\",\"showlegend\":true,\"type\":\"splom\",\"diagonal\":{\"visible\":false}},{\"dimensions\":[{\"axis\":{\"matches\":true},\"label\":\"PC 1 (0.3%)\",\"values\":[0.22351092361813304]},{\"axis\":{\"matches\":true},\"label\":\"PC 2 (0.2%)\",\"values\":[1.2504056169105782]},{\"axis\":{\"matches\":true},\"label\":\"PC 3 (0.2%)\",\"values\":[0.923621865984319]}],\"hovertemplate\":\"index=eweave<br>%{xaxis.title.text}=%{x}<br>%{yaxis.title.text}=%{y}<extra></extra>\",\"legendgroup\":\"eweave\",\"marker\":{\"color\":\"#19d3f3\",\"symbol\":0},\"name\":\"eweave\",\"showlegend\":true,\"type\":\"splom\",\"diagonal\":{\"visible\":false}},{\"dimensions\":[{\"axis\":{\"matches\":true},\"label\":\"PC 1 (0.3%)\",\"values\":[-0.14372879196626803]},{\"axis\":{\"matches\":true},\"label\":\"PC 2 (0.2%)\",\"values\":[0.14002744388086022]},{\"axis\":{\"matches\":true},\"label\":\"PC 3 (0.2%)\",\"values\":[0.6261949715444115]}],\"hovertemplate\":\"index=ehrcare<br>%{xaxis.title.text}=%{x}<br>%{yaxis.title.text}=%{y}<extra></extra>\",\"legendgroup\":\"ehrcare\",\"marker\":{\"color\":\"#FF6692\",\"symbol\":105},\"name\":\"ehrcare\",\"showlegend\":true,\"type\":\"splom\",\"diagonal\":{\"visible\":false}},{\"dimensions\":[{\"axis\":{\"matches\":true},\"label\":\"PC 1 (0.3%)\",\"values\":[-0.9261998000344346]},{\"axis\":{\"matches\":true},\"label\":\"PC 2 (0.2%)\",\"values\":[0.17687034763193496]},{\"axis\":{\"matches\":true},\"label\":\"PC 3 (0.2%)\",\"values\":[-0.7380186993793514]}],\"hovertemplate\":\"index=clever<br>%{xaxis.title.text}=%{x}<br>%{yaxis.title.text}=%{y}<extra></extra>\",\"legendgroup\":\"clever\",\"marker\":{\"color\":\"#B6E880\",\"symbol\":102},\"name\":\"clever\",\"showlegend\":true,\"type\":\"splom\",\"diagonal\":{\"visible\":false}},{\"dimensions\":[{\"axis\":{\"matches\":true},\"label\":\"PC 1 (0.3%)\",\"values\":[-0.4123987281754996]},{\"axis\":{\"matches\":true},\"label\":\"PC 2 (0.2%)\",\"values\":[-0.5811795164822273]},{\"axis\":{\"matches\":true},\"label\":\"PC 3 (0.2%)\",\"values\":[0.052052879592194116]}],\"hovertemplate\":\"index=ehrdb<br>%{xaxis.title.text}=%{x}<br>%{yaxis.title.text}=%{y}<extra></extra>\",\"legendgroup\":\"ehrdb\",\"marker\":{\"color\":\"#FF97FF\",\"symbol\":108},\"name\":\"ehrdb\",\"showlegend\":true,\"type\":\"splom\",\"diagonal\":{\"visible\":false}},{\"dimensions\":[{\"axis\":{\"matches\":true},\"label\":\"PC 1 (0.3%)\",\"values\":[-0.8578779403837999]},{\"axis\":{\"matches\":true},\"label\":\"PC 2 (0.2%)\",\"values\":[0.6876080165851824]},{\"axis\":{\"matches\":true},\"label\":\"PC 3 (0.2%)\",\"values\":[-0.32538237691212796]}],\"hovertemplate\":\"index=rhp<br>%{xaxis.title.text}=%{x}<br>%{yaxis.title.text}=%{y}<extra></extra>\",\"legendgroup\":\"rhp\",\"marker\":{\"color\":\"#FECB52\",\"symbol\":302},\"name\":\"rhp\",\"showlegend\":true,\"type\":\"splom\",\"diagonal\":{\"visible\":false}},{\"dimensions\":[{\"axis\":{\"matches\":true},\"label\":\"PC 1 (0.3%)\",\"values\":[0.35658939740105744]},{\"axis\":{\"matches\":true},\"label\":\"PC 2 (0.2%)\",\"values\":[0.09467153642587163]},{\"axis\":{\"matches\":true},\"label\":\"PC 3 (0.2%)\",\"values\":[0.14294457964717655]}],\"hovertemplate\":\"index=ehrn<br>%{xaxis.title.text}=%{x}<br>%{yaxis.title.text}=%{y}<extra></extra>\",\"legendgroup\":\"ehrn\",\"marker\":{\"color\":\"#636efa\",\"symbol\":107},\"name\":\"ehrn\",\"showlegend\":true,\"type\":\"splom\",\"diagonal\":{\"visible\":false}}],                        {\"template\":{\"data\":{\"bar\":[{\"error_x\":{\"color\":\"#2a3f5f\"},\"error_y\":{\"color\":\"#2a3f5f\"},\"marker\":{\"line\":{\"color\":\"#E5ECF6\",\"width\":0.5},\"pattern\":{\"fillmode\":\"overlay\",\"size\":10,\"solidity\":0.2}},\"type\":\"bar\"}],\"barpolar\":[{\"marker\":{\"line\":{\"color\":\"#E5ECF6\",\"width\":0.5},\"pattern\":{\"fillmode\":\"overlay\",\"size\":10,\"solidity\":0.2}},\"type\":\"barpolar\"}],\"carpet\":[{\"aaxis\":{\"endlinecolor\":\"#2a3f5f\",\"gridcolor\":\"white\",\"linecolor\":\"white\",\"minorgridcolor\":\"white\",\"startlinecolor\":\"#2a3f5f\"},\"baxis\":{\"endlinecolor\":\"#2a3f5f\",\"gridcolor\":\"white\",\"linecolor\":\"white\",\"minorgridcolor\":\"white\",\"startlinecolor\":\"#2a3f5f\"},\"type\":\"carpet\"}],\"choropleth\":[{\"colorbar\":{\"outlinewidth\":0,\"ticks\":\"\"},\"type\":\"choropleth\"}],\"contour\":[{\"colorbar\":{\"outlinewidth\":0,\"ticks\":\"\"},\"colorscale\":[[0.0,\"#0d0887\"],[0.1111111111111111,\"#46039f\"],[0.2222222222222222,\"#7201a8\"],[0.3333333333333333,\"#9c179e\"],[0.4444444444444444,\"#bd3786\"],[0.5555555555555556,\"#d8576b\"],[0.6666666666666666,\"#ed7953\"],[0.7777777777777778,\"#fb9f3a\"],[0.8888888888888888,\"#fdca26\"],[1.0,\"#f0f921\"]],\"type\":\"contour\"}],\"contourcarpet\":[{\"colorbar\":{\"outlinewidth\":0,\"ticks\":\"\"},\"type\":\"contourcarpet\"}],\"heatmap\":[{\"colorbar\":{\"outlinewidth\":0,\"ticks\":\"\"},\"colorscale\":[[0.0,\"#0d0887\"],[0.1111111111111111,\"#46039f\"],[0.2222222222222222,\"#7201a8\"],[0.3333333333333333,\"#9c179e\"],[0.4444444444444444,\"#bd3786\"],[0.5555555555555556,\"#d8576b\"],[0.6666666666666666,\"#ed7953\"],[0.7777777777777778,\"#fb9f3a\"],[0.8888888888888888,\"#fdca26\"],[1.0,\"#f0f921\"]],\"type\":\"heatmap\"}],\"heatmapgl\":[{\"colorbar\":{\"outlinewidth\":0,\"ticks\":\"\"},\"colorscale\":[[0.0,\"#0d0887\"],[0.1111111111111111,\"#46039f\"],[0.2222222222222222,\"#7201a8\"],[0.3333333333333333,\"#9c179e\"],[0.4444444444444444,\"#bd3786\"],[0.5555555555555556,\"#d8576b\"],[0.6666666666666666,\"#ed7953\"],[0.7777777777777778,\"#fb9f3a\"],[0.8888888888888888,\"#fdca26\"],[1.0,\"#f0f921\"]],\"type\":\"heatmapgl\"}],\"histogram\":[{\"marker\":{\"pattern\":{\"fillmode\":\"overlay\",\"size\":10,\"solidity\":0.2}},\"type\":\"histogram\"}],\"histogram2d\":[{\"colorbar\":{\"outlinewidth\":0,\"ticks\":\"\"},\"colorscale\":[[0.0,\"#0d0887\"],[0.1111111111111111,\"#46039f\"],[0.2222222222222222,\"#7201a8\"],[0.3333333333333333,\"#9c179e\"],[0.4444444444444444,\"#bd3786\"],[0.5555555555555556,\"#d8576b\"],[0.6666666666666666,\"#ed7953\"],[0.7777777777777778,\"#fb9f3a\"],[0.8888888888888888,\"#fdca26\"],[1.0,\"#f0f921\"]],\"type\":\"histogram2d\"}],\"histogram2dcontour\":[{\"colorbar\":{\"outlinewidth\":0,\"ticks\":\"\"},\"colorscale\":[[0.0,\"#0d0887\"],[0.1111111111111111,\"#46039f\"],[0.2222222222222222,\"#7201a8\"],[0.3333333333333333,\"#9c179e\"],[0.4444444444444444,\"#bd3786\"],[0.5555555555555556,\"#d8576b\"],[0.6666666666666666,\"#ed7953\"],[0.7777777777777778,\"#fb9f3a\"],[0.8888888888888888,\"#fdca26\"],[1.0,\"#f0f921\"]],\"type\":\"histogram2dcontour\"}],\"mesh3d\":[{\"colorbar\":{\"outlinewidth\":0,\"ticks\":\"\"},\"type\":\"mesh3d\"}],\"parcoords\":[{\"line\":{\"colorbar\":{\"outlinewidth\":0,\"ticks\":\"\"}},\"type\":\"parcoords\"}],\"pie\":[{\"automargin\":true,\"type\":\"pie\"}],\"scatter\":[{\"marker\":{\"colorbar\":{\"outlinewidth\":0,\"ticks\":\"\"}},\"type\":\"scatter\"}],\"scatter3d\":[{\"line\":{\"colorbar\":{\"outlinewidth\":0,\"ticks\":\"\"}},\"marker\":{\"colorbar\":{\"outlinewidth\":0,\"ticks\":\"\"}},\"type\":\"scatter3d\"}],\"scattercarpet\":[{\"marker\":{\"colorbar\":{\"outlinewidth\":0,\"ticks\":\"\"}},\"type\":\"scattercarpet\"}],\"scattergeo\":[{\"marker\":{\"colorbar\":{\"outlinewidth\":0,\"ticks\":\"\"}},\"type\":\"scattergeo\"}],\"scattergl\":[{\"marker\":{\"colorbar\":{\"outlinewidth\":0,\"ticks\":\"\"}},\"type\":\"scattergl\"}],\"scattermapbox\":[{\"marker\":{\"colorbar\":{\"outlinewidth\":0,\"ticks\":\"\"}},\"type\":\"scattermapbox\"}],\"scatterpolar\":[{\"marker\":{\"colorbar\":{\"outlinewidth\":0,\"ticks\":\"\"}},\"type\":\"scatterpolar\"}],\"scatterpolargl\":[{\"marker\":{\"colorbar\":{\"outlinewidth\":0,\"ticks\":\"\"}},\"type\":\"scatterpolargl\"}],\"scatterternary\":[{\"marker\":{\"colorbar\":{\"outlinewidth\":0,\"ticks\":\"\"}},\"type\":\"scatterternary\"}],\"surface\":[{\"colorbar\":{\"outlinewidth\":0,\"ticks\":\"\"},\"colorscale\":[[0.0,\"#0d0887\"],[0.1111111111111111,\"#46039f\"],[0.2222222222222222,\"#7201a8\"],[0.3333333333333333,\"#9c179e\"],[0.4444444444444444,\"#bd3786\"],[0.5555555555555556,\"#d8576b\"],[0.6666666666666666,\"#ed7953\"],[0.7777777777777778,\"#fb9f3a\"],[0.8888888888888888,\"#fdca26\"],[1.0,\"#f0f921\"]],\"type\":\"surface\"}],\"table\":[{\"cells\":{\"fill\":{\"color\":\"#EBF0F8\"},\"line\":{\"color\":\"white\"}},\"header\":{\"fill\":{\"color\":\"#C8D4E3\"},\"line\":{\"color\":\"white\"}},\"type\":\"table\"}]},\"layout\":{\"annotationdefaults\":{\"arrowcolor\":\"#2a3f5f\",\"arrowhead\":0,\"arrowwidth\":1},\"autotypenumbers\":\"strict\",\"coloraxis\":{\"colorbar\":{\"outlinewidth\":0,\"ticks\":\"\"}},\"colorscale\":{\"diverging\":[[0,\"#8e0152\"],[0.1,\"#c51b7d\"],[0.2,\"#de77ae\"],[0.3,\"#f1b6da\"],[0.4,\"#fde0ef\"],[0.5,\"#f7f7f7\"],[0.6,\"#e6f5d0\"],[0.7,\"#b8e186\"],[0.8,\"#7fbc41\"],[0.9,\"#4d9221\"],[1,\"#276419\"]],\"sequential\":[[0.0,\"#0d0887\"],[0.1111111111111111,\"#46039f\"],[0.2222222222222222,\"#7201a8\"],[0.3333333333333333,\"#9c179e\"],[0.4444444444444444,\"#bd3786\"],[0.5555555555555556,\"#d8576b\"],[0.6666666666666666,\"#ed7953\"],[0.7777777777777778,\"#fb9f3a\"],[0.8888888888888888,\"#fdca26\"],[1.0,\"#f0f921\"]],\"sequentialminus\":[[0.0,\"#0d0887\"],[0.1111111111111111,\"#46039f\"],[0.2222222222222222,\"#7201a8\"],[0.3333333333333333,\"#9c179e\"],[0.4444444444444444,\"#bd3786\"],[0.5555555555555556,\"#d8576b\"],[0.6666666666666666,\"#ed7953\"],[0.7777777777777778,\"#fb9f3a\"],[0.8888888888888888,\"#fdca26\"],[1.0,\"#f0f921\"]]},\"colorway\":[\"#636efa\",\"#EF553B\",\"#00cc96\",\"#ab63fa\",\"#FFA15A\",\"#19d3f3\",\"#FF6692\",\"#B6E880\",\"#FF97FF\",\"#FECB52\"],\"font\":{\"color\":\"#2a3f5f\"},\"geo\":{\"bgcolor\":\"white\",\"lakecolor\":\"white\",\"landcolor\":\"#E5ECF6\",\"showlakes\":true,\"showland\":true,\"subunitcolor\":\"white\"},\"hoverlabel\":{\"align\":\"left\"},\"hovermode\":\"closest\",\"mapbox\":{\"style\":\"light\"},\"paper_bgcolor\":\"white\",\"plot_bgcolor\":\"#E5ECF6\",\"polar\":{\"angularaxis\":{\"gridcolor\":\"white\",\"linecolor\":\"white\",\"ticks\":\"\"},\"bgcolor\":\"#E5ECF6\",\"radialaxis\":{\"gridcolor\":\"white\",\"linecolor\":\"white\",\"ticks\":\"\"}},\"scene\":{\"xaxis\":{\"backgroundcolor\":\"#E5ECF6\",\"gridcolor\":\"white\",\"gridwidth\":2,\"linecolor\":\"white\",\"showbackground\":true,\"ticks\":\"\",\"zerolinecolor\":\"white\"},\"yaxis\":{\"backgroundcolor\":\"#E5ECF6\",\"gridcolor\":\"white\",\"gridwidth\":2,\"linecolor\":\"white\",\"showbackground\":true,\"ticks\":\"\",\"zerolinecolor\":\"white\"},\"zaxis\":{\"backgroundcolor\":\"#E5ECF6\",\"gridcolor\":\"white\",\"gridwidth\":2,\"linecolor\":\"white\",\"showbackground\":true,\"ticks\":\"\",\"zerolinecolor\":\"white\"}},\"shapedefaults\":{\"line\":{\"color\":\"#2a3f5f\"}},\"ternary\":{\"aaxis\":{\"gridcolor\":\"white\",\"linecolor\":\"white\",\"ticks\":\"\"},\"baxis\":{\"gridcolor\":\"white\",\"linecolor\":\"white\",\"ticks\":\"\"},\"bgcolor\":\"#E5ECF6\",\"caxis\":{\"gridcolor\":\"white\",\"linecolor\":\"white\",\"ticks\":\"\"}},\"title\":{\"x\":0.05},\"xaxis\":{\"automargin\":true,\"gridcolor\":\"white\",\"linecolor\":\"white\",\"ticks\":\"\",\"title\":{\"standoff\":15},\"zerolinecolor\":\"white\",\"zerolinewidth\":2},\"yaxis\":{\"automargin\":true,\"gridcolor\":\"white\",\"linecolor\":\"white\",\"ticks\":\"\",\"title\":{\"standoff\":15},\"zerolinecolor\":\"white\",\"zerolinewidth\":2}}},\"legend\":{\"title\":{\"text\":\"index\"},\"tracegroupgap\":0},\"margin\":{\"t\":60},\"dragmode\":\"select\"},                        {\"responsive\": true}                    ).then(function(){\n",
       "                            \n",
       "var gd = document.getElementById('756731c2-a3f8-4d9c-9b22-84e3644fe7cb');\n",
       "var x = new MutationObserver(function (mutations, observer) {{\n",
       "        var display = window.getComputedStyle(gd).display;\n",
       "        if (!display || display === 'none') {{\n",
       "            console.log([gd, 'removed!']);\n",
       "            Plotly.purge(gd);\n",
       "            observer.disconnect();\n",
       "        }}\n",
       "}});\n",
       "\n",
       "// Listen for the removal of the full notebook cells\n",
       "var notebookContainer = gd.closest('#notebook-container');\n",
       "if (notebookContainer) {{\n",
       "    x.observe(notebookContainer, {childList: true});\n",
       "}}\n",
       "\n",
       "// Listen for the clearing of the current output cell\n",
       "var outputEl = gd.closest('.output');\n",
       "if (outputEl) {{\n",
       "    x.observe(outputEl, {childList: true});\n",
       "}}\n",
       "\n",
       "                        })                };                });            </script>        </div>"
      ]
     },
     "metadata": {},
     "output_type": "display_data"
    }
   ],
   "source": [
    "import plotly.express as px\n",
    "\n",
    "import plotly.graph_objects as go\n",
    "from plotly.validators.scatter.marker import SymbolValidator\n",
    "\n",
    "raw_symbol = SymbolValidator().values\n",
    "\n",
    "symbol_sequence=[raw_symbol[25*3],raw_symbol[27*3],raw_symbol[6*3],raw_symbol[5*3],raw_symbol[31*3],\n",
    "                raw_symbol[0*3],raw_symbol[21*3],raw_symbol[9*3],raw_symbol[33*3],raw_symbol[11*3],\n",
    "                raw_symbol[29*3]]\n",
    "\n",
    "\n",
    "from sklearn.decomposition import PCA\n",
    "\n",
    "labels = {\n",
    "    str(i): f\"PC {i+1} ({var:.1f}%)\"\n",
    "    for i, var in enumerate(mca.explained_inertia_ * 100)\n",
    "}\n",
    "\n",
    "fig = px.scatter_matrix(\n",
    "    df_mca,\n",
    "    labels=labels,\n",
    "    dimensions=range(3),\n",
    "    symbol_sequence=symbol_sequence,\n",
    "    color=df_mca.index,\n",
    "    symbol=df_mca.index\n",
    ")\n",
    "fig.update_traces(diagonal_visible=False)\n",
    "fig.show()\n",
    "#fig.write_image('DimensionsReductionSurvey2023_orig-4diagram_2dplots_1000dpi.pdf',scale=2)\n",
    "fig.write_image('DimensionsReductionSurvey2023_orig-4diagram_2dplots_1000dpi.jpeg',scale=8)"
   ]
  },
  {
   "cell_type": "code",
   "execution_count": null,
   "metadata": {},
   "outputs": [],
   "source": []
  }
 ],
 "metadata": {
  "kernelspec": {
   "display_name": "Python 3",
   "language": "python",
   "name": "python3"
  },
  "language_info": {
   "codemirror_mode": {
    "name": "ipython",
    "version": 3
   },
   "file_extension": ".py",
   "mimetype": "text/x-python",
   "name": "python",
   "nbconvert_exporter": "python",
   "pygments_lexer": "ipython3",
   "version": "3.8.10"
  }
 },
 "nbformat": 4,
 "nbformat_minor": 4
}
