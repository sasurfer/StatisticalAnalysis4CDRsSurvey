{
 "cells": [
  {
   "cell_type": "code",
   "execution_count": 1,
   "metadata": {},
   "outputs": [],
   "source": [
    "#package prince https://github.com/MaxHalford/prince\n",
    "#MCA multiple correspondance analysis\n",
    "#three or more categorical features"
   ]
  },
  {
   "cell_type": "code",
   "execution_count": 2,
   "metadata": {},
   "outputs": [
    {
     "name": "stdout",
     "output_type": "stream",
     "text": [
      "11\n",
      "36\n"
     ]
    },
    {
     "data": {
      "text/html": [
       "<div>\n",
       "<style scoped>\n",
       "    .dataframe tbody tr th:only-of-type {\n",
       "        vertical-align: middle;\n",
       "    }\n",
       "\n",
       "    .dataframe tbody tr th {\n",
       "        vertical-align: top;\n",
       "    }\n",
       "\n",
       "    .dataframe thead th {\n",
       "        text-align: right;\n",
       "    }\n",
       "</style>\n",
       "<table border=\"1\" class=\"dataframe\">\n",
       "  <thead>\n",
       "    <tr style=\"text-align: right;\">\n",
       "      <th></th>\n",
       "      <th>CDR_name</th>\n",
       "      <th>rest_api</th>\n",
       "      <th>another_api</th>\n",
       "      <th>gui</th>\n",
       "      <th>comp_crud_api</th>\n",
       "      <th>ehr_cr_api</th>\n",
       "      <th>store_list_get_templates_api</th>\n",
       "      <th>store_list_exec_query_api</th>\n",
       "      <th>comp_crud_gui</th>\n",
       "      <th>ehr_cr_gui</th>\n",
       "      <th>...</th>\n",
       "      <th>fhir_import</th>\n",
       "      <th>demographics_openehr</th>\n",
       "      <th>rest_api_openehr</th>\n",
       "      <th>gdl</th>\n",
       "      <th>form_creation</th>\n",
       "      <th>terminology_server</th>\n",
       "      <th>archetype_designer</th>\n",
       "      <th>template_designer</th>\n",
       "      <th>aql</th>\n",
       "      <th>sql</th>\n",
       "    </tr>\n",
       "  </thead>\n",
       "  <tbody>\n",
       "    <tr>\n",
       "      <th>0</th>\n",
       "      <td>ehrbase</td>\n",
       "      <td>y</td>\n",
       "      <td>y</td>\n",
       "      <td>y</td>\n",
       "      <td>y</td>\n",
       "      <td>y</td>\n",
       "      <td>y</td>\n",
       "      <td>y</td>\n",
       "      <td>n</td>\n",
       "      <td>n</td>\n",
       "      <td>...</td>\n",
       "      <td>y</td>\n",
       "      <td>n</td>\n",
       "      <td>y</td>\n",
       "      <td>n</td>\n",
       "      <td>n</td>\n",
       "      <td>y</td>\n",
       "      <td>n</td>\n",
       "      <td>n</td>\n",
       "      <td>y</td>\n",
       "      <td>n</td>\n",
       "    </tr>\n",
       "    <tr>\n",
       "      <th>1</th>\n",
       "      <td>better</td>\n",
       "      <td>y</td>\n",
       "      <td>y</td>\n",
       "      <td>y</td>\n",
       "      <td>y</td>\n",
       "      <td>y</td>\n",
       "      <td>y</td>\n",
       "      <td>y</td>\n",
       "      <td>y</td>\n",
       "      <td>n</td>\n",
       "      <td>...</td>\n",
       "      <td>y</td>\n",
       "      <td>n</td>\n",
       "      <td>y</td>\n",
       "      <td>y</td>\n",
       "      <td>y</td>\n",
       "      <td>y</td>\n",
       "      <td>y</td>\n",
       "      <td>y</td>\n",
       "      <td>y</td>\n",
       "      <td>n</td>\n",
       "    </tr>\n",
       "    <tr>\n",
       "      <th>2</th>\n",
       "      <td>base24</td>\n",
       "      <td>y</td>\n",
       "      <td>y</td>\n",
       "      <td>y</td>\n",
       "      <td>y</td>\n",
       "      <td>y</td>\n",
       "      <td>y</td>\n",
       "      <td>y</td>\n",
       "      <td>y</td>\n",
       "      <td>y</td>\n",
       "      <td>...</td>\n",
       "      <td>y</td>\n",
       "      <td>y</td>\n",
       "      <td>n</td>\n",
       "      <td>n</td>\n",
       "      <td>y</td>\n",
       "      <td>y</td>\n",
       "      <td>n</td>\n",
       "      <td>n</td>\n",
       "      <td>n</td>\n",
       "      <td>n</td>\n",
       "    </tr>\n",
       "    <tr>\n",
       "      <th>3</th>\n",
       "      <td>cabo</td>\n",
       "      <td>y</td>\n",
       "      <td>y</td>\n",
       "      <td>y</td>\n",
       "      <td>y</td>\n",
       "      <td>y</td>\n",
       "      <td>all but store</td>\n",
       "      <td>y not store</td>\n",
       "      <td>only r</td>\n",
       "      <td>y</td>\n",
       "      <td>...</td>\n",
       "      <td>ext</td>\n",
       "      <td>n</td>\n",
       "      <td>dev</td>\n",
       "      <td>n</td>\n",
       "      <td>n</td>\n",
       "      <td>n</td>\n",
       "      <td>n</td>\n",
       "      <td>n</td>\n",
       "      <td>n</td>\n",
       "      <td>n</td>\n",
       "    </tr>\n",
       "    <tr>\n",
       "      <th>4</th>\n",
       "      <td>arenaehr</td>\n",
       "      <td>y</td>\n",
       "      <td>n</td>\n",
       "      <td>y</td>\n",
       "      <td>y</td>\n",
       "      <td>y</td>\n",
       "      <td>y</td>\n",
       "      <td>y</td>\n",
       "      <td>n</td>\n",
       "      <td>n</td>\n",
       "      <td>...</td>\n",
       "      <td>y</td>\n",
       "      <td>n</td>\n",
       "      <td>y</td>\n",
       "      <td>y</td>\n",
       "      <td>y</td>\n",
       "      <td>y</td>\n",
       "      <td>n</td>\n",
       "      <td>n</td>\n",
       "      <td>y</td>\n",
       "      <td>n</td>\n",
       "    </tr>\n",
       "    <tr>\n",
       "      <th>5</th>\n",
       "      <td>eweave</td>\n",
       "      <td>n</td>\n",
       "      <td>n</td>\n",
       "      <td>y</td>\n",
       "      <td>n</td>\n",
       "      <td>n</td>\n",
       "      <td>n</td>\n",
       "      <td>n</td>\n",
       "      <td>y</td>\n",
       "      <td>y</td>\n",
       "      <td>...</td>\n",
       "      <td>n</td>\n",
       "      <td>y</td>\n",
       "      <td>n</td>\n",
       "      <td>n</td>\n",
       "      <td>y</td>\n",
       "      <td>y</td>\n",
       "      <td>n</td>\n",
       "      <td>y</td>\n",
       "      <td>y</td>\n",
       "      <td>y</td>\n",
       "    </tr>\n",
       "    <tr>\n",
       "      <th>6</th>\n",
       "      <td>ehrcare</td>\n",
       "      <td>y</td>\n",
       "      <td>y</td>\n",
       "      <td>n</td>\n",
       "      <td>y</td>\n",
       "      <td>y</td>\n",
       "      <td>y</td>\n",
       "      <td>y not store</td>\n",
       "      <td>n</td>\n",
       "      <td>n</td>\n",
       "      <td>...</td>\n",
       "      <td>n</td>\n",
       "      <td>y</td>\n",
       "      <td>n</td>\n",
       "      <td>n</td>\n",
       "      <td>y</td>\n",
       "      <td>n</td>\n",
       "      <td>n</td>\n",
       "      <td>n</td>\n",
       "      <td>y</td>\n",
       "      <td>n</td>\n",
       "    </tr>\n",
       "    <tr>\n",
       "      <th>7</th>\n",
       "      <td>clever</td>\n",
       "      <td>y</td>\n",
       "      <td>y</td>\n",
       "      <td>y</td>\n",
       "      <td>y</td>\n",
       "      <td>y</td>\n",
       "      <td>y</td>\n",
       "      <td>y</td>\n",
       "      <td>n</td>\n",
       "      <td>y</td>\n",
       "      <td>...</td>\n",
       "      <td>n</td>\n",
       "      <td>y</td>\n",
       "      <td>n</td>\n",
       "      <td>y</td>\n",
       "      <td>y</td>\n",
       "      <td>dev</td>\n",
       "      <td>y</td>\n",
       "      <td>y</td>\n",
       "      <td>n</td>\n",
       "      <td>y</td>\n",
       "    </tr>\n",
       "    <tr>\n",
       "      <th>8</th>\n",
       "      <td>ehrdb</td>\n",
       "      <td>y</td>\n",
       "      <td>y</td>\n",
       "      <td>y</td>\n",
       "      <td>y</td>\n",
       "      <td>y</td>\n",
       "      <td>y</td>\n",
       "      <td>y</td>\n",
       "      <td>y</td>\n",
       "      <td>n</td>\n",
       "      <td>...</td>\n",
       "      <td>n</td>\n",
       "      <td>n</td>\n",
       "      <td>y</td>\n",
       "      <td>n</td>\n",
       "      <td>y</td>\n",
       "      <td>n</td>\n",
       "      <td>y</td>\n",
       "      <td>y</td>\n",
       "      <td>y</td>\n",
       "      <td>n</td>\n",
       "    </tr>\n",
       "    <tr>\n",
       "      <th>9</th>\n",
       "      <td>rhp</td>\n",
       "      <td>y</td>\n",
       "      <td>y</td>\n",
       "      <td>y</td>\n",
       "      <td>y</td>\n",
       "      <td>y</td>\n",
       "      <td>y</td>\n",
       "      <td>y</td>\n",
       "      <td>n</td>\n",
       "      <td>y</td>\n",
       "      <td>...</td>\n",
       "      <td>n</td>\n",
       "      <td>y</td>\n",
       "      <td>n</td>\n",
       "      <td>y</td>\n",
       "      <td>y</td>\n",
       "      <td>y</td>\n",
       "      <td>y</td>\n",
       "      <td>y</td>\n",
       "      <td>n</td>\n",
       "      <td>y</td>\n",
       "    </tr>\n",
       "    <tr>\n",
       "      <th>10</th>\n",
       "      <td>ehrn</td>\n",
       "      <td>y</td>\n",
       "      <td>n</td>\n",
       "      <td>y</td>\n",
       "      <td>y</td>\n",
       "      <td>n</td>\n",
       "      <td>y</td>\n",
       "      <td>y</td>\n",
       "      <td>y</td>\n",
       "      <td>n</td>\n",
       "      <td>...</td>\n",
       "      <td>y</td>\n",
       "      <td>n</td>\n",
       "      <td>n</td>\n",
       "      <td>n</td>\n",
       "      <td>n</td>\n",
       "      <td>y</td>\n",
       "      <td>n</td>\n",
       "      <td>n</td>\n",
       "      <td>y</td>\n",
       "      <td>y</td>\n",
       "    </tr>\n",
       "  </tbody>\n",
       "</table>\n",
       "<p>11 rows × 36 columns</p>\n",
       "</div>"
      ],
      "text/plain": [
       "    CDR_name rest_api another_api gui comp_crud_api ehr_cr_api  \\\n",
       "0    ehrbase        y           y   y             y          y   \n",
       "1     better        y           y   y             y          y   \n",
       "2     base24        y           y   y             y          y   \n",
       "3       cabo        y           y   y             y          y   \n",
       "4   arenaehr        y           n   y             y          y   \n",
       "5     eweave      n             n   y             n          n   \n",
       "6    ehrcare        y           y   n             y          y   \n",
       "7     clever        y           y   y             y          y   \n",
       "8      ehrdb        y           y   y             y          y   \n",
       "9        rhp        y           y   y             y          y   \n",
       "10      ehrn        y           n   y             y          n   \n",
       "\n",
       "   store_list_get_templates_api store_list_exec_query_api comp_crud_gui  \\\n",
       "0                             y                         y             n   \n",
       "1                             y                         y             y   \n",
       "2                             y                         y             y   \n",
       "3                 all but store               y not store        only r   \n",
       "4                             y                         y             n   \n",
       "5                             n                         n             y   \n",
       "6                             y               y not store             n   \n",
       "7                             y                         y             n   \n",
       "8                             y                         y             y   \n",
       "9                             y                         y             n   \n",
       "10                            y                         y             y   \n",
       "\n",
       "   ehr_cr_gui  ... fhir_import demographics_openehr rest_api_openehr gdl  \\\n",
       "0           n  ...           y                    n                y   n   \n",
       "1           n  ...           y                    n                y   y   \n",
       "2           y  ...           y                    y                n   n   \n",
       "3           y  ...         ext                    n              dev   n   \n",
       "4           n  ...           y                    n                y   y   \n",
       "5           y  ...           n                    y                n   n   \n",
       "6           n  ...           n                    y                n   n   \n",
       "7           y  ...           n                    y                n   y   \n",
       "8           n  ...           n                    n                y   n   \n",
       "9           y  ...           n                    y                n   y   \n",
       "10          n  ...           y                    n                n   n   \n",
       "\n",
       "   form_creation terminology_server archetype_designer template_designer aql  \\\n",
       "0              n                  y                  n                 n   y   \n",
       "1              y                  y                  y                 y   y   \n",
       "2              y                  y                  n                 n   n   \n",
       "3              n                  n                  n                 n   n   \n",
       "4              y                  y                  n                 n   y   \n",
       "5              y                  y                  n                 y   y   \n",
       "6              y                  n                  n                 n   y   \n",
       "7              y                dev                  y                 y   n   \n",
       "8              y                  n                  y                 y   y   \n",
       "9              y                  y                  y                 y   n   \n",
       "10             n                  y                  n                 n   y   \n",
       "\n",
       "   sql  \n",
       "0    n  \n",
       "1    n  \n",
       "2    n  \n",
       "3    n  \n",
       "4    n  \n",
       "5    y  \n",
       "6    n  \n",
       "7    y  \n",
       "8    n  \n",
       "9    y  \n",
       "10   y  \n",
       "\n",
       "[11 rows x 36 columns]"
      ]
     },
     "execution_count": 2,
     "metadata": {},
     "output_type": "execute_result"
    }
   ],
   "source": [
    "#Importing the necessary package\n",
    "import pandas as pd\n",
    "import numpy as np\n",
    "from prince import MCA#Dataset preparation with only numerical features\n",
    "df = pd.read_csv('SurveyAnswers4ClusteringUpdated2023_ALLCATEGORICAL.csv')\n",
    "print(len(df))\n",
    "print(len(df.columns))\n",
    "df"
   ]
  },
  {
   "cell_type": "code",
   "execution_count": 3,
   "metadata": {},
   "outputs": [
    {
     "data": {
      "text/html": [
       "<div>\n",
       "<style scoped>\n",
       "    .dataframe tbody tr th:only-of-type {\n",
       "        vertical-align: middle;\n",
       "    }\n",
       "\n",
       "    .dataframe tbody tr th {\n",
       "        vertical-align: top;\n",
       "    }\n",
       "\n",
       "    .dataframe thead th {\n",
       "        text-align: right;\n",
       "    }\n",
       "</style>\n",
       "<table border=\"1\" class=\"dataframe\">\n",
       "  <thead>\n",
       "    <tr style=\"text-align: right;\">\n",
       "      <th></th>\n",
       "      <th>rest_api</th>\n",
       "      <th>another_api</th>\n",
       "      <th>gui</th>\n",
       "      <th>comp_crud_api</th>\n",
       "      <th>ehr_cr_api</th>\n",
       "      <th>store_list_get_templates_api</th>\n",
       "      <th>store_list_exec_query_api</th>\n",
       "      <th>comp_crud_gui</th>\n",
       "      <th>ehr_cr_gui</th>\n",
       "      <th>store_list_get_templates_gui</th>\n",
       "      <th>...</th>\n",
       "      <th>fhir_import</th>\n",
       "      <th>demographics_openehr</th>\n",
       "      <th>rest_api_openehr</th>\n",
       "      <th>gdl</th>\n",
       "      <th>form_creation</th>\n",
       "      <th>terminology_server</th>\n",
       "      <th>archetype_designer</th>\n",
       "      <th>template_designer</th>\n",
       "      <th>aql</th>\n",
       "      <th>sql</th>\n",
       "    </tr>\n",
       "    <tr>\n",
       "      <th>CDR_name</th>\n",
       "      <th></th>\n",
       "      <th></th>\n",
       "      <th></th>\n",
       "      <th></th>\n",
       "      <th></th>\n",
       "      <th></th>\n",
       "      <th></th>\n",
       "      <th></th>\n",
       "      <th></th>\n",
       "      <th></th>\n",
       "      <th></th>\n",
       "      <th></th>\n",
       "      <th></th>\n",
       "      <th></th>\n",
       "      <th></th>\n",
       "      <th></th>\n",
       "      <th></th>\n",
       "      <th></th>\n",
       "      <th></th>\n",
       "      <th></th>\n",
       "      <th></th>\n",
       "    </tr>\n",
       "  </thead>\n",
       "  <tbody>\n",
       "    <tr>\n",
       "      <th>ehrbase</th>\n",
       "      <td>y</td>\n",
       "      <td>y</td>\n",
       "      <td>y</td>\n",
       "      <td>y</td>\n",
       "      <td>y</td>\n",
       "      <td>y</td>\n",
       "      <td>y</td>\n",
       "      <td>n</td>\n",
       "      <td>n</td>\n",
       "      <td>n</td>\n",
       "      <td>...</td>\n",
       "      <td>y</td>\n",
       "      <td>n</td>\n",
       "      <td>y</td>\n",
       "      <td>n</td>\n",
       "      <td>n</td>\n",
       "      <td>y</td>\n",
       "      <td>n</td>\n",
       "      <td>n</td>\n",
       "      <td>y</td>\n",
       "      <td>n</td>\n",
       "    </tr>\n",
       "    <tr>\n",
       "      <th>better</th>\n",
       "      <td>y</td>\n",
       "      <td>y</td>\n",
       "      <td>y</td>\n",
       "      <td>y</td>\n",
       "      <td>y</td>\n",
       "      <td>y</td>\n",
       "      <td>y</td>\n",
       "      <td>y</td>\n",
       "      <td>n</td>\n",
       "      <td>y</td>\n",
       "      <td>...</td>\n",
       "      <td>y</td>\n",
       "      <td>n</td>\n",
       "      <td>y</td>\n",
       "      <td>y</td>\n",
       "      <td>y</td>\n",
       "      <td>y</td>\n",
       "      <td>y</td>\n",
       "      <td>y</td>\n",
       "      <td>y</td>\n",
       "      <td>n</td>\n",
       "    </tr>\n",
       "    <tr>\n",
       "      <th>base24</th>\n",
       "      <td>y</td>\n",
       "      <td>y</td>\n",
       "      <td>y</td>\n",
       "      <td>y</td>\n",
       "      <td>y</td>\n",
       "      <td>y</td>\n",
       "      <td>y</td>\n",
       "      <td>y</td>\n",
       "      <td>y</td>\n",
       "      <td>y</td>\n",
       "      <td>...</td>\n",
       "      <td>y</td>\n",
       "      <td>y</td>\n",
       "      <td>n</td>\n",
       "      <td>n</td>\n",
       "      <td>y</td>\n",
       "      <td>y</td>\n",
       "      <td>n</td>\n",
       "      <td>n</td>\n",
       "      <td>n</td>\n",
       "      <td>n</td>\n",
       "    </tr>\n",
       "    <tr>\n",
       "      <th>cabo</th>\n",
       "      <td>y</td>\n",
       "      <td>y</td>\n",
       "      <td>y</td>\n",
       "      <td>y</td>\n",
       "      <td>y</td>\n",
       "      <td>all but store</td>\n",
       "      <td>y not store</td>\n",
       "      <td>only r</td>\n",
       "      <td>y</td>\n",
       "      <td>y</td>\n",
       "      <td>...</td>\n",
       "      <td>ext</td>\n",
       "      <td>n</td>\n",
       "      <td>dev</td>\n",
       "      <td>n</td>\n",
       "      <td>n</td>\n",
       "      <td>n</td>\n",
       "      <td>n</td>\n",
       "      <td>n</td>\n",
       "      <td>n</td>\n",
       "      <td>n</td>\n",
       "    </tr>\n",
       "    <tr>\n",
       "      <th>arenaehr</th>\n",
       "      <td>y</td>\n",
       "      <td>n</td>\n",
       "      <td>y</td>\n",
       "      <td>y</td>\n",
       "      <td>y</td>\n",
       "      <td>y</td>\n",
       "      <td>y</td>\n",
       "      <td>n</td>\n",
       "      <td>n</td>\n",
       "      <td>n</td>\n",
       "      <td>...</td>\n",
       "      <td>y</td>\n",
       "      <td>n</td>\n",
       "      <td>y</td>\n",
       "      <td>y</td>\n",
       "      <td>y</td>\n",
       "      <td>y</td>\n",
       "      <td>n</td>\n",
       "      <td>n</td>\n",
       "      <td>y</td>\n",
       "      <td>n</td>\n",
       "    </tr>\n",
       "    <tr>\n",
       "      <th>eweave</th>\n",
       "      <td>n</td>\n",
       "      <td>n</td>\n",
       "      <td>y</td>\n",
       "      <td>n</td>\n",
       "      <td>n</td>\n",
       "      <td>n</td>\n",
       "      <td>n</td>\n",
       "      <td>y</td>\n",
       "      <td>y</td>\n",
       "      <td>y</td>\n",
       "      <td>...</td>\n",
       "      <td>n</td>\n",
       "      <td>y</td>\n",
       "      <td>n</td>\n",
       "      <td>n</td>\n",
       "      <td>y</td>\n",
       "      <td>y</td>\n",
       "      <td>n</td>\n",
       "      <td>y</td>\n",
       "      <td>y</td>\n",
       "      <td>y</td>\n",
       "    </tr>\n",
       "    <tr>\n",
       "      <th>ehrcare</th>\n",
       "      <td>y</td>\n",
       "      <td>y</td>\n",
       "      <td>n</td>\n",
       "      <td>y</td>\n",
       "      <td>y</td>\n",
       "      <td>y</td>\n",
       "      <td>y not store</td>\n",
       "      <td>n</td>\n",
       "      <td>n</td>\n",
       "      <td>n</td>\n",
       "      <td>...</td>\n",
       "      <td>n</td>\n",
       "      <td>y</td>\n",
       "      <td>n</td>\n",
       "      <td>n</td>\n",
       "      <td>y</td>\n",
       "      <td>n</td>\n",
       "      <td>n</td>\n",
       "      <td>n</td>\n",
       "      <td>y</td>\n",
       "      <td>n</td>\n",
       "    </tr>\n",
       "    <tr>\n",
       "      <th>clever</th>\n",
       "      <td>y</td>\n",
       "      <td>y</td>\n",
       "      <td>y</td>\n",
       "      <td>y</td>\n",
       "      <td>y</td>\n",
       "      <td>y</td>\n",
       "      <td>y</td>\n",
       "      <td>n</td>\n",
       "      <td>y</td>\n",
       "      <td>y</td>\n",
       "      <td>...</td>\n",
       "      <td>n</td>\n",
       "      <td>y</td>\n",
       "      <td>n</td>\n",
       "      <td>y</td>\n",
       "      <td>y</td>\n",
       "      <td>dev</td>\n",
       "      <td>y</td>\n",
       "      <td>y</td>\n",
       "      <td>n</td>\n",
       "      <td>y</td>\n",
       "    </tr>\n",
       "    <tr>\n",
       "      <th>ehrdb</th>\n",
       "      <td>y</td>\n",
       "      <td>y</td>\n",
       "      <td>y</td>\n",
       "      <td>y</td>\n",
       "      <td>y</td>\n",
       "      <td>y</td>\n",
       "      <td>y</td>\n",
       "      <td>y</td>\n",
       "      <td>n</td>\n",
       "      <td>y</td>\n",
       "      <td>...</td>\n",
       "      <td>n</td>\n",
       "      <td>n</td>\n",
       "      <td>y</td>\n",
       "      <td>n</td>\n",
       "      <td>y</td>\n",
       "      <td>n</td>\n",
       "      <td>y</td>\n",
       "      <td>y</td>\n",
       "      <td>y</td>\n",
       "      <td>n</td>\n",
       "    </tr>\n",
       "    <tr>\n",
       "      <th>rhp</th>\n",
       "      <td>y</td>\n",
       "      <td>y</td>\n",
       "      <td>y</td>\n",
       "      <td>y</td>\n",
       "      <td>y</td>\n",
       "      <td>y</td>\n",
       "      <td>y</td>\n",
       "      <td>n</td>\n",
       "      <td>y</td>\n",
       "      <td>y</td>\n",
       "      <td>...</td>\n",
       "      <td>n</td>\n",
       "      <td>y</td>\n",
       "      <td>n</td>\n",
       "      <td>y</td>\n",
       "      <td>y</td>\n",
       "      <td>y</td>\n",
       "      <td>y</td>\n",
       "      <td>y</td>\n",
       "      <td>n</td>\n",
       "      <td>y</td>\n",
       "    </tr>\n",
       "    <tr>\n",
       "      <th>ehrn</th>\n",
       "      <td>y</td>\n",
       "      <td>n</td>\n",
       "      <td>y</td>\n",
       "      <td>y</td>\n",
       "      <td>n</td>\n",
       "      <td>y</td>\n",
       "      <td>y</td>\n",
       "      <td>y</td>\n",
       "      <td>n</td>\n",
       "      <td>n</td>\n",
       "      <td>...</td>\n",
       "      <td>y</td>\n",
       "      <td>n</td>\n",
       "      <td>n</td>\n",
       "      <td>n</td>\n",
       "      <td>n</td>\n",
       "      <td>y</td>\n",
       "      <td>n</td>\n",
       "      <td>n</td>\n",
       "      <td>y</td>\n",
       "      <td>y</td>\n",
       "    </tr>\n",
       "  </tbody>\n",
       "</table>\n",
       "<p>11 rows × 35 columns</p>\n",
       "</div>"
      ],
      "text/plain": [
       "         rest_api another_api gui comp_crud_api ehr_cr_api  \\\n",
       "CDR_name                                                     \n",
       "ehrbase         y           y   y             y          y   \n",
       "better          y           y   y             y          y   \n",
       "base24          y           y   y             y          y   \n",
       "cabo            y           y   y             y          y   \n",
       "arenaehr        y           n   y             y          y   \n",
       "eweave        n             n   y             n          n   \n",
       "ehrcare         y           y   n             y          y   \n",
       "clever          y           y   y             y          y   \n",
       "ehrdb           y           y   y             y          y   \n",
       "rhp             y           y   y             y          y   \n",
       "ehrn            y           n   y             y          n   \n",
       "\n",
       "         store_list_get_templates_api store_list_exec_query_api comp_crud_gui  \\\n",
       "CDR_name                                                                        \n",
       "ehrbase                             y                         y             n   \n",
       "better                              y                         y             y   \n",
       "base24                              y                         y             y   \n",
       "cabo                    all but store               y not store        only r   \n",
       "arenaehr                            y                         y             n   \n",
       "eweave                              n                         n             y   \n",
       "ehrcare                             y               y not store             n   \n",
       "clever                              y                         y             n   \n",
       "ehrdb                               y                         y             y   \n",
       "rhp                                 y                         y             n   \n",
       "ehrn                                y                         y             y   \n",
       "\n",
       "         ehr_cr_gui store_list_get_templates_gui  ... fhir_import  \\\n",
       "CDR_name                                          ...               \n",
       "ehrbase           n                            n  ...           y   \n",
       "better            n                            y  ...           y   \n",
       "base24            y                            y  ...           y   \n",
       "cabo              y                            y  ...         ext   \n",
       "arenaehr          n                            n  ...           y   \n",
       "eweave            y                            y  ...           n   \n",
       "ehrcare           n                            n  ...           n   \n",
       "clever            y                            y  ...           n   \n",
       "ehrdb             n                            y  ...           n   \n",
       "rhp               y                            y  ...           n   \n",
       "ehrn              n                            n  ...           y   \n",
       "\n",
       "         demographics_openehr rest_api_openehr gdl form_creation  \\\n",
       "CDR_name                                                           \n",
       "ehrbase                     n                y   n             n   \n",
       "better                      n                y   y             y   \n",
       "base24                      y                n   n             y   \n",
       "cabo                        n              dev   n             n   \n",
       "arenaehr                    n                y   y             y   \n",
       "eweave                      y                n   n             y   \n",
       "ehrcare                     y                n   n             y   \n",
       "clever                      y                n   y             y   \n",
       "ehrdb                       n                y   n             y   \n",
       "rhp                         y                n   y             y   \n",
       "ehrn                        n                n   n             n   \n",
       "\n",
       "         terminology_server archetype_designer template_designer aql sql  \n",
       "CDR_name                                                                  \n",
       "ehrbase                   y                  n                 n   y   n  \n",
       "better                    y                  y                 y   y   n  \n",
       "base24                    y                  n                 n   n   n  \n",
       "cabo                      n                  n                 n   n   n  \n",
       "arenaehr                  y                  n                 n   y   n  \n",
       "eweave                    y                  n                 y   y   y  \n",
       "ehrcare                   n                  n                 n   y   n  \n",
       "clever                  dev                  y                 y   n   y  \n",
       "ehrdb                     n                  y                 y   y   n  \n",
       "rhp                       y                  y                 y   n   y  \n",
       "ehrn                      y                  n                 n   y   y  \n",
       "\n",
       "[11 rows x 35 columns]"
      ]
     },
     "execution_count": 3,
     "metadata": {},
     "output_type": "execute_result"
    }
   ],
   "source": [
    "df=df.set_index('CDR_name')\n",
    "df"
   ]
  },
  {
   "cell_type": "code",
   "execution_count": 4,
   "metadata": {
    "scrolled": true
   },
   "outputs": [
    {
     "data": {
      "text/html": [
       "<div>\n",
       "<style scoped>\n",
       "    .dataframe tbody tr th:only-of-type {\n",
       "        vertical-align: middle;\n",
       "    }\n",
       "\n",
       "    .dataframe tbody tr th {\n",
       "        vertical-align: top;\n",
       "    }\n",
       "\n",
       "    .dataframe thead th {\n",
       "        text-align: right;\n",
       "    }\n",
       "</style>\n",
       "<table border=\"1\" class=\"dataframe\">\n",
       "  <thead>\n",
       "    <tr style=\"text-align: right;\">\n",
       "      <th></th>\n",
       "      <th>rest_api</th>\n",
       "      <th>another_api</th>\n",
       "      <th>gui</th>\n",
       "      <th>comp_crud_api</th>\n",
       "      <th>ehr_cr_api</th>\n",
       "      <th>store_list_get_templates_api</th>\n",
       "      <th>store_list_exec_query_api</th>\n",
       "      <th>comp_crud_gui</th>\n",
       "      <th>ehr_cr_gui</th>\n",
       "      <th>store_list_get_templates_gui</th>\n",
       "      <th>...</th>\n",
       "      <th>fhir_import</th>\n",
       "      <th>demographics_openehr</th>\n",
       "      <th>rest_api_openehr</th>\n",
       "      <th>gdl</th>\n",
       "      <th>form_creation</th>\n",
       "      <th>terminology_server</th>\n",
       "      <th>archetype_designer</th>\n",
       "      <th>template_designer</th>\n",
       "      <th>aql</th>\n",
       "      <th>sql</th>\n",
       "    </tr>\n",
       "    <tr>\n",
       "      <th>CDR_name</th>\n",
       "      <th></th>\n",
       "      <th></th>\n",
       "      <th></th>\n",
       "      <th></th>\n",
       "      <th></th>\n",
       "      <th></th>\n",
       "      <th></th>\n",
       "      <th></th>\n",
       "      <th></th>\n",
       "      <th></th>\n",
       "      <th></th>\n",
       "      <th></th>\n",
       "      <th></th>\n",
       "      <th></th>\n",
       "      <th></th>\n",
       "      <th></th>\n",
       "      <th></th>\n",
       "      <th></th>\n",
       "      <th></th>\n",
       "      <th></th>\n",
       "      <th></th>\n",
       "    </tr>\n",
       "  </thead>\n",
       "  <tbody>\n",
       "    <tr>\n",
       "      <th>ehrbase</th>\n",
       "      <td>y</td>\n",
       "      <td>y</td>\n",
       "      <td>y</td>\n",
       "      <td>y</td>\n",
       "      <td>y</td>\n",
       "      <td>y</td>\n",
       "      <td>y</td>\n",
       "      <td>n</td>\n",
       "      <td>n</td>\n",
       "      <td>n</td>\n",
       "      <td>...</td>\n",
       "      <td>y</td>\n",
       "      <td>n</td>\n",
       "      <td>y</td>\n",
       "      <td>n</td>\n",
       "      <td>n</td>\n",
       "      <td>y</td>\n",
       "      <td>n</td>\n",
       "      <td>n</td>\n",
       "      <td>y</td>\n",
       "      <td>n</td>\n",
       "    </tr>\n",
       "    <tr>\n",
       "      <th>better</th>\n",
       "      <td>y</td>\n",
       "      <td>y</td>\n",
       "      <td>y</td>\n",
       "      <td>y</td>\n",
       "      <td>y</td>\n",
       "      <td>y</td>\n",
       "      <td>y</td>\n",
       "      <td>y</td>\n",
       "      <td>n</td>\n",
       "      <td>y</td>\n",
       "      <td>...</td>\n",
       "      <td>y</td>\n",
       "      <td>n</td>\n",
       "      <td>y</td>\n",
       "      <td>y</td>\n",
       "      <td>y</td>\n",
       "      <td>y</td>\n",
       "      <td>y</td>\n",
       "      <td>y</td>\n",
       "      <td>y</td>\n",
       "      <td>n</td>\n",
       "    </tr>\n",
       "    <tr>\n",
       "      <th>base24</th>\n",
       "      <td>y</td>\n",
       "      <td>y</td>\n",
       "      <td>y</td>\n",
       "      <td>y</td>\n",
       "      <td>y</td>\n",
       "      <td>y</td>\n",
       "      <td>y</td>\n",
       "      <td>y</td>\n",
       "      <td>y</td>\n",
       "      <td>y</td>\n",
       "      <td>...</td>\n",
       "      <td>y</td>\n",
       "      <td>y</td>\n",
       "      <td>n</td>\n",
       "      <td>n</td>\n",
       "      <td>y</td>\n",
       "      <td>y</td>\n",
       "      <td>n</td>\n",
       "      <td>n</td>\n",
       "      <td>n</td>\n",
       "      <td>n</td>\n",
       "    </tr>\n",
       "    <tr>\n",
       "      <th>cabo</th>\n",
       "      <td>y</td>\n",
       "      <td>y</td>\n",
       "      <td>y</td>\n",
       "      <td>y</td>\n",
       "      <td>y</td>\n",
       "      <td>y</td>\n",
       "      <td>y</td>\n",
       "      <td>n</td>\n",
       "      <td>y</td>\n",
       "      <td>y</td>\n",
       "      <td>...</td>\n",
       "      <td>y</td>\n",
       "      <td>n</td>\n",
       "      <td>n</td>\n",
       "      <td>n</td>\n",
       "      <td>n</td>\n",
       "      <td>n</td>\n",
       "      <td>n</td>\n",
       "      <td>n</td>\n",
       "      <td>n</td>\n",
       "      <td>n</td>\n",
       "    </tr>\n",
       "    <tr>\n",
       "      <th>arenaehr</th>\n",
       "      <td>y</td>\n",
       "      <td>n</td>\n",
       "      <td>y</td>\n",
       "      <td>y</td>\n",
       "      <td>y</td>\n",
       "      <td>y</td>\n",
       "      <td>y</td>\n",
       "      <td>n</td>\n",
       "      <td>n</td>\n",
       "      <td>n</td>\n",
       "      <td>...</td>\n",
       "      <td>y</td>\n",
       "      <td>n</td>\n",
       "      <td>y</td>\n",
       "      <td>y</td>\n",
       "      <td>y</td>\n",
       "      <td>y</td>\n",
       "      <td>n</td>\n",
       "      <td>n</td>\n",
       "      <td>y</td>\n",
       "      <td>n</td>\n",
       "    </tr>\n",
       "    <tr>\n",
       "      <th>eweave</th>\n",
       "      <td>n</td>\n",
       "      <td>n</td>\n",
       "      <td>y</td>\n",
       "      <td>n</td>\n",
       "      <td>n</td>\n",
       "      <td>n</td>\n",
       "      <td>n</td>\n",
       "      <td>y</td>\n",
       "      <td>y</td>\n",
       "      <td>y</td>\n",
       "      <td>...</td>\n",
       "      <td>n</td>\n",
       "      <td>y</td>\n",
       "      <td>n</td>\n",
       "      <td>n</td>\n",
       "      <td>y</td>\n",
       "      <td>y</td>\n",
       "      <td>n</td>\n",
       "      <td>y</td>\n",
       "      <td>y</td>\n",
       "      <td>y</td>\n",
       "    </tr>\n",
       "    <tr>\n",
       "      <th>ehrcare</th>\n",
       "      <td>y</td>\n",
       "      <td>y</td>\n",
       "      <td>n</td>\n",
       "      <td>y</td>\n",
       "      <td>y</td>\n",
       "      <td>y</td>\n",
       "      <td>y</td>\n",
       "      <td>n</td>\n",
       "      <td>n</td>\n",
       "      <td>n</td>\n",
       "      <td>...</td>\n",
       "      <td>n</td>\n",
       "      <td>y</td>\n",
       "      <td>n</td>\n",
       "      <td>n</td>\n",
       "      <td>y</td>\n",
       "      <td>n</td>\n",
       "      <td>n</td>\n",
       "      <td>n</td>\n",
       "      <td>y</td>\n",
       "      <td>n</td>\n",
       "    </tr>\n",
       "    <tr>\n",
       "      <th>clever</th>\n",
       "      <td>y</td>\n",
       "      <td>y</td>\n",
       "      <td>y</td>\n",
       "      <td>y</td>\n",
       "      <td>y</td>\n",
       "      <td>y</td>\n",
       "      <td>y</td>\n",
       "      <td>n</td>\n",
       "      <td>y</td>\n",
       "      <td>y</td>\n",
       "      <td>...</td>\n",
       "      <td>n</td>\n",
       "      <td>y</td>\n",
       "      <td>n</td>\n",
       "      <td>y</td>\n",
       "      <td>y</td>\n",
       "      <td>n</td>\n",
       "      <td>y</td>\n",
       "      <td>y</td>\n",
       "      <td>n</td>\n",
       "      <td>y</td>\n",
       "    </tr>\n",
       "    <tr>\n",
       "      <th>ehrdb</th>\n",
       "      <td>y</td>\n",
       "      <td>y</td>\n",
       "      <td>y</td>\n",
       "      <td>y</td>\n",
       "      <td>y</td>\n",
       "      <td>y</td>\n",
       "      <td>y</td>\n",
       "      <td>y</td>\n",
       "      <td>n</td>\n",
       "      <td>y</td>\n",
       "      <td>...</td>\n",
       "      <td>n</td>\n",
       "      <td>n</td>\n",
       "      <td>y</td>\n",
       "      <td>n</td>\n",
       "      <td>y</td>\n",
       "      <td>n</td>\n",
       "      <td>y</td>\n",
       "      <td>y</td>\n",
       "      <td>y</td>\n",
       "      <td>n</td>\n",
       "    </tr>\n",
       "    <tr>\n",
       "      <th>rhp</th>\n",
       "      <td>y</td>\n",
       "      <td>y</td>\n",
       "      <td>y</td>\n",
       "      <td>y</td>\n",
       "      <td>y</td>\n",
       "      <td>y</td>\n",
       "      <td>y</td>\n",
       "      <td>n</td>\n",
       "      <td>y</td>\n",
       "      <td>y</td>\n",
       "      <td>...</td>\n",
       "      <td>n</td>\n",
       "      <td>y</td>\n",
       "      <td>n</td>\n",
       "      <td>y</td>\n",
       "      <td>y</td>\n",
       "      <td>y</td>\n",
       "      <td>y</td>\n",
       "      <td>y</td>\n",
       "      <td>n</td>\n",
       "      <td>y</td>\n",
       "    </tr>\n",
       "    <tr>\n",
       "      <th>ehrn</th>\n",
       "      <td>y</td>\n",
       "      <td>n</td>\n",
       "      <td>y</td>\n",
       "      <td>y</td>\n",
       "      <td>n</td>\n",
       "      <td>y</td>\n",
       "      <td>y</td>\n",
       "      <td>y</td>\n",
       "      <td>n</td>\n",
       "      <td>n</td>\n",
       "      <td>...</td>\n",
       "      <td>y</td>\n",
       "      <td>n</td>\n",
       "      <td>n</td>\n",
       "      <td>n</td>\n",
       "      <td>n</td>\n",
       "      <td>y</td>\n",
       "      <td>n</td>\n",
       "      <td>n</td>\n",
       "      <td>y</td>\n",
       "      <td>y</td>\n",
       "    </tr>\n",
       "  </tbody>\n",
       "</table>\n",
       "<p>11 rows × 35 columns</p>\n",
       "</div>"
      ],
      "text/plain": [
       "         rest_api another_api gui comp_crud_api ehr_cr_api  \\\n",
       "CDR_name                                                     \n",
       "ehrbase         y           y   y             y          y   \n",
       "better          y           y   y             y          y   \n",
       "base24          y           y   y             y          y   \n",
       "cabo            y           y   y             y          y   \n",
       "arenaehr        y           n   y             y          y   \n",
       "eweave        n             n   y             n          n   \n",
       "ehrcare         y           y   n             y          y   \n",
       "clever          y           y   y             y          y   \n",
       "ehrdb           y           y   y             y          y   \n",
       "rhp             y           y   y             y          y   \n",
       "ehrn            y           n   y             y          n   \n",
       "\n",
       "         store_list_get_templates_api store_list_exec_query_api comp_crud_gui  \\\n",
       "CDR_name                                                                        \n",
       "ehrbase                             y                         y             n   \n",
       "better                              y                         y             y   \n",
       "base24                              y                         y             y   \n",
       "cabo                                y                         y             n   \n",
       "arenaehr                            y                         y             n   \n",
       "eweave                              n                         n             y   \n",
       "ehrcare                             y                         y             n   \n",
       "clever                              y                         y             n   \n",
       "ehrdb                               y                         y             y   \n",
       "rhp                                 y                         y             n   \n",
       "ehrn                                y                         y             y   \n",
       "\n",
       "         ehr_cr_gui store_list_get_templates_gui  ... fhir_import  \\\n",
       "CDR_name                                          ...               \n",
       "ehrbase           n                            n  ...           y   \n",
       "better            n                            y  ...           y   \n",
       "base24            y                            y  ...           y   \n",
       "cabo              y                            y  ...           y   \n",
       "arenaehr          n                            n  ...           y   \n",
       "eweave            y                            y  ...           n   \n",
       "ehrcare           n                            n  ...           n   \n",
       "clever            y                            y  ...           n   \n",
       "ehrdb             n                            y  ...           n   \n",
       "rhp               y                            y  ...           n   \n",
       "ehrn              n                            n  ...           y   \n",
       "\n",
       "         demographics_openehr rest_api_openehr gdl form_creation  \\\n",
       "CDR_name                                                           \n",
       "ehrbase                     n                y   n             n   \n",
       "better                      n                y   y             y   \n",
       "base24                      y                n   n             y   \n",
       "cabo                        n                n   n             n   \n",
       "arenaehr                    n                y   y             y   \n",
       "eweave                      y                n   n             y   \n",
       "ehrcare                     y                n   n             y   \n",
       "clever                      y                n   y             y   \n",
       "ehrdb                       n                y   n             y   \n",
       "rhp                         y                n   y             y   \n",
       "ehrn                        n                n   n             n   \n",
       "\n",
       "         terminology_server archetype_designer template_designer aql sql  \n",
       "CDR_name                                                                  \n",
       "ehrbase                   y                  n                 n   y   n  \n",
       "better                    y                  y                 y   y   n  \n",
       "base24                    y                  n                 n   n   n  \n",
       "cabo                      n                  n                 n   n   n  \n",
       "arenaehr                  y                  n                 n   y   n  \n",
       "eweave                    y                  n                 y   y   y  \n",
       "ehrcare                   n                  n                 n   y   n  \n",
       "clever                    n                  y                 y   n   y  \n",
       "ehrdb                     n                  y                 y   y   n  \n",
       "rhp                       y                  y                 y   n   y  \n",
       "ehrn                      y                  n                 n   y   y  \n",
       "\n",
       "[11 rows x 35 columns]"
      ]
     },
     "execution_count": 4,
     "metadata": {},
     "output_type": "execute_result"
    }
   ],
   "source": [
    "#replace all dev with no\n",
    "df.replace(\"dev\",\"n\",inplace=True)\n",
    "df.replace(\"only r\",\"n\",inplace=True)\n",
    "df.replace(\"all but store\",\"y\",inplace=True)\n",
    "df.replace(\"ext\",\"y\",inplace=True)\n",
    "df.replace('y not store','y',inplace=True)\n",
    "df"
   ]
  },
  {
   "cell_type": "code",
   "execution_count": 5,
   "metadata": {},
   "outputs": [],
   "source": [
    "#df.drop(['terminology_server','gdl',\n",
    "#        'archetype_designer','template_designer',\n",
    "#        'ex_comp_from_temp','openehr_extract',\n",
    "#        'comp_in_struct','comp_in_can_xml','comp_in_can_json',\n",
    "#         'comp_ou_flat','comp_ou_struct','comp_ou_can_xml','comp_ou_can_json',\n",
    "#         'java_api','temp_in_opt','temp_in_webtemp','temp_ou_opt','temp_ou_webtemp',\n",
    "#         'ehr_cr_api','ehr_cr_gui','comp_crud_api','comp_crud_gui','store_list_get_templates_api',\n",
    "#         'store_list_get_templates_gui','store_list_exec_query_api','store_list_exec_query_gui',\n",
    "#         'api_n','gui_n','api_2of','gui_2of',\n",
    "#         'oauth2'],axis=1,inplace=True)\n",
    "#df"
   ]
  },
  {
   "cell_type": "code",
   "execution_count": 6,
   "metadata": {},
   "outputs": [
    {
     "data": {
      "text/plain": [
       "(11, 35)"
      ]
     },
     "execution_count": 6,
     "metadata": {},
     "output_type": "execute_result"
    }
   ],
   "source": [
    "df.shape"
   ]
  },
  {
   "cell_type": "code",
   "execution_count": 7,
   "metadata": {},
   "outputs": [
    {
     "data": {
      "text/html": [
       "<div>\n",
       "<style scoped>\n",
       "    .dataframe tbody tr th:only-of-type {\n",
       "        vertical-align: middle;\n",
       "    }\n",
       "\n",
       "    .dataframe tbody tr th {\n",
       "        vertical-align: top;\n",
       "    }\n",
       "\n",
       "    .dataframe thead th {\n",
       "        text-align: right;\n",
       "    }\n",
       "</style>\n",
       "<table border=\"1\" class=\"dataframe\">\n",
       "  <thead>\n",
       "    <tr style=\"text-align: right;\">\n",
       "      <th></th>\n",
       "      <th>0</th>\n",
       "      <th>1</th>\n",
       "    </tr>\n",
       "  </thead>\n",
       "  <tbody>\n",
       "    <tr>\n",
       "      <th>ehrbase</th>\n",
       "      <td>-0.689915</td>\n",
       "      <td>-0.115578</td>\n",
       "    </tr>\n",
       "    <tr>\n",
       "      <th>better</th>\n",
       "      <td>-0.479820</td>\n",
       "      <td>0.411782</td>\n",
       "    </tr>\n",
       "    <tr>\n",
       "      <th>base24</th>\n",
       "      <td>-0.187985</td>\n",
       "      <td>-0.267989</td>\n",
       "    </tr>\n",
       "    <tr>\n",
       "      <th>cabo</th>\n",
       "      <td>-0.310441</td>\n",
       "      <td>-0.255061</td>\n",
       "    </tr>\n",
       "    <tr>\n",
       "      <th>arenaehr</th>\n",
       "      <td>-0.472037</td>\n",
       "      <td>-0.240239</td>\n",
       "    </tr>\n",
       "    <tr>\n",
       "      <th>eweave</th>\n",
       "      <td>1.184924</td>\n",
       "      <td>-0.755702</td>\n",
       "    </tr>\n",
       "    <tr>\n",
       "      <th>ehrcare</th>\n",
       "      <td>-0.079845</td>\n",
       "      <td>-0.108734</td>\n",
       "    </tr>\n",
       "    <tr>\n",
       "      <th>clever</th>\n",
       "      <td>0.676379</td>\n",
       "      <td>0.758554</td>\n",
       "    </tr>\n",
       "    <tr>\n",
       "      <th>ehrdb</th>\n",
       "      <td>-0.368416</td>\n",
       "      <td>0.366045</td>\n",
       "    </tr>\n",
       "    <tr>\n",
       "      <th>rhp</th>\n",
       "      <td>0.662413</td>\n",
       "      <td>0.619138</td>\n",
       "    </tr>\n",
       "    <tr>\n",
       "      <th>ehrn</th>\n",
       "      <td>0.064743</td>\n",
       "      <td>-0.412216</td>\n",
       "    </tr>\n",
       "  </tbody>\n",
       "</table>\n",
       "</div>"
      ],
      "text/plain": [
       "                 0         1\n",
       "ehrbase  -0.689915 -0.115578\n",
       "better   -0.479820  0.411782\n",
       "base24   -0.187985 -0.267989\n",
       "cabo     -0.310441 -0.255061\n",
       "arenaehr -0.472037 -0.240239\n",
       "eweave    1.184924 -0.755702\n",
       "ehrcare  -0.079845 -0.108734\n",
       "clever    0.676379  0.758554\n",
       "ehrdb    -0.368416  0.366045\n",
       "rhp       0.662413  0.619138\n",
       "ehrn      0.064743 -0.412216"
      ]
     },
     "execution_count": 7,
     "metadata": {},
     "output_type": "execute_result"
    }
   ],
   "source": [
    "mca = MCA(n_components = 2, n_iter = 3, random_state = 101)\n",
    "mca.fit(df)\n",
    "df_mca = mca.transform(df)\n",
    "df_mca"
   ]
  },
  {
   "cell_type": "code",
   "execution_count": 8,
   "metadata": {},
   "outputs": [
    {
     "data": {
      "text/plain": [
       "[0.31885090921698955, 0.20209695984715448]"
      ]
     },
     "execution_count": 8,
     "metadata": {},
     "output_type": "execute_result"
    }
   ],
   "source": [
    "mca.explained_inertia_ #variance explained"
   ]
  },
  {
   "cell_type": "code",
   "execution_count": 9,
   "metadata": {},
   "outputs": [
    {
     "data": {
      "text/plain": [
       "52.1"
      ]
     },
     "execution_count": 9,
     "metadata": {},
     "output_type": "execute_result"
    }
   ],
   "source": [
    "round(sum(mca.explained_inertia_)*100,1)"
   ]
  },
  {
   "cell_type": "code",
   "execution_count": 10,
   "metadata": {},
   "outputs": [
    {
     "data": {
      "text/plain": [
       "[0.31885090921698955, 0.20209695984715448]"
      ]
     },
     "execution_count": 10,
     "metadata": {},
     "output_type": "execute_result"
    }
   ],
   "source": [
    " mca.eigenvalues_"
   ]
  },
  {
   "cell_type": "code",
   "execution_count": 11,
   "metadata": {},
   "outputs": [
    {
     "data": {
      "text/html": [
       "<div>\n",
       "<style scoped>\n",
       "    .dataframe tbody tr th:only-of-type {\n",
       "        vertical-align: middle;\n",
       "    }\n",
       "\n",
       "    .dataframe tbody tr th {\n",
       "        vertical-align: top;\n",
       "    }\n",
       "\n",
       "    .dataframe thead th {\n",
       "        text-align: right;\n",
       "    }\n",
       "</style>\n",
       "<table border=\"1\" class=\"dataframe\">\n",
       "  <thead>\n",
       "    <tr style=\"text-align: right;\">\n",
       "      <th></th>\n",
       "      <th>0</th>\n",
       "      <th>1</th>\n",
       "    </tr>\n",
       "  </thead>\n",
       "  <tbody>\n",
       "    <tr>\n",
       "      <th>rest_api_n</th>\n",
       "      <td>2.098440</td>\n",
       "      <td>-1.681012</td>\n",
       "    </tr>\n",
       "    <tr>\n",
       "      <th>rest_api_y</th>\n",
       "      <td>-0.209844</td>\n",
       "      <td>0.168101</td>\n",
       "    </tr>\n",
       "    <tr>\n",
       "      <th>another_api_n</th>\n",
       "      <td>0.459048</td>\n",
       "      <td>-1.044119</td>\n",
       "    </tr>\n",
       "    <tr>\n",
       "      <th>another_api_y</th>\n",
       "      <td>-0.172143</td>\n",
       "      <td>0.391545</td>\n",
       "    </tr>\n",
       "    <tr>\n",
       "      <th>gui_n</th>\n",
       "      <td>-0.141402</td>\n",
       "      <td>-0.241871</td>\n",
       "    </tr>\n",
       "    <tr>\n",
       "      <th>...</th>\n",
       "      <td>...</td>\n",
       "      <td>...</td>\n",
       "    </tr>\n",
       "    <tr>\n",
       "      <th>template_designer_y</th>\n",
       "      <td>0.593438</td>\n",
       "      <td>0.622761</td>\n",
       "    </tr>\n",
       "    <tr>\n",
       "      <th>aql_n</th>\n",
       "      <td>0.372061</td>\n",
       "      <td>0.475274</td>\n",
       "    </tr>\n",
       "    <tr>\n",
       "      <th>aql_y</th>\n",
       "      <td>-0.212607</td>\n",
       "      <td>-0.271585</td>\n",
       "    </tr>\n",
       "    <tr>\n",
       "      <th>sql_n</th>\n",
       "      <td>-0.654861</td>\n",
       "      <td>-0.066661</td>\n",
       "    </tr>\n",
       "    <tr>\n",
       "      <th>sql_y</th>\n",
       "      <td>1.146007</td>\n",
       "      <td>0.116657</td>\n",
       "    </tr>\n",
       "  </tbody>\n",
       "</table>\n",
       "<p>70 rows × 2 columns</p>\n",
       "</div>"
      ],
      "text/plain": [
       "                            0         1\n",
       "rest_api_n           2.098440 -1.681012\n",
       "rest_api_y          -0.209844  0.168101\n",
       "another_api_n        0.459048 -1.044119\n",
       "another_api_y       -0.172143  0.391545\n",
       "gui_n               -0.141402 -0.241871\n",
       "...                       ...       ...\n",
       "template_designer_y  0.593438  0.622761\n",
       "aql_n                0.372061  0.475274\n",
       "aql_y               -0.212607 -0.271585\n",
       "sql_n               -0.654861 -0.066661\n",
       "sql_y                1.146007  0.116657\n",
       "\n",
       "[70 rows x 2 columns]"
      ]
     },
     "execution_count": 11,
     "metadata": {},
     "output_type": "execute_result"
    }
   ],
   "source": [
    "mca.column_coordinates(df)"
   ]
  },
  {
   "cell_type": "code",
   "execution_count": 12,
   "metadata": {},
   "outputs": [
    {
     "data": {
      "text/plain": [
       "<AxesSubplot:title={'center':'Row and column principal coordinates'}, xlabel='Component 0 (31.89% inertia)', ylabel='Component 1 (20.21% inertia)'>"
      ]
     },
     "execution_count": 12,
     "metadata": {},
     "output_type": "execute_result"
    },
    {
     "data": {
      "image/png": "[encoded data removed]",
      "text/plain": [
       "<Figure size 576x576 with 1 Axes>"
      ]
     },
     "metadata": {
      "needs_background": "light"
     },
     "output_type": "display_data"
    }
   ],
   "source": [
    "#The result is like the PCA or CA result, two principal components with SVD result as the values. Just like previous techniques, we could plot the coordinates into a two-dimension graph.\n",
    "mca.column_coordinates(df)\n",
    "mca.plot_coordinates(X =df,figsize=(8,8),show_row_points=True,show_row_labels=True, \n",
    "                     show_column_points=False, show_column_labels=False,\n",
    "                    row_points_size=30, column_points_size=30)"
   ]
  },
  {
   "cell_type": "code",
   "execution_count": 13,
   "metadata": {},
   "outputs": [
    {
     "data": {
      "text/html": [
       "<div>\n",
       "<style scoped>\n",
       "    .dataframe tbody tr th:only-of-type {\n",
       "        vertical-align: middle;\n",
       "    }\n",
       "\n",
       "    .dataframe tbody tr th {\n",
       "        vertical-align: top;\n",
       "    }\n",
       "\n",
       "    .dataframe thead th {\n",
       "        text-align: right;\n",
       "    }\n",
       "</style>\n",
       "<table border=\"1\" class=\"dataframe\">\n",
       "  <thead>\n",
       "    <tr style=\"text-align: right;\">\n",
       "      <th></th>\n",
       "      <th>0</th>\n",
       "      <th>1</th>\n",
       "      <th>2</th>\n",
       "    </tr>\n",
       "  </thead>\n",
       "  <tbody>\n",
       "    <tr>\n",
       "      <th>ehrbase</th>\n",
       "      <td>-0.689915</td>\n",
       "      <td>-0.115578</td>\n",
       "      <td>-0.238357</td>\n",
       "    </tr>\n",
       "    <tr>\n",
       "      <th>better</th>\n",
       "      <td>-0.479820</td>\n",
       "      <td>0.411782</td>\n",
       "      <td>-0.482069</td>\n",
       "    </tr>\n",
       "    <tr>\n",
       "      <th>base24</th>\n",
       "      <td>-0.187985</td>\n",
       "      <td>-0.267989</td>\n",
       "      <td>0.424614</td>\n",
       "    </tr>\n",
       "    <tr>\n",
       "      <th>cabo</th>\n",
       "      <td>-0.310441</td>\n",
       "      <td>-0.255061</td>\n",
       "      <td>0.541717</td>\n",
       "    </tr>\n",
       "    <tr>\n",
       "      <th>arenaehr</th>\n",
       "      <td>-0.472037</td>\n",
       "      <td>-0.240239</td>\n",
       "      <td>-0.054270</td>\n",
       "    </tr>\n",
       "    <tr>\n",
       "      <th>eweave</th>\n",
       "      <td>1.184924</td>\n",
       "      <td>-0.755702</td>\n",
       "      <td>-0.465188</td>\n",
       "    </tr>\n",
       "    <tr>\n",
       "      <th>ehrcare</th>\n",
       "      <td>-0.079845</td>\n",
       "      <td>-0.108734</td>\n",
       "      <td>0.326036</td>\n",
       "    </tr>\n",
       "    <tr>\n",
       "      <th>clever</th>\n",
       "      <td>0.676379</td>\n",
       "      <td>0.758554</td>\n",
       "      <td>0.195918</td>\n",
       "    </tr>\n",
       "    <tr>\n",
       "      <th>ehrdb</th>\n",
       "      <td>-0.368416</td>\n",
       "      <td>0.366045</td>\n",
       "      <td>-0.428138</td>\n",
       "    </tr>\n",
       "    <tr>\n",
       "      <th>rhp</th>\n",
       "      <td>0.662413</td>\n",
       "      <td>0.619138</td>\n",
       "      <td>0.170634</td>\n",
       "    </tr>\n",
       "    <tr>\n",
       "      <th>ehrn</th>\n",
       "      <td>0.064743</td>\n",
       "      <td>-0.412216</td>\n",
       "      <td>0.009101</td>\n",
       "    </tr>\n",
       "  </tbody>\n",
       "</table>\n",
       "</div>"
      ],
      "text/plain": [
       "                 0         1         2\n",
       "ehrbase  -0.689915 -0.115578 -0.238357\n",
       "better   -0.479820  0.411782 -0.482069\n",
       "base24   -0.187985 -0.267989  0.424614\n",
       "cabo     -0.310441 -0.255061  0.541717\n",
       "arenaehr -0.472037 -0.240239 -0.054270\n",
       "eweave    1.184924 -0.755702 -0.465188\n",
       "ehrcare  -0.079845 -0.108734  0.326036\n",
       "clever    0.676379  0.758554  0.195918\n",
       "ehrdb    -0.368416  0.366045 -0.428138\n",
       "rhp       0.662413  0.619138  0.170634\n",
       "ehrn      0.064743 -0.412216  0.009101"
      ]
     },
     "execution_count": 13,
     "metadata": {},
     "output_type": "execute_result"
    }
   ],
   "source": [
    "mca = MCA(n_components = 3, n_iter = 3, random_state = 101)\n",
    "mca.fit(df)\n",
    "df_mca = mca.transform(df)\n",
    "df_mca"
   ]
  },
  {
   "cell_type": "code",
   "execution_count": 14,
   "metadata": {},
   "outputs": [
    {
     "name": "stdout",
     "output_type": "stream",
     "text": [
      "-0.23835673954649625\n",
      "ehrbase\n"
     ]
    }
   ],
   "source": [
    "print(df_mca.iloc[0,2])\n",
    "index=df_mca.index\n",
    "print(index[0])"
   ]
  },
  {
   "cell_type": "code",
   "execution_count": 15,
   "metadata": {},
   "outputs": [
    {
     "data": {
      "text/plain": [
       "[0.31885090921698966, 0.20209695984715492, 0.1217715747126417]"
      ]
     },
     "execution_count": 15,
     "metadata": {},
     "output_type": "execute_result"
    }
   ],
   "source": [
    "mca.explained_inertia_ #variance explained"
   ]
  },
  {
   "cell_type": "code",
   "execution_count": 16,
   "metadata": {},
   "outputs": [
    {
     "data": {
      "text/plain": [
       "64.3"
      ]
     },
     "execution_count": 16,
     "metadata": {},
     "output_type": "execute_result"
    }
   ],
   "source": [
    "round(sum(mca.explained_inertia_)*100,1)"
   ]
  },
  {
   "cell_type": "code",
   "execution_count": 17,
   "metadata": {},
   "outputs": [
    {
     "data": {
      "text/plain": [
       "[0.31885090921698966, 0.20209695984715492, 0.1217715747126417]"
      ]
     },
     "execution_count": 17,
     "metadata": {},
     "output_type": "execute_result"
    }
   ],
   "source": [
    " mca.eigenvalues_"
   ]
  },
  {
   "cell_type": "code",
   "execution_count": 18,
   "metadata": {},
   "outputs": [
    {
     "data": {
      "text/html": [
       "<div>\n",
       "<style scoped>\n",
       "    .dataframe tbody tr th:only-of-type {\n",
       "        vertical-align: middle;\n",
       "    }\n",
       "\n",
       "    .dataframe tbody tr th {\n",
       "        vertical-align: top;\n",
       "    }\n",
       "\n",
       "    .dataframe thead th {\n",
       "        text-align: right;\n",
       "    }\n",
       "</style>\n",
       "<table border=\"1\" class=\"dataframe\">\n",
       "  <thead>\n",
       "    <tr style=\"text-align: right;\">\n",
       "      <th></th>\n",
       "      <th>0</th>\n",
       "      <th>1</th>\n",
       "      <th>2</th>\n",
       "    </tr>\n",
       "  </thead>\n",
       "  <tbody>\n",
       "    <tr>\n",
       "      <th>rest_api_n</th>\n",
       "      <td>2.098440</td>\n",
       "      <td>-1.681012</td>\n",
       "      <td>-1.333077</td>\n",
       "    </tr>\n",
       "    <tr>\n",
       "      <th>rest_api_y</th>\n",
       "      <td>-0.209844</td>\n",
       "      <td>0.168101</td>\n",
       "      <td>0.133308</td>\n",
       "    </tr>\n",
       "    <tr>\n",
       "      <th>another_api_n</th>\n",
       "      <td>0.459048</td>\n",
       "      <td>-1.044119</td>\n",
       "      <td>-0.487505</td>\n",
       "    </tr>\n",
       "    <tr>\n",
       "      <th>another_api_y</th>\n",
       "      <td>-0.172143</td>\n",
       "      <td>0.391545</td>\n",
       "      <td>0.182814</td>\n",
       "    </tr>\n",
       "    <tr>\n",
       "      <th>gui_n</th>\n",
       "      <td>-0.141402</td>\n",
       "      <td>-0.241871</td>\n",
       "      <td>0.934312</td>\n",
       "    </tr>\n",
       "    <tr>\n",
       "      <th>...</th>\n",
       "      <td>...</td>\n",
       "      <td>...</td>\n",
       "      <td>...</td>\n",
       "    </tr>\n",
       "    <tr>\n",
       "      <th>template_designer_y</th>\n",
       "      <td>0.593438</td>\n",
       "      <td>0.622761</td>\n",
       "      <td>-0.578203</td>\n",
       "    </tr>\n",
       "    <tr>\n",
       "      <th>aql_n</th>\n",
       "      <td>0.372061</td>\n",
       "      <td>0.475274</td>\n",
       "      <td>0.954903</td>\n",
       "    </tr>\n",
       "    <tr>\n",
       "      <th>aql_y</th>\n",
       "      <td>-0.212607</td>\n",
       "      <td>-0.271585</td>\n",
       "      <td>-0.545659</td>\n",
       "    </tr>\n",
       "    <tr>\n",
       "      <th>sql_n</th>\n",
       "      <td>-0.654861</td>\n",
       "      <td>-0.066661</td>\n",
       "      <td>0.036654</td>\n",
       "    </tr>\n",
       "    <tr>\n",
       "      <th>sql_y</th>\n",
       "      <td>1.146007</td>\n",
       "      <td>0.116657</td>\n",
       "      <td>-0.064144</td>\n",
       "    </tr>\n",
       "  </tbody>\n",
       "</table>\n",
       "<p>70 rows × 3 columns</p>\n",
       "</div>"
      ],
      "text/plain": [
       "                            0         1         2\n",
       "rest_api_n           2.098440 -1.681012 -1.333077\n",
       "rest_api_y          -0.209844  0.168101  0.133308\n",
       "another_api_n        0.459048 -1.044119 -0.487505\n",
       "another_api_y       -0.172143  0.391545  0.182814\n",
       "gui_n               -0.141402 -0.241871  0.934312\n",
       "...                       ...       ...       ...\n",
       "template_designer_y  0.593438  0.622761 -0.578203\n",
       "aql_n                0.372061  0.475274  0.954903\n",
       "aql_y               -0.212607 -0.271585 -0.545659\n",
       "sql_n               -0.654861 -0.066661  0.036654\n",
       "sql_y                1.146007  0.116657 -0.064144\n",
       "\n",
       "[70 rows x 3 columns]"
      ]
     },
     "execution_count": 18,
     "metadata": {},
     "output_type": "execute_result"
    }
   ],
   "source": [
    "mca.column_coordinates(df)"
   ]
  },
  {
   "cell_type": "code",
   "execution_count": 19,
   "metadata": {},
   "outputs": [
    {
     "name": "stdout",
     "output_type": "stream",
     "text": [
      "len(df_mca)=11\n",
      "-0.6899145876680328 -0.11557762094037882 -0.23835673954649625\n",
      "-0.6899145876680328 -0.11557762094037882 -0.25\n",
      "-0.47982014169753134 0.41178181116889984 -0.4820685604391836\n",
      "-0.47982014169753134 0.41178181116889984 -0.49\n",
      "-0.1879846506014987 -0.26798886276755335 0.4246137397650314\n",
      "-0.1879846506014987 -0.26798886276755335 0.4246137397650314\n",
      "-0.31044089786173196 -0.25506101787605867 0.5417173326389915\n",
      "-0.31044089786173196 -0.25506101787605867 0.5417173326389915\n",
      "-0.4720366299083768 -0.24023871914454747 -0.05426951248495062\n",
      "-0.4720366299083768 -0.24023871914454747 -0.05426951248495062\n",
      "1.1849235285036164 -0.7557021490308746 -0.4651877271861049\n",
      "1.1849235285036164 -0.7557021490308746 -0.4651877271861049\n",
      "-0.07984549951825795 -0.10873359683269983 0.32603562265757297\n",
      "-0.07984549951825795 -0.10873359683269983 0.32603562265757297\n",
      "0.6763787786957578 0.7585536175133627 0.19591831156197653\n",
      "0.6763787786957578 0.7585536175133627 0.19591831156197653\n",
      "-0.3684161357986891 0.3660449291115158 -0.42813781488808633\n",
      "-0.3684161357986891 0.3660449291115158 -0.42813781488808633\n",
      "0.6624127424072569 0.6191379448022143 0.17063398305327732\n",
      "0.6624127424072569 0.6191379448022143 0.17063398305327732\n",
      "0.06474349344748803 -0.4122163360038798 0.009101364867972533\n",
      "0.06474349344748803 -0.4122163360038798 0.009101364867972533\n",
      "(11, 3)\n",
      "(11, 3)\n"
     ]
    }
   ],
   "source": [
    "newtextpos=df_mca.copy()\n",
    "newtextpos.iloc[1,2]=-0.49\n",
    "newtextpos.iloc[0,2]=-0.25\n",
    "print(f'len(df_mca)={len(df_mca)}')\n",
    "for i in range(len(df_mca)):\n",
    "    print(df_mca.iloc[i,0],df_mca.iloc[i,1],df_mca.iloc[i,2])\n",
    "    print(newtextpos.iloc[i,0],newtextpos.iloc[i,1],newtextpos.iloc[i,2])\n",
    "print(df_mca.shape)\n",
    "print(newtextpos.shape)\n"
   ]
  },
  {
   "cell_type": "code",
   "execution_count": 79,
   "metadata": {},
   "outputs": [
    {
     "data": {
      "application/javascript": [
       "/* Put everything inside the global mpl namespace */\n",
       "/* global mpl */\n",
       "window.mpl = {};\n",
       "\n",
       "mpl.get_websocket_type = function () {\n",
       "    if (typeof WebSocket !== 'undefined') {\n",
       "        return WebSocket;\n",
       "    } else if (typeof MozWebSocket !== 'undefined') {\n",
       "        return MozWebSocket;\n",
       "    } else {\n",
       "        alert(\n",
       "            'Your browser does not have WebSocket support. ' +\n",
       "                'Please try Chrome, Safari or Firefox ≥ 6. ' +\n",
       "                'Firefox 4 and 5 are also supported but you ' +\n",
       "                'have to enable WebSockets in about:config.'\n",
       "        );\n",
       "    }\n",
       "};\n",
       "\n",
       "mpl.figure = function (figure_id, websocket, ondownload, parent_element) {\n",
       "    this.id = figure_id;\n",
       "\n",
       "    this.ws = websocket;\n",
       "\n",
       "    this.supports_binary = this.ws.binaryType !== undefined;\n",
       "\n",
       "    if (!this.supports_binary) {\n",
       "        var warnings = document.getElementById('mpl-warnings');\n",
       "        if (warnings) {\n",
       "            warnings.style.display = 'block';\n",
       "            warnings.textContent =\n",
       "                'This browser does not support binary websocket messages. ' +\n",
       "                'Performance may be slow.';\n",
       "        }\n",
       "    }\n",
       "\n",
       "    this.imageObj = new Image();\n",
       "\n",
       "    this.context = undefined;\n",
       "    this.message = undefined;\n",
       "    this.canvas = undefined;\n",
       "    this.rubberband_canvas = undefined;\n",
       "    this.rubberband_context = undefined;\n",
       "    this.format_dropdown = undefined;\n",
       "\n",
       "    this.image_mode = 'full';\n",
       "\n",
       "    this.root = document.createElement('div');\n",
       "    this.root.setAttribute('style', 'display: inline-block');\n",
       "    this._root_extra_style(this.root);\n",
       "\n",
       "    parent_element.appendChild(this.root);\n",
       "\n",
       "    this._init_header(this);\n",
       "    this._init_canvas(this);\n",
       "    this._init_toolbar(this);\n",
       "\n",
       "    var fig = this;\n",
       "\n",
       "    this.waiting = false;\n",
       "\n",
       "    this.ws.onopen = function () {\n",
       "        fig.send_message('supports_binary', { value: fig.supports_binary });\n",
       "        fig.send_message('send_image_mode', {});\n",
       "        if (fig.ratio !== 1) {\n",
       "            fig.send_message('set_dpi_ratio', { dpi_ratio: fig.ratio });\n",
       "        }\n",
       "        fig.send_message('refresh', {});\n",
       "    };\n",
       "\n",
       "    this.imageObj.onload = function () {\n",
       "        if (fig.image_mode === 'full') {\n",
       "            // Full images could contain transparency (where diff images\n",
       "            // almost always do), so we need to clear the canvas so that\n",
       "            // there is no ghosting.\n",
       "            fig.context.clearRect(0, 0, fig.canvas.width, fig.canvas.height);\n",
       "        }\n",
       "        fig.context.drawImage(fig.imageObj, 0, 0);\n",
       "    };\n",
       "\n",
       "    this.imageObj.onunload = function () {\n",
       "        fig.ws.close();\n",
       "    };\n",
       "\n",
       "    this.ws.onmessage = this._make_on_message_function(this);\n",
       "\n",
       "    this.ondownload = ondownload;\n",
       "};\n",
       "\n",
       "mpl.figure.prototype._init_header = function () {\n",
       "    var titlebar = document.createElement('div');\n",
       "    titlebar.classList =\n",
       "        'ui-dialog-titlebar ui-widget-header ui-corner-all ui-helper-clearfix';\n",
       "    var titletext = document.createElement('div');\n",
       "    titletext.classList = 'ui-dialog-title';\n",
       "    titletext.setAttribute(\n",
       "        'style',\n",
       "        'width: 100%; text-align: center; padding: 3px;'\n",
       "    );\n",
       "    titlebar.appendChild(titletext);\n",
       "    this.root.appendChild(titlebar);\n",
       "    this.header = titletext;\n",
       "};\n",
       "\n",
       "mpl.figure.prototype._canvas_extra_style = function (_canvas_div) {};\n",
       "\n",
       "mpl.figure.prototype._root_extra_style = function (_canvas_div) {};\n",
       "\n",
       "mpl.figure.prototype._init_canvas = function () {\n",
       "    var fig = this;\n",
       "\n",
       "    var canvas_div = (this.canvas_div = document.createElement('div'));\n",
       "    canvas_div.setAttribute(\n",
       "        'style',\n",
       "        'border: 1px solid #ddd;' +\n",
       "            'box-sizing: content-box;' +\n",
       "            'clear: both;' +\n",
       "            'min-height: 1px;' +\n",
       "            'min-width: 1px;' +\n",
       "            'outline: 0;' +\n",
       "            'overflow: hidden;' +\n",
       "            'position: relative;' +\n",
       "            'resize: both;'\n",
       "    );\n",
       "\n",
       "    function on_keyboard_event_closure(name) {\n",
       "        return function (event) {\n",
       "            return fig.key_event(event, name);\n",
       "        };\n",
       "    }\n",
       "\n",
       "    canvas_div.addEventListener(\n",
       "        'keydown',\n",
       "        on_keyboard_event_closure('key_press')\n",
       "    );\n",
       "    canvas_div.addEventListener(\n",
       "        'keyup',\n",
       "        on_keyboard_event_closure('key_release')\n",
       "    );\n",
       "\n",
       "    this._canvas_extra_style(canvas_div);\n",
       "    this.root.appendChild(canvas_div);\n",
       "\n",
       "    var canvas = (this.canvas = document.createElement('canvas'));\n",
       "    canvas.classList.add('mpl-canvas');\n",
       "    canvas.setAttribute('style', 'box-sizing: content-box;');\n",
       "\n",
       "    this.context = canvas.getContext('2d');\n",
       "\n",
       "    var backingStore =\n",
       "        this.context.backingStorePixelRatio ||\n",
       "        this.context.webkitBackingStorePixelRatio ||\n",
       "        this.context.mozBackingStorePixelRatio ||\n",
       "        this.context.msBackingStorePixelRatio ||\n",
       "        this.context.oBackingStorePixelRatio ||\n",
       "        this.context.backingStorePixelRatio ||\n",
       "        1;\n",
       "\n",
       "    this.ratio = (window.devicePixelRatio || 1) / backingStore;\n",
       "\n",
       "    var rubberband_canvas = (this.rubberband_canvas = document.createElement(\n",
       "        'canvas'\n",
       "    ));\n",
       "    rubberband_canvas.setAttribute(\n",
       "        'style',\n",
       "        'box-sizing: content-box; position: absolute; left: 0; top: 0; z-index: 1;'\n",
       "    );\n",
       "\n",
       "    // Apply a ponyfill if ResizeObserver is not implemented by browser.\n",
       "    if (this.ResizeObserver === undefined) {\n",
       "        if (window.ResizeObserver !== undefined) {\n",
       "            this.ResizeObserver = window.ResizeObserver;\n",
       "        } else {\n",
       "            var obs = _JSXTOOLS_RESIZE_OBSERVER({});\n",
       "            this.ResizeObserver = obs.ResizeObserver;\n",
       "        }\n",
       "    }\n",
       "\n",
       "    this.resizeObserverInstance = new this.ResizeObserver(function (entries) {\n",
       "        var nentries = entries.length;\n",
       "        for (var i = 0; i < nentries; i++) {\n",
       "            var entry = entries[i];\n",
       "            var width, height;\n",
       "            if (entry.contentBoxSize) {\n",
       "                if (entry.contentBoxSize instanceof Array) {\n",
       "                    // Chrome 84 implements new version of spec.\n",
       "                    width = entry.contentBoxSize[0].inlineSize;\n",
       "                    height = entry.contentBoxSize[0].blockSize;\n",
       "                } else {\n",
       "                    // Firefox implements old version of spec.\n",
       "                    width = entry.contentBoxSize.inlineSize;\n",
       "                    height = entry.contentBoxSize.blockSize;\n",
       "                }\n",
       "            } else {\n",
       "                // Chrome <84 implements even older version of spec.\n",
       "                width = entry.contentRect.width;\n",
       "                height = entry.contentRect.height;\n",
       "            }\n",
       "\n",
       "            // Keep the size of the canvas and rubber band canvas in sync with\n",
       "            // the canvas container.\n",
       "            if (entry.devicePixelContentBoxSize) {\n",
       "                // Chrome 84 implements new version of spec.\n",
       "                canvas.setAttribute(\n",
       "                    'width',\n",
       "                    entry.devicePixelContentBoxSize[0].inlineSize\n",
       "                );\n",
       "                canvas.setAttribute(\n",
       "                    'height',\n",
       "                    entry.devicePixelContentBoxSize[0].blockSize\n",
       "                );\n",
       "            } else {\n",
       "                canvas.setAttribute('width', width * fig.ratio);\n",
       "                canvas.setAttribute('height', height * fig.ratio);\n",
       "            }\n",
       "            canvas.setAttribute(\n",
       "                'style',\n",
       "                'width: ' + width + 'px; height: ' + height + 'px;'\n",
       "            );\n",
       "\n",
       "            rubberband_canvas.setAttribute('width', width);\n",
       "            rubberband_canvas.setAttribute('height', height);\n",
       "\n",
       "            // And update the size in Python. We ignore the initial 0/0 size\n",
       "            // that occurs as the element is placed into the DOM, which should\n",
       "            // otherwise not happen due to the minimum size styling.\n",
       "            if (fig.ws.readyState == 1 && width != 0 && height != 0) {\n",
       "                fig.request_resize(width, height);\n",
       "            }\n",
       "        }\n",
       "    });\n",
       "    this.resizeObserverInstance.observe(canvas_div);\n",
       "\n",
       "    function on_mouse_event_closure(name) {\n",
       "        return function (event) {\n",
       "            return fig.mouse_event(event, name);\n",
       "        };\n",
       "    }\n",
       "\n",
       "    rubberband_canvas.addEventListener(\n",
       "        'mousedown',\n",
       "        on_mouse_event_closure('button_press')\n",
       "    );\n",
       "    rubberband_canvas.addEventListener(\n",
       "        'mouseup',\n",
       "        on_mouse_event_closure('button_release')\n",
       "    );\n",
       "    rubberband_canvas.addEventListener(\n",
       "        'dblclick',\n",
       "        on_mouse_event_closure('dblclick')\n",
       "    );\n",
       "    // Throttle sequential mouse events to 1 every 20ms.\n",
       "    rubberband_canvas.addEventListener(\n",
       "        'mousemove',\n",
       "        on_mouse_event_closure('motion_notify')\n",
       "    );\n",
       "\n",
       "    rubberband_canvas.addEventListener(\n",
       "        'mouseenter',\n",
       "        on_mouse_event_closure('figure_enter')\n",
       "    );\n",
       "    rubberband_canvas.addEventListener(\n",
       "        'mouseleave',\n",
       "        on_mouse_event_closure('figure_leave')\n",
       "    );\n",
       "\n",
       "    canvas_div.addEventListener('wheel', function (event) {\n",
       "        if (event.deltaY < 0) {\n",
       "            event.step = 1;\n",
       "        } else {\n",
       "            event.step = -1;\n",
       "        }\n",
       "        on_mouse_event_closure('scroll')(event);\n",
       "    });\n",
       "\n",
       "    canvas_div.appendChild(canvas);\n",
       "    canvas_div.appendChild(rubberband_canvas);\n",
       "\n",
       "    this.rubberband_context = rubberband_canvas.getContext('2d');\n",
       "    this.rubberband_context.strokeStyle = '#000000';\n",
       "\n",
       "    this._resize_canvas = function (width, height, forward) {\n",
       "        if (forward) {\n",
       "            canvas_div.style.width = width + 'px';\n",
       "            canvas_div.style.height = height + 'px';\n",
       "        }\n",
       "    };\n",
       "\n",
       "    // Disable right mouse context menu.\n",
       "    this.rubberband_canvas.addEventListener('contextmenu', function (_e) {\n",
       "        event.preventDefault();\n",
       "        return false;\n",
       "    });\n",
       "\n",
       "    function set_focus() {\n",
       "        canvas.focus();\n",
       "        canvas_div.focus();\n",
       "    }\n",
       "\n",
       "    window.setTimeout(set_focus, 100);\n",
       "};\n",
       "\n",
       "mpl.figure.prototype._init_toolbar = function () {\n",
       "    var fig = this;\n",
       "\n",
       "    var toolbar = document.createElement('div');\n",
       "    toolbar.classList = 'mpl-toolbar';\n",
       "    this.root.appendChild(toolbar);\n",
       "\n",
       "    function on_click_closure(name) {\n",
       "        return function (_event) {\n",
       "            return fig.toolbar_button_onclick(name);\n",
       "        };\n",
       "    }\n",
       "\n",
       "    function on_mouseover_closure(tooltip) {\n",
       "        return function (event) {\n",
       "            if (!event.currentTarget.disabled) {\n",
       "                return fig.toolbar_button_onmouseover(tooltip);\n",
       "            }\n",
       "        };\n",
       "    }\n",
       "\n",
       "    fig.buttons = {};\n",
       "    var buttonGroup = document.createElement('div');\n",
       "    buttonGroup.classList = 'mpl-button-group';\n",
       "    for (var toolbar_ind in mpl.toolbar_items) {\n",
       "        var name = mpl.toolbar_items[toolbar_ind][0];\n",
       "        var tooltip = mpl.toolbar_items[toolbar_ind][1];\n",
       "        var image = mpl.toolbar_items[toolbar_ind][2];\n",
       "        var method_name = mpl.toolbar_items[toolbar_ind][3];\n",
       "\n",
       "        if (!name) {\n",
       "            /* Instead of a spacer, we start a new button group. */\n",
       "            if (buttonGroup.hasChildNodes()) {\n",
       "                toolbar.appendChild(buttonGroup);\n",
       "            }\n",
       "            buttonGroup = document.createElement('div');\n",
       "            buttonGroup.classList = 'mpl-button-group';\n",
       "            continue;\n",
       "        }\n",
       "\n",
       "        var button = (fig.buttons[name] = document.createElement('button'));\n",
       "        button.classList = 'mpl-widget';\n",
       "        button.setAttribute('role', 'button');\n",
       "        button.setAttribute('aria-disabled', 'false');\n",
       "        button.addEventListener('click', on_click_closure(method_name));\n",
       "        button.addEventListener('mouseover', on_mouseover_closure(tooltip));\n",
       "\n",
       "        var icon_img = document.createElement('img');\n",
       "        icon_img.src = '_images/' + image + '.png';\n",
       "        icon_img.srcset = '_images/' + image + '_large.png 2x';\n",
       "        icon_img.alt = tooltip;\n",
       "        button.appendChild(icon_img);\n",
       "\n",
       "        buttonGroup.appendChild(button);\n",
       "    }\n",
       "\n",
       "    if (buttonGroup.hasChildNodes()) {\n",
       "        toolbar.appendChild(buttonGroup);\n",
       "    }\n",
       "\n",
       "    var fmt_picker = document.createElement('select');\n",
       "    fmt_picker.classList = 'mpl-widget';\n",
       "    toolbar.appendChild(fmt_picker);\n",
       "    this.format_dropdown = fmt_picker;\n",
       "\n",
       "    for (var ind in mpl.extensions) {\n",
       "        var fmt = mpl.extensions[ind];\n",
       "        var option = document.createElement('option');\n",
       "        option.selected = fmt === mpl.default_extension;\n",
       "        option.innerHTML = fmt;\n",
       "        fmt_picker.appendChild(option);\n",
       "    }\n",
       "\n",
       "    var status_bar = document.createElement('span');\n",
       "    status_bar.classList = 'mpl-message';\n",
       "    toolbar.appendChild(status_bar);\n",
       "    this.message = status_bar;\n",
       "};\n",
       "\n",
       "mpl.figure.prototype.request_resize = function (x_pixels, y_pixels) {\n",
       "    // Request matplotlib to resize the figure. Matplotlib will then trigger a resize in the client,\n",
       "    // which will in turn request a refresh of the image.\n",
       "    this.send_message('resize', { width: x_pixels, height: y_pixels });\n",
       "};\n",
       "\n",
       "mpl.figure.prototype.send_message = function (type, properties) {\n",
       "    properties['type'] = type;\n",
       "    properties['figure_id'] = this.id;\n",
       "    this.ws.send(JSON.stringify(properties));\n",
       "};\n",
       "\n",
       "mpl.figure.prototype.send_draw_message = function () {\n",
       "    if (!this.waiting) {\n",
       "        this.waiting = true;\n",
       "        this.ws.send(JSON.stringify({ type: 'draw', figure_id: this.id }));\n",
       "    }\n",
       "};\n",
       "\n",
       "mpl.figure.prototype.handle_save = function (fig, _msg) {\n",
       "    var format_dropdown = fig.format_dropdown;\n",
       "    var format = format_dropdown.options[format_dropdown.selectedIndex].value;\n",
       "    fig.ondownload(fig, format);\n",
       "};\n",
       "\n",
       "mpl.figure.prototype.handle_resize = function (fig, msg) {\n",
       "    var size = msg['size'];\n",
       "    if (size[0] !== fig.canvas.width || size[1] !== fig.canvas.height) {\n",
       "        fig._resize_canvas(size[0], size[1], msg['forward']);\n",
       "        fig.send_message('refresh', {});\n",
       "    }\n",
       "};\n",
       "\n",
       "mpl.figure.prototype.handle_rubberband = function (fig, msg) {\n",
       "    var x0 = msg['x0'] / fig.ratio;\n",
       "    var y0 = (fig.canvas.height - msg['y0']) / fig.ratio;\n",
       "    var x1 = msg['x1'] / fig.ratio;\n",
       "    var y1 = (fig.canvas.height - msg['y1']) / fig.ratio;\n",
       "    x0 = Math.floor(x0) + 0.5;\n",
       "    y0 = Math.floor(y0) + 0.5;\n",
       "    x1 = Math.floor(x1) + 0.5;\n",
       "    y1 = Math.floor(y1) + 0.5;\n",
       "    var min_x = Math.min(x0, x1);\n",
       "    var min_y = Math.min(y0, y1);\n",
       "    var width = Math.abs(x1 - x0);\n",
       "    var height = Math.abs(y1 - y0);\n",
       "\n",
       "    fig.rubberband_context.clearRect(\n",
       "        0,\n",
       "        0,\n",
       "        fig.canvas.width / fig.ratio,\n",
       "        fig.canvas.height / fig.ratio\n",
       "    );\n",
       "\n",
       "    fig.rubberband_context.strokeRect(min_x, min_y, width, height);\n",
       "};\n",
       "\n",
       "mpl.figure.prototype.handle_figure_label = function (fig, msg) {\n",
       "    // Updates the figure title.\n",
       "    fig.header.textContent = msg['label'];\n",
       "};\n",
       "\n",
       "mpl.figure.prototype.handle_cursor = function (fig, msg) {\n",
       "    var cursor = msg['cursor'];\n",
       "    switch (cursor) {\n",
       "        case 0:\n",
       "            cursor = 'pointer';\n",
       "            break;\n",
       "        case 1:\n",
       "            cursor = 'default';\n",
       "            break;\n",
       "        case 2:\n",
       "            cursor = 'crosshair';\n",
       "            break;\n",
       "        case 3:\n",
       "            cursor = 'move';\n",
       "            break;\n",
       "    }\n",
       "    fig.rubberband_canvas.style.cursor = cursor;\n",
       "};\n",
       "\n",
       "mpl.figure.prototype.handle_message = function (fig, msg) {\n",
       "    fig.message.textContent = msg['message'];\n",
       "};\n",
       "\n",
       "mpl.figure.prototype.handle_draw = function (fig, _msg) {\n",
       "    // Request the server to send over a new figure.\n",
       "    fig.send_draw_message();\n",
       "};\n",
       "\n",
       "mpl.figure.prototype.handle_image_mode = function (fig, msg) {\n",
       "    fig.image_mode = msg['mode'];\n",
       "};\n",
       "\n",
       "mpl.figure.prototype.handle_history_buttons = function (fig, msg) {\n",
       "    for (var key in msg) {\n",
       "        if (!(key in fig.buttons)) {\n",
       "            continue;\n",
       "        }\n",
       "        fig.buttons[key].disabled = !msg[key];\n",
       "        fig.buttons[key].setAttribute('aria-disabled', !msg[key]);\n",
       "    }\n",
       "};\n",
       "\n",
       "mpl.figure.prototype.handle_navigate_mode = function (fig, msg) {\n",
       "    if (msg['mode'] === 'PAN') {\n",
       "        fig.buttons['Pan'].classList.add('active');\n",
       "        fig.buttons['Zoom'].classList.remove('active');\n",
       "    } else if (msg['mode'] === 'ZOOM') {\n",
       "        fig.buttons['Pan'].classList.remove('active');\n",
       "        fig.buttons['Zoom'].classList.add('active');\n",
       "    } else {\n",
       "        fig.buttons['Pan'].classList.remove('active');\n",
       "        fig.buttons['Zoom'].classList.remove('active');\n",
       "    }\n",
       "};\n",
       "\n",
       "mpl.figure.prototype.updated_canvas_event = function () {\n",
       "    // Called whenever the canvas gets updated.\n",
       "    this.send_message('ack', {});\n",
       "};\n",
       "\n",
       "// A function to construct a web socket function for onmessage handling.\n",
       "// Called in the figure constructor.\n",
       "mpl.figure.prototype._make_on_message_function = function (fig) {\n",
       "    return function socket_on_message(evt) {\n",
       "        if (evt.data instanceof Blob) {\n",
       "            var img = evt.data;\n",
       "            if (img.type !== 'image/png') {\n",
       "                /* FIXME: We get \"Resource interpreted as Image but\n",
       "                 * transferred with MIME type text/plain:\" errors on\n",
       "                 * Chrome.  But how to set the MIME type?  It doesn't seem\n",
       "                 * to be part of the websocket stream */\n",
       "                img.type = 'image/png';\n",
       "            }\n",
       "\n",
       "            /* Free the memory for the previous frames */\n",
       "            if (fig.imageObj.src) {\n",
       "                (window.URL || window.webkitURL).revokeObjectURL(\n",
       "                    fig.imageObj.src\n",
       "                );\n",
       "            }\n",
       "\n",
       "            fig.imageObj.src = (window.URL || window.webkitURL).createObjectURL(\n",
       "                img\n",
       "            );\n",
       "            fig.updated_canvas_event();\n",
       "            fig.waiting = false;\n",
       "            return;\n",
       "        } else if (\n",
       "            typeof evt.data === 'string' &&\n",
       "            evt.data.slice(0, 21) === 'data:image/png;base64'\n",
       "        ) {\n",
       "            fig.imageObj.src = evt.data;\n",
       "            fig.updated_canvas_event();\n",
       "            fig.waiting = false;\n",
       "            return;\n",
       "        }\n",
       "\n",
       "        var msg = JSON.parse(evt.data);\n",
       "        var msg_type = msg['type'];\n",
       "\n",
       "        // Call the  \"handle_{type}\" callback, which takes\n",
       "        // the figure and JSON message as its only arguments.\n",
       "        try {\n",
       "            var callback = fig['handle_' + msg_type];\n",
       "        } catch (e) {\n",
       "            console.log(\n",
       "                \"No handler for the '\" + msg_type + \"' message type: \",\n",
       "                msg\n",
       "            );\n",
       "            return;\n",
       "        }\n",
       "\n",
       "        if (callback) {\n",
       "            try {\n",
       "                // console.log(\"Handling '\" + msg_type + \"' message: \", msg);\n",
       "                callback(fig, msg);\n",
       "            } catch (e) {\n",
       "                console.log(\n",
       "                    \"Exception inside the 'handler_\" + msg_type + \"' callback:\",\n",
       "                    e,\n",
       "                    e.stack,\n",
       "                    msg\n",
       "                );\n",
       "            }\n",
       "        }\n",
       "    };\n",
       "};\n",
       "\n",
       "// from http://stackoverflow.com/questions/1114465/getting-mouse-location-in-canvas\n",
       "mpl.findpos = function (e) {\n",
       "    //this section is from http://www.quirksmode.org/js/events_properties.html\n",
       "    var targ;\n",
       "    if (!e) {\n",
       "        e = window.event;\n",
       "    }\n",
       "    if (e.target) {\n",
       "        targ = e.target;\n",
       "    } else if (e.srcElement) {\n",
       "        targ = e.srcElement;\n",
       "    }\n",
       "    if (targ.nodeType === 3) {\n",
       "        // defeat Safari bug\n",
       "        targ = targ.parentNode;\n",
       "    }\n",
       "\n",
       "    // pageX,Y are the mouse positions relative to the document\n",
       "    var boundingRect = targ.getBoundingClientRect();\n",
       "    var x = e.pageX - (boundingRect.left + document.body.scrollLeft);\n",
       "    var y = e.pageY - (boundingRect.top + document.body.scrollTop);\n",
       "\n",
       "    return { x: x, y: y };\n",
       "};\n",
       "\n",
       "/*\n",
       " * return a copy of an object with only non-object keys\n",
       " * we need this to avoid circular references\n",
       " * http://stackoverflow.com/a/24161582/3208463\n",
       " */\n",
       "function simpleKeys(original) {\n",
       "    return Object.keys(original).reduce(function (obj, key) {\n",
       "        if (typeof original[key] !== 'object') {\n",
       "            obj[key] = original[key];\n",
       "        }\n",
       "        return obj;\n",
       "    }, {});\n",
       "}\n",
       "\n",
       "mpl.figure.prototype.mouse_event = function (event, name) {\n",
       "    var canvas_pos = mpl.findpos(event);\n",
       "\n",
       "    if (name === 'button_press') {\n",
       "        this.canvas.focus();\n",
       "        this.canvas_div.focus();\n",
       "    }\n",
       "\n",
       "    var x = canvas_pos.x * this.ratio;\n",
       "    var y = canvas_pos.y * this.ratio;\n",
       "\n",
       "    this.send_message(name, {\n",
       "        x: x,\n",
       "        y: y,\n",
       "        button: event.button,\n",
       "        step: event.step,\n",
       "        guiEvent: simpleKeys(event),\n",
       "    });\n",
       "\n",
       "    /* This prevents the web browser from automatically changing to\n",
       "     * the text insertion cursor when the button is pressed.  We want\n",
       "     * to control all of the cursor setting manually through the\n",
       "     * 'cursor' event from matplotlib */\n",
       "    event.preventDefault();\n",
       "    return false;\n",
       "};\n",
       "\n",
       "mpl.figure.prototype._key_event_extra = function (_event, _name) {\n",
       "    // Handle any extra behaviour associated with a key event\n",
       "};\n",
       "\n",
       "mpl.figure.prototype.key_event = function (event, name) {\n",
       "    // Prevent repeat events\n",
       "    if (name === 'key_press') {\n",
       "        if (event.key === this._key) {\n",
       "            return;\n",
       "        } else {\n",
       "            this._key = event.key;\n",
       "        }\n",
       "    }\n",
       "    if (name === 'key_release') {\n",
       "        this._key = null;\n",
       "    }\n",
       "\n",
       "    var value = '';\n",
       "    if (event.ctrlKey && event.key !== 'Control') {\n",
       "        value += 'ctrl+';\n",
       "    }\n",
       "    else if (event.altKey && event.key !== 'Alt') {\n",
       "        value += 'alt+';\n",
       "    }\n",
       "    else if (event.shiftKey && event.key !== 'Shift') {\n",
       "        value += 'shift+';\n",
       "    }\n",
       "\n",
       "    value += 'k' + event.key;\n",
       "\n",
       "    this._key_event_extra(event, name);\n",
       "\n",
       "    this.send_message(name, { key: value, guiEvent: simpleKeys(event) });\n",
       "    return false;\n",
       "};\n",
       "\n",
       "mpl.figure.prototype.toolbar_button_onclick = function (name) {\n",
       "    if (name === 'download') {\n",
       "        this.handle_save(this, null);\n",
       "    } else {\n",
       "        this.send_message('toolbar_button', { name: name });\n",
       "    }\n",
       "};\n",
       "\n",
       "mpl.figure.prototype.toolbar_button_onmouseover = function (tooltip) {\n",
       "    this.message.textContent = tooltip;\n",
       "};\n",
       "\n",
       "///////////////// REMAINING CONTENT GENERATED BY embed_js.py /////////////////\n",
       "// prettier-ignore\n",
       "var _JSXTOOLS_RESIZE_OBSERVER=function(A){var t,i=new WeakMap,n=new WeakMap,a=new WeakMap,r=new WeakMap,o=new Set;function s(e){if(!(this instanceof s))throw new TypeError(\"Constructor requires 'new' operator\");i.set(this,e)}function h(){throw new TypeError(\"Function is not a constructor\")}function c(e,t,i,n){e=0 in arguments?Number(arguments[0]):0,t=1 in arguments?Number(arguments[1]):0,i=2 in arguments?Number(arguments[2]):0,n=3 in arguments?Number(arguments[3]):0,this.right=(this.x=this.left=e)+(this.width=i),this.bottom=(this.y=this.top=t)+(this.height=n),Object.freeze(this)}function d(){t=requestAnimationFrame(d);var s=new WeakMap,p=new Set;o.forEach((function(t){r.get(t).forEach((function(i){var r=t instanceof window.SVGElement,o=a.get(t),d=r?0:parseFloat(o.paddingTop),f=r?0:parseFloat(o.paddingRight),l=r?0:parseFloat(o.paddingBottom),u=r?0:parseFloat(o.paddingLeft),g=r?0:parseFloat(o.borderTopWidth),m=r?0:parseFloat(o.borderRightWidth),w=r?0:parseFloat(o.borderBottomWidth),b=u+f,F=d+l,v=(r?0:parseFloat(o.borderLeftWidth))+m,W=g+w,y=r?0:t.offsetHeight-W-t.clientHeight,E=r?0:t.offsetWidth-v-t.clientWidth,R=b+v,z=F+W,M=r?t.width:parseFloat(o.width)-R-E,O=r?t.height:parseFloat(o.height)-z-y;if(n.has(t)){var k=n.get(t);if(k[0]===M&&k[1]===O)return}n.set(t,[M,O]);var S=Object.create(h.prototype);S.target=t,S.contentRect=new c(u,d,M,O),s.has(i)||(s.set(i,[]),p.add(i)),s.get(i).push(S)}))})),p.forEach((function(e){i.get(e).call(e,s.get(e),e)}))}return s.prototype.observe=function(i){if(i instanceof window.Element){r.has(i)||(r.set(i,new Set),o.add(i),a.set(i,window.getComputedStyle(i)));var n=r.get(i);n.has(this)||n.add(this),cancelAnimationFrame(t),t=requestAnimationFrame(d)}},s.prototype.unobserve=function(i){if(i instanceof window.Element&&r.has(i)){var n=r.get(i);n.has(this)&&(n.delete(this),n.size||(r.delete(i),o.delete(i))),n.size||r.delete(i),o.size||cancelAnimationFrame(t)}},A.DOMRectReadOnly=c,A.ResizeObserver=s,A.ResizeObserverEntry=h,A}; // eslint-disable-line\n",
       "mpl.toolbar_items = [[\"Home\", \"Reset original view\", \"fa fa-home icon-home\", \"home\"], [\"Back\", \"Back to previous view\", \"fa fa-arrow-left icon-arrow-left\", \"back\"], [\"Forward\", \"Forward to next view\", \"fa fa-arrow-right icon-arrow-right\", \"forward\"], [\"\", \"\", \"\", \"\"], [\"Pan\", \"Left button pans, Right button zooms\\nx/y fixes axis, CTRL fixes aspect\", \"fa fa-arrows icon-move\", \"pan\"], [\"Zoom\", \"Zoom to rectangle\\nx/y fixes axis, CTRL fixes aspect\", \"fa fa-square-o icon-check-empty\", \"zoom\"], [\"\", \"\", \"\", \"\"], [\"Download\", \"Download plot\", \"fa fa-floppy-o icon-save\", \"download\"]];\n",
       "\n",
       "mpl.extensions = [\"eps\", \"jpeg\", \"pgf\", \"pdf\", \"png\", \"ps\", \"raw\", \"svg\", \"tif\"];\n",
       "\n",
       "mpl.default_extension = \"png\";/* global mpl */\n",
       "\n",
       "var comm_websocket_adapter = function (comm) {\n",
       "    // Create a \"websocket\"-like object which calls the given IPython comm\n",
       "    // object with the appropriate methods. Currently this is a non binary\n",
       "    // socket, so there is still some room for performance tuning.\n",
       "    var ws = {};\n",
       "\n",
       "    ws.binaryType = comm.kernel.ws.binaryType;\n",
       "    ws.readyState = comm.kernel.ws.readyState;\n",
       "    function updateReadyState(_event) {\n",
       "        if (comm.kernel.ws) {\n",
       "            ws.readyState = comm.kernel.ws.readyState;\n",
       "        } else {\n",
       "            ws.readyState = 3; // Closed state.\n",
       "        }\n",
       "    }\n",
       "    comm.kernel.ws.addEventListener('open', updateReadyState);\n",
       "    comm.kernel.ws.addEventListener('close', updateReadyState);\n",
       "    comm.kernel.ws.addEventListener('error', updateReadyState);\n",
       "\n",
       "    ws.close = function () {\n",
       "        comm.close();\n",
       "    };\n",
       "    ws.send = function (m) {\n",
       "        //console.log('sending', m);\n",
       "        comm.send(m);\n",
       "    };\n",
       "    // Register the callback with on_msg.\n",
       "    comm.on_msg(function (msg) {\n",
       "        //console.log('receiving', msg['content']['data'], msg);\n",
       "        var data = msg['content']['data'];\n",
       "        if (data['blob'] !== undefined) {\n",
       "            data = {\n",
       "                data: new Blob(msg['buffers'], { type: data['blob'] }),\n",
       "            };\n",
       "        }\n",
       "        // Pass the mpl event to the overridden (by mpl) onmessage function.\n",
       "        ws.onmessage(data);\n",
       "    });\n",
       "    return ws;\n",
       "};\n",
       "\n",
       "mpl.mpl_figure_comm = function (comm, msg) {\n",
       "    // This is the function which gets called when the mpl process\n",
       "    // starts-up an IPython Comm through the \"matplotlib\" channel.\n",
       "\n",
       "    var id = msg.content.data.id;\n",
       "    // Get hold of the div created by the display call when the Comm\n",
       "    // socket was opened in Python.\n",
       "    var element = document.getElementById(id);\n",
       "    var ws_proxy = comm_websocket_adapter(comm);\n",
       "\n",
       "    function ondownload(figure, _format) {\n",
       "        window.open(figure.canvas.toDataURL());\n",
       "    }\n",
       "\n",
       "    var fig = new mpl.figure(id, ws_proxy, ondownload, element);\n",
       "\n",
       "    // Call onopen now - mpl needs it, as it is assuming we've passed it a real\n",
       "    // web socket which is closed, not our websocket->open comm proxy.\n",
       "    ws_proxy.onopen();\n",
       "\n",
       "    fig.parent_element = element;\n",
       "    fig.cell_info = mpl.find_output_cell(\"<div id='\" + id + \"'></div>\");\n",
       "    if (!fig.cell_info) {\n",
       "        console.error('Failed to find cell for figure', id, fig);\n",
       "        return;\n",
       "    }\n",
       "    fig.cell_info[0].output_area.element.on(\n",
       "        'cleared',\n",
       "        { fig: fig },\n",
       "        fig._remove_fig_handler\n",
       "    );\n",
       "};\n",
       "\n",
       "mpl.figure.prototype.handle_close = function (fig, msg) {\n",
       "    var width = fig.canvas.width / fig.ratio;\n",
       "    fig.cell_info[0].output_area.element.off(\n",
       "        'cleared',\n",
       "        fig._remove_fig_handler\n",
       "    );\n",
       "    fig.resizeObserverInstance.unobserve(fig.canvas_div);\n",
       "\n",
       "    // Update the output cell to use the data from the current canvas.\n",
       "    fig.push_to_output();\n",
       "    var dataURL = fig.canvas.toDataURL();\n",
       "    // Re-enable the keyboard manager in IPython - without this line, in FF,\n",
       "    // the notebook keyboard shortcuts fail.\n",
       "    IPython.keyboard_manager.enable();\n",
       "    fig.parent_element.innerHTML =\n",
       "        '<img src=\"' + dataURL + '\" width=\"' + width + '\">';\n",
       "    fig.close_ws(fig, msg);\n",
       "};\n",
       "\n",
       "mpl.figure.prototype.close_ws = function (fig, msg) {\n",
       "    fig.send_message('closing', msg);\n",
       "    // fig.ws.close()\n",
       "};\n",
       "\n",
       "mpl.figure.prototype.push_to_output = function (_remove_interactive) {\n",
       "    // Turn the data on the canvas into data in the output cell.\n",
       "    var width = this.canvas.width / this.ratio;\n",
       "    var dataURL = this.canvas.toDataURL();\n",
       "    this.cell_info[1]['text/html'] =\n",
       "        '<img src=\"' + dataURL + '\" width=\"' + width + '\">';\n",
       "};\n",
       "\n",
       "mpl.figure.prototype.updated_canvas_event = function () {\n",
       "    // Tell IPython that the notebook contents must change.\n",
       "    IPython.notebook.set_dirty(true);\n",
       "    this.send_message('ack', {});\n",
       "    var fig = this;\n",
       "    // Wait a second, then push the new image to the DOM so\n",
       "    // that it is saved nicely (might be nice to debounce this).\n",
       "    setTimeout(function () {\n",
       "        fig.push_to_output();\n",
       "    }, 1000);\n",
       "};\n",
       "\n",
       "mpl.figure.prototype._init_toolbar = function () {\n",
       "    var fig = this;\n",
       "\n",
       "    var toolbar = document.createElement('div');\n",
       "    toolbar.classList = 'btn-toolbar';\n",
       "    this.root.appendChild(toolbar);\n",
       "\n",
       "    function on_click_closure(name) {\n",
       "        return function (_event) {\n",
       "            return fig.toolbar_button_onclick(name);\n",
       "        };\n",
       "    }\n",
       "\n",
       "    function on_mouseover_closure(tooltip) {\n",
       "        return function (event) {\n",
       "            if (!event.currentTarget.disabled) {\n",
       "                return fig.toolbar_button_onmouseover(tooltip);\n",
       "            }\n",
       "        };\n",
       "    }\n",
       "\n",
       "    fig.buttons = {};\n",
       "    var buttonGroup = document.createElement('div');\n",
       "    buttonGroup.classList = 'btn-group';\n",
       "    var button;\n",
       "    for (var toolbar_ind in mpl.toolbar_items) {\n",
       "        var name = mpl.toolbar_items[toolbar_ind][0];\n",
       "        var tooltip = mpl.toolbar_items[toolbar_ind][1];\n",
       "        var image = mpl.toolbar_items[toolbar_ind][2];\n",
       "        var method_name = mpl.toolbar_items[toolbar_ind][3];\n",
       "\n",
       "        if (!name) {\n",
       "            /* Instead of a spacer, we start a new button group. */\n",
       "            if (buttonGroup.hasChildNodes()) {\n",
       "                toolbar.appendChild(buttonGroup);\n",
       "            }\n",
       "            buttonGroup = document.createElement('div');\n",
       "            buttonGroup.classList = 'btn-group';\n",
       "            continue;\n",
       "        }\n",
       "\n",
       "        button = fig.buttons[name] = document.createElement('button');\n",
       "        button.classList = 'btn btn-default';\n",
       "        button.href = '#';\n",
       "        button.title = name;\n",
       "        button.innerHTML = '<i class=\"fa ' + image + ' fa-lg\"></i>';\n",
       "        button.addEventListener('click', on_click_closure(method_name));\n",
       "        button.addEventListener('mouseover', on_mouseover_closure(tooltip));\n",
       "        buttonGroup.appendChild(button);\n",
       "    }\n",
       "\n",
       "    if (buttonGroup.hasChildNodes()) {\n",
       "        toolbar.appendChild(buttonGroup);\n",
       "    }\n",
       "\n",
       "    // Add the status bar.\n",
       "    var status_bar = document.createElement('span');\n",
       "    status_bar.classList = 'mpl-message pull-right';\n",
       "    toolbar.appendChild(status_bar);\n",
       "    this.message = status_bar;\n",
       "\n",
       "    // Add the close button to the window.\n",
       "    var buttongrp = document.createElement('div');\n",
       "    buttongrp.classList = 'btn-group inline pull-right';\n",
       "    button = document.createElement('button');\n",
       "    button.classList = 'btn btn-mini btn-primary';\n",
       "    button.href = '#';\n",
       "    button.title = 'Stop Interaction';\n",
       "    button.innerHTML = '<i class=\"fa fa-power-off icon-remove icon-large\"></i>';\n",
       "    button.addEventListener('click', function (_evt) {\n",
       "        fig.handle_close(fig, {});\n",
       "    });\n",
       "    button.addEventListener(\n",
       "        'mouseover',\n",
       "        on_mouseover_closure('Stop Interaction')\n",
       "    );\n",
       "    buttongrp.appendChild(button);\n",
       "    var titlebar = this.root.querySelector('.ui-dialog-titlebar');\n",
       "    titlebar.insertBefore(buttongrp, titlebar.firstChild);\n",
       "};\n",
       "\n",
       "mpl.figure.prototype._remove_fig_handler = function (event) {\n",
       "    var fig = event.data.fig;\n",
       "    if (event.target !== this) {\n",
       "        // Ignore bubbled events from children.\n",
       "        return;\n",
       "    }\n",
       "    fig.close_ws(fig, {});\n",
       "};\n",
       "\n",
       "mpl.figure.prototype._root_extra_style = function (el) {\n",
       "    el.style.boxSizing = 'content-box'; // override notebook setting of border-box.\n",
       "};\n",
       "\n",
       "mpl.figure.prototype._canvas_extra_style = function (el) {\n",
       "    // this is important to make the div 'focusable\n",
       "    el.setAttribute('tabindex', 0);\n",
       "    // reach out to IPython and tell the keyboard manager to turn it's self\n",
       "    // off when our div gets focus\n",
       "\n",
       "    // location in version 3\n",
       "    if (IPython.notebook.keyboard_manager) {\n",
       "        IPython.notebook.keyboard_manager.register_events(el);\n",
       "    } else {\n",
       "        // location in version 2\n",
       "        IPython.keyboard_manager.register_events(el);\n",
       "    }\n",
       "};\n",
       "\n",
       "mpl.figure.prototype._key_event_extra = function (event, _name) {\n",
       "    var manager = IPython.notebook.keyboard_manager;\n",
       "    if (!manager) {\n",
       "        manager = IPython.keyboard_manager;\n",
       "    }\n",
       "\n",
       "    // Check for shift+enter\n",
       "    if (event.shiftKey && event.which === 13) {\n",
       "        this.canvas_div.blur();\n",
       "        // select the cell after this one\n",
       "        var index = IPython.notebook.find_cell_index(this.cell_info[0]);\n",
       "        IPython.notebook.select(index + 1);\n",
       "    }\n",
       "};\n",
       "\n",
       "mpl.figure.prototype.handle_save = function (fig, _msg) {\n",
       "    fig.ondownload(fig, null);\n",
       "};\n",
       "\n",
       "mpl.find_output_cell = function (html_output) {\n",
       "    // Return the cell and output element which can be found *uniquely* in the notebook.\n",
       "    // Note - this is a bit hacky, but it is done because the \"notebook_saving.Notebook\"\n",
       "    // IPython event is triggered only after the cells have been serialised, which for\n",
       "    // our purposes (turning an active figure into a static one), is too late.\n",
       "    var cells = IPython.notebook.get_cells();\n",
       "    var ncells = cells.length;\n",
       "    for (var i = 0; i < ncells; i++) {\n",
       "        var cell = cells[i];\n",
       "        if (cell.cell_type === 'code') {\n",
       "            for (var j = 0; j < cell.output_area.outputs.length; j++) {\n",
       "                var data = cell.output_area.outputs[j];\n",
       "                if (data.data) {\n",
       "                    // IPython >= 3 moved mimebundle to data attribute of output\n",
       "                    data = data.data;\n",
       "                }\n",
       "                if (data['text/html'] === html_output) {\n",
       "                    return [cell, data, j];\n",
       "                }\n",
       "            }\n",
       "        }\n",
       "    }\n",
       "};\n",
       "\n",
       "// Register the function which deals with the matplotlib target/channel.\n",
       "// The kernel may be null if the page has been refreshed.\n",
       "if (IPython.notebook.kernel !== null) {\n",
       "    IPython.notebook.kernel.comm_manager.register_target(\n",
       "        'matplotlib',\n",
       "        mpl.mpl_figure_comm\n",
       "    );\n",
       "}\n"
      ],
      "text/plain": [
       "<IPython.core.display.Javascript object>"
      ]
     },
     "metadata": {},
     "output_type": "display_data"
    },
    {
     "data": {
      "text/html": [
       "<img src=\"data:image/png;base64,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\" width=\"640\">"
      ],
      "text/plain": [
       "<IPython.core.display.HTML object>"
      ]
     },
     "metadata": {},
     "output_type": "display_data"
    }
   ],
   "source": [
    "%matplotlib notebook\n",
    "import matplotlib.pyplot as plt\n",
    "\n",
    "from mpl_toolkits.mplot3d import Axes3D\n",
    "\n",
    "\n",
    "from matplotlib import interactive,pyplot\n",
    "from mpl_toolkits.mplot3d import Axes3D\n",
    "from numpy.random import rand\n",
    "from pylab import figure\n",
    "\n",
    " \n",
    "m=rand(3,3) # m is an array of (x,y,z) coordinate triplets\n",
    " \n",
    "fig = figure()\n",
    "ax = fig.add_subplot(projection='3d')\n",
    "\n",
    "newtextpos=df_mca.iloc[i]\n",
    "\n",
    "\n",
    "\n",
    "for i in range(len(df_mca)): #plot each point + its index as text above\n",
    "    if i==1 or i==0:\n",
    "        delta=-0.1\n",
    "    else:\n",
    "        delta=0.\n",
    "    ax.scatter(df_mca.iloc[i,0],df_mca.iloc[i,1],df_mca.iloc[i,2],color='b') \n",
    "    ax.text(df_mca.iloc[i,0],df_mca.iloc[i,1],df_mca.iloc[i,2]+delta,  '%s' % (index[i]), size=10, zorder=1,  \n",
    "    color='k') #size 20\n",
    "\n",
    "ax.set_xlabel(f'component 0 {round(mca.explained_inertia_[0]*100,1)}%', fontsize=14)\n",
    "ax.set_ylabel(f'component 1 {round(mca.explained_inertia_[1]*100,1)}%', fontsize=14)\n",
    "ax.set_zlabel(f'component 2 {round(mca.explained_inertia_[2]*100,1)}%', fontsize=14)\n",
    "ax.view_init(20., -20.)\n",
    "\n",
    "plt.show()\n",
    "plt.savefig('DimensionsReductionSurvey2023_MCA_ALLVAR_1000dpi.pdf',dpi=1000,format='pdf')\n",
    "plt.savefig('DimensionsReductionSurvey2023_MCA_ALLVAR_1000dpi.tiff',dpi=1000,format='tiff')\n",
    "\n",
    "\n",
    "\n"
   ]
  },
  {
   "cell_type": "code",
   "execution_count": 78,
   "metadata": {},
   "outputs": [
    {
     "data": {
      "application/vnd.plotly.v1+json": {
       "config": {
        "plotlyServerURL": "https://plot.ly"
       },
       "data": [
        {
         "diagonal": {
          "visible": false
         },
         "dimensions": [
          {
           "axis": {
            "matches": true
           },
           "label": "PC 1 (0.3%)",
           "values": [
            -0.6899145876680328
           ]
          },
          {
           "axis": {
            "matches": true
           },
           "label": "PC 2 (0.2%)",
           "values": [
            -0.11557762094037882
           ]
          },
          {
           "axis": {
            "matches": true
           },
           "label": "PC 3 (0.1%)",
           "values": [
            -0.23835673954649625
           ]
          }
         ],
         "hovertemplate": "index=ehrbase<br>%{xaxis.title.text}=%{x}<br>%{yaxis.title.text}=%{y}<extra></extra>",
         "legendgroup": "ehrbase",
         "marker": {
          "color": "#636efa",
          "symbol": "circle"
         },
         "name": "ehrbase",
         "showlegend": true,
         "type": "splom"
        },
        {
         "diagonal": {
          "visible": false
         },
         "dimensions": [
          {
           "axis": {
            "matches": true
           },
           "label": "PC 1 (0.3%)",
           "values": [
            -0.47982014169753134
           ]
          },
          {
           "axis": {
            "matches": true
           },
           "label": "PC 2 (0.2%)",
           "values": [
            0.41178181116889984
           ]
          },
          {
           "axis": {
            "matches": true
           },
           "label": "PC 3 (0.1%)",
           "values": [
            -0.4820685604391836
           ]
          }
         ],
         "hovertemplate": "index=better<br>%{xaxis.title.text}=%{x}<br>%{yaxis.title.text}=%{y}<extra></extra>",
         "legendgroup": "better",
         "marker": {
          "color": "#EF553B",
          "symbol": "circle"
         },
         "name": "better",
         "showlegend": true,
         "type": "splom"
        },
        {
         "diagonal": {
          "visible": false
         },
         "dimensions": [
          {
           "axis": {
            "matches": true
           },
           "label": "PC 1 (0.3%)",
           "values": [
            -0.1879846506014987
           ]
          },
          {
           "axis": {
            "matches": true
           },
           "label": "PC 2 (0.2%)",
           "values": [
            -0.26798886276755335
           ]
          },
          {
           "axis": {
            "matches": true
           },
           "label": "PC 3 (0.1%)",
           "values": [
            0.4246137397650314
           ]
          }
         ],
         "hovertemplate": "index=base24<br>%{xaxis.title.text}=%{x}<br>%{yaxis.title.text}=%{y}<extra></extra>",
         "legendgroup": "base24",
         "marker": {
          "color": "#00cc96",
          "symbol": "circle"
         },
         "name": "base24",
         "showlegend": true,
         "type": "splom"
        },
        {
         "diagonal": {
          "visible": false
         },
         "dimensions": [
          {
           "axis": {
            "matches": true
           },
           "label": "PC 1 (0.3%)",
           "values": [
            -0.31044089786173196
           ]
          },
          {
           "axis": {
            "matches": true
           },
           "label": "PC 2 (0.2%)",
           "values": [
            -0.25506101787605867
           ]
          },
          {
           "axis": {
            "matches": true
           },
           "label": "PC 3 (0.1%)",
           "values": [
            0.5417173326389915
           ]
          }
         ],
         "hovertemplate": "index=cabo<br>%{xaxis.title.text}=%{x}<br>%{yaxis.title.text}=%{y}<extra></extra>",
         "legendgroup": "cabo",
         "marker": {
          "color": "#ab63fa",
          "symbol": "circle"
         },
         "name": "cabo",
         "showlegend": true,
         "type": "splom"
        },
        {
         "diagonal": {
          "visible": false
         },
         "dimensions": [
          {
           "axis": {
            "matches": true
           },
           "label": "PC 1 (0.3%)",
           "values": [
            -0.4720366299083768
           ]
          },
          {
           "axis": {
            "matches": true
           },
           "label": "PC 2 (0.2%)",
           "values": [
            -0.24023871914454747
           ]
          },
          {
           "axis": {
            "matches": true
           },
           "label": "PC 3 (0.1%)",
           "values": [
            -0.05426951248495062
           ]
          }
         ],
         "hovertemplate": "index=arenaehr<br>%{xaxis.title.text}=%{x}<br>%{yaxis.title.text}=%{y}<extra></extra>",
         "legendgroup": "arenaehr",
         "marker": {
          "color": "#FFA15A",
          "symbol": "circle"
         },
         "name": "arenaehr",
         "showlegend": true,
         "type": "splom"
        },
        {
         "diagonal": {
          "visible": false
         },
         "dimensions": [
          {
           "axis": {
            "matches": true
           },
           "label": "PC 1 (0.3%)",
           "values": [
            1.1849235285036164
           ]
          },
          {
           "axis": {
            "matches": true
           },
           "label": "PC 2 (0.2%)",
           "values": [
            -0.7557021490308746
           ]
          },
          {
           "axis": {
            "matches": true
           },
           "label": "PC 3 (0.1%)",
           "values": [
            -0.4651877271861049
           ]
          }
         ],
         "hovertemplate": "index=eweave<br>%{xaxis.title.text}=%{x}<br>%{yaxis.title.text}=%{y}<extra></extra>",
         "legendgroup": "eweave",
         "marker": {
          "color": "#19d3f3",
          "symbol": "circle"
         },
         "name": "eweave",
         "showlegend": true,
         "type": "splom"
        },
        {
         "diagonal": {
          "visible": false
         },
         "dimensions": [
          {
           "axis": {
            "matches": true
           },
           "label": "PC 1 (0.3%)",
           "values": [
            -0.07984549951825795
           ]
          },
          {
           "axis": {
            "matches": true
           },
           "label": "PC 2 (0.2%)",
           "values": [
            -0.10873359683269983
           ]
          },
          {
           "axis": {
            "matches": true
           },
           "label": "PC 3 (0.1%)",
           "values": [
            0.32603562265757297
           ]
          }
         ],
         "hovertemplate": "index=ehrcare<br>%{xaxis.title.text}=%{x}<br>%{yaxis.title.text}=%{y}<extra></extra>",
         "legendgroup": "ehrcare",
         "marker": {
          "color": "#FF6692",
          "symbol": "circle"
         },
         "name": "ehrcare",
         "showlegend": true,
         "type": "splom"
        },
        {
         "diagonal": {
          "visible": false
         },
         "dimensions": [
          {
           "axis": {
            "matches": true
           },
           "label": "PC 1 (0.3%)",
           "values": [
            0.6763787786957578
           ]
          },
          {
           "axis": {
            "matches": true
           },
           "label": "PC 2 (0.2%)",
           "values": [
            0.7585536175133627
           ]
          },
          {
           "axis": {
            "matches": true
           },
           "label": "PC 3 (0.1%)",
           "values": [
            0.19591831156197653
           ]
          }
         ],
         "hovertemplate": "index=clever<br>%{xaxis.title.text}=%{x}<br>%{yaxis.title.text}=%{y}<extra></extra>",
         "legendgroup": "clever",
         "marker": {
          "color": "#B6E880",
          "symbol": "circle"
         },
         "name": "clever",
         "showlegend": true,
         "type": "splom"
        },
        {
         "diagonal": {
          "visible": false
         },
         "dimensions": [
          {
           "axis": {
            "matches": true
           },
           "label": "PC 1 (0.3%)",
           "values": [
            -0.3684161357986891
           ]
          },
          {
           "axis": {
            "matches": true
           },
           "label": "PC 2 (0.2%)",
           "values": [
            0.3660449291115158
           ]
          },
          {
           "axis": {
            "matches": true
           },
           "label": "PC 3 (0.1%)",
           "values": [
            -0.42813781488808633
           ]
          }
         ],
         "hovertemplate": "index=ehrdb<br>%{xaxis.title.text}=%{x}<br>%{yaxis.title.text}=%{y}<extra></extra>",
         "legendgroup": "ehrdb",
         "marker": {
          "color": "#FF97FF",
          "symbol": "circle"
         },
         "name": "ehrdb",
         "showlegend": true,
         "type": "splom"
        },
        {
         "diagonal": {
          "visible": false
         },
         "dimensions": [
          {
           "axis": {
            "matches": true
           },
           "label": "PC 1 (0.3%)",
           "values": [
            0.6624127424072569
           ]
          },
          {
           "axis": {
            "matches": true
           },
           "label": "PC 2 (0.2%)",
           "values": [
            0.6191379448022143
           ]
          },
          {
           "axis": {
            "matches": true
           },
           "label": "PC 3 (0.1%)",
           "values": [
            0.17063398305327732
           ]
          }
         ],
         "hovertemplate": "index=rhp<br>%{xaxis.title.text}=%{x}<br>%{yaxis.title.text}=%{y}<extra></extra>",
         "legendgroup": "rhp",
         "marker": {
          "color": "#FECB52",
          "symbol": "circle"
         },
         "name": "rhp",
         "showlegend": true,
         "type": "splom"
        },
        {
         "diagonal": {
          "visible": false
         },
         "dimensions": [
          {
           "axis": {
            "matches": true
           },
           "label": "PC 1 (0.3%)",
           "values": [
            0.06474349344748803
           ]
          },
          {
           "axis": {
            "matches": true
           },
           "label": "PC 2 (0.2%)",
           "values": [
            -0.4122163360038798
           ]
          },
          {
           "axis": {
            "matches": true
           },
           "label": "PC 3 (0.1%)",
           "values": [
            0.009101364867972533
           ]
          }
         ],
         "hovertemplate": "index=ehrn<br>%{xaxis.title.text}=%{x}<br>%{yaxis.title.text}=%{y}<extra></extra>",
         "legendgroup": "ehrn",
         "marker": {
          "color": "#636efa",
          "symbol": "circle"
         },
         "name": "ehrn",
         "showlegend": true,
         "type": "splom"
        }
       ],
       "layout": {
        "dragmode": "select",
        "legend": {
         "title": {
          "text": "index"
         },
         "tracegroupgap": 0
        },
        "margin": {
         "t": 60
        },
        "template": {
         "data": {
          "bar": [
           {
            "error_x": {
             "color": "#2a3f5f"
            },
            "error_y": {
             "color": "#2a3f5f"
            },
            "marker": {
             "line": {
              "color": "#E5ECF6",
              "width": 0.5
             },
             "pattern": {
              "fillmode": "overlay",
              "size": 10,
              "solidity": 0.2
             }
            },
            "type": "bar"
           }
          ],
          "barpolar": [
           {
            "marker": {
             "line": {
              "color": "#E5ECF6",
              "width": 0.5
             },
             "pattern": {
              "fillmode": "overlay",
              "size": 10,
              "solidity": 0.2
             }
            },
            "type": "barpolar"
           }
          ],
          "carpet": [
           {
            "aaxis": {
             "endlinecolor": "#2a3f5f",
             "gridcolor": "white",
             "linecolor": "white",
             "minorgridcolor": "white",
             "startlinecolor": "#2a3f5f"
            },
            "baxis": {
             "endlinecolor": "#2a3f5f",
             "gridcolor": "white",
             "linecolor": "white",
             "minorgridcolor": "white",
             "startlinecolor": "#2a3f5f"
            },
            "type": "carpet"
           }
          ],
          "choropleth": [
           {
            "colorbar": {
             "outlinewidth": 0,
             "ticks": ""
            },
            "type": "choropleth"
           }
          ],
          "contour": [
           {
            "colorbar": {
             "outlinewidth": 0,
             "ticks": ""
            },
            "colorscale": [
             [
              0,
              "#0d0887"
             ],
             [
              0.1111111111111111,
              "#46039f"
             ],
             [
              0.2222222222222222,
              "#7201a8"
             ],
             [
              0.3333333333333333,
              "#9c179e"
             ],
             [
              0.4444444444444444,
              "#bd3786"
             ],
             [
              0.5555555555555556,
              "#d8576b"
             ],
             [
              0.6666666666666666,
              "#ed7953"
             ],
             [
              0.7777777777777778,
              "#fb9f3a"
             ],
             [
              0.8888888888888888,
              "#fdca26"
             ],
             [
              1,
              "#f0f921"
             ]
            ],
            "type": "contour"
           }
          ],
          "contourcarpet": [
           {
            "colorbar": {
             "outlinewidth": 0,
             "ticks": ""
            },
            "type": "contourcarpet"
           }
          ],
          "heatmap": [
           {
            "colorbar": {
             "outlinewidth": 0,
             "ticks": ""
            },
            "colorscale": [
             [
              0,
              "#0d0887"
             ],
             [
              0.1111111111111111,
              "#46039f"
             ],
             [
              0.2222222222222222,
              "#7201a8"
             ],
             [
              0.3333333333333333,
              "#9c179e"
             ],
             [
              0.4444444444444444,
              "#bd3786"
             ],
             [
              0.5555555555555556,
              "#d8576b"
             ],
             [
              0.6666666666666666,
              "#ed7953"
             ],
             [
              0.7777777777777778,
              "#fb9f3a"
             ],
             [
              0.8888888888888888,
              "#fdca26"
             ],
             [
              1,
              "#f0f921"
             ]
            ],
            "type": "heatmap"
           }
          ],
          "heatmapgl": [
           {
            "colorbar": {
             "outlinewidth": 0,
             "ticks": ""
            },
            "colorscale": [
             [
              0,
              "#0d0887"
             ],
             [
              0.1111111111111111,
              "#46039f"
             ],
             [
              0.2222222222222222,
              "#7201a8"
             ],
             [
              0.3333333333333333,
              "#9c179e"
             ],
             [
              0.4444444444444444,
              "#bd3786"
             ],
             [
              0.5555555555555556,
              "#d8576b"
             ],
             [
              0.6666666666666666,
              "#ed7953"
             ],
             [
              0.7777777777777778,
              "#fb9f3a"
             ],
             [
              0.8888888888888888,
              "#fdca26"
             ],
             [
              1,
              "#f0f921"
             ]
            ],
            "type": "heatmapgl"
           }
          ],
          "histogram": [
           {
            "marker": {
             "pattern": {
              "fillmode": "overlay",
              "size": 10,
              "solidity": 0.2
             }
            },
            "type": "histogram"
           }
          ],
          "histogram2d": [
           {
            "colorbar": {
             "outlinewidth": 0,
             "ticks": ""
            },
            "colorscale": [
             [
              0,
              "#0d0887"
             ],
             [
              0.1111111111111111,
              "#46039f"
             ],
             [
              0.2222222222222222,
              "#7201a8"
             ],
             [
              0.3333333333333333,
              "#9c179e"
             ],
             [
              0.4444444444444444,
              "#bd3786"
             ],
             [
              0.5555555555555556,
              "#d8576b"
             ],
             [
              0.6666666666666666,
              "#ed7953"
             ],
             [
              0.7777777777777778,
              "#fb9f3a"
             ],
             [
              0.8888888888888888,
              "#fdca26"
             ],
             [
              1,
              "#f0f921"
             ]
            ],
            "type": "histogram2d"
           }
          ],
          "histogram2dcontour": [
           {
            "colorbar": {
             "outlinewidth": 0,
             "ticks": ""
            },
            "colorscale": [
             [
              0,
              "#0d0887"
             ],
             [
              0.1111111111111111,
              "#46039f"
             ],
             [
              0.2222222222222222,
              "#7201a8"
             ],
             [
              0.3333333333333333,
              "#9c179e"
             ],
             [
              0.4444444444444444,
              "#bd3786"
             ],
             [
              0.5555555555555556,
              "#d8576b"
             ],
             [
              0.6666666666666666,
              "#ed7953"
             ],
             [
              0.7777777777777778,
              "#fb9f3a"
             ],
             [
              0.8888888888888888,
              "#fdca26"
             ],
             [
              1,
              "#f0f921"
             ]
            ],
            "type": "histogram2dcontour"
           }
          ],
          "mesh3d": [
           {
            "colorbar": {
             "outlinewidth": 0,
             "ticks": ""
            },
            "type": "mesh3d"
           }
          ],
          "parcoords": [
           {
            "line": {
             "colorbar": {
              "outlinewidth": 0,
              "ticks": ""
             }
            },
            "type": "parcoords"
           }
          ],
          "pie": [
           {
            "automargin": true,
            "type": "pie"
           }
          ],
          "scatter": [
           {
            "marker": {
             "colorbar": {
              "outlinewidth": 0,
              "ticks": ""
             }
            },
            "type": "scatter"
           }
          ],
          "scatter3d": [
           {
            "line": {
             "colorbar": {
              "outlinewidth": 0,
              "ticks": ""
             }
            },
            "marker": {
             "colorbar": {
              "outlinewidth": 0,
              "ticks": ""
             }
            },
            "type": "scatter3d"
           }
          ],
          "scattercarpet": [
           {
            "marker": {
             "colorbar": {
              "outlinewidth": 0,
              "ticks": ""
             }
            },
            "type": "scattercarpet"
           }
          ],
          "scattergeo": [
           {
            "marker": {
             "colorbar": {
              "outlinewidth": 0,
              "ticks": ""
             }
            },
            "type": "scattergeo"
           }
          ],
          "scattergl": [
           {
            "marker": {
             "colorbar": {
              "outlinewidth": 0,
              "ticks": ""
             }
            },
            "type": "scattergl"
           }
          ],
          "scattermapbox": [
           {
            "marker": {
             "colorbar": {
              "outlinewidth": 0,
              "ticks": ""
             }
            },
            "type": "scattermapbox"
           }
          ],
          "scatterpolar": [
           {
            "marker": {
             "colorbar": {
              "outlinewidth": 0,
              "ticks": ""
             }
            },
            "type": "scatterpolar"
           }
          ],
          "scatterpolargl": [
           {
            "marker": {
             "colorbar": {
              "outlinewidth": 0,
              "ticks": ""
             }
            },
            "type": "scatterpolargl"
           }
          ],
          "scatterternary": [
           {
            "marker": {
             "colorbar": {
              "outlinewidth": 0,
              "ticks": ""
             }
            },
            "type": "scatterternary"
           }
          ],
          "surface": [
           {
            "colorbar": {
             "outlinewidth": 0,
             "ticks": ""
            },
            "colorscale": [
             [
              0,
              "#0d0887"
             ],
             [
              0.1111111111111111,
              "#46039f"
             ],
             [
              0.2222222222222222,
              "#7201a8"
             ],
             [
              0.3333333333333333,
              "#9c179e"
             ],
             [
              0.4444444444444444,
              "#bd3786"
             ],
             [
              0.5555555555555556,
              "#d8576b"
             ],
             [
              0.6666666666666666,
              "#ed7953"
             ],
             [
              0.7777777777777778,
              "#fb9f3a"
             ],
             [
              0.8888888888888888,
              "#fdca26"
             ],
             [
              1,
              "#f0f921"
             ]
            ],
            "type": "surface"
           }
          ],
          "table": [
           {
            "cells": {
             "fill": {
              "color": "#EBF0F8"
             },
             "line": {
              "color": "white"
             }
            },
            "header": {
             "fill": {
              "color": "#C8D4E3"
             },
             "line": {
              "color": "white"
             }
            },
            "type": "table"
           }
          ]
         },
         "layout": {
          "annotationdefaults": {
           "arrowcolor": "#2a3f5f",
           "arrowhead": 0,
           "arrowwidth": 1
          },
          "autotypenumbers": "strict",
          "coloraxis": {
           "colorbar": {
            "outlinewidth": 0,
            "ticks": ""
           }
          },
          "colorscale": {
           "diverging": [
            [
             0,
             "#8e0152"
            ],
            [
             0.1,
             "#c51b7d"
            ],
            [
             0.2,
             "#de77ae"
            ],
            [
             0.3,
             "#f1b6da"
            ],
            [
             0.4,
             "#fde0ef"
            ],
            [
             0.5,
             "#f7f7f7"
            ],
            [
             0.6,
             "#e6f5d0"
            ],
            [
             0.7,
             "#b8e186"
            ],
            [
             0.8,
             "#7fbc41"
            ],
            [
             0.9,
             "#4d9221"
            ],
            [
             1,
             "#276419"
            ]
           ],
           "sequential": [
            [
             0,
             "#0d0887"
            ],
            [
             0.1111111111111111,
             "#46039f"
            ],
            [
             0.2222222222222222,
             "#7201a8"
            ],
            [
             0.3333333333333333,
             "#9c179e"
            ],
            [
             0.4444444444444444,
             "#bd3786"
            ],
            [
             0.5555555555555556,
             "#d8576b"
            ],
            [
             0.6666666666666666,
             "#ed7953"
            ],
            [
             0.7777777777777778,
             "#fb9f3a"
            ],
            [
             0.8888888888888888,
             "#fdca26"
            ],
            [
             1,
             "#f0f921"
            ]
           ],
           "sequentialminus": [
            [
             0,
             "#0d0887"
            ],
            [
             0.1111111111111111,
             "#46039f"
            ],
            [
             0.2222222222222222,
             "#7201a8"
            ],
            [
             0.3333333333333333,
             "#9c179e"
            ],
            [
             0.4444444444444444,
             "#bd3786"
            ],
            [
             0.5555555555555556,
             "#d8576b"
            ],
            [
             0.6666666666666666,
             "#ed7953"
            ],
            [
             0.7777777777777778,
             "#fb9f3a"
            ],
            [
             0.8888888888888888,
             "#fdca26"
            ],
            [
             1,
             "#f0f921"
            ]
           ]
          },
          "colorway": [
           "#636efa",
           "#EF553B",
           "#00cc96",
           "#ab63fa",
           "#FFA15A",
           "#19d3f3",
           "#FF6692",
           "#B6E880",
           "#FF97FF",
           "#FECB52"
          ],
          "font": {
           "color": "#2a3f5f"
          },
          "geo": {
           "bgcolor": "white",
           "lakecolor": "white",
           "landcolor": "#E5ECF6",
           "showlakes": true,
           "showland": true,
           "subunitcolor": "white"
          },
          "hoverlabel": {
           "align": "left"
          },
          "hovermode": "closest",
          "mapbox": {
           "style": "light"
          },
          "paper_bgcolor": "white",
          "plot_bgcolor": "#E5ECF6",
          "polar": {
           "angularaxis": {
            "gridcolor": "white",
            "linecolor": "white",
            "ticks": ""
           },
           "bgcolor": "#E5ECF6",
           "radialaxis": {
            "gridcolor": "white",
            "linecolor": "white",
            "ticks": ""
           }
          },
          "scene": {
           "xaxis": {
            "backgroundcolor": "#E5ECF6",
            "gridcolor": "white",
            "gridwidth": 2,
            "linecolor": "white",
            "showbackground": true,
            "ticks": "",
            "zerolinecolor": "white"
           },
           "yaxis": {
            "backgroundcolor": "#E5ECF6",
            "gridcolor": "white",
            "gridwidth": 2,
            "linecolor": "white",
            "showbackground": true,
            "ticks": "",
            "zerolinecolor": "white"
           },
           "zaxis": {
            "backgroundcolor": "#E5ECF6",
            "gridcolor": "white",
            "gridwidth": 2,
            "linecolor": "white",
            "showbackground": true,
            "ticks": "",
            "zerolinecolor": "white"
           }
          },
          "shapedefaults": {
           "line": {
            "color": "#2a3f5f"
           }
          },
          "ternary": {
           "aaxis": {
            "gridcolor": "white",
            "linecolor": "white",
            "ticks": ""
           },
           "baxis": {
            "gridcolor": "white",
            "linecolor": "white",
            "ticks": ""
           },
           "bgcolor": "#E5ECF6",
           "caxis": {
            "gridcolor": "white",
            "linecolor": "white",
            "ticks": ""
           }
          },
          "title": {
           "x": 0.05
          },
          "xaxis": {
           "automargin": true,
           "gridcolor": "white",
           "linecolor": "white",
           "ticks": "",
           "title": {
            "standoff": 15
           },
           "zerolinecolor": "white",
           "zerolinewidth": 2
          },
          "yaxis": {
           "automargin": true,
           "gridcolor": "white",
           "linecolor": "white",
           "ticks": "",
           "title": {
            "standoff": 15
           },
           "zerolinecolor": "white",
           "zerolinewidth": 2
          }
         }
        }
       }
      },
      "text/html": [
       "<div>                            <div id=\"c4c74950-f87d-469b-8325-217146598a36\" class=\"plotly-graph-div\" style=\"height:525px; width:100%;\"></div>            <script type=\"text/javascript\">                require([\"plotly\"], function(Plotly) {                    window.PLOTLYENV=window.PLOTLYENV || {};                                    if (document.getElementById(\"c4c74950-f87d-469b-8325-217146598a36\")) {                    Plotly.newPlot(                        \"c4c74950-f87d-469b-8325-217146598a36\",                        [{\"dimensions\":[{\"axis\":{\"matches\":true},\"label\":\"PC 1 (0.3%)\",\"values\":[-0.6899145876680328]},{\"axis\":{\"matches\":true},\"label\":\"PC 2 (0.2%)\",\"values\":[-0.11557762094037882]},{\"axis\":{\"matches\":true},\"label\":\"PC 3 (0.1%)\",\"values\":[-0.23835673954649625]}],\"hovertemplate\":\"index=ehrbase<br>%{xaxis.title.text}=%{x}<br>%{yaxis.title.text}=%{y}<extra></extra>\",\"legendgroup\":\"ehrbase\",\"marker\":{\"color\":\"#636efa\",\"symbol\":\"circle\"},\"name\":\"ehrbase\",\"showlegend\":true,\"type\":\"splom\",\"diagonal\":{\"visible\":false}},{\"dimensions\":[{\"axis\":{\"matches\":true},\"label\":\"PC 1 (0.3%)\",\"values\":[-0.47982014169753134]},{\"axis\":{\"matches\":true},\"label\":\"PC 2 (0.2%)\",\"values\":[0.41178181116889984]},{\"axis\":{\"matches\":true},\"label\":\"PC 3 (0.1%)\",\"values\":[-0.4820685604391836]}],\"hovertemplate\":\"index=better<br>%{xaxis.title.text}=%{x}<br>%{yaxis.title.text}=%{y}<extra></extra>\",\"legendgroup\":\"better\",\"marker\":{\"color\":\"#EF553B\",\"symbol\":\"circle\"},\"name\":\"better\",\"showlegend\":true,\"type\":\"splom\",\"diagonal\":{\"visible\":false}},{\"dimensions\":[{\"axis\":{\"matches\":true},\"label\":\"PC 1 (0.3%)\",\"values\":[-0.1879846506014987]},{\"axis\":{\"matches\":true},\"label\":\"PC 2 (0.2%)\",\"values\":[-0.26798886276755335]},{\"axis\":{\"matches\":true},\"label\":\"PC 3 (0.1%)\",\"values\":[0.4246137397650314]}],\"hovertemplate\":\"index=base24<br>%{xaxis.title.text}=%{x}<br>%{yaxis.title.text}=%{y}<extra></extra>\",\"legendgroup\":\"base24\",\"marker\":{\"color\":\"#00cc96\",\"symbol\":\"circle\"},\"name\":\"base24\",\"showlegend\":true,\"type\":\"splom\",\"diagonal\":{\"visible\":false}},{\"dimensions\":[{\"axis\":{\"matches\":true},\"label\":\"PC 1 (0.3%)\",\"values\":[-0.31044089786173196]},{\"axis\":{\"matches\":true},\"label\":\"PC 2 (0.2%)\",\"values\":[-0.25506101787605867]},{\"axis\":{\"matches\":true},\"label\":\"PC 3 (0.1%)\",\"values\":[0.5417173326389915]}],\"hovertemplate\":\"index=cabo<br>%{xaxis.title.text}=%{x}<br>%{yaxis.title.text}=%{y}<extra></extra>\",\"legendgroup\":\"cabo\",\"marker\":{\"color\":\"#ab63fa\",\"symbol\":\"circle\"},\"name\":\"cabo\",\"showlegend\":true,\"type\":\"splom\",\"diagonal\":{\"visible\":false}},{\"dimensions\":[{\"axis\":{\"matches\":true},\"label\":\"PC 1 (0.3%)\",\"values\":[-0.4720366299083768]},{\"axis\":{\"matches\":true},\"label\":\"PC 2 (0.2%)\",\"values\":[-0.24023871914454747]},{\"axis\":{\"matches\":true},\"label\":\"PC 3 (0.1%)\",\"values\":[-0.05426951248495062]}],\"hovertemplate\":\"index=arenaehr<br>%{xaxis.title.text}=%{x}<br>%{yaxis.title.text}=%{y}<extra></extra>\",\"legendgroup\":\"arenaehr\",\"marker\":{\"color\":\"#FFA15A\",\"symbol\":\"circle\"},\"name\":\"arenaehr\",\"showlegend\":true,\"type\":\"splom\",\"diagonal\":{\"visible\":false}},{\"dimensions\":[{\"axis\":{\"matches\":true},\"label\":\"PC 1 (0.3%)\",\"values\":[1.1849235285036164]},{\"axis\":{\"matches\":true},\"label\":\"PC 2 (0.2%)\",\"values\":[-0.7557021490308746]},{\"axis\":{\"matches\":true},\"label\":\"PC 3 (0.1%)\",\"values\":[-0.4651877271861049]}],\"hovertemplate\":\"index=eweave<br>%{xaxis.title.text}=%{x}<br>%{yaxis.title.text}=%{y}<extra></extra>\",\"legendgroup\":\"eweave\",\"marker\":{\"color\":\"#19d3f3\",\"symbol\":\"circle\"},\"name\":\"eweave\",\"showlegend\":true,\"type\":\"splom\",\"diagonal\":{\"visible\":false}},{\"dimensions\":[{\"axis\":{\"matches\":true},\"label\":\"PC 1 (0.3%)\",\"values\":[-0.07984549951825795]},{\"axis\":{\"matches\":true},\"label\":\"PC 2 (0.2%)\",\"values\":[-0.10873359683269983]},{\"axis\":{\"matches\":true},\"label\":\"PC 3 (0.1%)\",\"values\":[0.32603562265757297]}],\"hovertemplate\":\"index=ehrcare<br>%{xaxis.title.text}=%{x}<br>%{yaxis.title.text}=%{y}<extra></extra>\",\"legendgroup\":\"ehrcare\",\"marker\":{\"color\":\"#FF6692\",\"symbol\":\"circle\"},\"name\":\"ehrcare\",\"showlegend\":true,\"type\":\"splom\",\"diagonal\":{\"visible\":false}},{\"dimensions\":[{\"axis\":{\"matches\":true},\"label\":\"PC 1 (0.3%)\",\"values\":[0.6763787786957578]},{\"axis\":{\"matches\":true},\"label\":\"PC 2 (0.2%)\",\"values\":[0.7585536175133627]},{\"axis\":{\"matches\":true},\"label\":\"PC 3 (0.1%)\",\"values\":[0.19591831156197653]}],\"hovertemplate\":\"index=clever<br>%{xaxis.title.text}=%{x}<br>%{yaxis.title.text}=%{y}<extra></extra>\",\"legendgroup\":\"clever\",\"marker\":{\"color\":\"#B6E880\",\"symbol\":\"circle\"},\"name\":\"clever\",\"showlegend\":true,\"type\":\"splom\",\"diagonal\":{\"visible\":false}},{\"dimensions\":[{\"axis\":{\"matches\":true},\"label\":\"PC 1 (0.3%)\",\"values\":[-0.3684161357986891]},{\"axis\":{\"matches\":true},\"label\":\"PC 2 (0.2%)\",\"values\":[0.3660449291115158]},{\"axis\":{\"matches\":true},\"label\":\"PC 3 (0.1%)\",\"values\":[-0.42813781488808633]}],\"hovertemplate\":\"index=ehrdb<br>%{xaxis.title.text}=%{x}<br>%{yaxis.title.text}=%{y}<extra></extra>\",\"legendgroup\":\"ehrdb\",\"marker\":{\"color\":\"#FF97FF\",\"symbol\":\"circle\"},\"name\":\"ehrdb\",\"showlegend\":true,\"type\":\"splom\",\"diagonal\":{\"visible\":false}},{\"dimensions\":[{\"axis\":{\"matches\":true},\"label\":\"PC 1 (0.3%)\",\"values\":[0.6624127424072569]},{\"axis\":{\"matches\":true},\"label\":\"PC 2 (0.2%)\",\"values\":[0.6191379448022143]},{\"axis\":{\"matches\":true},\"label\":\"PC 3 (0.1%)\",\"values\":[0.17063398305327732]}],\"hovertemplate\":\"index=rhp<br>%{xaxis.title.text}=%{x}<br>%{yaxis.title.text}=%{y}<extra></extra>\",\"legendgroup\":\"rhp\",\"marker\":{\"color\":\"#FECB52\",\"symbol\":\"circle\"},\"name\":\"rhp\",\"showlegend\":true,\"type\":\"splom\",\"diagonal\":{\"visible\":false}},{\"dimensions\":[{\"axis\":{\"matches\":true},\"label\":\"PC 1 (0.3%)\",\"values\":[0.06474349344748803]},{\"axis\":{\"matches\":true},\"label\":\"PC 2 (0.2%)\",\"values\":[-0.4122163360038798]},{\"axis\":{\"matches\":true},\"label\":\"PC 3 (0.1%)\",\"values\":[0.009101364867972533]}],\"hovertemplate\":\"index=ehrn<br>%{xaxis.title.text}=%{x}<br>%{yaxis.title.text}=%{y}<extra></extra>\",\"legendgroup\":\"ehrn\",\"marker\":{\"color\":\"#636efa\",\"symbol\":\"circle\"},\"name\":\"ehrn\",\"showlegend\":true,\"type\":\"splom\",\"diagonal\":{\"visible\":false}}],                        {\"template\":{\"data\":{\"bar\":[{\"error_x\":{\"color\":\"#2a3f5f\"},\"error_y\":{\"color\":\"#2a3f5f\"},\"marker\":{\"line\":{\"color\":\"#E5ECF6\",\"width\":0.5},\"pattern\":{\"fillmode\":\"overlay\",\"size\":10,\"solidity\":0.2}},\"type\":\"bar\"}],\"barpolar\":[{\"marker\":{\"line\":{\"color\":\"#E5ECF6\",\"width\":0.5},\"pattern\":{\"fillmode\":\"overlay\",\"size\":10,\"solidity\":0.2}},\"type\":\"barpolar\"}],\"carpet\":[{\"aaxis\":{\"endlinecolor\":\"#2a3f5f\",\"gridcolor\":\"white\",\"linecolor\":\"white\",\"minorgridcolor\":\"white\",\"startlinecolor\":\"#2a3f5f\"},\"baxis\":{\"endlinecolor\":\"#2a3f5f\",\"gridcolor\":\"white\",\"linecolor\":\"white\",\"minorgridcolor\":\"white\",\"startlinecolor\":\"#2a3f5f\"},\"type\":\"carpet\"}],\"choropleth\":[{\"colorbar\":{\"outlinewidth\":0,\"ticks\":\"\"},\"type\":\"choropleth\"}],\"contour\":[{\"colorbar\":{\"outlinewidth\":0,\"ticks\":\"\"},\"colorscale\":[[0.0,\"#0d0887\"],[0.1111111111111111,\"#46039f\"],[0.2222222222222222,\"#7201a8\"],[0.3333333333333333,\"#9c179e\"],[0.4444444444444444,\"#bd3786\"],[0.5555555555555556,\"#d8576b\"],[0.6666666666666666,\"#ed7953\"],[0.7777777777777778,\"#fb9f3a\"],[0.8888888888888888,\"#fdca26\"],[1.0,\"#f0f921\"]],\"type\":\"contour\"}],\"contourcarpet\":[{\"colorbar\":{\"outlinewidth\":0,\"ticks\":\"\"},\"type\":\"contourcarpet\"}],\"heatmap\":[{\"colorbar\":{\"outlinewidth\":0,\"ticks\":\"\"},\"colorscale\":[[0.0,\"#0d0887\"],[0.1111111111111111,\"#46039f\"],[0.2222222222222222,\"#7201a8\"],[0.3333333333333333,\"#9c179e\"],[0.4444444444444444,\"#bd3786\"],[0.5555555555555556,\"#d8576b\"],[0.6666666666666666,\"#ed7953\"],[0.7777777777777778,\"#fb9f3a\"],[0.8888888888888888,\"#fdca26\"],[1.0,\"#f0f921\"]],\"type\":\"heatmap\"}],\"heatmapgl\":[{\"colorbar\":{\"outlinewidth\":0,\"ticks\":\"\"},\"colorscale\":[[0.0,\"#0d0887\"],[0.1111111111111111,\"#46039f\"],[0.2222222222222222,\"#7201a8\"],[0.3333333333333333,\"#9c179e\"],[0.4444444444444444,\"#bd3786\"],[0.5555555555555556,\"#d8576b\"],[0.6666666666666666,\"#ed7953\"],[0.7777777777777778,\"#fb9f3a\"],[0.8888888888888888,\"#fdca26\"],[1.0,\"#f0f921\"]],\"type\":\"heatmapgl\"}],\"histogram\":[{\"marker\":{\"pattern\":{\"fillmode\":\"overlay\",\"size\":10,\"solidity\":0.2}},\"type\":\"histogram\"}],\"histogram2d\":[{\"colorbar\":{\"outlinewidth\":0,\"ticks\":\"\"},\"colorscale\":[[0.0,\"#0d0887\"],[0.1111111111111111,\"#46039f\"],[0.2222222222222222,\"#7201a8\"],[0.3333333333333333,\"#9c179e\"],[0.4444444444444444,\"#bd3786\"],[0.5555555555555556,\"#d8576b\"],[0.6666666666666666,\"#ed7953\"],[0.7777777777777778,\"#fb9f3a\"],[0.8888888888888888,\"#fdca26\"],[1.0,\"#f0f921\"]],\"type\":\"histogram2d\"}],\"histogram2dcontour\":[{\"colorbar\":{\"outlinewidth\":0,\"ticks\":\"\"},\"colorscale\":[[0.0,\"#0d0887\"],[0.1111111111111111,\"#46039f\"],[0.2222222222222222,\"#7201a8\"],[0.3333333333333333,\"#9c179e\"],[0.4444444444444444,\"#bd3786\"],[0.5555555555555556,\"#d8576b\"],[0.6666666666666666,\"#ed7953\"],[0.7777777777777778,\"#fb9f3a\"],[0.8888888888888888,\"#fdca26\"],[1.0,\"#f0f921\"]],\"type\":\"histogram2dcontour\"}],\"mesh3d\":[{\"colorbar\":{\"outlinewidth\":0,\"ticks\":\"\"},\"type\":\"mesh3d\"}],\"parcoords\":[{\"line\":{\"colorbar\":{\"outlinewidth\":0,\"ticks\":\"\"}},\"type\":\"parcoords\"}],\"pie\":[{\"automargin\":true,\"type\":\"pie\"}],\"scatter\":[{\"marker\":{\"colorbar\":{\"outlinewidth\":0,\"ticks\":\"\"}},\"type\":\"scatter\"}],\"scatter3d\":[{\"line\":{\"colorbar\":{\"outlinewidth\":0,\"ticks\":\"\"}},\"marker\":{\"colorbar\":{\"outlinewidth\":0,\"ticks\":\"\"}},\"type\":\"scatter3d\"}],\"scattercarpet\":[{\"marker\":{\"colorbar\":{\"outlinewidth\":0,\"ticks\":\"\"}},\"type\":\"scattercarpet\"}],\"scattergeo\":[{\"marker\":{\"colorbar\":{\"outlinewidth\":0,\"ticks\":\"\"}},\"type\":\"scattergeo\"}],\"scattergl\":[{\"marker\":{\"colorbar\":{\"outlinewidth\":0,\"ticks\":\"\"}},\"type\":\"scattergl\"}],\"scattermapbox\":[{\"marker\":{\"colorbar\":{\"outlinewidth\":0,\"ticks\":\"\"}},\"type\":\"scattermapbox\"}],\"scatterpolar\":[{\"marker\":{\"colorbar\":{\"outlinewidth\":0,\"ticks\":\"\"}},\"type\":\"scatterpolar\"}],\"scatterpolargl\":[{\"marker\":{\"colorbar\":{\"outlinewidth\":0,\"ticks\":\"\"}},\"type\":\"scatterpolargl\"}],\"scatterternary\":[{\"marker\":{\"colorbar\":{\"outlinewidth\":0,\"ticks\":\"\"}},\"type\":\"scatterternary\"}],\"surface\":[{\"colorbar\":{\"outlinewidth\":0,\"ticks\":\"\"},\"colorscale\":[[0.0,\"#0d0887\"],[0.1111111111111111,\"#46039f\"],[0.2222222222222222,\"#7201a8\"],[0.3333333333333333,\"#9c179e\"],[0.4444444444444444,\"#bd3786\"],[0.5555555555555556,\"#d8576b\"],[0.6666666666666666,\"#ed7953\"],[0.7777777777777778,\"#fb9f3a\"],[0.8888888888888888,\"#fdca26\"],[1.0,\"#f0f921\"]],\"type\":\"surface\"}],\"table\":[{\"cells\":{\"fill\":{\"color\":\"#EBF0F8\"},\"line\":{\"color\":\"white\"}},\"header\":{\"fill\":{\"color\":\"#C8D4E3\"},\"line\":{\"color\":\"white\"}},\"type\":\"table\"}]},\"layout\":{\"annotationdefaults\":{\"arrowcolor\":\"#2a3f5f\",\"arrowhead\":0,\"arrowwidth\":1},\"autotypenumbers\":\"strict\",\"coloraxis\":{\"colorbar\":{\"outlinewidth\":0,\"ticks\":\"\"}},\"colorscale\":{\"diverging\":[[0,\"#8e0152\"],[0.1,\"#c51b7d\"],[0.2,\"#de77ae\"],[0.3,\"#f1b6da\"],[0.4,\"#fde0ef\"],[0.5,\"#f7f7f7\"],[0.6,\"#e6f5d0\"],[0.7,\"#b8e186\"],[0.8,\"#7fbc41\"],[0.9,\"#4d9221\"],[1,\"#276419\"]],\"sequential\":[[0.0,\"#0d0887\"],[0.1111111111111111,\"#46039f\"],[0.2222222222222222,\"#7201a8\"],[0.3333333333333333,\"#9c179e\"],[0.4444444444444444,\"#bd3786\"],[0.5555555555555556,\"#d8576b\"],[0.6666666666666666,\"#ed7953\"],[0.7777777777777778,\"#fb9f3a\"],[0.8888888888888888,\"#fdca26\"],[1.0,\"#f0f921\"]],\"sequentialminus\":[[0.0,\"#0d0887\"],[0.1111111111111111,\"#46039f\"],[0.2222222222222222,\"#7201a8\"],[0.3333333333333333,\"#9c179e\"],[0.4444444444444444,\"#bd3786\"],[0.5555555555555556,\"#d8576b\"],[0.6666666666666666,\"#ed7953\"],[0.7777777777777778,\"#fb9f3a\"],[0.8888888888888888,\"#fdca26\"],[1.0,\"#f0f921\"]]},\"colorway\":[\"#636efa\",\"#EF553B\",\"#00cc96\",\"#ab63fa\",\"#FFA15A\",\"#19d3f3\",\"#FF6692\",\"#B6E880\",\"#FF97FF\",\"#FECB52\"],\"font\":{\"color\":\"#2a3f5f\"},\"geo\":{\"bgcolor\":\"white\",\"lakecolor\":\"white\",\"landcolor\":\"#E5ECF6\",\"showlakes\":true,\"showland\":true,\"subunitcolor\":\"white\"},\"hoverlabel\":{\"align\":\"left\"},\"hovermode\":\"closest\",\"mapbox\":{\"style\":\"light\"},\"paper_bgcolor\":\"white\",\"plot_bgcolor\":\"#E5ECF6\",\"polar\":{\"angularaxis\":{\"gridcolor\":\"white\",\"linecolor\":\"white\",\"ticks\":\"\"},\"bgcolor\":\"#E5ECF6\",\"radialaxis\":{\"gridcolor\":\"white\",\"linecolor\":\"white\",\"ticks\":\"\"}},\"scene\":{\"xaxis\":{\"backgroundcolor\":\"#E5ECF6\",\"gridcolor\":\"white\",\"gridwidth\":2,\"linecolor\":\"white\",\"showbackground\":true,\"ticks\":\"\",\"zerolinecolor\":\"white\"},\"yaxis\":{\"backgroundcolor\":\"#E5ECF6\",\"gridcolor\":\"white\",\"gridwidth\":2,\"linecolor\":\"white\",\"showbackground\":true,\"ticks\":\"\",\"zerolinecolor\":\"white\"},\"zaxis\":{\"backgroundcolor\":\"#E5ECF6\",\"gridcolor\":\"white\",\"gridwidth\":2,\"linecolor\":\"white\",\"showbackground\":true,\"ticks\":\"\",\"zerolinecolor\":\"white\"}},\"shapedefaults\":{\"line\":{\"color\":\"#2a3f5f\"}},\"ternary\":{\"aaxis\":{\"gridcolor\":\"white\",\"linecolor\":\"white\",\"ticks\":\"\"},\"baxis\":{\"gridcolor\":\"white\",\"linecolor\":\"white\",\"ticks\":\"\"},\"bgcolor\":\"#E5ECF6\",\"caxis\":{\"gridcolor\":\"white\",\"linecolor\":\"white\",\"ticks\":\"\"}},\"title\":{\"x\":0.05},\"xaxis\":{\"automargin\":true,\"gridcolor\":\"white\",\"linecolor\":\"white\",\"ticks\":\"\",\"title\":{\"standoff\":15},\"zerolinecolor\":\"white\",\"zerolinewidth\":2},\"yaxis\":{\"automargin\":true,\"gridcolor\":\"white\",\"linecolor\":\"white\",\"ticks\":\"\",\"title\":{\"standoff\":15},\"zerolinecolor\":\"white\",\"zerolinewidth\":2}}},\"legend\":{\"title\":{\"text\":\"index\"},\"tracegroupgap\":0},\"margin\":{\"t\":60},\"dragmode\":\"select\"},                        {\"responsive\": true}                    ).then(function(){\n",
       "                            \n",
       "var gd = document.getElementById('c4c74950-f87d-469b-8325-217146598a36');\n",
       "var x = new MutationObserver(function (mutations, observer) {{\n",
       "        var display = window.getComputedStyle(gd).display;\n",
       "        if (!display || display === 'none') {{\n",
       "            console.log([gd, 'removed!']);\n",
       "            Plotly.purge(gd);\n",
       "            observer.disconnect();\n",
       "        }}\n",
       "}});\n",
       "\n",
       "// Listen for the removal of the full notebook cells\n",
       "var notebookContainer = gd.closest('#notebook-container');\n",
       "if (notebookContainer) {{\n",
       "    x.observe(notebookContainer, {childList: true});\n",
       "}}\n",
       "\n",
       "// Listen for the clearing of the current output cell\n",
       "var outputEl = gd.closest('.output');\n",
       "if (outputEl) {{\n",
       "    x.observe(outputEl, {childList: true});\n",
       "}}\n",
       "\n",
       "                        })                };                });            </script>        </div>"
      ]
     },
     "metadata": {},
     "output_type": "display_data"
    }
   ],
   "source": [
    "import plotly.express as px\n",
    "from sklearn.decomposition import PCA\n",
    "\n",
    "labels = {\n",
    "    str(i): f\"PC {i+1} ({var:.1f}%)\"\n",
    "    for i, var in enumerate(mca.explained_inertia_ * 100)\n",
    "}\n",
    "\n",
    "fig = px.scatter_matrix(\n",
    "    df_mca,\n",
    "    labels=labels,\n",
    "    dimensions=range(3),\n",
    "    color=df_mca.index\n",
    ")\n",
    "fig.update_traces(diagonal_visible=False)\n",
    "fig.show()\n",
    "fig.write_image('DimensionsReductionSurvey2023_MCA_ALLVAR_2dplots_1000dpi.pdf',scale=2)\n",
    "fig.write_image('DimensionsReductionSurvey2023_MCA_ALLVAR_2dplots_1000dpi.jpeg',scale=13)\n"
   ]
  },
  {
   "cell_type": "code",
   "execution_count": null,
   "metadata": {},
   "outputs": [],
   "source": []
  },
  {
   "cell_type": "code",
   "execution_count": null,
   "metadata": {},
   "outputs": [],
   "source": []
  }
 ],
 "metadata": {
  "kernelspec": {
   "display_name": "Python 3",
   "language": "python",
   "name": "python3"
  },
  "language_info": {
   "codemirror_mode": {
    "name": "ipython",
    "version": 3
   },
   "file_extension": ".py",
   "mimetype": "text/x-python",
   "name": "python",
   "nbconvert_exporter": "python",
   "pygments_lexer": "ipython3",
   "version": "3.8.10"
  }
 },
 "nbformat": 4,
 "nbformat_minor": 4
}
