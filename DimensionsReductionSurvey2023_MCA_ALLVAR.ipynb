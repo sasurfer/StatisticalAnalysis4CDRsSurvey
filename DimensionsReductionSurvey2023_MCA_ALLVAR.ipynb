{
 "cells": [
  {
   "cell_type": "code",
   "execution_count": 1,
   "metadata": {},
   "outputs": [],
   "source": [
    "#package prince https://github.com/MaxHalford/prince\n",
    "#MCA multiple correspondance analysis\n",
    "#three or more categorical features"
   ]
  },
  {
   "cell_type": "code",
   "execution_count": 1,
   "metadata": {},
   "outputs": [
    {
     "name": "stdout",
     "output_type": "stream",
     "text": [
      "11\n",
      "36\n"
     ]
    },
    {
     "data": {
      "text/html": [
       "<div>\n",
       "<style scoped>\n",
       "    .dataframe tbody tr th:only-of-type {\n",
       "        vertical-align: middle;\n",
       "    }\n",
       "\n",
       "    .dataframe tbody tr th {\n",
       "        vertical-align: top;\n",
       "    }\n",
       "\n",
       "    .dataframe thead th {\n",
       "        text-align: right;\n",
       "    }\n",
       "</style>\n",
       "<table border=\"1\" class=\"dataframe\">\n",
       "  <thead>\n",
       "    <tr style=\"text-align: right;\">\n",
       "      <th></th>\n",
       "      <th>CDR_name</th>\n",
       "      <th>rest_api</th>\n",
       "      <th>another_api</th>\n",
       "      <th>gui</th>\n",
       "      <th>comp_crud_api</th>\n",
       "      <th>ehr_cr_api</th>\n",
       "      <th>store_list_get_templates_api</th>\n",
       "      <th>store_list_exec_query_api</th>\n",
       "      <th>comp_crud_gui</th>\n",
       "      <th>ehr_cr_gui</th>\n",
       "      <th>...</th>\n",
       "      <th>fhir_import</th>\n",
       "      <th>demographics_openehr</th>\n",
       "      <th>rest_api_openehr</th>\n",
       "      <th>gdl</th>\n",
       "      <th>form_creation</th>\n",
       "      <th>terminology_server</th>\n",
       "      <th>archetype_designer</th>\n",
       "      <th>template_designer</th>\n",
       "      <th>aql</th>\n",
       "      <th>sql</th>\n",
       "    </tr>\n",
       "  </thead>\n",
       "  <tbody>\n",
       "    <tr>\n",
       "      <th>0</th>\n",
       "      <td>ehrbase</td>\n",
       "      <td>y</td>\n",
       "      <td>y</td>\n",
       "      <td>y</td>\n",
       "      <td>y</td>\n",
       "      <td>y</td>\n",
       "      <td>y</td>\n",
       "      <td>y</td>\n",
       "      <td>n</td>\n",
       "      <td>n</td>\n",
       "      <td>...</td>\n",
       "      <td>y</td>\n",
       "      <td>n</td>\n",
       "      <td>y</td>\n",
       "      <td>n</td>\n",
       "      <td>n</td>\n",
       "      <td>y</td>\n",
       "      <td>n</td>\n",
       "      <td>n</td>\n",
       "      <td>y</td>\n",
       "      <td>n</td>\n",
       "    </tr>\n",
       "    <tr>\n",
       "      <th>1</th>\n",
       "      <td>better</td>\n",
       "      <td>y</td>\n",
       "      <td>y</td>\n",
       "      <td>y</td>\n",
       "      <td>y</td>\n",
       "      <td>y</td>\n",
       "      <td>y</td>\n",
       "      <td>y</td>\n",
       "      <td>y</td>\n",
       "      <td>n</td>\n",
       "      <td>...</td>\n",
       "      <td>y</td>\n",
       "      <td>n</td>\n",
       "      <td>y</td>\n",
       "      <td>y</td>\n",
       "      <td>y</td>\n",
       "      <td>y</td>\n",
       "      <td>y</td>\n",
       "      <td>y</td>\n",
       "      <td>y</td>\n",
       "      <td>n</td>\n",
       "    </tr>\n",
       "    <tr>\n",
       "      <th>2</th>\n",
       "      <td>base24</td>\n",
       "      <td>y</td>\n",
       "      <td>y</td>\n",
       "      <td>y</td>\n",
       "      <td>y</td>\n",
       "      <td>y</td>\n",
       "      <td>y</td>\n",
       "      <td>y</td>\n",
       "      <td>y</td>\n",
       "      <td>y</td>\n",
       "      <td>...</td>\n",
       "      <td>y</td>\n",
       "      <td>y</td>\n",
       "      <td>n</td>\n",
       "      <td>n</td>\n",
       "      <td>y</td>\n",
       "      <td>y</td>\n",
       "      <td>n</td>\n",
       "      <td>n</td>\n",
       "      <td>n</td>\n",
       "      <td>n</td>\n",
       "    </tr>\n",
       "    <tr>\n",
       "      <th>3</th>\n",
       "      <td>cabo</td>\n",
       "      <td>y</td>\n",
       "      <td>y</td>\n",
       "      <td>y</td>\n",
       "      <td>y</td>\n",
       "      <td>y</td>\n",
       "      <td>all but store</td>\n",
       "      <td>y not store</td>\n",
       "      <td>only r</td>\n",
       "      <td>y</td>\n",
       "      <td>...</td>\n",
       "      <td>ext</td>\n",
       "      <td>n</td>\n",
       "      <td>dev</td>\n",
       "      <td>n</td>\n",
       "      <td>n</td>\n",
       "      <td>n</td>\n",
       "      <td>n</td>\n",
       "      <td>n</td>\n",
       "      <td>n</td>\n",
       "      <td>n</td>\n",
       "    </tr>\n",
       "    <tr>\n",
       "      <th>4</th>\n",
       "      <td>arenaehr</td>\n",
       "      <td>y</td>\n",
       "      <td>n</td>\n",
       "      <td>y</td>\n",
       "      <td>y</td>\n",
       "      <td>y</td>\n",
       "      <td>y</td>\n",
       "      <td>y</td>\n",
       "      <td>n</td>\n",
       "      <td>n</td>\n",
       "      <td>...</td>\n",
       "      <td>y</td>\n",
       "      <td>n</td>\n",
       "      <td>y</td>\n",
       "      <td>y</td>\n",
       "      <td>y</td>\n",
       "      <td>y</td>\n",
       "      <td>n</td>\n",
       "      <td>n</td>\n",
       "      <td>y</td>\n",
       "      <td>n</td>\n",
       "    </tr>\n",
       "    <tr>\n",
       "      <th>5</th>\n",
       "      <td>eweave</td>\n",
       "      <td>n</td>\n",
       "      <td>n</td>\n",
       "      <td>y</td>\n",
       "      <td>n</td>\n",
       "      <td>n</td>\n",
       "      <td>n</td>\n",
       "      <td>n</td>\n",
       "      <td>y</td>\n",
       "      <td>y</td>\n",
       "      <td>...</td>\n",
       "      <td>n</td>\n",
       "      <td>y</td>\n",
       "      <td>n</td>\n",
       "      <td>n</td>\n",
       "      <td>y</td>\n",
       "      <td>y</td>\n",
       "      <td>n</td>\n",
       "      <td>y</td>\n",
       "      <td>y</td>\n",
       "      <td>y</td>\n",
       "    </tr>\n",
       "    <tr>\n",
       "      <th>6</th>\n",
       "      <td>ehrcare</td>\n",
       "      <td>y</td>\n",
       "      <td>y</td>\n",
       "      <td>n</td>\n",
       "      <td>y</td>\n",
       "      <td>y</td>\n",
       "      <td>y</td>\n",
       "      <td>y not store</td>\n",
       "      <td>n</td>\n",
       "      <td>n</td>\n",
       "      <td>...</td>\n",
       "      <td>n</td>\n",
       "      <td>y</td>\n",
       "      <td>n</td>\n",
       "      <td>n</td>\n",
       "      <td>y</td>\n",
       "      <td>n</td>\n",
       "      <td>n</td>\n",
       "      <td>n</td>\n",
       "      <td>y</td>\n",
       "      <td>n</td>\n",
       "    </tr>\n",
       "    <tr>\n",
       "      <th>7</th>\n",
       "      <td>clever</td>\n",
       "      <td>y</td>\n",
       "      <td>y</td>\n",
       "      <td>y</td>\n",
       "      <td>y</td>\n",
       "      <td>y</td>\n",
       "      <td>y</td>\n",
       "      <td>y</td>\n",
       "      <td>n</td>\n",
       "      <td>y</td>\n",
       "      <td>...</td>\n",
       "      <td>n</td>\n",
       "      <td>y</td>\n",
       "      <td>n</td>\n",
       "      <td>y</td>\n",
       "      <td>y</td>\n",
       "      <td>dev</td>\n",
       "      <td>y</td>\n",
       "      <td>y</td>\n",
       "      <td>n</td>\n",
       "      <td>y</td>\n",
       "    </tr>\n",
       "    <tr>\n",
       "      <th>8</th>\n",
       "      <td>ehrdb</td>\n",
       "      <td>y</td>\n",
       "      <td>y</td>\n",
       "      <td>y</td>\n",
       "      <td>y</td>\n",
       "      <td>y</td>\n",
       "      <td>y</td>\n",
       "      <td>y</td>\n",
       "      <td>y</td>\n",
       "      <td>n</td>\n",
       "      <td>...</td>\n",
       "      <td>n</td>\n",
       "      <td>n</td>\n",
       "      <td>y</td>\n",
       "      <td>n</td>\n",
       "      <td>y</td>\n",
       "      <td>n</td>\n",
       "      <td>y</td>\n",
       "      <td>y</td>\n",
       "      <td>y</td>\n",
       "      <td>n</td>\n",
       "    </tr>\n",
       "    <tr>\n",
       "      <th>9</th>\n",
       "      <td>rhp</td>\n",
       "      <td>y</td>\n",
       "      <td>y</td>\n",
       "      <td>y</td>\n",
       "      <td>y</td>\n",
       "      <td>y</td>\n",
       "      <td>y</td>\n",
       "      <td>y</td>\n",
       "      <td>n</td>\n",
       "      <td>y</td>\n",
       "      <td>...</td>\n",
       "      <td>n</td>\n",
       "      <td>y</td>\n",
       "      <td>n</td>\n",
       "      <td>y</td>\n",
       "      <td>y</td>\n",
       "      <td>y</td>\n",
       "      <td>y</td>\n",
       "      <td>y</td>\n",
       "      <td>n</td>\n",
       "      <td>y</td>\n",
       "    </tr>\n",
       "    <tr>\n",
       "      <th>10</th>\n",
       "      <td>ehrn</td>\n",
       "      <td>y</td>\n",
       "      <td>n</td>\n",
       "      <td>y</td>\n",
       "      <td>y</td>\n",
       "      <td>n</td>\n",
       "      <td>y</td>\n",
       "      <td>y</td>\n",
       "      <td>y</td>\n",
       "      <td>n</td>\n",
       "      <td>...</td>\n",
       "      <td>y</td>\n",
       "      <td>n</td>\n",
       "      <td>n</td>\n",
       "      <td>n</td>\n",
       "      <td>n</td>\n",
       "      <td>y</td>\n",
       "      <td>n</td>\n",
       "      <td>n</td>\n",
       "      <td>y</td>\n",
       "      <td>y</td>\n",
       "    </tr>\n",
       "  </tbody>\n",
       "</table>\n",
       "<p>11 rows × 36 columns</p>\n",
       "</div>"
      ],
      "text/plain": [
       "    CDR_name rest_api another_api gui comp_crud_api ehr_cr_api  \\\n",
       "0    ehrbase        y           y   y             y          y   \n",
       "1     better        y           y   y             y          y   \n",
       "2     base24        y           y   y             y          y   \n",
       "3       cabo        y           y   y             y          y   \n",
       "4   arenaehr        y           n   y             y          y   \n",
       "5     eweave      n             n   y             n          n   \n",
       "6    ehrcare        y           y   n             y          y   \n",
       "7     clever        y           y   y             y          y   \n",
       "8      ehrdb        y           y   y             y          y   \n",
       "9        rhp        y           y   y             y          y   \n",
       "10      ehrn        y           n   y             y          n   \n",
       "\n",
       "   store_list_get_templates_api store_list_exec_query_api comp_crud_gui  \\\n",
       "0                             y                         y             n   \n",
       "1                             y                         y             y   \n",
       "2                             y                         y             y   \n",
       "3                 all but store               y not store        only r   \n",
       "4                             y                         y             n   \n",
       "5                             n                         n             y   \n",
       "6                             y               y not store             n   \n",
       "7                             y                         y             n   \n",
       "8                             y                         y             y   \n",
       "9                             y                         y             n   \n",
       "10                            y                         y             y   \n",
       "\n",
       "   ehr_cr_gui  ... fhir_import demographics_openehr rest_api_openehr gdl  \\\n",
       "0           n  ...           y                    n                y   n   \n",
       "1           n  ...           y                    n                y   y   \n",
       "2           y  ...           y                    y                n   n   \n",
       "3           y  ...         ext                    n              dev   n   \n",
       "4           n  ...           y                    n                y   y   \n",
       "5           y  ...           n                    y                n   n   \n",
       "6           n  ...           n                    y                n   n   \n",
       "7           y  ...           n                    y                n   y   \n",
       "8           n  ...           n                    n                y   n   \n",
       "9           y  ...           n                    y                n   y   \n",
       "10          n  ...           y                    n                n   n   \n",
       "\n",
       "   form_creation terminology_server archetype_designer template_designer aql  \\\n",
       "0              n                  y                  n                 n   y   \n",
       "1              y                  y                  y                 y   y   \n",
       "2              y                  y                  n                 n   n   \n",
       "3              n                  n                  n                 n   n   \n",
       "4              y                  y                  n                 n   y   \n",
       "5              y                  y                  n                 y   y   \n",
       "6              y                  n                  n                 n   y   \n",
       "7              y                dev                  y                 y   n   \n",
       "8              y                  n                  y                 y   y   \n",
       "9              y                  y                  y                 y   n   \n",
       "10             n                  y                  n                 n   y   \n",
       "\n",
       "   sql  \n",
       "0    n  \n",
       "1    n  \n",
       "2    n  \n",
       "3    n  \n",
       "4    n  \n",
       "5    y  \n",
       "6    n  \n",
       "7    y  \n",
       "8    n  \n",
       "9    y  \n",
       "10   y  \n",
       "\n",
       "[11 rows x 36 columns]"
      ]
     },
     "execution_count": 1,
     "metadata": {},
     "output_type": "execute_result"
    }
   ],
   "source": [
    "#Importing the necessary package\n",
    "import pandas as pd\n",
    "import numpy as np\n",
    "from prince import MCA#Dataset preparation with only numerical features\n",
    "df = pd.read_csv('SurveyAnswers4ClusteringUpdated2023_ALLCATEGORICAL.csv')\n",
    "print(len(df))\n",
    "print(len(df.columns))\n",
    "df"
   ]
  },
  {
   "cell_type": "code",
   "execution_count": 2,
   "metadata": {},
   "outputs": [
    {
     "data": {
      "text/html": [
       "<div>\n",
       "<style scoped>\n",
       "    .dataframe tbody tr th:only-of-type {\n",
       "        vertical-align: middle;\n",
       "    }\n",
       "\n",
       "    .dataframe tbody tr th {\n",
       "        vertical-align: top;\n",
       "    }\n",
       "\n",
       "    .dataframe thead th {\n",
       "        text-align: right;\n",
       "    }\n",
       "</style>\n",
       "<table border=\"1\" class=\"dataframe\">\n",
       "  <thead>\n",
       "    <tr style=\"text-align: right;\">\n",
       "      <th></th>\n",
       "      <th>rest_api</th>\n",
       "      <th>another_api</th>\n",
       "      <th>gui</th>\n",
       "      <th>comp_crud_api</th>\n",
       "      <th>ehr_cr_api</th>\n",
       "      <th>store_list_get_templates_api</th>\n",
       "      <th>store_list_exec_query_api</th>\n",
       "      <th>comp_crud_gui</th>\n",
       "      <th>ehr_cr_gui</th>\n",
       "      <th>store_list_get_templates_gui</th>\n",
       "      <th>...</th>\n",
       "      <th>fhir_import</th>\n",
       "      <th>demographics_openehr</th>\n",
       "      <th>rest_api_openehr</th>\n",
       "      <th>gdl</th>\n",
       "      <th>form_creation</th>\n",
       "      <th>terminology_server</th>\n",
       "      <th>archetype_designer</th>\n",
       "      <th>template_designer</th>\n",
       "      <th>aql</th>\n",
       "      <th>sql</th>\n",
       "    </tr>\n",
       "    <tr>\n",
       "      <th>CDR_name</th>\n",
       "      <th></th>\n",
       "      <th></th>\n",
       "      <th></th>\n",
       "      <th></th>\n",
       "      <th></th>\n",
       "      <th></th>\n",
       "      <th></th>\n",
       "      <th></th>\n",
       "      <th></th>\n",
       "      <th></th>\n",
       "      <th></th>\n",
       "      <th></th>\n",
       "      <th></th>\n",
       "      <th></th>\n",
       "      <th></th>\n",
       "      <th></th>\n",
       "      <th></th>\n",
       "      <th></th>\n",
       "      <th></th>\n",
       "      <th></th>\n",
       "      <th></th>\n",
       "    </tr>\n",
       "  </thead>\n",
       "  <tbody>\n",
       "    <tr>\n",
       "      <th>ehrbase</th>\n",
       "      <td>y</td>\n",
       "      <td>y</td>\n",
       "      <td>y</td>\n",
       "      <td>y</td>\n",
       "      <td>y</td>\n",
       "      <td>y</td>\n",
       "      <td>y</td>\n",
       "      <td>n</td>\n",
       "      <td>n</td>\n",
       "      <td>n</td>\n",
       "      <td>...</td>\n",
       "      <td>y</td>\n",
       "      <td>n</td>\n",
       "      <td>y</td>\n",
       "      <td>n</td>\n",
       "      <td>n</td>\n",
       "      <td>y</td>\n",
       "      <td>n</td>\n",
       "      <td>n</td>\n",
       "      <td>y</td>\n",
       "      <td>n</td>\n",
       "    </tr>\n",
       "    <tr>\n",
       "      <th>better</th>\n",
       "      <td>y</td>\n",
       "      <td>y</td>\n",
       "      <td>y</td>\n",
       "      <td>y</td>\n",
       "      <td>y</td>\n",
       "      <td>y</td>\n",
       "      <td>y</td>\n",
       "      <td>y</td>\n",
       "      <td>n</td>\n",
       "      <td>y</td>\n",
       "      <td>...</td>\n",
       "      <td>y</td>\n",
       "      <td>n</td>\n",
       "      <td>y</td>\n",
       "      <td>y</td>\n",
       "      <td>y</td>\n",
       "      <td>y</td>\n",
       "      <td>y</td>\n",
       "      <td>y</td>\n",
       "      <td>y</td>\n",
       "      <td>n</td>\n",
       "    </tr>\n",
       "    <tr>\n",
       "      <th>base24</th>\n",
       "      <td>y</td>\n",
       "      <td>y</td>\n",
       "      <td>y</td>\n",
       "      <td>y</td>\n",
       "      <td>y</td>\n",
       "      <td>y</td>\n",
       "      <td>y</td>\n",
       "      <td>y</td>\n",
       "      <td>y</td>\n",
       "      <td>y</td>\n",
       "      <td>...</td>\n",
       "      <td>y</td>\n",
       "      <td>y</td>\n",
       "      <td>n</td>\n",
       "      <td>n</td>\n",
       "      <td>y</td>\n",
       "      <td>y</td>\n",
       "      <td>n</td>\n",
       "      <td>n</td>\n",
       "      <td>n</td>\n",
       "      <td>n</td>\n",
       "    </tr>\n",
       "    <tr>\n",
       "      <th>cabo</th>\n",
       "      <td>y</td>\n",
       "      <td>y</td>\n",
       "      <td>y</td>\n",
       "      <td>y</td>\n",
       "      <td>y</td>\n",
       "      <td>all but store</td>\n",
       "      <td>y not store</td>\n",
       "      <td>only r</td>\n",
       "      <td>y</td>\n",
       "      <td>y</td>\n",
       "      <td>...</td>\n",
       "      <td>ext</td>\n",
       "      <td>n</td>\n",
       "      <td>dev</td>\n",
       "      <td>n</td>\n",
       "      <td>n</td>\n",
       "      <td>n</td>\n",
       "      <td>n</td>\n",
       "      <td>n</td>\n",
       "      <td>n</td>\n",
       "      <td>n</td>\n",
       "    </tr>\n",
       "    <tr>\n",
       "      <th>arenaehr</th>\n",
       "      <td>y</td>\n",
       "      <td>n</td>\n",
       "      <td>y</td>\n",
       "      <td>y</td>\n",
       "      <td>y</td>\n",
       "      <td>y</td>\n",
       "      <td>y</td>\n",
       "      <td>n</td>\n",
       "      <td>n</td>\n",
       "      <td>n</td>\n",
       "      <td>...</td>\n",
       "      <td>y</td>\n",
       "      <td>n</td>\n",
       "      <td>y</td>\n",
       "      <td>y</td>\n",
       "      <td>y</td>\n",
       "      <td>y</td>\n",
       "      <td>n</td>\n",
       "      <td>n</td>\n",
       "      <td>y</td>\n",
       "      <td>n</td>\n",
       "    </tr>\n",
       "    <tr>\n",
       "      <th>eweave</th>\n",
       "      <td>n</td>\n",
       "      <td>n</td>\n",
       "      <td>y</td>\n",
       "      <td>n</td>\n",
       "      <td>n</td>\n",
       "      <td>n</td>\n",
       "      <td>n</td>\n",
       "      <td>y</td>\n",
       "      <td>y</td>\n",
       "      <td>y</td>\n",
       "      <td>...</td>\n",
       "      <td>n</td>\n",
       "      <td>y</td>\n",
       "      <td>n</td>\n",
       "      <td>n</td>\n",
       "      <td>y</td>\n",
       "      <td>y</td>\n",
       "      <td>n</td>\n",
       "      <td>y</td>\n",
       "      <td>y</td>\n",
       "      <td>y</td>\n",
       "    </tr>\n",
       "    <tr>\n",
       "      <th>ehrcare</th>\n",
       "      <td>y</td>\n",
       "      <td>y</td>\n",
       "      <td>n</td>\n",
       "      <td>y</td>\n",
       "      <td>y</td>\n",
       "      <td>y</td>\n",
       "      <td>y not store</td>\n",
       "      <td>n</td>\n",
       "      <td>n</td>\n",
       "      <td>n</td>\n",
       "      <td>...</td>\n",
       "      <td>n</td>\n",
       "      <td>y</td>\n",
       "      <td>n</td>\n",
       "      <td>n</td>\n",
       "      <td>y</td>\n",
       "      <td>n</td>\n",
       "      <td>n</td>\n",
       "      <td>n</td>\n",
       "      <td>y</td>\n",
       "      <td>n</td>\n",
       "    </tr>\n",
       "    <tr>\n",
       "      <th>clever</th>\n",
       "      <td>y</td>\n",
       "      <td>y</td>\n",
       "      <td>y</td>\n",
       "      <td>y</td>\n",
       "      <td>y</td>\n",
       "      <td>y</td>\n",
       "      <td>y</td>\n",
       "      <td>n</td>\n",
       "      <td>y</td>\n",
       "      <td>y</td>\n",
       "      <td>...</td>\n",
       "      <td>n</td>\n",
       "      <td>y</td>\n",
       "      <td>n</td>\n",
       "      <td>y</td>\n",
       "      <td>y</td>\n",
       "      <td>dev</td>\n",
       "      <td>y</td>\n",
       "      <td>y</td>\n",
       "      <td>n</td>\n",
       "      <td>y</td>\n",
       "    </tr>\n",
       "    <tr>\n",
       "      <th>ehrdb</th>\n",
       "      <td>y</td>\n",
       "      <td>y</td>\n",
       "      <td>y</td>\n",
       "      <td>y</td>\n",
       "      <td>y</td>\n",
       "      <td>y</td>\n",
       "      <td>y</td>\n",
       "      <td>y</td>\n",
       "      <td>n</td>\n",
       "      <td>y</td>\n",
       "      <td>...</td>\n",
       "      <td>n</td>\n",
       "      <td>n</td>\n",
       "      <td>y</td>\n",
       "      <td>n</td>\n",
       "      <td>y</td>\n",
       "      <td>n</td>\n",
       "      <td>y</td>\n",
       "      <td>y</td>\n",
       "      <td>y</td>\n",
       "      <td>n</td>\n",
       "    </tr>\n",
       "    <tr>\n",
       "      <th>rhp</th>\n",
       "      <td>y</td>\n",
       "      <td>y</td>\n",
       "      <td>y</td>\n",
       "      <td>y</td>\n",
       "      <td>y</td>\n",
       "      <td>y</td>\n",
       "      <td>y</td>\n",
       "      <td>n</td>\n",
       "      <td>y</td>\n",
       "      <td>y</td>\n",
       "      <td>...</td>\n",
       "      <td>n</td>\n",
       "      <td>y</td>\n",
       "      <td>n</td>\n",
       "      <td>y</td>\n",
       "      <td>y</td>\n",
       "      <td>y</td>\n",
       "      <td>y</td>\n",
       "      <td>y</td>\n",
       "      <td>n</td>\n",
       "      <td>y</td>\n",
       "    </tr>\n",
       "    <tr>\n",
       "      <th>ehrn</th>\n",
       "      <td>y</td>\n",
       "      <td>n</td>\n",
       "      <td>y</td>\n",
       "      <td>y</td>\n",
       "      <td>n</td>\n",
       "      <td>y</td>\n",
       "      <td>y</td>\n",
       "      <td>y</td>\n",
       "      <td>n</td>\n",
       "      <td>n</td>\n",
       "      <td>...</td>\n",
       "      <td>y</td>\n",
       "      <td>n</td>\n",
       "      <td>n</td>\n",
       "      <td>n</td>\n",
       "      <td>n</td>\n",
       "      <td>y</td>\n",
       "      <td>n</td>\n",
       "      <td>n</td>\n",
       "      <td>y</td>\n",
       "      <td>y</td>\n",
       "    </tr>\n",
       "  </tbody>\n",
       "</table>\n",
       "<p>11 rows × 35 columns</p>\n",
       "</div>"
      ],
      "text/plain": [
       "         rest_api another_api gui comp_crud_api ehr_cr_api  \\\n",
       "CDR_name                                                     \n",
       "ehrbase         y           y   y             y          y   \n",
       "better          y           y   y             y          y   \n",
       "base24          y           y   y             y          y   \n",
       "cabo            y           y   y             y          y   \n",
       "arenaehr        y           n   y             y          y   \n",
       "eweave        n             n   y             n          n   \n",
       "ehrcare         y           y   n             y          y   \n",
       "clever          y           y   y             y          y   \n",
       "ehrdb           y           y   y             y          y   \n",
       "rhp             y           y   y             y          y   \n",
       "ehrn            y           n   y             y          n   \n",
       "\n",
       "         store_list_get_templates_api store_list_exec_query_api comp_crud_gui  \\\n",
       "CDR_name                                                                        \n",
       "ehrbase                             y                         y             n   \n",
       "better                              y                         y             y   \n",
       "base24                              y                         y             y   \n",
       "cabo                    all but store               y not store        only r   \n",
       "arenaehr                            y                         y             n   \n",
       "eweave                              n                         n             y   \n",
       "ehrcare                             y               y not store             n   \n",
       "clever                              y                         y             n   \n",
       "ehrdb                               y                         y             y   \n",
       "rhp                                 y                         y             n   \n",
       "ehrn                                y                         y             y   \n",
       "\n",
       "         ehr_cr_gui store_list_get_templates_gui  ... fhir_import  \\\n",
       "CDR_name                                          ...               \n",
       "ehrbase           n                            n  ...           y   \n",
       "better            n                            y  ...           y   \n",
       "base24            y                            y  ...           y   \n",
       "cabo              y                            y  ...         ext   \n",
       "arenaehr          n                            n  ...           y   \n",
       "eweave            y                            y  ...           n   \n",
       "ehrcare           n                            n  ...           n   \n",
       "clever            y                            y  ...           n   \n",
       "ehrdb             n                            y  ...           n   \n",
       "rhp               y                            y  ...           n   \n",
       "ehrn              n                            n  ...           y   \n",
       "\n",
       "         demographics_openehr rest_api_openehr gdl form_creation  \\\n",
       "CDR_name                                                           \n",
       "ehrbase                     n                y   n             n   \n",
       "better                      n                y   y             y   \n",
       "base24                      y                n   n             y   \n",
       "cabo                        n              dev   n             n   \n",
       "arenaehr                    n                y   y             y   \n",
       "eweave                      y                n   n             y   \n",
       "ehrcare                     y                n   n             y   \n",
       "clever                      y                n   y             y   \n",
       "ehrdb                       n                y   n             y   \n",
       "rhp                         y                n   y             y   \n",
       "ehrn                        n                n   n             n   \n",
       "\n",
       "         terminology_server archetype_designer template_designer aql sql  \n",
       "CDR_name                                                                  \n",
       "ehrbase                   y                  n                 n   y   n  \n",
       "better                    y                  y                 y   y   n  \n",
       "base24                    y                  n                 n   n   n  \n",
       "cabo                      n                  n                 n   n   n  \n",
       "arenaehr                  y                  n                 n   y   n  \n",
       "eweave                    y                  n                 y   y   y  \n",
       "ehrcare                   n                  n                 n   y   n  \n",
       "clever                  dev                  y                 y   n   y  \n",
       "ehrdb                     n                  y                 y   y   n  \n",
       "rhp                       y                  y                 y   n   y  \n",
       "ehrn                      y                  n                 n   y   y  \n",
       "\n",
       "[11 rows x 35 columns]"
      ]
     },
     "execution_count": 2,
     "metadata": {},
     "output_type": "execute_result"
    }
   ],
   "source": [
    "df=df.set_index('CDR_name')\n",
    "df"
   ]
  },
  {
   "cell_type": "code",
   "execution_count": 3,
   "metadata": {
    "scrolled": true
   },
   "outputs": [
    {
     "data": {
      "text/html": [
       "<div>\n",
       "<style scoped>\n",
       "    .dataframe tbody tr th:only-of-type {\n",
       "        vertical-align: middle;\n",
       "    }\n",
       "\n",
       "    .dataframe tbody tr th {\n",
       "        vertical-align: top;\n",
       "    }\n",
       "\n",
       "    .dataframe thead th {\n",
       "        text-align: right;\n",
       "    }\n",
       "</style>\n",
       "<table border=\"1\" class=\"dataframe\">\n",
       "  <thead>\n",
       "    <tr style=\"text-align: right;\">\n",
       "      <th></th>\n",
       "      <th>rest_api</th>\n",
       "      <th>another_api</th>\n",
       "      <th>gui</th>\n",
       "      <th>comp_crud_api</th>\n",
       "      <th>ehr_cr_api</th>\n",
       "      <th>store_list_get_templates_api</th>\n",
       "      <th>store_list_exec_query_api</th>\n",
       "      <th>comp_crud_gui</th>\n",
       "      <th>ehr_cr_gui</th>\n",
       "      <th>store_list_get_templates_gui</th>\n",
       "      <th>...</th>\n",
       "      <th>fhir_import</th>\n",
       "      <th>demographics_openehr</th>\n",
       "      <th>rest_api_openehr</th>\n",
       "      <th>gdl</th>\n",
       "      <th>form_creation</th>\n",
       "      <th>terminology_server</th>\n",
       "      <th>archetype_designer</th>\n",
       "      <th>template_designer</th>\n",
       "      <th>aql</th>\n",
       "      <th>sql</th>\n",
       "    </tr>\n",
       "    <tr>\n",
       "      <th>CDR_name</th>\n",
       "      <th></th>\n",
       "      <th></th>\n",
       "      <th></th>\n",
       "      <th></th>\n",
       "      <th></th>\n",
       "      <th></th>\n",
       "      <th></th>\n",
       "      <th></th>\n",
       "      <th></th>\n",
       "      <th></th>\n",
       "      <th></th>\n",
       "      <th></th>\n",
       "      <th></th>\n",
       "      <th></th>\n",
       "      <th></th>\n",
       "      <th></th>\n",
       "      <th></th>\n",
       "      <th></th>\n",
       "      <th></th>\n",
       "      <th></th>\n",
       "      <th></th>\n",
       "    </tr>\n",
       "  </thead>\n",
       "  <tbody>\n",
       "    <tr>\n",
       "      <th>ehrbase</th>\n",
       "      <td>y</td>\n",
       "      <td>y</td>\n",
       "      <td>y</td>\n",
       "      <td>y</td>\n",
       "      <td>y</td>\n",
       "      <td>y</td>\n",
       "      <td>y</td>\n",
       "      <td>n</td>\n",
       "      <td>n</td>\n",
       "      <td>n</td>\n",
       "      <td>...</td>\n",
       "      <td>y</td>\n",
       "      <td>n</td>\n",
       "      <td>y</td>\n",
       "      <td>n</td>\n",
       "      <td>n</td>\n",
       "      <td>y</td>\n",
       "      <td>n</td>\n",
       "      <td>n</td>\n",
       "      <td>y</td>\n",
       "      <td>n</td>\n",
       "    </tr>\n",
       "    <tr>\n",
       "      <th>better</th>\n",
       "      <td>y</td>\n",
       "      <td>y</td>\n",
       "      <td>y</td>\n",
       "      <td>y</td>\n",
       "      <td>y</td>\n",
       "      <td>y</td>\n",
       "      <td>y</td>\n",
       "      <td>y</td>\n",
       "      <td>n</td>\n",
       "      <td>y</td>\n",
       "      <td>...</td>\n",
       "      <td>y</td>\n",
       "      <td>n</td>\n",
       "      <td>y</td>\n",
       "      <td>y</td>\n",
       "      <td>y</td>\n",
       "      <td>y</td>\n",
       "      <td>y</td>\n",
       "      <td>y</td>\n",
       "      <td>y</td>\n",
       "      <td>n</td>\n",
       "    </tr>\n",
       "    <tr>\n",
       "      <th>base24</th>\n",
       "      <td>y</td>\n",
       "      <td>y</td>\n",
       "      <td>y</td>\n",
       "      <td>y</td>\n",
       "      <td>y</td>\n",
       "      <td>y</td>\n",
       "      <td>y</td>\n",
       "      <td>y</td>\n",
       "      <td>y</td>\n",
       "      <td>y</td>\n",
       "      <td>...</td>\n",
       "      <td>y</td>\n",
       "      <td>y</td>\n",
       "      <td>n</td>\n",
       "      <td>n</td>\n",
       "      <td>y</td>\n",
       "      <td>y</td>\n",
       "      <td>n</td>\n",
       "      <td>n</td>\n",
       "      <td>n</td>\n",
       "      <td>n</td>\n",
       "    </tr>\n",
       "    <tr>\n",
       "      <th>cabo</th>\n",
       "      <td>y</td>\n",
       "      <td>y</td>\n",
       "      <td>y</td>\n",
       "      <td>y</td>\n",
       "      <td>y</td>\n",
       "      <td>y</td>\n",
       "      <td>y</td>\n",
       "      <td>n</td>\n",
       "      <td>y</td>\n",
       "      <td>y</td>\n",
       "      <td>...</td>\n",
       "      <td>y</td>\n",
       "      <td>n</td>\n",
       "      <td>n</td>\n",
       "      <td>n</td>\n",
       "      <td>n</td>\n",
       "      <td>n</td>\n",
       "      <td>n</td>\n",
       "      <td>n</td>\n",
       "      <td>n</td>\n",
       "      <td>n</td>\n",
       "    </tr>\n",
       "    <tr>\n",
       "      <th>arenaehr</th>\n",
       "      <td>y</td>\n",
       "      <td>n</td>\n",
       "      <td>y</td>\n",
       "      <td>y</td>\n",
       "      <td>y</td>\n",
       "      <td>y</td>\n",
       "      <td>y</td>\n",
       "      <td>n</td>\n",
       "      <td>n</td>\n",
       "      <td>n</td>\n",
       "      <td>...</td>\n",
       "      <td>y</td>\n",
       "      <td>n</td>\n",
       "      <td>y</td>\n",
       "      <td>y</td>\n",
       "      <td>y</td>\n",
       "      <td>y</td>\n",
       "      <td>n</td>\n",
       "      <td>n</td>\n",
       "      <td>y</td>\n",
       "      <td>n</td>\n",
       "    </tr>\n",
       "    <tr>\n",
       "      <th>eweave</th>\n",
       "      <td>n</td>\n",
       "      <td>n</td>\n",
       "      <td>y</td>\n",
       "      <td>n</td>\n",
       "      <td>n</td>\n",
       "      <td>n</td>\n",
       "      <td>n</td>\n",
       "      <td>y</td>\n",
       "      <td>y</td>\n",
       "      <td>y</td>\n",
       "      <td>...</td>\n",
       "      <td>n</td>\n",
       "      <td>y</td>\n",
       "      <td>n</td>\n",
       "      <td>n</td>\n",
       "      <td>y</td>\n",
       "      <td>y</td>\n",
       "      <td>n</td>\n",
       "      <td>y</td>\n",
       "      <td>y</td>\n",
       "      <td>y</td>\n",
       "    </tr>\n",
       "    <tr>\n",
       "      <th>ehrcare</th>\n",
       "      <td>y</td>\n",
       "      <td>y</td>\n",
       "      <td>n</td>\n",
       "      <td>y</td>\n",
       "      <td>y</td>\n",
       "      <td>y</td>\n",
       "      <td>y</td>\n",
       "      <td>n</td>\n",
       "      <td>n</td>\n",
       "      <td>n</td>\n",
       "      <td>...</td>\n",
       "      <td>n</td>\n",
       "      <td>y</td>\n",
       "      <td>n</td>\n",
       "      <td>n</td>\n",
       "      <td>y</td>\n",
       "      <td>n</td>\n",
       "      <td>n</td>\n",
       "      <td>n</td>\n",
       "      <td>y</td>\n",
       "      <td>n</td>\n",
       "    </tr>\n",
       "    <tr>\n",
       "      <th>clever</th>\n",
       "      <td>y</td>\n",
       "      <td>y</td>\n",
       "      <td>y</td>\n",
       "      <td>y</td>\n",
       "      <td>y</td>\n",
       "      <td>y</td>\n",
       "      <td>y</td>\n",
       "      <td>n</td>\n",
       "      <td>y</td>\n",
       "      <td>y</td>\n",
       "      <td>...</td>\n",
       "      <td>n</td>\n",
       "      <td>y</td>\n",
       "      <td>n</td>\n",
       "      <td>y</td>\n",
       "      <td>y</td>\n",
       "      <td>n</td>\n",
       "      <td>y</td>\n",
       "      <td>y</td>\n",
       "      <td>n</td>\n",
       "      <td>y</td>\n",
       "    </tr>\n",
       "    <tr>\n",
       "      <th>ehrdb</th>\n",
       "      <td>y</td>\n",
       "      <td>y</td>\n",
       "      <td>y</td>\n",
       "      <td>y</td>\n",
       "      <td>y</td>\n",
       "      <td>y</td>\n",
       "      <td>y</td>\n",
       "      <td>y</td>\n",
       "      <td>n</td>\n",
       "      <td>y</td>\n",
       "      <td>...</td>\n",
       "      <td>n</td>\n",
       "      <td>n</td>\n",
       "      <td>y</td>\n",
       "      <td>n</td>\n",
       "      <td>y</td>\n",
       "      <td>n</td>\n",
       "      <td>y</td>\n",
       "      <td>y</td>\n",
       "      <td>y</td>\n",
       "      <td>n</td>\n",
       "    </tr>\n",
       "    <tr>\n",
       "      <th>rhp</th>\n",
       "      <td>y</td>\n",
       "      <td>y</td>\n",
       "      <td>y</td>\n",
       "      <td>y</td>\n",
       "      <td>y</td>\n",
       "      <td>y</td>\n",
       "      <td>y</td>\n",
       "      <td>n</td>\n",
       "      <td>y</td>\n",
       "      <td>y</td>\n",
       "      <td>...</td>\n",
       "      <td>n</td>\n",
       "      <td>y</td>\n",
       "      <td>n</td>\n",
       "      <td>y</td>\n",
       "      <td>y</td>\n",
       "      <td>y</td>\n",
       "      <td>y</td>\n",
       "      <td>y</td>\n",
       "      <td>n</td>\n",
       "      <td>y</td>\n",
       "    </tr>\n",
       "    <tr>\n",
       "      <th>ehrn</th>\n",
       "      <td>y</td>\n",
       "      <td>n</td>\n",
       "      <td>y</td>\n",
       "      <td>y</td>\n",
       "      <td>n</td>\n",
       "      <td>y</td>\n",
       "      <td>y</td>\n",
       "      <td>y</td>\n",
       "      <td>n</td>\n",
       "      <td>n</td>\n",
       "      <td>...</td>\n",
       "      <td>y</td>\n",
       "      <td>n</td>\n",
       "      <td>n</td>\n",
       "      <td>n</td>\n",
       "      <td>n</td>\n",
       "      <td>y</td>\n",
       "      <td>n</td>\n",
       "      <td>n</td>\n",
       "      <td>y</td>\n",
       "      <td>y</td>\n",
       "    </tr>\n",
       "  </tbody>\n",
       "</table>\n",
       "<p>11 rows × 35 columns</p>\n",
       "</div>"
      ],
      "text/plain": [
       "         rest_api another_api gui comp_crud_api ehr_cr_api  \\\n",
       "CDR_name                                                     \n",
       "ehrbase         y           y   y             y          y   \n",
       "better          y           y   y             y          y   \n",
       "base24          y           y   y             y          y   \n",
       "cabo            y           y   y             y          y   \n",
       "arenaehr        y           n   y             y          y   \n",
       "eweave        n             n   y             n          n   \n",
       "ehrcare         y           y   n             y          y   \n",
       "clever          y           y   y             y          y   \n",
       "ehrdb           y           y   y             y          y   \n",
       "rhp             y           y   y             y          y   \n",
       "ehrn            y           n   y             y          n   \n",
       "\n",
       "         store_list_get_templates_api store_list_exec_query_api comp_crud_gui  \\\n",
       "CDR_name                                                                        \n",
       "ehrbase                             y                         y             n   \n",
       "better                              y                         y             y   \n",
       "base24                              y                         y             y   \n",
       "cabo                                y                         y             n   \n",
       "arenaehr                            y                         y             n   \n",
       "eweave                              n                         n             y   \n",
       "ehrcare                             y                         y             n   \n",
       "clever                              y                         y             n   \n",
       "ehrdb                               y                         y             y   \n",
       "rhp                                 y                         y             n   \n",
       "ehrn                                y                         y             y   \n",
       "\n",
       "         ehr_cr_gui store_list_get_templates_gui  ... fhir_import  \\\n",
       "CDR_name                                          ...               \n",
       "ehrbase           n                            n  ...           y   \n",
       "better            n                            y  ...           y   \n",
       "base24            y                            y  ...           y   \n",
       "cabo              y                            y  ...           y   \n",
       "arenaehr          n                            n  ...           y   \n",
       "eweave            y                            y  ...           n   \n",
       "ehrcare           n                            n  ...           n   \n",
       "clever            y                            y  ...           n   \n",
       "ehrdb             n                            y  ...           n   \n",
       "rhp               y                            y  ...           n   \n",
       "ehrn              n                            n  ...           y   \n",
       "\n",
       "         demographics_openehr rest_api_openehr gdl form_creation  \\\n",
       "CDR_name                                                           \n",
       "ehrbase                     n                y   n             n   \n",
       "better                      n                y   y             y   \n",
       "base24                      y                n   n             y   \n",
       "cabo                        n                n   n             n   \n",
       "arenaehr                    n                y   y             y   \n",
       "eweave                      y                n   n             y   \n",
       "ehrcare                     y                n   n             y   \n",
       "clever                      y                n   y             y   \n",
       "ehrdb                       n                y   n             y   \n",
       "rhp                         y                n   y             y   \n",
       "ehrn                        n                n   n             n   \n",
       "\n",
       "         terminology_server archetype_designer template_designer aql sql  \n",
       "CDR_name                                                                  \n",
       "ehrbase                   y                  n                 n   y   n  \n",
       "better                    y                  y                 y   y   n  \n",
       "base24                    y                  n                 n   n   n  \n",
       "cabo                      n                  n                 n   n   n  \n",
       "arenaehr                  y                  n                 n   y   n  \n",
       "eweave                    y                  n                 y   y   y  \n",
       "ehrcare                   n                  n                 n   y   n  \n",
       "clever                    n                  y                 y   n   y  \n",
       "ehrdb                     n                  y                 y   y   n  \n",
       "rhp                       y                  y                 y   n   y  \n",
       "ehrn                      y                  n                 n   y   y  \n",
       "\n",
       "[11 rows x 35 columns]"
      ]
     },
     "execution_count": 3,
     "metadata": {},
     "output_type": "execute_result"
    }
   ],
   "source": [
    "#replace all dev with no\n",
    "df.replace(\"dev\",\"n\",inplace=True)\n",
    "df.replace(\"only r\",\"n\",inplace=True)\n",
    "df.replace(\"all but store\",\"y\",inplace=True)\n",
    "df.replace(\"ext\",\"y\",inplace=True)\n",
    "df.replace('y not store','y',inplace=True)\n",
    "df"
   ]
  },
  {
   "cell_type": "code",
   "execution_count": 4,
   "metadata": {},
   "outputs": [],
   "source": [
    "#df.drop(['terminology_server','gdl',\n",
    "#        'archetype_designer','template_designer',\n",
    "#        'ex_comp_from_temp','openehr_extract',\n",
    "#        'comp_in_struct','comp_in_can_xml','comp_in_can_json',\n",
    "#         'comp_ou_flat','comp_ou_struct','comp_ou_can_xml','comp_ou_can_json',\n",
    "#         'java_api','temp_in_opt','temp_in_webtemp','temp_ou_opt','temp_ou_webtemp',\n",
    "#         'ehr_cr_api','ehr_cr_gui','comp_crud_api','comp_crud_gui','store_list_get_templates_api',\n",
    "#         'store_list_get_templates_gui','store_list_exec_query_api','store_list_exec_query_gui',\n",
    "#         'api_n','gui_n','api_2of','gui_2of',\n",
    "#         'oauth2'],axis=1,inplace=True)\n",
    "#df"
   ]
  },
  {
   "cell_type": "code",
   "execution_count": 5,
   "metadata": {},
   "outputs": [
    {
     "data": {
      "text/plain": [
       "(11, 35)"
      ]
     },
     "execution_count": 5,
     "metadata": {},
     "output_type": "execute_result"
    }
   ],
   "source": [
    "df.shape"
   ]
  },
  {
   "cell_type": "code",
   "execution_count": 6,
   "metadata": {},
   "outputs": [
    {
     "data": {
      "text/html": [
       "<div>\n",
       "<style scoped>\n",
       "    .dataframe tbody tr th:only-of-type {\n",
       "        vertical-align: middle;\n",
       "    }\n",
       "\n",
       "    .dataframe tbody tr th {\n",
       "        vertical-align: top;\n",
       "    }\n",
       "\n",
       "    .dataframe thead th {\n",
       "        text-align: right;\n",
       "    }\n",
       "</style>\n",
       "<table border=\"1\" class=\"dataframe\">\n",
       "  <thead>\n",
       "    <tr style=\"text-align: right;\">\n",
       "      <th></th>\n",
       "      <th>0</th>\n",
       "      <th>1</th>\n",
       "    </tr>\n",
       "  </thead>\n",
       "  <tbody>\n",
       "    <tr>\n",
       "      <th>ehrbase</th>\n",
       "      <td>-0.689915</td>\n",
       "      <td>-0.115578</td>\n",
       "    </tr>\n",
       "    <tr>\n",
       "      <th>better</th>\n",
       "      <td>-0.479820</td>\n",
       "      <td>0.411782</td>\n",
       "    </tr>\n",
       "    <tr>\n",
       "      <th>base24</th>\n",
       "      <td>-0.187985</td>\n",
       "      <td>-0.267989</td>\n",
       "    </tr>\n",
       "    <tr>\n",
       "      <th>cabo</th>\n",
       "      <td>-0.310441</td>\n",
       "      <td>-0.255061</td>\n",
       "    </tr>\n",
       "    <tr>\n",
       "      <th>arenaehr</th>\n",
       "      <td>-0.472037</td>\n",
       "      <td>-0.240239</td>\n",
       "    </tr>\n",
       "    <tr>\n",
       "      <th>eweave</th>\n",
       "      <td>1.184924</td>\n",
       "      <td>-0.755702</td>\n",
       "    </tr>\n",
       "    <tr>\n",
       "      <th>ehrcare</th>\n",
       "      <td>-0.079845</td>\n",
       "      <td>-0.108734</td>\n",
       "    </tr>\n",
       "    <tr>\n",
       "      <th>clever</th>\n",
       "      <td>0.676379</td>\n",
       "      <td>0.758554</td>\n",
       "    </tr>\n",
       "    <tr>\n",
       "      <th>ehrdb</th>\n",
       "      <td>-0.368416</td>\n",
       "      <td>0.366045</td>\n",
       "    </tr>\n",
       "    <tr>\n",
       "      <th>rhp</th>\n",
       "      <td>0.662413</td>\n",
       "      <td>0.619138</td>\n",
       "    </tr>\n",
       "    <tr>\n",
       "      <th>ehrn</th>\n",
       "      <td>0.064743</td>\n",
       "      <td>-0.412216</td>\n",
       "    </tr>\n",
       "  </tbody>\n",
       "</table>\n",
       "</div>"
      ],
      "text/plain": [
       "                 0         1\n",
       "ehrbase  -0.689915 -0.115578\n",
       "better   -0.479820  0.411782\n",
       "base24   -0.187985 -0.267989\n",
       "cabo     -0.310441 -0.255061\n",
       "arenaehr -0.472037 -0.240239\n",
       "eweave    1.184924 -0.755702\n",
       "ehrcare  -0.079845 -0.108734\n",
       "clever    0.676379  0.758554\n",
       "ehrdb    -0.368416  0.366045\n",
       "rhp       0.662413  0.619138\n",
       "ehrn      0.064743 -0.412216"
      ]
     },
     "execution_count": 6,
     "metadata": {},
     "output_type": "execute_result"
    }
   ],
   "source": [
    "mca = MCA(n_components = 2, n_iter = 3, random_state = 101)\n",
    "mca.fit(df)\n",
    "df_mca = mca.transform(df)\n",
    "df_mca"
   ]
  },
  {
   "cell_type": "code",
   "execution_count": 7,
   "metadata": {},
   "outputs": [
    {
     "data": {
      "text/plain": [
       "[0.31885090921698955, 0.20209695984715448]"
      ]
     },
     "execution_count": 7,
     "metadata": {},
     "output_type": "execute_result"
    }
   ],
   "source": [
    "mca.explained_inertia_ #variance explained"
   ]
  },
  {
   "cell_type": "code",
   "execution_count": 8,
   "metadata": {},
   "outputs": [
    {
     "data": {
      "text/plain": [
       "52.1"
      ]
     },
     "execution_count": 8,
     "metadata": {},
     "output_type": "execute_result"
    }
   ],
   "source": [
    "round(sum(mca.explained_inertia_)*100,1)"
   ]
  },
  {
   "cell_type": "code",
   "execution_count": 9,
   "metadata": {},
   "outputs": [
    {
     "data": {
      "text/plain": [
       "[0.31885090921698955, 0.20209695984715448]"
      ]
     },
     "execution_count": 9,
     "metadata": {},
     "output_type": "execute_result"
    }
   ],
   "source": [
    " mca.eigenvalues_"
   ]
  },
  {
   "cell_type": "code",
   "execution_count": 10,
   "metadata": {},
   "outputs": [
    {
     "data": {
      "text/html": [
       "<div>\n",
       "<style scoped>\n",
       "    .dataframe tbody tr th:only-of-type {\n",
       "        vertical-align: middle;\n",
       "    }\n",
       "\n",
       "    .dataframe tbody tr th {\n",
       "        vertical-align: top;\n",
       "    }\n",
       "\n",
       "    .dataframe thead th {\n",
       "        text-align: right;\n",
       "    }\n",
       "</style>\n",
       "<table border=\"1\" class=\"dataframe\">\n",
       "  <thead>\n",
       "    <tr style=\"text-align: right;\">\n",
       "      <th></th>\n",
       "      <th>0</th>\n",
       "      <th>1</th>\n",
       "    </tr>\n",
       "  </thead>\n",
       "  <tbody>\n",
       "    <tr>\n",
       "      <th>rest_api_n</th>\n",
       "      <td>2.098440</td>\n",
       "      <td>-1.681012</td>\n",
       "    </tr>\n",
       "    <tr>\n",
       "      <th>rest_api_y</th>\n",
       "      <td>-0.209844</td>\n",
       "      <td>0.168101</td>\n",
       "    </tr>\n",
       "    <tr>\n",
       "      <th>another_api_n</th>\n",
       "      <td>0.459048</td>\n",
       "      <td>-1.044119</td>\n",
       "    </tr>\n",
       "    <tr>\n",
       "      <th>another_api_y</th>\n",
       "      <td>-0.172143</td>\n",
       "      <td>0.391545</td>\n",
       "    </tr>\n",
       "    <tr>\n",
       "      <th>gui_n</th>\n",
       "      <td>-0.141402</td>\n",
       "      <td>-0.241871</td>\n",
       "    </tr>\n",
       "    <tr>\n",
       "      <th>...</th>\n",
       "      <td>...</td>\n",
       "      <td>...</td>\n",
       "    </tr>\n",
       "    <tr>\n",
       "      <th>template_designer_y</th>\n",
       "      <td>0.593438</td>\n",
       "      <td>0.622761</td>\n",
       "    </tr>\n",
       "    <tr>\n",
       "      <th>aql_n</th>\n",
       "      <td>0.372061</td>\n",
       "      <td>0.475274</td>\n",
       "    </tr>\n",
       "    <tr>\n",
       "      <th>aql_y</th>\n",
       "      <td>-0.212607</td>\n",
       "      <td>-0.271585</td>\n",
       "    </tr>\n",
       "    <tr>\n",
       "      <th>sql_n</th>\n",
       "      <td>-0.654861</td>\n",
       "      <td>-0.066661</td>\n",
       "    </tr>\n",
       "    <tr>\n",
       "      <th>sql_y</th>\n",
       "      <td>1.146007</td>\n",
       "      <td>0.116657</td>\n",
       "    </tr>\n",
       "  </tbody>\n",
       "</table>\n",
       "<p>70 rows × 2 columns</p>\n",
       "</div>"
      ],
      "text/plain": [
       "                            0         1\n",
       "rest_api_n           2.098440 -1.681012\n",
       "rest_api_y          -0.209844  0.168101\n",
       "another_api_n        0.459048 -1.044119\n",
       "another_api_y       -0.172143  0.391545\n",
       "gui_n               -0.141402 -0.241871\n",
       "...                       ...       ...\n",
       "template_designer_y  0.593438  0.622761\n",
       "aql_n                0.372061  0.475274\n",
       "aql_y               -0.212607 -0.271585\n",
       "sql_n               -0.654861 -0.066661\n",
       "sql_y                1.146007  0.116657\n",
       "\n",
       "[70 rows x 2 columns]"
      ]
     },
     "execution_count": 10,
     "metadata": {},
     "output_type": "execute_result"
    }
   ],
   "source": [
    "mca.column_coordinates(df)"
   ]
  },
  {
   "cell_type": "code",
   "execution_count": 11,
   "metadata": {},
   "outputs": [
    {
     "data": {
      "text/plain": [
       "<AxesSubplot:title={'center':'Row and column principal coordinates'}, xlabel='Component 0 (31.89% inertia)', ylabel='Component 1 (20.21% inertia)'>"
      ]
     },
     "execution_count": 11,
     "metadata": {},
     "output_type": "execute_result"
    },
    {
     "data": {
      "image/png": "[encoded data removed]",
      "text/plain": [
       "<Figure size 576x576 with 1 Axes>"
      ]
     },
     "metadata": {
      "needs_background": "light"
     },
     "output_type": "display_data"
    }
   ],
   "source": [
    "#The result is like the PCA or CA result, two principal components with SVD result as the values. Just like previous techniques, we could plot the coordinates into a two-dimension graph.\n",
    "mca.column_coordinates(df)\n",
    "mca.plot_coordinates(X =df,figsize=(8,8),show_row_points=True,show_row_labels=True, \n",
    "                     show_column_points=False, show_column_labels=False,\n",
    "                    row_points_size=30, column_points_size=30)"
   ]
  },
  {
   "cell_type": "code",
   "execution_count": 12,
   "metadata": {},
   "outputs": [
    {
     "data": {
      "text/html": [
       "<div>\n",
       "<style scoped>\n",
       "    .dataframe tbody tr th:only-of-type {\n",
       "        vertical-align: middle;\n",
       "    }\n",
       "\n",
       "    .dataframe tbody tr th {\n",
       "        vertical-align: top;\n",
       "    }\n",
       "\n",
       "    .dataframe thead th {\n",
       "        text-align: right;\n",
       "    }\n",
       "</style>\n",
       "<table border=\"1\" class=\"dataframe\">\n",
       "  <thead>\n",
       "    <tr style=\"text-align: right;\">\n",
       "      <th></th>\n",
       "      <th>0</th>\n",
       "      <th>1</th>\n",
       "      <th>2</th>\n",
       "    </tr>\n",
       "  </thead>\n",
       "  <tbody>\n",
       "    <tr>\n",
       "      <th>ehrbase</th>\n",
       "      <td>-0.689915</td>\n",
       "      <td>-0.115578</td>\n",
       "      <td>-0.238357</td>\n",
       "    </tr>\n",
       "    <tr>\n",
       "      <th>better</th>\n",
       "      <td>-0.479820</td>\n",
       "      <td>0.411782</td>\n",
       "      <td>-0.482069</td>\n",
       "    </tr>\n",
       "    <tr>\n",
       "      <th>base24</th>\n",
       "      <td>-0.187985</td>\n",
       "      <td>-0.267989</td>\n",
       "      <td>0.424614</td>\n",
       "    </tr>\n",
       "    <tr>\n",
       "      <th>cabo</th>\n",
       "      <td>-0.310441</td>\n",
       "      <td>-0.255061</td>\n",
       "      <td>0.541717</td>\n",
       "    </tr>\n",
       "    <tr>\n",
       "      <th>arenaehr</th>\n",
       "      <td>-0.472037</td>\n",
       "      <td>-0.240239</td>\n",
       "      <td>-0.054270</td>\n",
       "    </tr>\n",
       "    <tr>\n",
       "      <th>eweave</th>\n",
       "      <td>1.184924</td>\n",
       "      <td>-0.755702</td>\n",
       "      <td>-0.465188</td>\n",
       "    </tr>\n",
       "    <tr>\n",
       "      <th>ehrcare</th>\n",
       "      <td>-0.079845</td>\n",
       "      <td>-0.108734</td>\n",
       "      <td>0.326036</td>\n",
       "    </tr>\n",
       "    <tr>\n",
       "      <th>clever</th>\n",
       "      <td>0.676379</td>\n",
       "      <td>0.758554</td>\n",
       "      <td>0.195918</td>\n",
       "    </tr>\n",
       "    <tr>\n",
       "      <th>ehrdb</th>\n",
       "      <td>-0.368416</td>\n",
       "      <td>0.366045</td>\n",
       "      <td>-0.428138</td>\n",
       "    </tr>\n",
       "    <tr>\n",
       "      <th>rhp</th>\n",
       "      <td>0.662413</td>\n",
       "      <td>0.619138</td>\n",
       "      <td>0.170634</td>\n",
       "    </tr>\n",
       "    <tr>\n",
       "      <th>ehrn</th>\n",
       "      <td>0.064743</td>\n",
       "      <td>-0.412216</td>\n",
       "      <td>0.009101</td>\n",
       "    </tr>\n",
       "  </tbody>\n",
       "</table>\n",
       "</div>"
      ],
      "text/plain": [
       "                 0         1         2\n",
       "ehrbase  -0.689915 -0.115578 -0.238357\n",
       "better   -0.479820  0.411782 -0.482069\n",
       "base24   -0.187985 -0.267989  0.424614\n",
       "cabo     -0.310441 -0.255061  0.541717\n",
       "arenaehr -0.472037 -0.240239 -0.054270\n",
       "eweave    1.184924 -0.755702 -0.465188\n",
       "ehrcare  -0.079845 -0.108734  0.326036\n",
       "clever    0.676379  0.758554  0.195918\n",
       "ehrdb    -0.368416  0.366045 -0.428138\n",
       "rhp       0.662413  0.619138  0.170634\n",
       "ehrn      0.064743 -0.412216  0.009101"
      ]
     },
     "execution_count": 12,
     "metadata": {},
     "output_type": "execute_result"
    }
   ],
   "source": [
    "mca = MCA(n_components = 3, n_iter = 3, random_state = 101)\n",
    "mca.fit(df)\n",
    "df_mca = mca.transform(df)\n",
    "df_mca"
   ]
  },
  {
   "cell_type": "code",
   "execution_count": 13,
   "metadata": {},
   "outputs": [
    {
     "name": "stdout",
     "output_type": "stream",
     "text": [
      "-0.23835673954649625\n",
      "ehrbase\n"
     ]
    }
   ],
   "source": [
    "print(df_mca.iloc[0,2])\n",
    "index=df_mca.index\n",
    "print(index[0])"
   ]
  },
  {
   "cell_type": "code",
   "execution_count": 14,
   "metadata": {},
   "outputs": [
    {
     "data": {
      "text/plain": [
       "[0.31885090921698966, 0.20209695984715492, 0.1217715747126417]"
      ]
     },
     "execution_count": 14,
     "metadata": {},
     "output_type": "execute_result"
    }
   ],
   "source": [
    "mca.explained_inertia_ #variance explained"
   ]
  },
  {
   "cell_type": "code",
   "execution_count": 15,
   "metadata": {},
   "outputs": [
    {
     "data": {
      "text/plain": [
       "64.3"
      ]
     },
     "execution_count": 15,
     "metadata": {},
     "output_type": "execute_result"
    }
   ],
   "source": [
    "round(sum(mca.explained_inertia_)*100,1)"
   ]
  },
  {
   "cell_type": "code",
   "execution_count": 16,
   "metadata": {},
   "outputs": [
    {
     "data": {
      "text/plain": [
       "[0.31885090921698966, 0.20209695984715492, 0.1217715747126417]"
      ]
     },
     "execution_count": 16,
     "metadata": {},
     "output_type": "execute_result"
    }
   ],
   "source": [
    " mca.eigenvalues_"
   ]
  },
  {
   "cell_type": "code",
   "execution_count": 17,
   "metadata": {},
   "outputs": [
    {
     "data": {
      "text/html": [
       "<div>\n",
       "<style scoped>\n",
       "    .dataframe tbody tr th:only-of-type {\n",
       "        vertical-align: middle;\n",
       "    }\n",
       "\n",
       "    .dataframe tbody tr th {\n",
       "        vertical-align: top;\n",
       "    }\n",
       "\n",
       "    .dataframe thead th {\n",
       "        text-align: right;\n",
       "    }\n",
       "</style>\n",
       "<table border=\"1\" class=\"dataframe\">\n",
       "  <thead>\n",
       "    <tr style=\"text-align: right;\">\n",
       "      <th></th>\n",
       "      <th>0</th>\n",
       "      <th>1</th>\n",
       "      <th>2</th>\n",
       "    </tr>\n",
       "  </thead>\n",
       "  <tbody>\n",
       "    <tr>\n",
       "      <th>rest_api_n</th>\n",
       "      <td>2.098440</td>\n",
       "      <td>-1.681012</td>\n",
       "      <td>-1.333077</td>\n",
       "    </tr>\n",
       "    <tr>\n",
       "      <th>rest_api_y</th>\n",
       "      <td>-0.209844</td>\n",
       "      <td>0.168101</td>\n",
       "      <td>0.133308</td>\n",
       "    </tr>\n",
       "    <tr>\n",
       "      <th>another_api_n</th>\n",
       "      <td>0.459048</td>\n",
       "      <td>-1.044119</td>\n",
       "      <td>-0.487505</td>\n",
       "    </tr>\n",
       "    <tr>\n",
       "      <th>another_api_y</th>\n",
       "      <td>-0.172143</td>\n",
       "      <td>0.391545</td>\n",
       "      <td>0.182814</td>\n",
       "    </tr>\n",
       "    <tr>\n",
       "      <th>gui_n</th>\n",
       "      <td>-0.141402</td>\n",
       "      <td>-0.241871</td>\n",
       "      <td>0.934312</td>\n",
       "    </tr>\n",
       "    <tr>\n",
       "      <th>...</th>\n",
       "      <td>...</td>\n",
       "      <td>...</td>\n",
       "      <td>...</td>\n",
       "    </tr>\n",
       "    <tr>\n",
       "      <th>template_designer_y</th>\n",
       "      <td>0.593438</td>\n",
       "      <td>0.622761</td>\n",
       "      <td>-0.578203</td>\n",
       "    </tr>\n",
       "    <tr>\n",
       "      <th>aql_n</th>\n",
       "      <td>0.372061</td>\n",
       "      <td>0.475274</td>\n",
       "      <td>0.954903</td>\n",
       "    </tr>\n",
       "    <tr>\n",
       "      <th>aql_y</th>\n",
       "      <td>-0.212607</td>\n",
       "      <td>-0.271585</td>\n",
       "      <td>-0.545659</td>\n",
       "    </tr>\n",
       "    <tr>\n",
       "      <th>sql_n</th>\n",
       "      <td>-0.654861</td>\n",
       "      <td>-0.066661</td>\n",
       "      <td>0.036654</td>\n",
       "    </tr>\n",
       "    <tr>\n",
       "      <th>sql_y</th>\n",
       "      <td>1.146007</td>\n",
       "      <td>0.116657</td>\n",
       "      <td>-0.064144</td>\n",
       "    </tr>\n",
       "  </tbody>\n",
       "</table>\n",
       "<p>70 rows × 3 columns</p>\n",
       "</div>"
      ],
      "text/plain": [
       "                            0         1         2\n",
       "rest_api_n           2.098440 -1.681012 -1.333077\n",
       "rest_api_y          -0.209844  0.168101  0.133308\n",
       "another_api_n        0.459048 -1.044119 -0.487505\n",
       "another_api_y       -0.172143  0.391545  0.182814\n",
       "gui_n               -0.141402 -0.241871  0.934312\n",
       "...                       ...       ...       ...\n",
       "template_designer_y  0.593438  0.622761 -0.578203\n",
       "aql_n                0.372061  0.475274  0.954903\n",
       "aql_y               -0.212607 -0.271585 -0.545659\n",
       "sql_n               -0.654861 -0.066661  0.036654\n",
       "sql_y                1.146007  0.116657 -0.064144\n",
       "\n",
       "[70 rows x 3 columns]"
      ]
     },
     "execution_count": 17,
     "metadata": {},
     "output_type": "execute_result"
    }
   ],
   "source": [
    "mca.column_coordinates(df)"
   ]
  },
  {
   "cell_type": "code",
   "execution_count": 18,
   "metadata": {},
   "outputs": [
    {
     "name": "stdout",
     "output_type": "stream",
     "text": [
      "len(df_mca)=11\n",
      "-0.6899145876680328 -0.11557762094037882 -0.23835673954649625\n",
      "-0.6899145876680328 -0.11557762094037882 -0.25\n",
      "-0.47982014169753134 0.41178181116889984 -0.4820685604391836\n",
      "-0.47982014169753134 0.41178181116889984 -0.49\n",
      "-0.1879846506014987 -0.26798886276755335 0.4246137397650314\n",
      "-0.1879846506014987 -0.26798886276755335 0.4246137397650314\n",
      "-0.31044089786173196 -0.25506101787605867 0.5417173326389915\n",
      "-0.31044089786173196 -0.25506101787605867 0.5417173326389915\n",
      "-0.4720366299083768 -0.24023871914454747 -0.05426951248495062\n",
      "-0.4720366299083768 -0.24023871914454747 -0.05426951248495062\n",
      "1.1849235285036164 -0.7557021490308746 -0.4651877271861049\n",
      "1.1849235285036164 -0.7557021490308746 -0.4651877271861049\n",
      "-0.07984549951825795 -0.10873359683269983 0.32603562265757297\n",
      "-0.07984549951825795 -0.10873359683269983 0.32603562265757297\n",
      "0.6763787786957578 0.7585536175133627 0.19591831156197653\n",
      "0.6763787786957578 0.7585536175133627 0.19591831156197653\n",
      "-0.3684161357986891 0.3660449291115158 -0.42813781488808633\n",
      "-0.3684161357986891 0.3660449291115158 -0.42813781488808633\n",
      "0.6624127424072569 0.6191379448022143 0.17063398305327732\n",
      "0.6624127424072569 0.6191379448022143 0.17063398305327732\n",
      "0.06474349344748803 -0.4122163360038798 0.009101364867972533\n",
      "0.06474349344748803 -0.4122163360038798 0.009101364867972533\n",
      "(11, 3)\n",
      "(11, 3)\n"
     ]
    }
   ],
   "source": [
    "newtextpos=df_mca.copy()\n",
    "newtextpos.iloc[1,2]=-0.49\n",
    "newtextpos.iloc[0,2]=-0.25\n",
    "print(f'len(df_mca)={len(df_mca)}')\n",
    "for i in range(len(df_mca)):\n",
    "    print(df_mca.iloc[i,0],df_mca.iloc[i,1],df_mca.iloc[i,2])\n",
    "    print(newtextpos.iloc[i,0],newtextpos.iloc[i,1],newtextpos.iloc[i,2])\n",
    "print(df_mca.shape)\n",
    "print(newtextpos.shape)\n"
   ]
  },
  {
   "cell_type": "code",
   "execution_count": 19,
   "metadata": {},
   "outputs": [
    {
     "data": {
      "application/javascript": [
       "/* Put everything inside the global mpl namespace */\n",
       "/* global mpl */\n",
       "window.mpl = {};\n",
       "\n",
       "mpl.get_websocket_type = function () {\n",
       "    if (typeof WebSocket !== 'undefined') {\n",
       "        return WebSocket;\n",
       "    } else if (typeof MozWebSocket !== 'undefined') {\n",
       "        return MozWebSocket;\n",
       "    } else {\n",
       "        alert(\n",
       "            'Your browser does not have WebSocket support. ' +\n",
       "                'Please try Chrome, Safari or Firefox ≥ 6. ' +\n",
       "                'Firefox 4 and 5 are also supported but you ' +\n",
       "                'have to enable WebSockets in about:config.'\n",
       "        );\n",
       "    }\n",
       "};\n",
       "\n",
       "mpl.figure = function (figure_id, websocket, ondownload, parent_element) {\n",
       "    this.id = figure_id;\n",
       "\n",
       "    this.ws = websocket;\n",
       "\n",
       "    this.supports_binary = this.ws.binaryType !== undefined;\n",
       "\n",
       "    if (!this.supports_binary) {\n",
       "        var warnings = document.getElementById('mpl-warnings');\n",
       "        if (warnings) {\n",
       "            warnings.style.display = 'block';\n",
       "            warnings.textContent =\n",
       "                'This browser does not support binary websocket messages. ' +\n",
       "                'Performance may be slow.';\n",
       "        }\n",
       "    }\n",
       "\n",
       "    this.imageObj = new Image();\n",
       "\n",
       "    this.context = undefined;\n",
       "    this.message = undefined;\n",
       "    this.canvas = undefined;\n",
       "    this.rubberband_canvas = undefined;\n",
       "    this.rubberband_context = undefined;\n",
       "    this.format_dropdown = undefined;\n",
       "\n",
       "    this.image_mode = 'full';\n",
       "\n",
       "    this.root = document.createElement('div');\n",
       "    this.root.setAttribute('style', 'display: inline-block');\n",
       "    this._root_extra_style(this.root);\n",
       "\n",
       "    parent_element.appendChild(this.root);\n",
       "\n",
       "    this._init_header(this);\n",
       "    this._init_canvas(this);\n",
       "    this._init_toolbar(this);\n",
       "\n",
       "    var fig = this;\n",
       "\n",
       "    this.waiting = false;\n",
       "\n",
       "    this.ws.onopen = function () {\n",
       "        fig.send_message('supports_binary', { value: fig.supports_binary });\n",
       "        fig.send_message('send_image_mode', {});\n",
       "        if (fig.ratio !== 1) {\n",
       "            fig.send_message('set_dpi_ratio', { dpi_ratio: fig.ratio });\n",
       "        }\n",
       "        fig.send_message('refresh', {});\n",
       "    };\n",
       "\n",
       "    this.imageObj.onload = function () {\n",
       "        if (fig.image_mode === 'full') {\n",
       "            // Full images could contain transparency (where diff images\n",
       "            // almost always do), so we need to clear the canvas so that\n",
       "            // there is no ghosting.\n",
       "            fig.context.clearRect(0, 0, fig.canvas.width, fig.canvas.height);\n",
       "        }\n",
       "        fig.context.drawImage(fig.imageObj, 0, 0);\n",
       "    };\n",
       "\n",
       "    this.imageObj.onunload = function () {\n",
       "        fig.ws.close();\n",
       "    };\n",
       "\n",
       "    this.ws.onmessage = this._make_on_message_function(this);\n",
       "\n",
       "    this.ondownload = ondownload;\n",
       "};\n",
       "\n",
       "mpl.figure.prototype._init_header = function () {\n",
       "    var titlebar = document.createElement('div');\n",
       "    titlebar.classList =\n",
       "        'ui-dialog-titlebar ui-widget-header ui-corner-all ui-helper-clearfix';\n",
       "    var titletext = document.createElement('div');\n",
       "    titletext.classList = 'ui-dialog-title';\n",
       "    titletext.setAttribute(\n",
       "        'style',\n",
       "        'width: 100%; text-align: center; padding: 3px;'\n",
       "    );\n",
       "    titlebar.appendChild(titletext);\n",
       "    this.root.appendChild(titlebar);\n",
       "    this.header = titletext;\n",
       "};\n",
       "\n",
       "mpl.figure.prototype._canvas_extra_style = function (_canvas_div) {};\n",
       "\n",
       "mpl.figure.prototype._root_extra_style = function (_canvas_div) {};\n",
       "\n",
       "mpl.figure.prototype._init_canvas = function () {\n",
       "    var fig = this;\n",
       "\n",
       "    var canvas_div = (this.canvas_div = document.createElement('div'));\n",
       "    canvas_div.setAttribute(\n",
       "        'style',\n",
       "        'border: 1px solid #ddd;' +\n",
       "            'box-sizing: content-box;' +\n",
       "            'clear: both;' +\n",
       "            'min-height: 1px;' +\n",
       "            'min-width: 1px;' +\n",
       "            'outline: 0;' +\n",
       "            'overflow: hidden;' +\n",
       "            'position: relative;' +\n",
       "            'resize: both;'\n",
       "    );\n",
       "\n",
       "    function on_keyboard_event_closure(name) {\n",
       "        return function (event) {\n",
       "            return fig.key_event(event, name);\n",
       "        };\n",
       "    }\n",
       "\n",
       "    canvas_div.addEventListener(\n",
       "        'keydown',\n",
       "        on_keyboard_event_closure('key_press')\n",
       "    );\n",
       "    canvas_div.addEventListener(\n",
       "        'keyup',\n",
       "        on_keyboard_event_closure('key_release')\n",
       "    );\n",
       "\n",
       "    this._canvas_extra_style(canvas_div);\n",
       "    this.root.appendChild(canvas_div);\n",
       "\n",
       "    var canvas = (this.canvas = document.createElement('canvas'));\n",
       "    canvas.classList.add('mpl-canvas');\n",
       "    canvas.setAttribute('style', 'box-sizing: content-box;');\n",
       "\n",
       "    this.context = canvas.getContext('2d');\n",
       "\n",
       "    var backingStore =\n",
       "        this.context.backingStorePixelRatio ||\n",
       "        this.context.webkitBackingStorePixelRatio ||\n",
       "        this.context.mozBackingStorePixelRatio ||\n",
       "        this.context.msBackingStorePixelRatio ||\n",
       "        this.context.oBackingStorePixelRatio ||\n",
       "        this.context.backingStorePixelRatio ||\n",
       "        1;\n",
       "\n",
       "    this.ratio = (window.devicePixelRatio || 1) / backingStore;\n",
       "\n",
       "    var rubberband_canvas = (this.rubberband_canvas = document.createElement(\n",
       "        'canvas'\n",
       "    ));\n",
       "    rubberband_canvas.setAttribute(\n",
       "        'style',\n",
       "        'box-sizing: content-box; position: absolute; left: 0; top: 0; z-index: 1;'\n",
       "    );\n",
       "\n",
       "    // Apply a ponyfill if ResizeObserver is not implemented by browser.\n",
       "    if (this.ResizeObserver === undefined) {\n",
       "        if (window.ResizeObserver !== undefined) {\n",
       "            this.ResizeObserver = window.ResizeObserver;\n",
       "        } else {\n",
       "            var obs = _JSXTOOLS_RESIZE_OBSERVER({});\n",
       "            this.ResizeObserver = obs.ResizeObserver;\n",
       "        }\n",
       "    }\n",
       "\n",
       "    this.resizeObserverInstance = new this.ResizeObserver(function (entries) {\n",
       "        var nentries = entries.length;\n",
       "        for (var i = 0; i < nentries; i++) {\n",
       "            var entry = entries[i];\n",
       "            var width, height;\n",
       "            if (entry.contentBoxSize) {\n",
       "                if (entry.contentBoxSize instanceof Array) {\n",
       "                    // Chrome 84 implements new version of spec.\n",
       "                    width = entry.contentBoxSize[0].inlineSize;\n",
       "                    height = entry.contentBoxSize[0].blockSize;\n",
       "                } else {\n",
       "                    // Firefox implements old version of spec.\n",
       "                    width = entry.contentBoxSize.inlineSize;\n",
       "                    height = entry.contentBoxSize.blockSize;\n",
       "                }\n",
       "            } else {\n",
       "                // Chrome <84 implements even older version of spec.\n",
       "                width = entry.contentRect.width;\n",
       "                height = entry.contentRect.height;\n",
       "            }\n",
       "\n",
       "            // Keep the size of the canvas and rubber band canvas in sync with\n",
       "            // the canvas container.\n",
       "            if (entry.devicePixelContentBoxSize) {\n",
       "                // Chrome 84 implements new version of spec.\n",
       "                canvas.setAttribute(\n",
       "                    'width',\n",
       "                    entry.devicePixelContentBoxSize[0].inlineSize\n",
       "                );\n",
       "                canvas.setAttribute(\n",
       "                    'height',\n",
       "                    entry.devicePixelContentBoxSize[0].blockSize\n",
       "                );\n",
       "            } else {\n",
       "                canvas.setAttribute('width', width * fig.ratio);\n",
       "                canvas.setAttribute('height', height * fig.ratio);\n",
       "            }\n",
       "            canvas.setAttribute(\n",
       "                'style',\n",
       "                'width: ' + width + 'px; height: ' + height + 'px;'\n",
       "            );\n",
       "\n",
       "            rubberband_canvas.setAttribute('width', width);\n",
       "            rubberband_canvas.setAttribute('height', height);\n",
       "\n",
       "            // And update the size in Python. We ignore the initial 0/0 size\n",
       "            // that occurs as the element is placed into the DOM, which should\n",
       "            // otherwise not happen due to the minimum size styling.\n",
       "            if (fig.ws.readyState == 1 && width != 0 && height != 0) {\n",
       "                fig.request_resize(width, height);\n",
       "            }\n",
       "        }\n",
       "    });\n",
       "    this.resizeObserverInstance.observe(canvas_div);\n",
       "\n",
       "    function on_mouse_event_closure(name) {\n",
       "        return function (event) {\n",
       "            return fig.mouse_event(event, name);\n",
       "        };\n",
       "    }\n",
       "\n",
       "    rubberband_canvas.addEventListener(\n",
       "        'mousedown',\n",
       "        on_mouse_event_closure('button_press')\n",
       "    );\n",
       "    rubberband_canvas.addEventListener(\n",
       "        'mouseup',\n",
       "        on_mouse_event_closure('button_release')\n",
       "    );\n",
       "    rubberband_canvas.addEventListener(\n",
       "        'dblclick',\n",
       "        on_mouse_event_closure('dblclick')\n",
       "    );\n",
       "    // Throttle sequential mouse events to 1 every 20ms.\n",
       "    rubberband_canvas.addEventListener(\n",
       "        'mousemove',\n",
       "        on_mouse_event_closure('motion_notify')\n",
       "    );\n",
       "\n",
       "    rubberband_canvas.addEventListener(\n",
       "        'mouseenter',\n",
       "        on_mouse_event_closure('figure_enter')\n",
       "    );\n",
       "    rubberband_canvas.addEventListener(\n",
       "        'mouseleave',\n",
       "        on_mouse_event_closure('figure_leave')\n",
       "    );\n",
       "\n",
       "    canvas_div.addEventListener('wheel', function (event) {\n",
       "        if (event.deltaY < 0) {\n",
       "            event.step = 1;\n",
       "        } else {\n",
       "            event.step = -1;\n",
       "        }\n",
       "        on_mouse_event_closure('scroll')(event);\n",
       "    });\n",
       "\n",
       "    canvas_div.appendChild(canvas);\n",
       "    canvas_div.appendChild(rubberband_canvas);\n",
       "\n",
       "    this.rubberband_context = rubberband_canvas.getContext('2d');\n",
       "    this.rubberband_context.strokeStyle = '#000000';\n",
       "\n",
       "    this._resize_canvas = function (width, height, forward) {\n",
       "        if (forward) {\n",
       "            canvas_div.style.width = width + 'px';\n",
       "            canvas_div.style.height = height + 'px';\n",
       "        }\n",
       "    };\n",
       "\n",
       "    // Disable right mouse context menu.\n",
       "    this.rubberband_canvas.addEventListener('contextmenu', function (_e) {\n",
       "        event.preventDefault();\n",
       "        return false;\n",
       "    });\n",
       "\n",
       "    function set_focus() {\n",
       "        canvas.focus();\n",
       "        canvas_div.focus();\n",
       "    }\n",
       "\n",
       "    window.setTimeout(set_focus, 100);\n",
       "};\n",
       "\n",
       "mpl.figure.prototype._init_toolbar = function () {\n",
       "    var fig = this;\n",
       "\n",
       "    var toolbar = document.createElement('div');\n",
       "    toolbar.classList = 'mpl-toolbar';\n",
       "    this.root.appendChild(toolbar);\n",
       "\n",
       "    function on_click_closure(name) {\n",
       "        return function (_event) {\n",
       "            return fig.toolbar_button_onclick(name);\n",
       "        };\n",
       "    }\n",
       "\n",
       "    function on_mouseover_closure(tooltip) {\n",
       "        return function (event) {\n",
       "            if (!event.currentTarget.disabled) {\n",
       "                return fig.toolbar_button_onmouseover(tooltip);\n",
       "            }\n",
       "        };\n",
       "    }\n",
       "\n",
       "    fig.buttons = {};\n",
       "    var buttonGroup = document.createElement('div');\n",
       "    buttonGroup.classList = 'mpl-button-group';\n",
       "    for (var toolbar_ind in mpl.toolbar_items) {\n",
       "        var name = mpl.toolbar_items[toolbar_ind][0];\n",
       "        var tooltip = mpl.toolbar_items[toolbar_ind][1];\n",
       "        var image = mpl.toolbar_items[toolbar_ind][2];\n",
       "        var method_name = mpl.toolbar_items[toolbar_ind][3];\n",
       "\n",
       "        if (!name) {\n",
       "            /* Instead of a spacer, we start a new button group. */\n",
       "            if (buttonGroup.hasChildNodes()) {\n",
       "                toolbar.appendChild(buttonGroup);\n",
       "            }\n",
       "            buttonGroup = document.createElement('div');\n",
       "            buttonGroup.classList = 'mpl-button-group';\n",
       "            continue;\n",
       "        }\n",
       "\n",
       "        var button = (fig.buttons[name] = document.createElement('button'));\n",
       "        button.classList = 'mpl-widget';\n",
       "        button.setAttribute('role', 'button');\n",
       "        button.setAttribute('aria-disabled', 'false');\n",
       "        button.addEventListener('click', on_click_closure(method_name));\n",
       "        button.addEventListener('mouseover', on_mouseover_closure(tooltip));\n",
       "\n",
       "        var icon_img = document.createElement('img');\n",
       "        icon_img.src = '_images/' + image + '.png';\n",
       "        icon_img.srcset = '_images/' + image + '_large.png 2x';\n",
       "        icon_img.alt = tooltip;\n",
       "        button.appendChild(icon_img);\n",
       "\n",
       "        buttonGroup.appendChild(button);\n",
       "    }\n",
       "\n",
       "    if (buttonGroup.hasChildNodes()) {\n",
       "        toolbar.appendChild(buttonGroup);\n",
       "    }\n",
       "\n",
       "    var fmt_picker = document.createElement('select');\n",
       "    fmt_picker.classList = 'mpl-widget';\n",
       "    toolbar.appendChild(fmt_picker);\n",
       "    this.format_dropdown = fmt_picker;\n",
       "\n",
       "    for (var ind in mpl.extensions) {\n",
       "        var fmt = mpl.extensions[ind];\n",
       "        var option = document.createElement('option');\n",
       "        option.selected = fmt === mpl.default_extension;\n",
       "        option.innerHTML = fmt;\n",
       "        fmt_picker.appendChild(option);\n",
       "    }\n",
       "\n",
       "    var status_bar = document.createElement('span');\n",
       "    status_bar.classList = 'mpl-message';\n",
       "    toolbar.appendChild(status_bar);\n",
       "    this.message = status_bar;\n",
       "};\n",
       "\n",
       "mpl.figure.prototype.request_resize = function (x_pixels, y_pixels) {\n",
       "    // Request matplotlib to resize the figure. Matplotlib will then trigger a resize in the client,\n",
       "    // which will in turn request a refresh of the image.\n",
       "    this.send_message('resize', { width: x_pixels, height: y_pixels });\n",
       "};\n",
       "\n",
       "mpl.figure.prototype.send_message = function (type, properties) {\n",
       "    properties['type'] = type;\n",
       "    properties['figure_id'] = this.id;\n",
       "    this.ws.send(JSON.stringify(properties));\n",
       "};\n",
       "\n",
       "mpl.figure.prototype.send_draw_message = function () {\n",
       "    if (!this.waiting) {\n",
       "        this.waiting = true;\n",
       "        this.ws.send(JSON.stringify({ type: 'draw', figure_id: this.id }));\n",
       "    }\n",
       "};\n",
       "\n",
       "mpl.figure.prototype.handle_save = function (fig, _msg) {\n",
       "    var format_dropdown = fig.format_dropdown;\n",
       "    var format = format_dropdown.options[format_dropdown.selectedIndex].value;\n",
       "    fig.ondownload(fig, format);\n",
       "};\n",
       "\n",
       "mpl.figure.prototype.handle_resize = function (fig, msg) {\n",
       "    var size = msg['size'];\n",
       "    if (size[0] !== fig.canvas.width || size[1] !== fig.canvas.height) {\n",
       "        fig._resize_canvas(size[0], size[1], msg['forward']);\n",
       "        fig.send_message('refresh', {});\n",
       "    }\n",
       "};\n",
       "\n",
       "mpl.figure.prototype.handle_rubberband = function (fig, msg) {\n",
       "    var x0 = msg['x0'] / fig.ratio;\n",
       "    var y0 = (fig.canvas.height - msg['y0']) / fig.ratio;\n",
       "    var x1 = msg['x1'] / fig.ratio;\n",
       "    var y1 = (fig.canvas.height - msg['y1']) / fig.ratio;\n",
       "    x0 = Math.floor(x0) + 0.5;\n",
       "    y0 = Math.floor(y0) + 0.5;\n",
       "    x1 = Math.floor(x1) + 0.5;\n",
       "    y1 = Math.floor(y1) + 0.5;\n",
       "    var min_x = Math.min(x0, x1);\n",
       "    var min_y = Math.min(y0, y1);\n",
       "    var width = Math.abs(x1 - x0);\n",
       "    var height = Math.abs(y1 - y0);\n",
       "\n",
       "    fig.rubberband_context.clearRect(\n",
       "        0,\n",
       "        0,\n",
       "        fig.canvas.width / fig.ratio,\n",
       "        fig.canvas.height / fig.ratio\n",
       "    );\n",
       "\n",
       "    fig.rubberband_context.strokeRect(min_x, min_y, width, height);\n",
       "};\n",
       "\n",
       "mpl.figure.prototype.handle_figure_label = function (fig, msg) {\n",
       "    // Updates the figure title.\n",
       "    fig.header.textContent = msg['label'];\n",
       "};\n",
       "\n",
       "mpl.figure.prototype.handle_cursor = function (fig, msg) {\n",
       "    var cursor = msg['cursor'];\n",
       "    switch (cursor) {\n",
       "        case 0:\n",
       "            cursor = 'pointer';\n",
       "            break;\n",
       "        case 1:\n",
       "            cursor = 'default';\n",
       "            break;\n",
       "        case 2:\n",
       "            cursor = 'crosshair';\n",
       "            break;\n",
       "        case 3:\n",
       "            cursor = 'move';\n",
       "            break;\n",
       "    }\n",
       "    fig.rubberband_canvas.style.cursor = cursor;\n",
       "};\n",
       "\n",
       "mpl.figure.prototype.handle_message = function (fig, msg) {\n",
       "    fig.message.textContent = msg['message'];\n",
       "};\n",
       "\n",
       "mpl.figure.prototype.handle_draw = function (fig, _msg) {\n",
       "    // Request the server to send over a new figure.\n",
       "    fig.send_draw_message();\n",
       "};\n",
       "\n",
       "mpl.figure.prototype.handle_image_mode = function (fig, msg) {\n",
       "    fig.image_mode = msg['mode'];\n",
       "};\n",
       "\n",
       "mpl.figure.prototype.handle_history_buttons = function (fig, msg) {\n",
       "    for (var key in msg) {\n",
       "        if (!(key in fig.buttons)) {\n",
       "            continue;\n",
       "        }\n",
       "        fig.buttons[key].disabled = !msg[key];\n",
       "        fig.buttons[key].setAttribute('aria-disabled', !msg[key]);\n",
       "    }\n",
       "};\n",
       "\n",
       "mpl.figure.prototype.handle_navigate_mode = function (fig, msg) {\n",
       "    if (msg['mode'] === 'PAN') {\n",
       "        fig.buttons['Pan'].classList.add('active');\n",
       "        fig.buttons['Zoom'].classList.remove('active');\n",
       "    } else if (msg['mode'] === 'ZOOM') {\n",
       "        fig.buttons['Pan'].classList.remove('active');\n",
       "        fig.buttons['Zoom'].classList.add('active');\n",
       "    } else {\n",
       "        fig.buttons['Pan'].classList.remove('active');\n",
       "        fig.buttons['Zoom'].classList.remove('active');\n",
       "    }\n",
       "};\n",
       "\n",
       "mpl.figure.prototype.updated_canvas_event = function () {\n",
       "    // Called whenever the canvas gets updated.\n",
       "    this.send_message('ack', {});\n",
       "};\n",
       "\n",
       "// A function to construct a web socket function for onmessage handling.\n",
       "// Called in the figure constructor.\n",
       "mpl.figure.prototype._make_on_message_function = function (fig) {\n",
       "    return function socket_on_message(evt) {\n",
       "        if (evt.data instanceof Blob) {\n",
       "            var img = evt.data;\n",
       "            if (img.type !== 'image/png') {\n",
       "                /* FIXME: We get \"Resource interpreted as Image but\n",
       "                 * transferred with MIME type text/plain:\" errors on\n",
       "                 * Chrome.  But how to set the MIME type?  It doesn't seem\n",
       "                 * to be part of the websocket stream */\n",
       "                img.type = 'image/png';\n",
       "            }\n",
       "\n",
       "            /* Free the memory for the previous frames */\n",
       "            if (fig.imageObj.src) {\n",
       "                (window.URL || window.webkitURL).revokeObjectURL(\n",
       "                    fig.imageObj.src\n",
       "                );\n",
       "            }\n",
       "\n",
       "            fig.imageObj.src = (window.URL || window.webkitURL).createObjectURL(\n",
       "                img\n",
       "            );\n",
       "            fig.updated_canvas_event();\n",
       "            fig.waiting = false;\n",
       "            return;\n",
       "        } else if (\n",
       "            typeof evt.data === 'string' &&\n",
       "            evt.data.slice(0, 21) === 'data:image/png;base64'\n",
       "        ) {\n",
       "            fig.imageObj.src = evt.data;\n",
       "            fig.updated_canvas_event();\n",
       "            fig.waiting = false;\n",
       "            return;\n",
       "        }\n",
       "\n",
       "        var msg = JSON.parse(evt.data);\n",
       "        var msg_type = msg['type'];\n",
       "\n",
       "        // Call the  \"handle_{type}\" callback, which takes\n",
       "        // the figure and JSON message as its only arguments.\n",
       "        try {\n",
       "            var callback = fig['handle_' + msg_type];\n",
       "        } catch (e) {\n",
       "            console.log(\n",
       "                \"No handler for the '\" + msg_type + \"' message type: \",\n",
       "                msg\n",
       "            );\n",
       "            return;\n",
       "        }\n",
       "\n",
       "        if (callback) {\n",
       "            try {\n",
       "                // console.log(\"Handling '\" + msg_type + \"' message: \", msg);\n",
       "                callback(fig, msg);\n",
       "            } catch (e) {\n",
       "                console.log(\n",
       "                    \"Exception inside the 'handler_\" + msg_type + \"' callback:\",\n",
       "                    e,\n",
       "                    e.stack,\n",
       "                    msg\n",
       "                );\n",
       "            }\n",
       "        }\n",
       "    };\n",
       "};\n",
       "\n",
       "// from http://stackoverflow.com/questions/1114465/getting-mouse-location-in-canvas\n",
       "mpl.findpos = function (e) {\n",
       "    //this section is from http://www.quirksmode.org/js/events_properties.html\n",
       "    var targ;\n",
       "    if (!e) {\n",
       "        e = window.event;\n",
       "    }\n",
       "    if (e.target) {\n",
       "        targ = e.target;\n",
       "    } else if (e.srcElement) {\n",
       "        targ = e.srcElement;\n",
       "    }\n",
       "    if (targ.nodeType === 3) {\n",
       "        // defeat Safari bug\n",
       "        targ = targ.parentNode;\n",
       "    }\n",
       "\n",
       "    // pageX,Y are the mouse positions relative to the document\n",
       "    var boundingRect = targ.getBoundingClientRect();\n",
       "    var x = e.pageX - (boundingRect.left + document.body.scrollLeft);\n",
       "    var y = e.pageY - (boundingRect.top + document.body.scrollTop);\n",
       "\n",
       "    return { x: x, y: y };\n",
       "};\n",
       "\n",
       "/*\n",
       " * return a copy of an object with only non-object keys\n",
       " * we need this to avoid circular references\n",
       " * http://stackoverflow.com/a/24161582/3208463\n",
       " */\n",
       "function simpleKeys(original) {\n",
       "    return Object.keys(original).reduce(function (obj, key) {\n",
       "        if (typeof original[key] !== 'object') {\n",
       "            obj[key] = original[key];\n",
       "        }\n",
       "        return obj;\n",
       "    }, {});\n",
       "}\n",
       "\n",
       "mpl.figure.prototype.mouse_event = function (event, name) {\n",
       "    var canvas_pos = mpl.findpos(event);\n",
       "\n",
       "    if (name === 'button_press') {\n",
       "        this.canvas.focus();\n",
       "        this.canvas_div.focus();\n",
       "    }\n",
       "\n",
       "    var x = canvas_pos.x * this.ratio;\n",
       "    var y = canvas_pos.y * this.ratio;\n",
       "\n",
       "    this.send_message(name, {\n",
       "        x: x,\n",
       "        y: y,\n",
       "        button: event.button,\n",
       "        step: event.step,\n",
       "        guiEvent: simpleKeys(event),\n",
       "    });\n",
       "\n",
       "    /* This prevents the web browser from automatically changing to\n",
       "     * the text insertion cursor when the button is pressed.  We want\n",
       "     * to control all of the cursor setting manually through the\n",
       "     * 'cursor' event from matplotlib */\n",
       "    event.preventDefault();\n",
       "    return false;\n",
       "};\n",
       "\n",
       "mpl.figure.prototype._key_event_extra = function (_event, _name) {\n",
       "    // Handle any extra behaviour associated with a key event\n",
       "};\n",
       "\n",
       "mpl.figure.prototype.key_event = function (event, name) {\n",
       "    // Prevent repeat events\n",
       "    if (name === 'key_press') {\n",
       "        if (event.key === this._key) {\n",
       "            return;\n",
       "        } else {\n",
       "            this._key = event.key;\n",
       "        }\n",
       "    }\n",
       "    if (name === 'key_release') {\n",
       "        this._key = null;\n",
       "    }\n",
       "\n",
       "    var value = '';\n",
       "    if (event.ctrlKey && event.key !== 'Control') {\n",
       "        value += 'ctrl+';\n",
       "    }\n",
       "    else if (event.altKey && event.key !== 'Alt') {\n",
       "        value += 'alt+';\n",
       "    }\n",
       "    else if (event.shiftKey && event.key !== 'Shift') {\n",
       "        value += 'shift+';\n",
       "    }\n",
       "\n",
       "    value += 'k' + event.key;\n",
       "\n",
       "    this._key_event_extra(event, name);\n",
       "\n",
       "    this.send_message(name, { key: value, guiEvent: simpleKeys(event) });\n",
       "    return false;\n",
       "};\n",
       "\n",
       "mpl.figure.prototype.toolbar_button_onclick = function (name) {\n",
       "    if (name === 'download') {\n",
       "        this.handle_save(this, null);\n",
       "    } else {\n",
       "        this.send_message('toolbar_button', { name: name });\n",
       "    }\n",
       "};\n",
       "\n",
       "mpl.figure.prototype.toolbar_button_onmouseover = function (tooltip) {\n",
       "    this.message.textContent = tooltip;\n",
       "};\n",
       "\n",
       "///////////////// REMAINING CONTENT GENERATED BY embed_js.py /////////////////\n",
       "// prettier-ignore\n",
       "var _JSXTOOLS_RESIZE_OBSERVER=function(A){var t,i=new WeakMap,n=new WeakMap,a=new WeakMap,r=new WeakMap,o=new Set;function s(e){if(!(this instanceof s))throw new TypeError(\"Constructor requires 'new' operator\");i.set(this,e)}function h(){throw new TypeError(\"Function is not a constructor\")}function c(e,t,i,n){e=0 in arguments?Number(arguments[0]):0,t=1 in arguments?Number(arguments[1]):0,i=2 in arguments?Number(arguments[2]):0,n=3 in arguments?Number(arguments[3]):0,this.right=(this.x=this.left=e)+(this.width=i),this.bottom=(this.y=this.top=t)+(this.height=n),Object.freeze(this)}function d(){t=requestAnimationFrame(d);var s=new WeakMap,p=new Set;o.forEach((function(t){r.get(t).forEach((function(i){var r=t instanceof window.SVGElement,o=a.get(t),d=r?0:parseFloat(o.paddingTop),f=r?0:parseFloat(o.paddingRight),l=r?0:parseFloat(o.paddingBottom),u=r?0:parseFloat(o.paddingLeft),g=r?0:parseFloat(o.borderTopWidth),m=r?0:parseFloat(o.borderRightWidth),w=r?0:parseFloat(o.borderBottomWidth),b=u+f,F=d+l,v=(r?0:parseFloat(o.borderLeftWidth))+m,W=g+w,y=r?0:t.offsetHeight-W-t.clientHeight,E=r?0:t.offsetWidth-v-t.clientWidth,R=b+v,z=F+W,M=r?t.width:parseFloat(o.width)-R-E,O=r?t.height:parseFloat(o.height)-z-y;if(n.has(t)){var k=n.get(t);if(k[0]===M&&k[1]===O)return}n.set(t,[M,O]);var S=Object.create(h.prototype);S.target=t,S.contentRect=new c(u,d,M,O),s.has(i)||(s.set(i,[]),p.add(i)),s.get(i).push(S)}))})),p.forEach((function(e){i.get(e).call(e,s.get(e),e)}))}return s.prototype.observe=function(i){if(i instanceof window.Element){r.has(i)||(r.set(i,new Set),o.add(i),a.set(i,window.getComputedStyle(i)));var n=r.get(i);n.has(this)||n.add(this),cancelAnimationFrame(t),t=requestAnimationFrame(d)}},s.prototype.unobserve=function(i){if(i instanceof window.Element&&r.has(i)){var n=r.get(i);n.has(this)&&(n.delete(this),n.size||(r.delete(i),o.delete(i))),n.size||r.delete(i),o.size||cancelAnimationFrame(t)}},A.DOMRectReadOnly=c,A.ResizeObserver=s,A.ResizeObserverEntry=h,A}; // eslint-disable-line\n",
       "mpl.toolbar_items = [[\"Home\", \"Reset original view\", \"fa fa-home icon-home\", \"home\"], [\"Back\", \"Back to previous view\", \"fa fa-arrow-left icon-arrow-left\", \"back\"], [\"Forward\", \"Forward to next view\", \"fa fa-arrow-right icon-arrow-right\", \"forward\"], [\"\", \"\", \"\", \"\"], [\"Pan\", \"Left button pans, Right button zooms\\nx/y fixes axis, CTRL fixes aspect\", \"fa fa-arrows icon-move\", \"pan\"], [\"Zoom\", \"Zoom to rectangle\\nx/y fixes axis, CTRL fixes aspect\", \"fa fa-square-o icon-check-empty\", \"zoom\"], [\"\", \"\", \"\", \"\"], [\"Download\", \"Download plot\", \"fa fa-floppy-o icon-save\", \"download\"]];\n",
       "\n",
       "mpl.extensions = [\"eps\", \"jpeg\", \"pgf\", \"pdf\", \"png\", \"ps\", \"raw\", \"svg\", \"tif\"];\n",
       "\n",
       "mpl.default_extension = \"png\";/* global mpl */\n",
       "\n",
       "var comm_websocket_adapter = function (comm) {\n",
       "    // Create a \"websocket\"-like object which calls the given IPython comm\n",
       "    // object with the appropriate methods. Currently this is a non binary\n",
       "    // socket, so there is still some room for performance tuning.\n",
       "    var ws = {};\n",
       "\n",
       "    ws.binaryType = comm.kernel.ws.binaryType;\n",
       "    ws.readyState = comm.kernel.ws.readyState;\n",
       "    function updateReadyState(_event) {\n",
       "        if (comm.kernel.ws) {\n",
       "            ws.readyState = comm.kernel.ws.readyState;\n",
       "        } else {\n",
       "            ws.readyState = 3; // Closed state.\n",
       "        }\n",
       "    }\n",
       "    comm.kernel.ws.addEventListener('open', updateReadyState);\n",
       "    comm.kernel.ws.addEventListener('close', updateReadyState);\n",
       "    comm.kernel.ws.addEventListener('error', updateReadyState);\n",
       "\n",
       "    ws.close = function () {\n",
       "        comm.close();\n",
       "    };\n",
       "    ws.send = function (m) {\n",
       "        //console.log('sending', m);\n",
       "        comm.send(m);\n",
       "    };\n",
       "    // Register the callback with on_msg.\n",
       "    comm.on_msg(function (msg) {\n",
       "        //console.log('receiving', msg['content']['data'], msg);\n",
       "        var data = msg['content']['data'];\n",
       "        if (data['blob'] !== undefined) {\n",
       "            data = {\n",
       "                data: new Blob(msg['buffers'], { type: data['blob'] }),\n",
       "            };\n",
       "        }\n",
       "        // Pass the mpl event to the overridden (by mpl) onmessage function.\n",
       "        ws.onmessage(data);\n",
       "    });\n",
       "    return ws;\n",
       "};\n",
       "\n",
       "mpl.mpl_figure_comm = function (comm, msg) {\n",
       "    // This is the function which gets called when the mpl process\n",
       "    // starts-up an IPython Comm through the \"matplotlib\" channel.\n",
       "\n",
       "    var id = msg.content.data.id;\n",
       "    // Get hold of the div created by the display call when the Comm\n",
       "    // socket was opened in Python.\n",
       "    var element = document.getElementById(id);\n",
       "    var ws_proxy = comm_websocket_adapter(comm);\n",
       "\n",
       "    function ondownload(figure, _format) {\n",
       "        window.open(figure.canvas.toDataURL());\n",
       "    }\n",
       "\n",
       "    var fig = new mpl.figure(id, ws_proxy, ondownload, element);\n",
       "\n",
       "    // Call onopen now - mpl needs it, as it is assuming we've passed it a real\n",
       "    // web socket which is closed, not our websocket->open comm proxy.\n",
       "    ws_proxy.onopen();\n",
       "\n",
       "    fig.parent_element = element;\n",
       "    fig.cell_info = mpl.find_output_cell(\"<div id='\" + id + \"'></div>\");\n",
       "    if (!fig.cell_info) {\n",
       "        console.error('Failed to find cell for figure', id, fig);\n",
       "        return;\n",
       "    }\n",
       "    fig.cell_info[0].output_area.element.on(\n",
       "        'cleared',\n",
       "        { fig: fig },\n",
       "        fig._remove_fig_handler\n",
       "    );\n",
       "};\n",
       "\n",
       "mpl.figure.prototype.handle_close = function (fig, msg) {\n",
       "    var width = fig.canvas.width / fig.ratio;\n",
       "    fig.cell_info[0].output_area.element.off(\n",
       "        'cleared',\n",
       "        fig._remove_fig_handler\n",
       "    );\n",
       "    fig.resizeObserverInstance.unobserve(fig.canvas_div);\n",
       "\n",
       "    // Update the output cell to use the data from the current canvas.\n",
       "    fig.push_to_output();\n",
       "    var dataURL = fig.canvas.toDataURL();\n",
       "    // Re-enable the keyboard manager in IPython - without this line, in FF,\n",
       "    // the notebook keyboard shortcuts fail.\n",
       "    IPython.keyboard_manager.enable();\n",
       "    fig.parent_element.innerHTML =\n",
       "        '<img src=\"' + dataURL + '\" width=\"' + width + '\">';\n",
       "    fig.close_ws(fig, msg);\n",
       "};\n",
       "\n",
       "mpl.figure.prototype.close_ws = function (fig, msg) {\n",
       "    fig.send_message('closing', msg);\n",
       "    // fig.ws.close()\n",
       "};\n",
       "\n",
       "mpl.figure.prototype.push_to_output = function (_remove_interactive) {\n",
       "    // Turn the data on the canvas into data in the output cell.\n",
       "    var width = this.canvas.width / this.ratio;\n",
       "    var dataURL = this.canvas.toDataURL();\n",
       "    this.cell_info[1]['text/html'] =\n",
       "        '<img src=\"' + dataURL + '\" width=\"' + width + '\">';\n",
       "};\n",
       "\n",
       "mpl.figure.prototype.updated_canvas_event = function () {\n",
       "    // Tell IPython that the notebook contents must change.\n",
       "    IPython.notebook.set_dirty(true);\n",
       "    this.send_message('ack', {});\n",
       "    var fig = this;\n",
       "    // Wait a second, then push the new image to the DOM so\n",
       "    // that it is saved nicely (might be nice to debounce this).\n",
       "    setTimeout(function () {\n",
       "        fig.push_to_output();\n",
       "    }, 1000);\n",
       "};\n",
       "\n",
       "mpl.figure.prototype._init_toolbar = function () {\n",
       "    var fig = this;\n",
       "\n",
       "    var toolbar = document.createElement('div');\n",
       "    toolbar.classList = 'btn-toolbar';\n",
       "    this.root.appendChild(toolbar);\n",
       "\n",
       "    function on_click_closure(name) {\n",
       "        return function (_event) {\n",
       "            return fig.toolbar_button_onclick(name);\n",
       "        };\n",
       "    }\n",
       "\n",
       "    function on_mouseover_closure(tooltip) {\n",
       "        return function (event) {\n",
       "            if (!event.currentTarget.disabled) {\n",
       "                return fig.toolbar_button_onmouseover(tooltip);\n",
       "            }\n",
       "        };\n",
       "    }\n",
       "\n",
       "    fig.buttons = {};\n",
       "    var buttonGroup = document.createElement('div');\n",
       "    buttonGroup.classList = 'btn-group';\n",
       "    var button;\n",
       "    for (var toolbar_ind in mpl.toolbar_items) {\n",
       "        var name = mpl.toolbar_items[toolbar_ind][0];\n",
       "        var tooltip = mpl.toolbar_items[toolbar_ind][1];\n",
       "        var image = mpl.toolbar_items[toolbar_ind][2];\n",
       "        var method_name = mpl.toolbar_items[toolbar_ind][3];\n",
       "\n",
       "        if (!name) {\n",
       "            /* Instead of a spacer, we start a new button group. */\n",
       "            if (buttonGroup.hasChildNodes()) {\n",
       "                toolbar.appendChild(buttonGroup);\n",
       "            }\n",
       "            buttonGroup = document.createElement('div');\n",
       "            buttonGroup.classList = 'btn-group';\n",
       "            continue;\n",
       "        }\n",
       "\n",
       "        button = fig.buttons[name] = document.createElement('button');\n",
       "        button.classList = 'btn btn-default';\n",
       "        button.href = '#';\n",
       "        button.title = name;\n",
       "        button.innerHTML = '<i class=\"fa ' + image + ' fa-lg\"></i>';\n",
       "        button.addEventListener('click', on_click_closure(method_name));\n",
       "        button.addEventListener('mouseover', on_mouseover_closure(tooltip));\n",
       "        buttonGroup.appendChild(button);\n",
       "    }\n",
       "\n",
       "    if (buttonGroup.hasChildNodes()) {\n",
       "        toolbar.appendChild(buttonGroup);\n",
       "    }\n",
       "\n",
       "    // Add the status bar.\n",
       "    var status_bar = document.createElement('span');\n",
       "    status_bar.classList = 'mpl-message pull-right';\n",
       "    toolbar.appendChild(status_bar);\n",
       "    this.message = status_bar;\n",
       "\n",
       "    // Add the close button to the window.\n",
       "    var buttongrp = document.createElement('div');\n",
       "    buttongrp.classList = 'btn-group inline pull-right';\n",
       "    button = document.createElement('button');\n",
       "    button.classList = 'btn btn-mini btn-primary';\n",
       "    button.href = '#';\n",
       "    button.title = 'Stop Interaction';\n",
       "    button.innerHTML = '<i class=\"fa fa-power-off icon-remove icon-large\"></i>';\n",
       "    button.addEventListener('click', function (_evt) {\n",
       "        fig.handle_close(fig, {});\n",
       "    });\n",
       "    button.addEventListener(\n",
       "        'mouseover',\n",
       "        on_mouseover_closure('Stop Interaction')\n",
       "    );\n",
       "    buttongrp.appendChild(button);\n",
       "    var titlebar = this.root.querySelector('.ui-dialog-titlebar');\n",
       "    titlebar.insertBefore(buttongrp, titlebar.firstChild);\n",
       "};\n",
       "\n",
       "mpl.figure.prototype._remove_fig_handler = function (event) {\n",
       "    var fig = event.data.fig;\n",
       "    if (event.target !== this) {\n",
       "        // Ignore bubbled events from children.\n",
       "        return;\n",
       "    }\n",
       "    fig.close_ws(fig, {});\n",
       "};\n",
       "\n",
       "mpl.figure.prototype._root_extra_style = function (el) {\n",
       "    el.style.boxSizing = 'content-box'; // override notebook setting of border-box.\n",
       "};\n",
       "\n",
       "mpl.figure.prototype._canvas_extra_style = function (el) {\n",
       "    // this is important to make the div 'focusable\n",
       "    el.setAttribute('tabindex', 0);\n",
       "    // reach out to IPython and tell the keyboard manager to turn it's self\n",
       "    // off when our div gets focus\n",
       "\n",
       "    // location in version 3\n",
       "    if (IPython.notebook.keyboard_manager) {\n",
       "        IPython.notebook.keyboard_manager.register_events(el);\n",
       "    } else {\n",
       "        // location in version 2\n",
       "        IPython.keyboard_manager.register_events(el);\n",
       "    }\n",
       "};\n",
       "\n",
       "mpl.figure.prototype._key_event_extra = function (event, _name) {\n",
       "    var manager = IPython.notebook.keyboard_manager;\n",
       "    if (!manager) {\n",
       "        manager = IPython.keyboard_manager;\n",
       "    }\n",
       "\n",
       "    // Check for shift+enter\n",
       "    if (event.shiftKey && event.which === 13) {\n",
       "        this.canvas_div.blur();\n",
       "        // select the cell after this one\n",
       "        var index = IPython.notebook.find_cell_index(this.cell_info[0]);\n",
       "        IPython.notebook.select(index + 1);\n",
       "    }\n",
       "};\n",
       "\n",
       "mpl.figure.prototype.handle_save = function (fig, _msg) {\n",
       "    fig.ondownload(fig, null);\n",
       "};\n",
       "\n",
       "mpl.find_output_cell = function (html_output) {\n",
       "    // Return the cell and output element which can be found *uniquely* in the notebook.\n",
       "    // Note - this is a bit hacky, but it is done because the \"notebook_saving.Notebook\"\n",
       "    // IPython event is triggered only after the cells have been serialised, which for\n",
       "    // our purposes (turning an active figure into a static one), is too late.\n",
       "    var cells = IPython.notebook.get_cells();\n",
       "    var ncells = cells.length;\n",
       "    for (var i = 0; i < ncells; i++) {\n",
       "        var cell = cells[i];\n",
       "        if (cell.cell_type === 'code') {\n",
       "            for (var j = 0; j < cell.output_area.outputs.length; j++) {\n",
       "                var data = cell.output_area.outputs[j];\n",
       "                if (data.data) {\n",
       "                    // IPython >= 3 moved mimebundle to data attribute of output\n",
       "                    data = data.data;\n",
       "                }\n",
       "                if (data['text/html'] === html_output) {\n",
       "                    return [cell, data, j];\n",
       "                }\n",
       "            }\n",
       "        }\n",
       "    }\n",
       "};\n",
       "\n",
       "// Register the function which deals with the matplotlib target/channel.\n",
       "// The kernel may be null if the page has been refreshed.\n",
       "if (IPython.notebook.kernel !== null) {\n",
       "    IPython.notebook.kernel.comm_manager.register_target(\n",
       "        'matplotlib',\n",
       "        mpl.mpl_figure_comm\n",
       "    );\n",
       "}\n"
      ],
      "text/plain": [
       "<IPython.core.display.Javascript object>"
      ]
     },
     "metadata": {},
     "output_type": "display_data"
    },
    {
     "data": {
      "text/html": [
       "<img src=\"data:image/png;base64,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\" width=\"640\">"
      ],
      "text/plain": [
       "<IPython.core.display.HTML object>"
      ]
     },
     "metadata": {},
     "output_type": "display_data"
    }
   ],
   "source": [
    "%matplotlib notebook\n",
    "import matplotlib.pyplot as plt\n",
    "\n",
    "from mpl_toolkits.mplot3d import Axes3D\n",
    "\n",
    "\n",
    "from matplotlib import interactive,pyplot\n",
    "from mpl_toolkits.mplot3d import Axes3D\n",
    "from numpy.random import rand\n",
    "from pylab import figure\n",
    "\n",
    " \n",
    "m=rand(3,3) # m is an array of (x,y,z) coordinate triplets\n",
    " \n",
    "fig = figure()\n",
    "ax = fig.add_subplot(projection='3d')\n",
    "\n",
    "newtextpos=df_mca.iloc[i]\n",
    "\n",
    "\n",
    "\n",
    "for i in range(len(df_mca)): #plot each point + its index as text above\n",
    "    if i==1 or i==0:\n",
    "        delta=-0.1\n",
    "    else:\n",
    "        delta=0.\n",
    "    ax.scatter(df_mca.iloc[i,0],df_mca.iloc[i,1],df_mca.iloc[i,2],color='b') \n",
    "    ax.text(df_mca.iloc[i,0],df_mca.iloc[i,1],df_mca.iloc[i,2]+delta,  '%s' % (index[i]), size=10, zorder=1,  \n",
    "    color='k') #size 20\n",
    "\n",
    "ax.set_xlabel(f'component 0 {round(mca.explained_inertia_[0]*100,1)}%', fontsize=14)\n",
    "ax.set_ylabel(f'component 1 {round(mca.explained_inertia_[1]*100,1)}%', fontsize=14)\n",
    "ax.set_zlabel(f'component 2 {round(mca.explained_inertia_[2]*100,1)}%', fontsize=14)\n",
    "ax.view_init(20., -20.)\n",
    "\n",
    "plt.show()\n",
    "#plt.savefig('DimensionsReductionSurvey2023_MCA_ALLVAR_1000dpi.pdf',dpi=1000,format='pdf')\n",
    "#plt.savefig('DimensionsReductionSurvey2023_MCA_ALLVAR_1000dpi.tiff',dpi=1000,format='tiff')\n",
    "\n",
    "\n",
    "\n"
   ]
  },
  {
   "cell_type": "code",
   "execution_count": 25,
   "metadata": {},
   "outputs": [
    {
     "data": {
      "application/vnd.plotly.v1+json": {
       "config": {
        "plotlyServerURL": "https://plot.ly"
       },
       "data": [
        {
         "diagonal": {
          "visible": false
         },
         "dimensions": [
          {
           "axis": {
            "matches": true
           },
           "label": "PC 1 (0.3%)",
           "values": [
            -0.6899145876680328
           ]
          },
          {
           "axis": {
            "matches": true
           },
           "label": "PC 2 (0.2%)",
           "values": [
            -0.11557762094037882
           ]
          },
          {
           "axis": {
            "matches": true
           },
           "label": "PC 3 (0.1%)",
           "values": [
            -0.23835673954649625
           ]
          }
         ],
         "hovertemplate": "index=ehrbase<br>%{xaxis.title.text}=%{x}<br>%{yaxis.title.text}=%{y}<extra></extra>",
         "legendgroup": "ehrbase",
         "marker": {
          "color": "#636efa",
          "symbol": 106
         },
         "name": "ehrbase",
         "showlegend": true,
         "type": "splom"
        },
        {
         "diagonal": {
          "visible": false
         },
         "dimensions": [
          {
           "axis": {
            "matches": true
           },
           "label": "PC 1 (0.3%)",
           "values": [
            -0.47982014169753134
           ]
          },
          {
           "axis": {
            "matches": true
           },
           "label": "PC 2 (0.2%)",
           "values": [
            0.41178181116889984
           ]
          },
          {
           "axis": {
            "matches": true
           },
           "label": "PC 3 (0.1%)",
           "values": [
            -0.4820685604391836
           ]
          }
         ],
         "hovertemplate": "index=better<br>%{xaxis.title.text}=%{x}<br>%{yaxis.title.text}=%{y}<extra></extra>",
         "legendgroup": "better",
         "marker": {
          "color": "#EF553B",
          "symbol": 306
         },
         "name": "better",
         "showlegend": true,
         "type": "splom"
        },
        {
         "diagonal": {
          "visible": false
         },
         "dimensions": [
          {
           "axis": {
            "matches": true
           },
           "label": "PC 1 (0.3%)",
           "values": [
            -0.1879846506014987
           ]
          },
          {
           "axis": {
            "matches": true
           },
           "label": "PC 2 (0.2%)",
           "values": [
            -0.26798886276755335
           ]
          },
          {
           "axis": {
            "matches": true
           },
           "label": "PC 3 (0.1%)",
           "values": [
            0.4246137397650314
           ]
          }
         ],
         "hovertemplate": "index=base24<br>%{xaxis.title.text}=%{x}<br>%{yaxis.title.text}=%{y}<extra></extra>",
         "legendgroup": "base24",
         "marker": {
          "color": "#00cc96",
          "symbol": 201
         },
         "name": "base24",
         "showlegend": true,
         "type": "splom"
        },
        {
         "diagonal": {
          "visible": false
         },
         "dimensions": [
          {
           "axis": {
            "matches": true
           },
           "label": "PC 1 (0.3%)",
           "values": [
            -0.31044089786173196
           ]
          },
          {
           "axis": {
            "matches": true
           },
           "label": "PC 2 (0.2%)",
           "values": [
            -0.25506101787605867
           ]
          },
          {
           "axis": {
            "matches": true
           },
           "label": "PC 3 (0.1%)",
           "values": [
            0.5417173326389915
           ]
          }
         ],
         "hovertemplate": "index=cabo<br>%{xaxis.title.text}=%{x}<br>%{yaxis.title.text}=%{y}<extra></extra>",
         "legendgroup": "cabo",
         "marker": {
          "color": "#ab63fa",
          "symbol": 101
         },
         "name": "cabo",
         "showlegend": true,
         "type": "splom"
        },
        {
         "diagonal": {
          "visible": false
         },
         "dimensions": [
          {
           "axis": {
            "matches": true
           },
           "label": "PC 1 (0.3%)",
           "values": [
            -0.4720366299083768
           ]
          },
          {
           "axis": {
            "matches": true
           },
           "label": "PC 2 (0.2%)",
           "values": [
            -0.24023871914454747
           ]
          },
          {
           "axis": {
            "matches": true
           },
           "label": "PC 3 (0.1%)",
           "values": [
            -0.05426951248495062
           ]
          }
         ],
         "hovertemplate": "index=arenaehr<br>%{xaxis.title.text}=%{x}<br>%{yaxis.title.text}=%{y}<extra></extra>",
         "legendgroup": "arenaehr",
         "marker": {
          "color": "#FFA15A",
          "symbol": 307
         },
         "name": "arenaehr",
         "showlegend": true,
         "type": "splom"
        },
        {
         "diagonal": {
          "visible": false
         },
         "dimensions": [
          {
           "axis": {
            "matches": true
           },
           "label": "PC 1 (0.3%)",
           "values": [
            1.1849235285036164
           ]
          },
          {
           "axis": {
            "matches": true
           },
           "label": "PC 2 (0.2%)",
           "values": [
            -0.7557021490308746
           ]
          },
          {
           "axis": {
            "matches": true
           },
           "label": "PC 3 (0.1%)",
           "values": [
            -0.4651877271861049
           ]
          }
         ],
         "hovertemplate": "index=eweave<br>%{xaxis.title.text}=%{x}<br>%{yaxis.title.text}=%{y}<extra></extra>",
         "legendgroup": "eweave",
         "marker": {
          "color": "#19d3f3",
          "symbol": 0
         },
         "name": "eweave",
         "showlegend": true,
         "type": "splom"
        },
        {
         "diagonal": {
          "visible": false
         },
         "dimensions": [
          {
           "axis": {
            "matches": true
           },
           "label": "PC 1 (0.3%)",
           "values": [
            -0.07984549951825795
           ]
          },
          {
           "axis": {
            "matches": true
           },
           "label": "PC 2 (0.2%)",
           "values": [
            -0.10873359683269983
           ]
          },
          {
           "axis": {
            "matches": true
           },
           "label": "PC 3 (0.1%)",
           "values": [
            0.32603562265757297
           ]
          }
         ],
         "hovertemplate": "index=ehrcare<br>%{xaxis.title.text}=%{x}<br>%{yaxis.title.text}=%{y}<extra></extra>",
         "legendgroup": "ehrcare",
         "marker": {
          "color": "#FF6692",
          "symbol": 105
         },
         "name": "ehrcare",
         "showlegend": true,
         "type": "splom"
        },
        {
         "diagonal": {
          "visible": false
         },
         "dimensions": [
          {
           "axis": {
            "matches": true
           },
           "label": "PC 1 (0.3%)",
           "values": [
            0.6763787786957578
           ]
          },
          {
           "axis": {
            "matches": true
           },
           "label": "PC 2 (0.2%)",
           "values": [
            0.7585536175133627
           ]
          },
          {
           "axis": {
            "matches": true
           },
           "label": "PC 3 (0.1%)",
           "values": [
            0.19591831156197653
           ]
          }
         ],
         "hovertemplate": "index=clever<br>%{xaxis.title.text}=%{x}<br>%{yaxis.title.text}=%{y}<extra></extra>",
         "legendgroup": "clever",
         "marker": {
          "color": "#B6E880",
          "symbol": 102
         },
         "name": "clever",
         "showlegend": true,
         "type": "splom"
        },
        {
         "diagonal": {
          "visible": false
         },
         "dimensions": [
          {
           "axis": {
            "matches": true
           },
           "label": "PC 1 (0.3%)",
           "values": [
            -0.3684161357986891
           ]
          },
          {
           "axis": {
            "matches": true
           },
           "label": "PC 2 (0.2%)",
           "values": [
            0.3660449291115158
           ]
          },
          {
           "axis": {
            "matches": true
           },
           "label": "PC 3 (0.1%)",
           "values": [
            -0.42813781488808633
           ]
          }
         ],
         "hovertemplate": "index=ehrdb<br>%{xaxis.title.text}=%{x}<br>%{yaxis.title.text}=%{y}<extra></extra>",
         "legendgroup": "ehrdb",
         "marker": {
          "color": "#FF97FF",
          "symbol": 108
         },
         "name": "ehrdb",
         "showlegend": true,
         "type": "splom"
        },
        {
         "diagonal": {
          "visible": false
         },
         "dimensions": [
          {
           "axis": {
            "matches": true
           },
           "label": "PC 1 (0.3%)",
           "values": [
            0.6624127424072569
           ]
          },
          {
           "axis": {
            "matches": true
           },
           "label": "PC 2 (0.2%)",
           "values": [
            0.6191379448022143
           ]
          },
          {
           "axis": {
            "matches": true
           },
           "label": "PC 3 (0.1%)",
           "values": [
            0.17063398305327732
           ]
          }
         ],
         "hovertemplate": "index=rhp<br>%{xaxis.title.text}=%{x}<br>%{yaxis.title.text}=%{y}<extra></extra>",
         "legendgroup": "rhp",
         "marker": {
          "color": "#FECB52",
          "symbol": 302
         },
         "name": "rhp",
         "showlegend": true,
         "type": "splom"
        },
        {
         "diagonal": {
          "visible": false
         },
         "dimensions": [
          {
           "axis": {
            "matches": true
           },
           "label": "PC 1 (0.3%)",
           "values": [
            0.06474349344748803
           ]
          },
          {
           "axis": {
            "matches": true
           },
           "label": "PC 2 (0.2%)",
           "values": [
            -0.4122163360038798
           ]
          },
          {
           "axis": {
            "matches": true
           },
           "label": "PC 3 (0.1%)",
           "values": [
            0.009101364867972533
           ]
          }
         ],
         "hovertemplate": "index=ehrn<br>%{xaxis.title.text}=%{x}<br>%{yaxis.title.text}=%{y}<extra></extra>",
         "legendgroup": "ehrn",
         "marker": {
          "color": "#636efa",
          "symbol": 107
         },
         "name": "ehrn",
         "showlegend": true,
         "type": "splom"
        }
       ],
       "layout": {
        "dragmode": "select",
        "legend": {
         "title": {
          "text": "index"
         },
         "tracegroupgap": 0
        },
        "margin": {
         "t": 60
        },
        "template": {
         "data": {
          "bar": [
           {
            "error_x": {
             "color": "#2a3f5f"
            },
            "error_y": {
             "color": "#2a3f5f"
            },
            "marker": {
             "line": {
              "color": "#E5ECF6",
              "width": 0.5
             },
             "pattern": {
              "fillmode": "overlay",
              "size": 10,
              "solidity": 0.2
             }
            },
            "type": "bar"
           }
          ],
          "barpolar": [
           {
            "marker": {
             "line": {
              "color": "#E5ECF6",
              "width": 0.5
             },
             "pattern": {
              "fillmode": "overlay",
              "size": 10,
              "solidity": 0.2
             }
            },
            "type": "barpolar"
           }
          ],
          "carpet": [
           {
            "aaxis": {
             "endlinecolor": "#2a3f5f",
             "gridcolor": "white",
             "linecolor": "white",
             "minorgridcolor": "white",
             "startlinecolor": "#2a3f5f"
            },
            "baxis": {
             "endlinecolor": "#2a3f5f",
             "gridcolor": "white",
             "linecolor": "white",
             "minorgridcolor": "white",
             "startlinecolor": "#2a3f5f"
            },
            "type": "carpet"
           }
          ],
          "choropleth": [
           {
            "colorbar": {
             "outlinewidth": 0,
             "ticks": ""
            },
            "type": "choropleth"
           }
          ],
          "contour": [
           {
            "colorbar": {
             "outlinewidth": 0,
             "ticks": ""
            },
            "colorscale": [
             [
              0,
              "#0d0887"
             ],
             [
              0.1111111111111111,
              "#46039f"
             ],
             [
              0.2222222222222222,
              "#7201a8"
             ],
             [
              0.3333333333333333,
              "#9c179e"
             ],
             [
              0.4444444444444444,
              "#bd3786"
             ],
             [
              0.5555555555555556,
              "#d8576b"
             ],
             [
              0.6666666666666666,
              "#ed7953"
             ],
             [
              0.7777777777777778,
              "#fb9f3a"
             ],
             [
              0.8888888888888888,
              "#fdca26"
             ],
             [
              1,
              "#f0f921"
             ]
            ],
            "type": "contour"
           }
          ],
          "contourcarpet": [
           {
            "colorbar": {
             "outlinewidth": 0,
             "ticks": ""
            },
            "type": "contourcarpet"
           }
          ],
          "heatmap": [
           {
            "colorbar": {
             "outlinewidth": 0,
             "ticks": ""
            },
            "colorscale": [
             [
              0,
              "#0d0887"
             ],
             [
              0.1111111111111111,
              "#46039f"
             ],
             [
              0.2222222222222222,
              "#7201a8"
             ],
             [
              0.3333333333333333,
              "#9c179e"
             ],
             [
              0.4444444444444444,
              "#bd3786"
             ],
             [
              0.5555555555555556,
              "#d8576b"
             ],
             [
              0.6666666666666666,
              "#ed7953"
             ],
             [
              0.7777777777777778,
              "#fb9f3a"
             ],
             [
              0.8888888888888888,
              "#fdca26"
             ],
             [
              1,
              "#f0f921"
             ]
            ],
            "type": "heatmap"
           }
          ],
          "heatmapgl": [
           {
            "colorbar": {
             "outlinewidth": 0,
             "ticks": ""
            },
            "colorscale": [
             [
              0,
              "#0d0887"
             ],
             [
              0.1111111111111111,
              "#46039f"
             ],
             [
              0.2222222222222222,
              "#7201a8"
             ],
             [
              0.3333333333333333,
              "#9c179e"
             ],
             [
              0.4444444444444444,
              "#bd3786"
             ],
             [
              0.5555555555555556,
              "#d8576b"
             ],
             [
              0.6666666666666666,
              "#ed7953"
             ],
             [
              0.7777777777777778,
              "#fb9f3a"
             ],
             [
              0.8888888888888888,
              "#fdca26"
             ],
             [
              1,
              "#f0f921"
             ]
            ],
            "type": "heatmapgl"
           }
          ],
          "histogram": [
           {
            "marker": {
             "pattern": {
              "fillmode": "overlay",
              "size": 10,
              "solidity": 0.2
             }
            },
            "type": "histogram"
           }
          ],
          "histogram2d": [
           {
            "colorbar": {
             "outlinewidth": 0,
             "ticks": ""
            },
            "colorscale": [
             [
              0,
              "#0d0887"
             ],
             [
              0.1111111111111111,
              "#46039f"
             ],
             [
              0.2222222222222222,
              "#7201a8"
             ],
             [
              0.3333333333333333,
              "#9c179e"
             ],
             [
              0.4444444444444444,
              "#bd3786"
             ],
             [
              0.5555555555555556,
              "#d8576b"
             ],
             [
              0.6666666666666666,
              "#ed7953"
             ],
             [
              0.7777777777777778,
              "#fb9f3a"
             ],
             [
              0.8888888888888888,
              "#fdca26"
             ],
             [
              1,
              "#f0f921"
             ]
            ],
            "type": "histogram2d"
           }
          ],
          "histogram2dcontour": [
           {
            "colorbar": {
             "outlinewidth": 0,
             "ticks": ""
            },
            "colorscale": [
             [
              0,
              "#0d0887"
             ],
             [
              0.1111111111111111,
              "#46039f"
             ],
             [
              0.2222222222222222,
              "#7201a8"
             ],
             [
              0.3333333333333333,
              "#9c179e"
             ],
             [
              0.4444444444444444,
              "#bd3786"
             ],
             [
              0.5555555555555556,
              "#d8576b"
             ],
             [
              0.6666666666666666,
              "#ed7953"
             ],
             [
              0.7777777777777778,
              "#fb9f3a"
             ],
             [
              0.8888888888888888,
              "#fdca26"
             ],
             [
              1,
              "#f0f921"
             ]
            ],
            "type": "histogram2dcontour"
           }
          ],
          "mesh3d": [
           {
            "colorbar": {
             "outlinewidth": 0,
             "ticks": ""
            },
            "type": "mesh3d"
           }
          ],
          "parcoords": [
           {
            "line": {
             "colorbar": {
              "outlinewidth": 0,
              "ticks": ""
             }
            },
            "type": "parcoords"
           }
          ],
          "pie": [
           {
            "automargin": true,
            "type": "pie"
           }
          ],
          "scatter": [
           {
            "marker": {
             "colorbar": {
              "outlinewidth": 0,
              "ticks": ""
             }
            },
            "type": "scatter"
           }
          ],
          "scatter3d": [
           {
            "line": {
             "colorbar": {
              "outlinewidth": 0,
              "ticks": ""
             }
            },
            "marker": {
             "colorbar": {
              "outlinewidth": 0,
              "ticks": ""
             }
            },
            "type": "scatter3d"
           }
          ],
          "scattercarpet": [
           {
            "marker": {
             "colorbar": {
              "outlinewidth": 0,
              "ticks": ""
             }
            },
            "type": "scattercarpet"
           }
          ],
          "scattergeo": [
           {
            "marker": {
             "colorbar": {
              "outlinewidth": 0,
              "ticks": ""
             }
            },
            "type": "scattergeo"
           }
          ],
          "scattergl": [
           {
            "marker": {
             "colorbar": {
              "outlinewidth": 0,
              "ticks": ""
             }
            },
            "type": "scattergl"
           }
          ],
          "scattermapbox": [
           {
            "marker": {
             "colorbar": {
              "outlinewidth": 0,
              "ticks": ""
             }
            },
            "type": "scattermapbox"
           }
          ],
          "scatterpolar": [
           {
            "marker": {
             "colorbar": {
              "outlinewidth": 0,
              "ticks": ""
             }
            },
            "type": "scatterpolar"
           }
          ],
          "scatterpolargl": [
           {
            "marker": {
             "colorbar": {
              "outlinewidth": 0,
              "ticks": ""
             }
            },
            "type": "scatterpolargl"
           }
          ],
          "scatterternary": [
           {
            "marker": {
             "colorbar": {
              "outlinewidth": 0,
              "ticks": ""
             }
            },
            "type": "scatterternary"
           }
          ],
          "surface": [
           {
            "colorbar": {
             "outlinewidth": 0,
             "ticks": ""
            },
            "colorscale": [
             [
              0,
              "#0d0887"
             ],
             [
              0.1111111111111111,
              "#46039f"
             ],
             [
              0.2222222222222222,
              "#7201a8"
             ],
             [
              0.3333333333333333,
              "#9c179e"
             ],
             [
              0.4444444444444444,
              "#bd3786"
             ],
             [
              0.5555555555555556,
              "#d8576b"
             ],
             [
              0.6666666666666666,
              "#ed7953"
             ],
             [
              0.7777777777777778,
              "#fb9f3a"
             ],
             [
              0.8888888888888888,
              "#fdca26"
             ],
             [
              1,
              "#f0f921"
             ]
            ],
            "type": "surface"
           }
          ],
          "table": [
           {
            "cells": {
             "fill": {
              "color": "#EBF0F8"
             },
             "line": {
              "color": "white"
             }
            },
            "header": {
             "fill": {
              "color": "#C8D4E3"
             },
             "line": {
              "color": "white"
             }
            },
            "type": "table"
           }
          ]
         },
         "layout": {
          "annotationdefaults": {
           "arrowcolor": "#2a3f5f",
           "arrowhead": 0,
           "arrowwidth": 1
          },
          "autotypenumbers": "strict",
          "coloraxis": {
           "colorbar": {
            "outlinewidth": 0,
            "ticks": ""
           }
          },
          "colorscale": {
           "diverging": [
            [
             0,
             "#8e0152"
            ],
            [
             0.1,
             "#c51b7d"
            ],
            [
             0.2,
             "#de77ae"
            ],
            [
             0.3,
             "#f1b6da"
            ],
            [
             0.4,
             "#fde0ef"
            ],
            [
             0.5,
             "#f7f7f7"
            ],
            [
             0.6,
             "#e6f5d0"
            ],
            [
             0.7,
             "#b8e186"
            ],
            [
             0.8,
             "#7fbc41"
            ],
            [
             0.9,
             "#4d9221"
            ],
            [
             1,
             "#276419"
            ]
           ],
           "sequential": [
            [
             0,
             "#0d0887"
            ],
            [
             0.1111111111111111,
             "#46039f"
            ],
            [
             0.2222222222222222,
             "#7201a8"
            ],
            [
             0.3333333333333333,
             "#9c179e"
            ],
            [
             0.4444444444444444,
             "#bd3786"
            ],
            [
             0.5555555555555556,
             "#d8576b"
            ],
            [
             0.6666666666666666,
             "#ed7953"
            ],
            [
             0.7777777777777778,
             "#fb9f3a"
            ],
            [
             0.8888888888888888,
             "#fdca26"
            ],
            [
             1,
             "#f0f921"
            ]
           ],
           "sequentialminus": [
            [
             0,
             "#0d0887"
            ],
            [
             0.1111111111111111,
             "#46039f"
            ],
            [
             0.2222222222222222,
             "#7201a8"
            ],
            [
             0.3333333333333333,
             "#9c179e"
            ],
            [
             0.4444444444444444,
             "#bd3786"
            ],
            [
             0.5555555555555556,
             "#d8576b"
            ],
            [
             0.6666666666666666,
             "#ed7953"
            ],
            [
             0.7777777777777778,
             "#fb9f3a"
            ],
            [
             0.8888888888888888,
             "#fdca26"
            ],
            [
             1,
             "#f0f921"
            ]
           ]
          },
          "colorway": [
           "#636efa",
           "#EF553B",
           "#00cc96",
           "#ab63fa",
           "#FFA15A",
           "#19d3f3",
           "#FF6692",
           "#B6E880",
           "#FF97FF",
           "#FECB52"
          ],
          "font": {
           "color": "#2a3f5f"
          },
          "geo": {
           "bgcolor": "white",
           "lakecolor": "white",
           "landcolor": "#E5ECF6",
           "showlakes": true,
           "showland": true,
           "subunitcolor": "white"
          },
          "hoverlabel": {
           "align": "left"
          },
          "hovermode": "closest",
          "mapbox": {
           "style": "light"
          },
          "paper_bgcolor": "white",
          "plot_bgcolor": "#E5ECF6",
          "polar": {
           "angularaxis": {
            "gridcolor": "white",
            "linecolor": "white",
            "ticks": ""
           },
           "bgcolor": "#E5ECF6",
           "radialaxis": {
            "gridcolor": "white",
            "linecolor": "white",
            "ticks": ""
           }
          },
          "scene": {
           "xaxis": {
            "backgroundcolor": "#E5ECF6",
            "gridcolor": "white",
            "gridwidth": 2,
            "linecolor": "white",
            "showbackground": true,
            "ticks": "",
            "zerolinecolor": "white"
           },
           "yaxis": {
            "backgroundcolor": "#E5ECF6",
            "gridcolor": "white",
            "gridwidth": 2,
            "linecolor": "white",
            "showbackground": true,
            "ticks": "",
            "zerolinecolor": "white"
           },
           "zaxis": {
            "backgroundcolor": "#E5ECF6",
            "gridcolor": "white",
            "gridwidth": 2,
            "linecolor": "white",
            "showbackground": true,
            "ticks": "",
            "zerolinecolor": "white"
           }
          },
          "shapedefaults": {
           "line": {
            "color": "#2a3f5f"
           }
          },
          "ternary": {
           "aaxis": {
            "gridcolor": "white",
            "linecolor": "white",
            "ticks": ""
           },
           "baxis": {
            "gridcolor": "white",
            "linecolor": "white",
            "ticks": ""
           },
           "bgcolor": "#E5ECF6",
           "caxis": {
            "gridcolor": "white",
            "linecolor": "white",
            "ticks": ""
           }
          },
          "title": {
           "x": 0.05
          },
          "xaxis": {
           "automargin": true,
           "gridcolor": "white",
           "linecolor": "white",
           "ticks": "",
           "title": {
            "standoff": 15
           },
           "zerolinecolor": "white",
           "zerolinewidth": 2
          },
          "yaxis": {
           "automargin": true,
           "gridcolor": "white",
           "linecolor": "white",
           "ticks": "",
           "title": {
            "standoff": 15
           },
           "zerolinecolor": "white",
           "zerolinewidth": 2
          }
         }
        }
       }
      },
      "text/html": [
       "<div>                            <div id=\"5992f731-eb8d-46f8-829e-e20325a4f40a\" class=\"plotly-graph-div\" style=\"height:525px; width:100%;\"></div>            <script type=\"text/javascript\">                require([\"plotly\"], function(Plotly) {                    window.PLOTLYENV=window.PLOTLYENV || {};                                    if (document.getElementById(\"5992f731-eb8d-46f8-829e-e20325a4f40a\")) {                    Plotly.newPlot(                        \"5992f731-eb8d-46f8-829e-e20325a4f40a\",                        [{\"dimensions\":[{\"axis\":{\"matches\":true},\"label\":\"PC 1 (0.3%)\",\"values\":[-0.6899145876680328]},{\"axis\":{\"matches\":true},\"label\":\"PC 2 (0.2%)\",\"values\":[-0.11557762094037882]},{\"axis\":{\"matches\":true},\"label\":\"PC 3 (0.1%)\",\"values\":[-0.23835673954649625]}],\"hovertemplate\":\"index=ehrbase<br>%{xaxis.title.text}=%{x}<br>%{yaxis.title.text}=%{y}<extra></extra>\",\"legendgroup\":\"ehrbase\",\"marker\":{\"color\":\"#636efa\",\"symbol\":106},\"name\":\"ehrbase\",\"showlegend\":true,\"type\":\"splom\",\"diagonal\":{\"visible\":false}},{\"dimensions\":[{\"axis\":{\"matches\":true},\"label\":\"PC 1 (0.3%)\",\"values\":[-0.47982014169753134]},{\"axis\":{\"matches\":true},\"label\":\"PC 2 (0.2%)\",\"values\":[0.41178181116889984]},{\"axis\":{\"matches\":true},\"label\":\"PC 3 (0.1%)\",\"values\":[-0.4820685604391836]}],\"hovertemplate\":\"index=better<br>%{xaxis.title.text}=%{x}<br>%{yaxis.title.text}=%{y}<extra></extra>\",\"legendgroup\":\"better\",\"marker\":{\"color\":\"#EF553B\",\"symbol\":306},\"name\":\"better\",\"showlegend\":true,\"type\":\"splom\",\"diagonal\":{\"visible\":false}},{\"dimensions\":[{\"axis\":{\"matches\":true},\"label\":\"PC 1 (0.3%)\",\"values\":[-0.1879846506014987]},{\"axis\":{\"matches\":true},\"label\":\"PC 2 (0.2%)\",\"values\":[-0.26798886276755335]},{\"axis\":{\"matches\":true},\"label\":\"PC 3 (0.1%)\",\"values\":[0.4246137397650314]}],\"hovertemplate\":\"index=base24<br>%{xaxis.title.text}=%{x}<br>%{yaxis.title.text}=%{y}<extra></extra>\",\"legendgroup\":\"base24\",\"marker\":{\"color\":\"#00cc96\",\"symbol\":201},\"name\":\"base24\",\"showlegend\":true,\"type\":\"splom\",\"diagonal\":{\"visible\":false}},{\"dimensions\":[{\"axis\":{\"matches\":true},\"label\":\"PC 1 (0.3%)\",\"values\":[-0.31044089786173196]},{\"axis\":{\"matches\":true},\"label\":\"PC 2 (0.2%)\",\"values\":[-0.25506101787605867]},{\"axis\":{\"matches\":true},\"label\":\"PC 3 (0.1%)\",\"values\":[0.5417173326389915]}],\"hovertemplate\":\"index=cabo<br>%{xaxis.title.text}=%{x}<br>%{yaxis.title.text}=%{y}<extra></extra>\",\"legendgroup\":\"cabo\",\"marker\":{\"color\":\"#ab63fa\",\"symbol\":101},\"name\":\"cabo\",\"showlegend\":true,\"type\":\"splom\",\"diagonal\":{\"visible\":false}},{\"dimensions\":[{\"axis\":{\"matches\":true},\"label\":\"PC 1 (0.3%)\",\"values\":[-0.4720366299083768]},{\"axis\":{\"matches\":true},\"label\":\"PC 2 (0.2%)\",\"values\":[-0.24023871914454747]},{\"axis\":{\"matches\":true},\"label\":\"PC 3 (0.1%)\",\"values\":[-0.05426951248495062]}],\"hovertemplate\":\"index=arenaehr<br>%{xaxis.title.text}=%{x}<br>%{yaxis.title.text}=%{y}<extra></extra>\",\"legendgroup\":\"arenaehr\",\"marker\":{\"color\":\"#FFA15A\",\"symbol\":307},\"name\":\"arenaehr\",\"showlegend\":true,\"type\":\"splom\",\"diagonal\":{\"visible\":false}},{\"dimensions\":[{\"axis\":{\"matches\":true},\"label\":\"PC 1 (0.3%)\",\"values\":[1.1849235285036164]},{\"axis\":{\"matches\":true},\"label\":\"PC 2 (0.2%)\",\"values\":[-0.7557021490308746]},{\"axis\":{\"matches\":true},\"label\":\"PC 3 (0.1%)\",\"values\":[-0.4651877271861049]}],\"hovertemplate\":\"index=eweave<br>%{xaxis.title.text}=%{x}<br>%{yaxis.title.text}=%{y}<extra></extra>\",\"legendgroup\":\"eweave\",\"marker\":{\"color\":\"#19d3f3\",\"symbol\":0},\"name\":\"eweave\",\"showlegend\":true,\"type\":\"splom\",\"diagonal\":{\"visible\":false}},{\"dimensions\":[{\"axis\":{\"matches\":true},\"label\":\"PC 1 (0.3%)\",\"values\":[-0.07984549951825795]},{\"axis\":{\"matches\":true},\"label\":\"PC 2 (0.2%)\",\"values\":[-0.10873359683269983]},{\"axis\":{\"matches\":true},\"label\":\"PC 3 (0.1%)\",\"values\":[0.32603562265757297]}],\"hovertemplate\":\"index=ehrcare<br>%{xaxis.title.text}=%{x}<br>%{yaxis.title.text}=%{y}<extra></extra>\",\"legendgroup\":\"ehrcare\",\"marker\":{\"color\":\"#FF6692\",\"symbol\":105},\"name\":\"ehrcare\",\"showlegend\":true,\"type\":\"splom\",\"diagonal\":{\"visible\":false}},{\"dimensions\":[{\"axis\":{\"matches\":true},\"label\":\"PC 1 (0.3%)\",\"values\":[0.6763787786957578]},{\"axis\":{\"matches\":true},\"label\":\"PC 2 (0.2%)\",\"values\":[0.7585536175133627]},{\"axis\":{\"matches\":true},\"label\":\"PC 3 (0.1%)\",\"values\":[0.19591831156197653]}],\"hovertemplate\":\"index=clever<br>%{xaxis.title.text}=%{x}<br>%{yaxis.title.text}=%{y}<extra></extra>\",\"legendgroup\":\"clever\",\"marker\":{\"color\":\"#B6E880\",\"symbol\":102},\"name\":\"clever\",\"showlegend\":true,\"type\":\"splom\",\"diagonal\":{\"visible\":false}},{\"dimensions\":[{\"axis\":{\"matches\":true},\"label\":\"PC 1 (0.3%)\",\"values\":[-0.3684161357986891]},{\"axis\":{\"matches\":true},\"label\":\"PC 2 (0.2%)\",\"values\":[0.3660449291115158]},{\"axis\":{\"matches\":true},\"label\":\"PC 3 (0.1%)\",\"values\":[-0.42813781488808633]}],\"hovertemplate\":\"index=ehrdb<br>%{xaxis.title.text}=%{x}<br>%{yaxis.title.text}=%{y}<extra></extra>\",\"legendgroup\":\"ehrdb\",\"marker\":{\"color\":\"#FF97FF\",\"symbol\":108},\"name\":\"ehrdb\",\"showlegend\":true,\"type\":\"splom\",\"diagonal\":{\"visible\":false}},{\"dimensions\":[{\"axis\":{\"matches\":true},\"label\":\"PC 1 (0.3%)\",\"values\":[0.6624127424072569]},{\"axis\":{\"matches\":true},\"label\":\"PC 2 (0.2%)\",\"values\":[0.6191379448022143]},{\"axis\":{\"matches\":true},\"label\":\"PC 3 (0.1%)\",\"values\":[0.17063398305327732]}],\"hovertemplate\":\"index=rhp<br>%{xaxis.title.text}=%{x}<br>%{yaxis.title.text}=%{y}<extra></extra>\",\"legendgroup\":\"rhp\",\"marker\":{\"color\":\"#FECB52\",\"symbol\":302},\"name\":\"rhp\",\"showlegend\":true,\"type\":\"splom\",\"diagonal\":{\"visible\":false}},{\"dimensions\":[{\"axis\":{\"matches\":true},\"label\":\"PC 1 (0.3%)\",\"values\":[0.06474349344748803]},{\"axis\":{\"matches\":true},\"label\":\"PC 2 (0.2%)\",\"values\":[-0.4122163360038798]},{\"axis\":{\"matches\":true},\"label\":\"PC 3 (0.1%)\",\"values\":[0.009101364867972533]}],\"hovertemplate\":\"index=ehrn<br>%{xaxis.title.text}=%{x}<br>%{yaxis.title.text}=%{y}<extra></extra>\",\"legendgroup\":\"ehrn\",\"marker\":{\"color\":\"#636efa\",\"symbol\":107},\"name\":\"ehrn\",\"showlegend\":true,\"type\":\"splom\",\"diagonal\":{\"visible\":false}}],                        {\"template\":{\"data\":{\"bar\":[{\"error_x\":{\"color\":\"#2a3f5f\"},\"error_y\":{\"color\":\"#2a3f5f\"},\"marker\":{\"line\":{\"color\":\"#E5ECF6\",\"width\":0.5},\"pattern\":{\"fillmode\":\"overlay\",\"size\":10,\"solidity\":0.2}},\"type\":\"bar\"}],\"barpolar\":[{\"marker\":{\"line\":{\"color\":\"#E5ECF6\",\"width\":0.5},\"pattern\":{\"fillmode\":\"overlay\",\"size\":10,\"solidity\":0.2}},\"type\":\"barpolar\"}],\"carpet\":[{\"aaxis\":{\"endlinecolor\":\"#2a3f5f\",\"gridcolor\":\"white\",\"linecolor\":\"white\",\"minorgridcolor\":\"white\",\"startlinecolor\":\"#2a3f5f\"},\"baxis\":{\"endlinecolor\":\"#2a3f5f\",\"gridcolor\":\"white\",\"linecolor\":\"white\",\"minorgridcolor\":\"white\",\"startlinecolor\":\"#2a3f5f\"},\"type\":\"carpet\"}],\"choropleth\":[{\"colorbar\":{\"outlinewidth\":0,\"ticks\":\"\"},\"type\":\"choropleth\"}],\"contour\":[{\"colorbar\":{\"outlinewidth\":0,\"ticks\":\"\"},\"colorscale\":[[0.0,\"#0d0887\"],[0.1111111111111111,\"#46039f\"],[0.2222222222222222,\"#7201a8\"],[0.3333333333333333,\"#9c179e\"],[0.4444444444444444,\"#bd3786\"],[0.5555555555555556,\"#d8576b\"],[0.6666666666666666,\"#ed7953\"],[0.7777777777777778,\"#fb9f3a\"],[0.8888888888888888,\"#fdca26\"],[1.0,\"#f0f921\"]],\"type\":\"contour\"}],\"contourcarpet\":[{\"colorbar\":{\"outlinewidth\":0,\"ticks\":\"\"},\"type\":\"contourcarpet\"}],\"heatmap\":[{\"colorbar\":{\"outlinewidth\":0,\"ticks\":\"\"},\"colorscale\":[[0.0,\"#0d0887\"],[0.1111111111111111,\"#46039f\"],[0.2222222222222222,\"#7201a8\"],[0.3333333333333333,\"#9c179e\"],[0.4444444444444444,\"#bd3786\"],[0.5555555555555556,\"#d8576b\"],[0.6666666666666666,\"#ed7953\"],[0.7777777777777778,\"#fb9f3a\"],[0.8888888888888888,\"#fdca26\"],[1.0,\"#f0f921\"]],\"type\":\"heatmap\"}],\"heatmapgl\":[{\"colorbar\":{\"outlinewidth\":0,\"ticks\":\"\"},\"colorscale\":[[0.0,\"#0d0887\"],[0.1111111111111111,\"#46039f\"],[0.2222222222222222,\"#7201a8\"],[0.3333333333333333,\"#9c179e\"],[0.4444444444444444,\"#bd3786\"],[0.5555555555555556,\"#d8576b\"],[0.6666666666666666,\"#ed7953\"],[0.7777777777777778,\"#fb9f3a\"],[0.8888888888888888,\"#fdca26\"],[1.0,\"#f0f921\"]],\"type\":\"heatmapgl\"}],\"histogram\":[{\"marker\":{\"pattern\":{\"fillmode\":\"overlay\",\"size\":10,\"solidity\":0.2}},\"type\":\"histogram\"}],\"histogram2d\":[{\"colorbar\":{\"outlinewidth\":0,\"ticks\":\"\"},\"colorscale\":[[0.0,\"#0d0887\"],[0.1111111111111111,\"#46039f\"],[0.2222222222222222,\"#7201a8\"],[0.3333333333333333,\"#9c179e\"],[0.4444444444444444,\"#bd3786\"],[0.5555555555555556,\"#d8576b\"],[0.6666666666666666,\"#ed7953\"],[0.7777777777777778,\"#fb9f3a\"],[0.8888888888888888,\"#fdca26\"],[1.0,\"#f0f921\"]],\"type\":\"histogram2d\"}],\"histogram2dcontour\":[{\"colorbar\":{\"outlinewidth\":0,\"ticks\":\"\"},\"colorscale\":[[0.0,\"#0d0887\"],[0.1111111111111111,\"#46039f\"],[0.2222222222222222,\"#7201a8\"],[0.3333333333333333,\"#9c179e\"],[0.4444444444444444,\"#bd3786\"],[0.5555555555555556,\"#d8576b\"],[0.6666666666666666,\"#ed7953\"],[0.7777777777777778,\"#fb9f3a\"],[0.8888888888888888,\"#fdca26\"],[1.0,\"#f0f921\"]],\"type\":\"histogram2dcontour\"}],\"mesh3d\":[{\"colorbar\":{\"outlinewidth\":0,\"ticks\":\"\"},\"type\":\"mesh3d\"}],\"parcoords\":[{\"line\":{\"colorbar\":{\"outlinewidth\":0,\"ticks\":\"\"}},\"type\":\"parcoords\"}],\"pie\":[{\"automargin\":true,\"type\":\"pie\"}],\"scatter\":[{\"marker\":{\"colorbar\":{\"outlinewidth\":0,\"ticks\":\"\"}},\"type\":\"scatter\"}],\"scatter3d\":[{\"line\":{\"colorbar\":{\"outlinewidth\":0,\"ticks\":\"\"}},\"marker\":{\"colorbar\":{\"outlinewidth\":0,\"ticks\":\"\"}},\"type\":\"scatter3d\"}],\"scattercarpet\":[{\"marker\":{\"colorbar\":{\"outlinewidth\":0,\"ticks\":\"\"}},\"type\":\"scattercarpet\"}],\"scattergeo\":[{\"marker\":{\"colorbar\":{\"outlinewidth\":0,\"ticks\":\"\"}},\"type\":\"scattergeo\"}],\"scattergl\":[{\"marker\":{\"colorbar\":{\"outlinewidth\":0,\"ticks\":\"\"}},\"type\":\"scattergl\"}],\"scattermapbox\":[{\"marker\":{\"colorbar\":{\"outlinewidth\":0,\"ticks\":\"\"}},\"type\":\"scattermapbox\"}],\"scatterpolar\":[{\"marker\":{\"colorbar\":{\"outlinewidth\":0,\"ticks\":\"\"}},\"type\":\"scatterpolar\"}],\"scatterpolargl\":[{\"marker\":{\"colorbar\":{\"outlinewidth\":0,\"ticks\":\"\"}},\"type\":\"scatterpolargl\"}],\"scatterternary\":[{\"marker\":{\"colorbar\":{\"outlinewidth\":0,\"ticks\":\"\"}},\"type\":\"scatterternary\"}],\"surface\":[{\"colorbar\":{\"outlinewidth\":0,\"ticks\":\"\"},\"colorscale\":[[0.0,\"#0d0887\"],[0.1111111111111111,\"#46039f\"],[0.2222222222222222,\"#7201a8\"],[0.3333333333333333,\"#9c179e\"],[0.4444444444444444,\"#bd3786\"],[0.5555555555555556,\"#d8576b\"],[0.6666666666666666,\"#ed7953\"],[0.7777777777777778,\"#fb9f3a\"],[0.8888888888888888,\"#fdca26\"],[1.0,\"#f0f921\"]],\"type\":\"surface\"}],\"table\":[{\"cells\":{\"fill\":{\"color\":\"#EBF0F8\"},\"line\":{\"color\":\"white\"}},\"header\":{\"fill\":{\"color\":\"#C8D4E3\"},\"line\":{\"color\":\"white\"}},\"type\":\"table\"}]},\"layout\":{\"annotationdefaults\":{\"arrowcolor\":\"#2a3f5f\",\"arrowhead\":0,\"arrowwidth\":1},\"autotypenumbers\":\"strict\",\"coloraxis\":{\"colorbar\":{\"outlinewidth\":0,\"ticks\":\"\"}},\"colorscale\":{\"diverging\":[[0,\"#8e0152\"],[0.1,\"#c51b7d\"],[0.2,\"#de77ae\"],[0.3,\"#f1b6da\"],[0.4,\"#fde0ef\"],[0.5,\"#f7f7f7\"],[0.6,\"#e6f5d0\"],[0.7,\"#b8e186\"],[0.8,\"#7fbc41\"],[0.9,\"#4d9221\"],[1,\"#276419\"]],\"sequential\":[[0.0,\"#0d0887\"],[0.1111111111111111,\"#46039f\"],[0.2222222222222222,\"#7201a8\"],[0.3333333333333333,\"#9c179e\"],[0.4444444444444444,\"#bd3786\"],[0.5555555555555556,\"#d8576b\"],[0.6666666666666666,\"#ed7953\"],[0.7777777777777778,\"#fb9f3a\"],[0.8888888888888888,\"#fdca26\"],[1.0,\"#f0f921\"]],\"sequentialminus\":[[0.0,\"#0d0887\"],[0.1111111111111111,\"#46039f\"],[0.2222222222222222,\"#7201a8\"],[0.3333333333333333,\"#9c179e\"],[0.4444444444444444,\"#bd3786\"],[0.5555555555555556,\"#d8576b\"],[0.6666666666666666,\"#ed7953\"],[0.7777777777777778,\"#fb9f3a\"],[0.8888888888888888,\"#fdca26\"],[1.0,\"#f0f921\"]]},\"colorway\":[\"#636efa\",\"#EF553B\",\"#00cc96\",\"#ab63fa\",\"#FFA15A\",\"#19d3f3\",\"#FF6692\",\"#B6E880\",\"#FF97FF\",\"#FECB52\"],\"font\":{\"color\":\"#2a3f5f\"},\"geo\":{\"bgcolor\":\"white\",\"lakecolor\":\"white\",\"landcolor\":\"#E5ECF6\",\"showlakes\":true,\"showland\":true,\"subunitcolor\":\"white\"},\"hoverlabel\":{\"align\":\"left\"},\"hovermode\":\"closest\",\"mapbox\":{\"style\":\"light\"},\"paper_bgcolor\":\"white\",\"plot_bgcolor\":\"#E5ECF6\",\"polar\":{\"angularaxis\":{\"gridcolor\":\"white\",\"linecolor\":\"white\",\"ticks\":\"\"},\"bgcolor\":\"#E5ECF6\",\"radialaxis\":{\"gridcolor\":\"white\",\"linecolor\":\"white\",\"ticks\":\"\"}},\"scene\":{\"xaxis\":{\"backgroundcolor\":\"#E5ECF6\",\"gridcolor\":\"white\",\"gridwidth\":2,\"linecolor\":\"white\",\"showbackground\":true,\"ticks\":\"\",\"zerolinecolor\":\"white\"},\"yaxis\":{\"backgroundcolor\":\"#E5ECF6\",\"gridcolor\":\"white\",\"gridwidth\":2,\"linecolor\":\"white\",\"showbackground\":true,\"ticks\":\"\",\"zerolinecolor\":\"white\"},\"zaxis\":{\"backgroundcolor\":\"#E5ECF6\",\"gridcolor\":\"white\",\"gridwidth\":2,\"linecolor\":\"white\",\"showbackground\":true,\"ticks\":\"\",\"zerolinecolor\":\"white\"}},\"shapedefaults\":{\"line\":{\"color\":\"#2a3f5f\"}},\"ternary\":{\"aaxis\":{\"gridcolor\":\"white\",\"linecolor\":\"white\",\"ticks\":\"\"},\"baxis\":{\"gridcolor\":\"white\",\"linecolor\":\"white\",\"ticks\":\"\"},\"bgcolor\":\"#E5ECF6\",\"caxis\":{\"gridcolor\":\"white\",\"linecolor\":\"white\",\"ticks\":\"\"}},\"title\":{\"x\":0.05},\"xaxis\":{\"automargin\":true,\"gridcolor\":\"white\",\"linecolor\":\"white\",\"ticks\":\"\",\"title\":{\"standoff\":15},\"zerolinecolor\":\"white\",\"zerolinewidth\":2},\"yaxis\":{\"automargin\":true,\"gridcolor\":\"white\",\"linecolor\":\"white\",\"ticks\":\"\",\"title\":{\"standoff\":15},\"zerolinecolor\":\"white\",\"zerolinewidth\":2}}},\"legend\":{\"title\":{\"text\":\"index\"},\"tracegroupgap\":0},\"margin\":{\"t\":60},\"dragmode\":\"select\"},                        {\"responsive\": true}                    ).then(function(){\n",
       "                            \n",
       "var gd = document.getElementById('5992f731-eb8d-46f8-829e-e20325a4f40a');\n",
       "var x = new MutationObserver(function (mutations, observer) {{\n",
       "        var display = window.getComputedStyle(gd).display;\n",
       "        if (!display || display === 'none') {{\n",
       "            console.log([gd, 'removed!']);\n",
       "            Plotly.purge(gd);\n",
       "            observer.disconnect();\n",
       "        }}\n",
       "}});\n",
       "\n",
       "// Listen for the removal of the full notebook cells\n",
       "var notebookContainer = gd.closest('#notebook-container');\n",
       "if (notebookContainer) {{\n",
       "    x.observe(notebookContainer, {childList: true});\n",
       "}}\n",
       "\n",
       "// Listen for the clearing of the current output cell\n",
       "var outputEl = gd.closest('.output');\n",
       "if (outputEl) {{\n",
       "    x.observe(outputEl, {childList: true});\n",
       "}}\n",
       "\n",
       "                        })                };                });            </script>        </div>"
      ]
     },
     "metadata": {},
     "output_type": "display_data"
    }
   ],
   "source": [
    "import plotly.express as px\n",
    "\n",
    "import plotly.graph_objects as go\n",
    "from plotly.validators.scatter.marker import SymbolValidator\n",
    "\n",
    "raw_symbol = SymbolValidator().values\n",
    "\n",
    "symbol_sequence=[raw_symbol[25*3],raw_symbol[27*3],raw_symbol[6*3],raw_symbol[5*3],raw_symbol[31*3],\n",
    "                raw_symbol[0*3],raw_symbol[21*3],raw_symbol[9*3],raw_symbol[33*3],raw_symbol[11*3],\n",
    "                raw_symbol[29*3]]\n",
    "\n",
    "\n",
    "from sklearn.decomposition import PCA\n",
    "\n",
    "labels = {\n",
    "    str(i): f\"PC {i+1} ({var:.1f}%)\"\n",
    "    for i, var in enumerate(mca.explained_inertia_ * 100)\n",
    "}\n",
    "\n",
    "fig = px.scatter_matrix(\n",
    "    df_mca,\n",
    "    labels=labels,\n",
    "    dimensions=range(3),\n",
    "    symbol_sequence=symbol_sequence,\n",
    "    color=df_mca.index,\n",
    "    symbol=df_mca.index\n",
    ")\n",
    "fig.update_traces(diagonal_visible=False)\n",
    "fig.show()\n",
    "#fig.write_image('DimensionsReductionSurvey2023_MCA_ALLVAR_2dplots_1000dpi.pdf',scale=2)\n",
    "fig.write_image('DimensionsReductionSurvey2023_MCA_ALLVAR_2dplots_1000dpi.jpeg',scale=4)\n"
   ]
  },
  {
   "cell_type": "code",
   "execution_count": null,
   "metadata": {},
   "outputs": [],
   "source": []
  },
  {
   "cell_type": "code",
   "execution_count": null,
   "metadata": {},
   "outputs": [],
   "source": []
  }
 ],
 "metadata": {
  "kernelspec": {
   "display_name": "Python 3",
   "language": "python",
   "name": "python3"
  },
  "language_info": {
   "codemirror_mode": {
    "name": "ipython",
    "version": 3
   },
   "file_extension": ".py",
   "mimetype": "text/x-python",
   "name": "python",
   "nbconvert_exporter": "python",
   "pygments_lexer": "ipython3",
   "version": "3.8.10"
  }
 },
 "nbformat": 4,
 "nbformat_minor": 4
}
